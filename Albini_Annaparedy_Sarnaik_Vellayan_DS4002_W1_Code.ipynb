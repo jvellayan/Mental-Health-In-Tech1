{
  "nbformat": 4,
  "nbformat_minor": 0,
  "metadata": {
    "colab": {
      "name": "Albini_Annaparedy_Sarnaik_Vellayan_DS4002_W1_Code.ipynb",
      "provenance": [],
      "collapsed_sections": [
        "UKyqRkrffw5x",
        "qti0madiQaUW",
        "nxsvVos4elR5",
        "nLxBwuF1vCPb",
        "tbPMAsj4vmcP",
        "hAGI-F0s0rcy",
        "NBOeZ7HuuXCN",
        "hGfkMTIBlCF0",
        "4HTaqRvJeGGZ",
        "OA35_j2jmCdr",
        "mdEQf10Vt4D2",
        "jBgb2OshDxmb",
        "qUB46gOqEBRY"
      ],
      "include_colab_link": true
    },
    "kernelspec": {
      "name": "python3",
      "display_name": "Python 3"
    },
    "accelerator": "GPU"
  },
  "cells": [
    {
      "cell_type": "markdown",
      "metadata": {
        "id": "view-in-github",
        "colab_type": "text"
      },
      "source": [
        "<a href=\"https://colab.research.google.com/github/jvellayan/Mental-Health-In-Tech1/blob/main/Albini_Annaparedy_Sarnaik_Vellayan_DS4002_W1_Code.ipynb\" target=\"_parent\"><img src=\"https://colab.research.google.com/assets/colab-badge.svg\" alt=\"Open In Colab\"/></a>"
      ]
    },
    {
      "cell_type": "markdown",
      "metadata": {
        "id": "Y7l98aSvvHcj"
      },
      "source": [
        "#**Mental Health in the Workplace - Week One Project Code**"
      ]
    },
    {
      "cell_type": "markdown",
      "metadata": {
        "id": "KE5kdF_qRD0O"
      },
      "source": [
        "*Course*: DS 4002 - Data Science Project Course\r\n",
        "\r\n",
        "*Authors*: Navya Annapareddy, Tony Albini, Kunaal Sarnaik, & Jaya Vellayan\r\n",
        "\r\n",
        "*Professor*: Brian Wright\r\n",
        "\r\n",
        "*Date*: January 8th, 2021"
      ]
    },
    {
      "cell_type": "markdown",
      "metadata": {
        "id": "HoIgl71k6d-3"
      },
      "source": [
        "## **TABLE OF CONTENTS**\r\n"
      ]
    },
    {
      "cell_type": "markdown",
      "metadata": {
        "id": "bgMnLZ9XKjYg"
      },
      "source": [
        "*   [Section I](#one): Introduction\r\n",
        "*   [Section II](#two): Dataset Overview & Cleaning\r\n",
        "*   [Section III](#three): Exploratory Data Analysis\r\n",
        "*   [Section IV](#four): Initial Model & Feature Engineering\r\n",
        "*   [Section V](#five): Finalized Model & Results\r\n",
        "*   [Section VI](#six): Discussion & Conclusion\r\n",
        "*   [Section VII](#seven): References"
      ]
    },
    {
      "cell_type": "markdown",
      "metadata": {
        "id": "Ti8wU5AEC7QS"
      },
      "source": [
        "-------------------------------------------------------------"
      ]
    },
    {
      "cell_type": "markdown",
      "metadata": {
        "id": "UKyqRkrffw5x"
      },
      "source": [
        "<a name=\"one\"></a>\n",
        "## **I. Introduction**\n",
        "\n",
        "The following section serves as a general introduction to the topic that will be discussed throughout this research analysis — mental health in the workplace. See the sub-sections embedded below for futher information: Motivation, Background, General Research Question, Relevant Research, & Initial Hypotheses."
      ]
    },
    {
      "cell_type": "markdown",
      "metadata": {
        "id": "L1EKllSTDJim"
      },
      "source": [
        "### ***a) Motivation***\r\n",
        "\r\n",
        "According to the National Institute of Mental Health, approximately one in five adults live with a mental illness in the United States; this drastic proportion corresponded to a quantity of nearly 51.1 million citizens in 2019.[$^{1}$](#ref1) Although the proportion of adults who experience a mental illness on the global scale is smaller (1 in 17, according to the World Health Organization in 2017), it still roughly equals an astounding magnitude of approximately half a million people.[$^{2}$](#ref2) Despite these monstrous statistics related to mental illness incidence and prevalence, previous studies have shown that only a small percentage of adults who suffer from a mental illness actually receive treatment for it.[$^{3}$](#ref3) For example, the National Institute of Mental Health found that a mere 43.8% of United States adults who were diagnosed with a mental illness actually treatment for it.[$^{3}$](#ref3)\r\n",
        "\r\n",
        "Given that incidences of mental illness not only have skyrocketed since the turn of the century, but also are expected to continue increasing at an alarming rate, strategies for addressing, coping with, and treating mental illnesses on the individual level must be developed urgently.[$^{4}$](#ref4) However, when it comes to addressing mental illnesses, one devastating obstacle looms large both individually and societally — the stigma against them. According to the American Psychiatric Association (APA), three types of stigmas govern the mental illness conversation[$^{5}$](#ref5):\r\n",
        "\r\n",
        "> **1. Public Stigma**: negative or discriminatory attitudes that others have about mental illness.\r\n",
        "\r\n",
        "> **2. Self-stigma**:  negative attitudes, including internalized shame, that people with mental illness have about their own condition.\r\n",
        "\r\n",
        "> **3. Institutional Stigma**: more systemic, involving policies of government and private organizations that intentionally or unintentionally limit opportunities for people with mental illness.\r\n",
        "\r\n",
        "A unique location where all three of these stigmas are practiced extensively is the workplace, where the APA has found that more than one in three workers are concerned about being fired if they sought mental health care.[$^{6}$](#ref6) The combination of these challenges makes an already difficult act of talking about mental illness much more arduous for workers, who comprise a large proportion of mental illness cases on the global scale.[$^{7,8}$](#ref7) Moreover, such expression regarding one's experience with a mental illness is largely considered to be among first steps towards treatment, and the lack of doing so may only exacerbate the symptoms of a mental illness on the individual.[$^{7}$](#ref7) Furthermore, in the workplace, poor mental health and stress can be detrimental for an employee's job performance, work engagement, communication with coworkers, physical capability, and ability to carry out day-to-day functions.[$^{9}$](#ref9)\r\n",
        "\r\n",
        "In a study conducted by the Center for Disease Control, only 57% of employees who reported suffering from moderate depression, in addition to a mere 40% of those who reported suffering from severe depression, received treatment to control their symptoms.[$^{9}$](#ref9) These appalling statistics, combined with the trend that mental health is only becoming harder to manage due to the current COVID-19 pandemic, suggest that finding strategies to increase the likelihood of employees' expressing their experience with mental illnesses to others in order to receive treatment (a mere 55% in 2019, according to a 2021 study) is an urgent priority for not only the nation, but also the world.[$^{10}$](#ref10)\r\n",
        "\r\n",
        "The following research project deploys data science and machine learning principles to investigate which factors present in the workplace are the strongest determinants of whether or not an employee confides to their direct supervisor(s)."
      ]
    },
    {
      "cell_type": "markdown",
      "metadata": {
        "id": "V3YuQpMoDOVO"
      },
      "source": [
        "### ***b) Background***\r\n",
        "\r\n",
        "The Mayo Clinic defines mental illnesses, which are also known as mental health disorders, as those that affect one's mood, thinking, and behavior.[$^{11}$](#ref11) Examples of these types of psychological afflictions include depression, anxiety, schizophrenia, bipolar, eating disorders, and addictive behaviors, yet the term mental illness is often used to refer to any among a wide range of mental health conditions. Common symptoms of a mental illness can vary and depend on the disorder; examples, however, include dysphoric mood, avolition, withdrawal from activities, suicidal thinking, and substance abuse.\r\n",
        "\r\n",
        "Although the outcomes of one suffering from a mental illness can be just as debilitating as those of one suffering from any other physical illness such as cancer, stigmatization of those who suffer from them forms a pervasive barrier that prevents many of those suffering from such illnesses to get better.[$^{12}$](#ref12) Since contact with persons with mental illnesses is currently the most well-supported way to reduce stigma, identifying methods to increase such contact in the workplace — an environment that is almost universal to all who share this planet — is an urgent priority. However, for such contact to take place, modern workplace culture must be analyzed.\r\n",
        "\r\n",
        "According to a 2019 survey conducted by Mind Share Partners' Mental Health at Work, 37% of workers reported that their work environment contributed to their mental health symptoms.[$^{13}$](#ref13) Due to a combination of cultural stigma, a lack of understanding of symptoms, increased pressure, and a lack of resources, the current state of the workplace can not only cause mental illnesses, but also further exacerbate existing ones.[$^{14}$](#ref14) Therefore, to gain an understanding of why an insufficient amount of contact with those suffering from mental health disorders occurs in today's workplace, an in-depth analysis of the factors contributing to an employee's willingness to discuss mental health problems with their direct supervisor may be enlightening. After all, the workplace, whether it be online or in-person, is comprising an increasing amount of any person's time, and finding ways to decrease mental health stigma can lead to invaluable returns with respect to not only addressing the illness, but also helping the sufferer of the illness access resources that will alleviate its symptoms.\r\n",
        "\r\n"
      ]
    },
    {
      "cell_type": "markdown",
      "metadata": {
        "id": "F7V-ZDeTDTJK"
      },
      "source": [
        "<a name=\"grq\"></a>\r\n",
        "### ***c) General Research Question***\r\n",
        "\r\n",
        "An in-depth analysis utilizing data science and machine learning principles will be conducted in an attempt to address the following research question: \r\n",
        "\r\n",
        "> **What are the strongest predictors dictating whether or not an employee will discuss mental health concerns with their direct supervisor(s)?**\r\n",
        "\r\n",
        "Using this question as a guide, hypotheses will be developed and an extensive and comprehensive analysis that leverages state-of-the-art machine learning techniques will be conducted. A dataset containing responses to a survey administered to employees in the technological industry — one that is largely predicted to sustain the most growth in the near future —  will be analyzed (See [Dataset Overview & Cleaning](#two) section for more information).[$^{15}$](#ref15) The data will be cleaned, exploratory data analysis will be conducted, and then machine learning techniques will be applied in order to determine the strongest predictors of the discrete response variable."
      ]
    },
    {
      "cell_type": "markdown",
      "metadata": {
        "id": "yHHPS5aEDcZn"
      },
      "source": [
        "### ***d) Relevant Research***\r\n",
        "\r\n",
        "Several studies related to predicting outcomes and behavior related to mental health in the workplace have been previously conducted. For example, a team from the Keio University School of Medicine in Japan, Sado et al., analyzed predictors of repeated sick leave in the workplace as a result of mental disorders.[$^{16}$](#ref16) The Japanese researchers utilized Return To Work (RTW) and repeated sick leave rtes among 194 subjects employed at a manufacturing company. The independent variables of interest included sex, age at the time of employment, job tenure, diagnosis, number of previous sick leave days, duration of most recent sick leave, and employee rank. After conducting a univariate analysis using log-rank test and multivariate analysis using the Cox proportional hazard model, Sado et al. found that the employees' **ages** and **number of previous sick-leave episodes** were a significant predictor of repeated sick leave due to a mental ilness. \r\n",
        "\r\n",
        "Moreover, the Center for Disease Control (CDC) annually conducts a \"Mental Health in the Workplace\" study, which is included as a sub-section in their Workplace Health Guide.[$^{9}$](#ref9) This study tracks mental illness solutions, frameworks to raise mental health awareness, and useful strategies to tackle the problem. Historically, the CDC has pointed to three key indicators and risk factors of mental illness: **stigma**, **lack of health care**, and **lack of social connections**. Furthermore, they have repeatedly suggested that employers should offer several mental health benefits (e.g., health insurance with no or low out-of-pocket costs, free clinical screenings, and informational brochures), be flexible with sick leave specifically with respect to mental illnesses, and provide managers with training to help recognize signs and symptoms of common mental health disorders.\r\n",
        "\r\n",
        "According to studies consolidated by Harvard Health, the most debilitating characteristic of mental health disorders is that most go unrecognized and untreated due to the stigma attached to them.[$^{17}$](#ref17) Due to such stigma, employees in the workplace feel extremely reluctant to seek treatment out of feat that they might jeapardize their jobs, further exacerbating their already limited ability to communicate their feelings to co-workers. Similarly, the transition towards remote working, whether it be due to the rise of the technological industry or the coercion of the COVID-19 pandemic, may exacerbate feelings of isolation and loneliness, according to the Center for Workplace Mental Health.[$^{18}$](#ref18) Moreover, the remote transitions can have a debilitating affect on the amount of people in a person's social circle, which can also further exacerbate their ability to reach out for help. \r\n",
        "\r\n",
        "In summary, the combination of previous research related to the [General Research Question](#grq) points to several common themes that may affect the likelihood of an employee to reach out to their direct supervisor to discuss a mental health issue: the community, stigmatization, and resources present at the workplace itself."
      ]
    },
    {
      "cell_type": "markdown",
      "metadata": {
        "id": "LuaI0OnVDXyI"
      },
      "source": [
        "### ***e) Initial Hypotheses***\r\n",
        "\r\n",
        "**Null Hypothesis:** Using Random Forest and permutation importance from Python's scikit-learn library, the 4 target predictors are equal to or less than 50% of total feature importance (which is normalized to 1) when predicting whether employees are willing to discuss mental health issues with supervisors. \r\n",
        "\r\n",
        "**Alternative Hypothesis:** Using Random Forest and permutation importance from Python's scikit-learn library, the 4 target predictors are greater than 50% of total feature importance (which is normalized to 1) when predicting whether employees are willing to discuss mental health issues with supervisors. \r\n",
        "\r\n",
        "**Target Predictors:**\r\n",
        "\r\n",
        "NOTE: The target predictors are categorical variables found in the dataset as explained below (See [Dataset Overview & Cleaning](#two) section for more information).\r\n",
        "\r\n",
        "> 1. ***benefits***: Does your employer provide mental health benefits?\r\n",
        "\r\n",
        "**Justification**: In the Center for Disease Control (CDC) Workplace Guide, there are several suggestions related to mental health-specific employment benefits.[$^{9}$](#ref9) If benefits are available and provided free-of-charge as a part of an employee's occupational agreement, the employee should theoretically be more likely to reach out to their supervisor in an attempt to possibly capitalize on them if they are suffering from a mental health disorder. Furthermore, the study conducted by Japanese researchers Sado et al. found that repeated sick leave episodes related to a mental disorder were a statistically significant predictor of future sick leave episodes related to the mental illness.[$^{16}$](#ref16) On the other end, if employees are not offered as many occupational benefits specifically related to maintaining their mental health, it is reasonable to assume that they would be less likely to discuss a mental health issue with their direct supervisor(s).\r\n",
        "\r\n",
        "> 2. ***no_employees***: How many employees does your company/organization have?\r\n",
        "\r\n",
        "**Justification**: Several sources outlined in the previous section pointed to social circles as a key indicator not only of one's mental health wellness, but also of the likelihood that one's mental health disorder improves. For example, the analysis conducted by the Center for Workplace Mental Health reported that staying connected with co-workers and friends is paramount to staying mentally well during remote work.[$^{18}$](#ref18) Furthermore, the CDC Workplace Guide reports that the workplace is an optimal setting to create a culture of health because communication structures are already in place and social support networks are available.[$^{9}$](#ref9) Thus, the more co-workers an employee has working with them, the more likely they are to have others to confide in, be encouraged by, and make them feel supported. The result of such an atmosphere should theoretically lead to them being more likely to discuss any mental health issues with a direct supervisor. Furthermore, the lack of employees at a person's place of work should logically have the opposite effect.\r\n",
        "\r\n",
        "> 3. ***obs_consequence***: Have you heard of or observed negative consequences for coworkers with mental health conditions in your workplace?\r\n",
        "\r\n",
        "**Justification**: This predictor is likely a measure of the amount of mental health stigmatization present in a person's place of work. According to Harvard Health, the stigma attached to having a psychiatric disorder is such that employees may be reluctant to seek treatment out of fear that they might jeopardize their jobs.[$^{17}$](#ref17) Thus, if an employee has heard of or observed negative consequences for a coworker with mental health issues in their workplace, there likely exists a strong amount of mental health stigmatization present in the workplace environment. By extension, the employee should theoretically be less likely to reach out to their direct supervisor regarding a mental health issue. On the other hand, if no such consequence has been observed or known, the employee likely works at a place that does not stigmatize health as much, which may result in a stronger likelihood that the person reaches out to their direct supervisor(s).\r\n",
        "\r\n",
        "> 4. ***remote_work***: Do you work remotely (outside of an office) at least 50% of the time?\r\n",
        "\r\n",
        "**Justification**: Working remotely may substantially limit the amount of flexibility an employee possess when it comes to their social circle. A significant caveat to the workplace being considered an emotional and social support system, as defined by the Center for Disease Control, is remote work.[$^{9}$](#ref9) Due to the lack of interpersonal interaction, as well as the lack of emotional readability over a laptop screen, an employee may feel much more alone if they work remotely as compared to working in-person. As such, they should theoretically be less likely to discuss a mental health issue with their supervisor, and vice-versa if they are working in-person."
      ]
    },
    {
      "cell_type": "markdown",
      "metadata": {
        "id": "0NrLh234DAK8"
      },
      "source": [
        "-------------------------------------------------------------"
      ]
    },
    {
      "cell_type": "markdown",
      "metadata": {
        "id": "lQrG-_z0gGgK"
      },
      "source": [
        "<a name=\"two\"></a>\n",
        "## **II. Dataset Overview & Cleaning**\n",
        "\n",
        "The following section describes the dataset being used to address the general research question listed above, as well as details how the dataset was pre-processed for analysis.\n",
        "\n",
        "\n",
        "\n"
      ]
    },
    {
      "cell_type": "markdown",
      "metadata": {
        "id": "qti0madiQaUW"
      },
      "source": [
        "### ***a) Dataset Overview***"
      ]
    },
    {
      "cell_type": "markdown",
      "metadata": {
        "id": "GKo_h8G_VJ-h"
      },
      "source": [
        "The dataset being utilized to answer the general question and test the hypotheses listed above is from a 2014 survey conducted by the Open Sourcing Mental Illness organization.[$^{19}$](#ref19) This organization aims to change the way mental health is discussed in the tech community, addressing stigmatization and providing necessary resources to those suffering from mental health disorders. In the survey, which was conducted in 2014, several responses are gathered in addition to the demographics of participants in a result to measure attitudes towards mental health and frequency of mental health disorders in the tech workplace. The categories of the dataset, with the question that corresponds to each, are listed below: \r\n",
        "\r\n",
        "Dataset Link[$^{20}$](#ref20): https://www.kaggle.com/osmi/mental-health-in-tech-survey\r\n",
        "\r\n",
        "*   **Timestamp**\r\n",
        "*   **Age**\r\n",
        "*   **Gender**\r\n",
        "*   **Country**\r\n",
        "*   **State** (if United States)\r\n",
        "*   **self_employed**: Are you self-employed?\r\n",
        "*   **family_history**: Do you have a family history of mental illness?\r\n",
        "*   **treatment**: Have you sought treatment for a mental health condition?\r\n",
        "*   **work_interfere**: If you have a mental health condition, do you feel that it interferes with your work?\r\n",
        "*   **no_employees**: How many employees does your company or organization have?\r\n",
        "*   **remote_work**: Do you work remotely (outside of an office) at least 50% of the time?\r\n",
        "*   **tech_company**: Is your employer primarily a tech company/organization?\r\n",
        "*   **benefits**: Does your employer provide mental health benefits?\r\n",
        "*   **care_options**: Do you know the options for mental health care your employer provides?\r\n",
        "*   **wellness_program**: Has your employer ever discussed mental health as part of an employee wellness program?\r\n",
        "*   **seek_help**: Does employer provide resources to learn more about mental health issues and how to seek help?\r\n",
        "*   **anonymity**: Is anonymity protected if employee takes advantage of mental health or substance abuse treatment?\r\n",
        "*   **leave**: How easy is it for you to take medical leave for a mental health condition?\r\n",
        "*   **mentalhealthconsequence**: Do you think that discussing a mental health issue with your employer would have negative consequences?\r\n",
        "*   **physhealthconsequence**: Do you think that discussing a physical health issue with your employer would have negative consequences?\r\n",
        "*   **coworkers**: Would you be willing to discuss a mental health issue with your coworkers?\r\n",
        "*   **supervisor**: Would you be willing to discuss a mental health issue with your direct supervisor(s)?\r\n",
        "*   **mentalhealthinterview**: Would you bring up a mental health issue with a potential employer in an interview?\r\n",
        "*   **physhealthinterview**: Would you bring up a physical health issue with a potential employer in an interview?\r\n",
        "*   **mentalvsphysical**: Do you feel that your employer takes mental health as seriously as physical health?\r\n",
        "*   **obs_consequence**: Have you heard of or observed negative consequences for coworkers with mental health conditions in your workplace?\r\n",
        "*   **comments**: Any additional notes or comments\r\n",
        "\r\n",
        "As a refresher, **supervisor** is the response variable in the study, and **benefits**, **obs_consequence**, **no_employees**, and **remote_work** are the target predictors that are being tested in the initial hypotheses listed above."
      ]
    },
    {
      "cell_type": "markdown",
      "metadata": {
        "id": "mRZwjwzZQrT-"
      },
      "source": [
        "### ***b) Dataset Cleaning & Pre-Processing***\r\n",
        "\r\n",
        "The following sub-section includes a step-by-step overview of how the dataset was loaded into the Google Colab environment, cleaned, and prepared for exploratory data analysis."
      ]
    },
    {
      "cell_type": "markdown",
      "metadata": {
        "id": "t4BbEU_WQzPl"
      },
      "source": [
        "#### *i) Importing Python Libraries*"
      ]
    },
    {
      "cell_type": "markdown",
      "metadata": {
        "id": "2yUoTGY1WniY"
      },
      "source": [
        "For the analysis to be conducted in Python, several packages, libraries, and modules must be utilized. They are listed below: \r\n",
        "\r\n",
        "* **pandas** - Standard data analysis library\r\n",
        "* **NumPy** - Computational Library for Fast Computation and Array Manipulation\r\n",
        "* **os** - Module that provides functions for interacting with the operating system\r\n",
        "* **itertools** - Functions creating iterators for efficient looping through files, data, and programs\r\n",
        "* **sys** - Module for system-specific parameters and functions\r\n",
        "* **requests** - Allows HTTP requests to be made in Python\r\n",
        "* **plotly** - Data Visualization Library\r\n",
        "* **matplotlib** - Standard Python Plotting\r\n",
        "* **seaborn** - Statistical Data Visualization Library\r\n",
        "* **scikit-learn** - Machine Learning Library (RandomForestClassifier, train_test_split, Encoding, etc.)\r\n"
      ]
    },
    {
      "cell_type": "code",
      "metadata": {
        "id": "wQcYhg3QoxdO"
      },
      "source": [
        "import pandas as pd\n",
        "import numpy as np\n",
        "from os import listdir, walk\n",
        "from os.path import isfile, join\n",
        "import itertools\n",
        "import sys,requests\n",
        "import plotly.express as px\n",
        "import plotly.graph_objects as go\n",
        "import plotly.figure_factory as ff\n",
        "from plotly.offline import iplot, init_notebook_mode\n",
        "import matplotlib.pyplot as plt\n",
        "import seaborn as sns\n",
        "\n",
        "#USE IF CONVERTING TO HTML\n",
        "# import plotly.offline as py\n",
        "# py.init_notebook_mode(connected=False)\n",
        "\n",
        "from sklearn.feature_selection import chi2\n",
        "from sklearn.preprocessing import OneHotEncoder\n",
        "from sklearn.preprocessing import LabelEncoder\n",
        "from sklearn.pipeline import Pipeline\n",
        "from sklearn.preprocessing import StandardScaler\n",
        "from sklearn.model_selection import train_test_split \n",
        "from sklearn.model_selection import cross_val_score\n",
        "from sklearn.ensemble import RandomForestClassifier\n",
        "from sklearn.model_selection import GridSearchCV\n",
        "from sklearn.inspection import permutation_importance\n",
        "from sklearn.model_selection import cross_val_score\n",
        "from sklearn.metrics import classification_report, confusion_matrix\n",
        "import sklearn.metrics as skmet\n",
        "pd.set_option('mode.chained_assignment', None) "
      ],
      "execution_count": null,
      "outputs": []
    },
    {
      "cell_type": "markdown",
      "metadata": {
        "id": "7vpj2UWMm_qA"
      },
      "source": [
        "#### *ii) Mounting Drive & Importing Dataset*"
      ]
    },
    {
      "cell_type": "markdown",
      "metadata": {
        "id": "A7FRBTb9YR4y"
      },
      "source": [
        "The following sub-section showcases how the Python system modules were utilized to mount Google Drive and point Colab's directory to the one which contains the dataset being used to address the general research question. \r\n",
        "\r\n",
        "\r\n",
        "\r\n",
        "\r\n",
        "\r\n",
        "\r\n",
        "\r\n",
        "\r\n",
        "\r\n",
        "\r\n",
        "\r\n",
        "\r\n",
        "\r\n",
        "\r\n",
        "\r\n",
        "\r\n",
        "\r\n",
        "\r\n",
        "\r\n",
        "\r\n",
        "\r\n",
        "\r\n",
        "\r\n",
        "\r\n",
        "\r\n",
        "\r\n",
        "\r\n",
        "\r\n",
        "\r\n",
        "\r\n",
        "\r\n",
        "\r\n",
        "\r\n",
        "\r\n",
        "\r\n",
        "\r\n",
        "\r\n",
        "\r\n",
        "\r\n",
        "\r\n",
        "\r\n",
        "\r\n",
        "\r\n",
        "\r\n",
        "The code chunks below open the directory file the dataset (.csv) is stored in."
      ]
    },
    {
      "cell_type": "code",
      "metadata": {
        "id": "e0hE_B7amms8",
        "colab": {
          "base_uri": "https://localhost:8080/"
        },
        "outputId": "0b7a7091-8081-4513-e6b9-3ebd0ab894c4"
      },
      "source": [
        "# Load the Drive helper and mount\n",
        "from google.colab import drive\n",
        "drive.mount('/content/drive')"
      ],
      "execution_count": null,
      "outputs": [
        {
          "output_type": "stream",
          "text": [
            "Mounted at /content/drive\n"
          ],
          "name": "stdout"
        }
      ]
    },
    {
      "cell_type": "code",
      "metadata": {
        "colab": {
          "base_uri": "https://localhost:8080/"
        },
        "id": "EHYGEGEOntUv",
        "outputId": "8be3eb95-4af1-468d-fb14-0df92e860adc"
      },
      "source": [
        "!ls \"/content/drive/MyDrive/DS_4002_JTerm2021/Week One/Code/data\""
      ],
      "execution_count": null,
      "outputs": [
        {
          "output_type": "stream",
          "text": [
            "survey.csv\n"
          ],
          "name": "stdout"
        }
      ]
    },
    {
      "cell_type": "code",
      "metadata": {
        "id": "YTz_i1rDqYZS"
      },
      "source": [
        "folder_path = \"/content/drive/MyDrive/DS_4002_JTerm2021/Week One/Code/data\"\n",
        "file_path = \"/content/drive/MyDrive/DS_4002_JTerm2021/Week One/Code/data/survey.csv\""
      ],
      "execution_count": null,
      "outputs": []
    },
    {
      "cell_type": "code",
      "metadata": {
        "id": "eu2x-T-DoTwq",
        "colab": {
          "base_uri": "https://localhost:8080/"
        },
        "outputId": "072c01f3-567e-483b-c9ba-ab2c99989582"
      },
      "source": [
        "def getAllFilesInDirectory(directoryPath: str):\n",
        "    return [(directoryPath + \"/\" + f) for f in listdir(directoryPath) if isfile(join(directoryPath, f))]\n",
        "getAllFilesInDirectory(folder_path)"
      ],
      "execution_count": null,
      "outputs": [
        {
          "output_type": "execute_result",
          "data": {
            "text/plain": [
              "['/content/drive/MyDrive/DS_4002_JTerm2021/Week One/Code/data/survey.csv']"
            ]
          },
          "metadata": {
            "tags": []
          },
          "execution_count": 5
        }
      ]
    },
    {
      "cell_type": "markdown",
      "metadata": {
        "id": "rMfqBYcC7FPa"
      },
      "source": [
        "#### *iii) Looking at the Raw Dataset*"
      ]
    },
    {
      "cell_type": "markdown",
      "metadata": {
        "id": "Qt4bPAaJYrCN"
      },
      "source": [
        "The following code chunk uses **pandas** to read in the dataset (.csv) and preview it. Here, the **Timestamp**, **state**, and **comments** categories are also dropped, the reasoning of which is explained below."
      ]
    },
    {
      "cell_type": "code",
      "metadata": {
        "colab": {
          "base_uri": "https://localhost:8080/"
        },
        "id": "z7J7V2FhqGvO",
        "outputId": "4d113699-9f1c-4688-84ac-9f10dbf6e00a"
      },
      "source": [
        "df = pd.read_csv(file_path)\n",
        "df = df.drop('Timestamp', 1)\n",
        "df = df.drop('state', 1)\n",
        "df = df.drop('comments', 1)\n",
        "df.head(5)"
      ],
      "execution_count": null,
      "outputs": [
        {
          "output_type": "execute_result",
          "data": {
            "text/html": [
              "<div>\n",
              "<style scoped>\n",
              "    .dataframe tbody tr th:only-of-type {\n",
              "        vertical-align: middle;\n",
              "    }\n",
              "\n",
              "    .dataframe tbody tr th {\n",
              "        vertical-align: top;\n",
              "    }\n",
              "\n",
              "    .dataframe thead th {\n",
              "        text-align: right;\n",
              "    }\n",
              "</style>\n",
              "<table border=\"1\" class=\"dataframe\">\n",
              "  <thead>\n",
              "    <tr style=\"text-align: right;\">\n",
              "      <th></th>\n",
              "      <th>Age</th>\n",
              "      <th>Gender</th>\n",
              "      <th>Country</th>\n",
              "      <th>self_employed</th>\n",
              "      <th>family_history</th>\n",
              "      <th>treatment</th>\n",
              "      <th>work_interfere</th>\n",
              "      <th>no_employees</th>\n",
              "      <th>remote_work</th>\n",
              "      <th>tech_company</th>\n",
              "      <th>benefits</th>\n",
              "      <th>care_options</th>\n",
              "      <th>wellness_program</th>\n",
              "      <th>seek_help</th>\n",
              "      <th>anonymity</th>\n",
              "      <th>leave</th>\n",
              "      <th>mental_health_consequence</th>\n",
              "      <th>phys_health_consequence</th>\n",
              "      <th>coworkers</th>\n",
              "      <th>supervisor</th>\n",
              "      <th>mental_health_interview</th>\n",
              "      <th>phys_health_interview</th>\n",
              "      <th>mental_vs_physical</th>\n",
              "      <th>obs_consequence</th>\n",
              "    </tr>\n",
              "  </thead>\n",
              "  <tbody>\n",
              "    <tr>\n",
              "      <th>0</th>\n",
              "      <td>37</td>\n",
              "      <td>Female</td>\n",
              "      <td>United States</td>\n",
              "      <td>NaN</td>\n",
              "      <td>No</td>\n",
              "      <td>Yes</td>\n",
              "      <td>Often</td>\n",
              "      <td>6-25</td>\n",
              "      <td>No</td>\n",
              "      <td>Yes</td>\n",
              "      <td>Yes</td>\n",
              "      <td>Not sure</td>\n",
              "      <td>No</td>\n",
              "      <td>Yes</td>\n",
              "      <td>Yes</td>\n",
              "      <td>Somewhat easy</td>\n",
              "      <td>No</td>\n",
              "      <td>No</td>\n",
              "      <td>Some of them</td>\n",
              "      <td>Yes</td>\n",
              "      <td>No</td>\n",
              "      <td>Maybe</td>\n",
              "      <td>Yes</td>\n",
              "      <td>No</td>\n",
              "    </tr>\n",
              "    <tr>\n",
              "      <th>1</th>\n",
              "      <td>44</td>\n",
              "      <td>M</td>\n",
              "      <td>United States</td>\n",
              "      <td>NaN</td>\n",
              "      <td>No</td>\n",
              "      <td>No</td>\n",
              "      <td>Rarely</td>\n",
              "      <td>More than 1000</td>\n",
              "      <td>No</td>\n",
              "      <td>No</td>\n",
              "      <td>Don't know</td>\n",
              "      <td>No</td>\n",
              "      <td>Don't know</td>\n",
              "      <td>Don't know</td>\n",
              "      <td>Don't know</td>\n",
              "      <td>Don't know</td>\n",
              "      <td>Maybe</td>\n",
              "      <td>No</td>\n",
              "      <td>No</td>\n",
              "      <td>No</td>\n",
              "      <td>No</td>\n",
              "      <td>No</td>\n",
              "      <td>Don't know</td>\n",
              "      <td>No</td>\n",
              "    </tr>\n",
              "    <tr>\n",
              "      <th>2</th>\n",
              "      <td>32</td>\n",
              "      <td>Male</td>\n",
              "      <td>Canada</td>\n",
              "      <td>NaN</td>\n",
              "      <td>No</td>\n",
              "      <td>No</td>\n",
              "      <td>Rarely</td>\n",
              "      <td>6-25</td>\n",
              "      <td>No</td>\n",
              "      <td>Yes</td>\n",
              "      <td>No</td>\n",
              "      <td>No</td>\n",
              "      <td>No</td>\n",
              "      <td>No</td>\n",
              "      <td>Don't know</td>\n",
              "      <td>Somewhat difficult</td>\n",
              "      <td>No</td>\n",
              "      <td>No</td>\n",
              "      <td>Yes</td>\n",
              "      <td>Yes</td>\n",
              "      <td>Yes</td>\n",
              "      <td>Yes</td>\n",
              "      <td>No</td>\n",
              "      <td>No</td>\n",
              "    </tr>\n",
              "    <tr>\n",
              "      <th>3</th>\n",
              "      <td>31</td>\n",
              "      <td>Male</td>\n",
              "      <td>United Kingdom</td>\n",
              "      <td>NaN</td>\n",
              "      <td>Yes</td>\n",
              "      <td>Yes</td>\n",
              "      <td>Often</td>\n",
              "      <td>26-100</td>\n",
              "      <td>No</td>\n",
              "      <td>Yes</td>\n",
              "      <td>No</td>\n",
              "      <td>Yes</td>\n",
              "      <td>No</td>\n",
              "      <td>No</td>\n",
              "      <td>No</td>\n",
              "      <td>Somewhat difficult</td>\n",
              "      <td>Yes</td>\n",
              "      <td>Yes</td>\n",
              "      <td>Some of them</td>\n",
              "      <td>No</td>\n",
              "      <td>Maybe</td>\n",
              "      <td>Maybe</td>\n",
              "      <td>No</td>\n",
              "      <td>Yes</td>\n",
              "    </tr>\n",
              "    <tr>\n",
              "      <th>4</th>\n",
              "      <td>31</td>\n",
              "      <td>Male</td>\n",
              "      <td>United States</td>\n",
              "      <td>NaN</td>\n",
              "      <td>No</td>\n",
              "      <td>No</td>\n",
              "      <td>Never</td>\n",
              "      <td>100-500</td>\n",
              "      <td>Yes</td>\n",
              "      <td>Yes</td>\n",
              "      <td>Yes</td>\n",
              "      <td>No</td>\n",
              "      <td>Don't know</td>\n",
              "      <td>Don't know</td>\n",
              "      <td>Don't know</td>\n",
              "      <td>Don't know</td>\n",
              "      <td>No</td>\n",
              "      <td>No</td>\n",
              "      <td>Some of them</td>\n",
              "      <td>Yes</td>\n",
              "      <td>Yes</td>\n",
              "      <td>Yes</td>\n",
              "      <td>Don't know</td>\n",
              "      <td>No</td>\n",
              "    </tr>\n",
              "  </tbody>\n",
              "</table>\n",
              "</div>"
            ],
            "text/plain": [
              "   Age  Gender  ... mental_vs_physical obs_consequence\n",
              "0   37  Female  ...                Yes              No\n",
              "1   44       M  ...         Don't know              No\n",
              "2   32    Male  ...                 No              No\n",
              "3   31    Male  ...                 No             Yes\n",
              "4   31    Male  ...         Don't know              No\n",
              "\n",
              "[5 rows x 24 columns]"
            ]
          },
          "metadata": {
            "tags": []
          },
          "execution_count": 6
        }
      ]
    },
    {
      "cell_type": "markdown",
      "metadata": {
        "id": "clu9yQkg7eOg"
      },
      "source": [
        "#### *iv) Preprocessing*"
      ]
    },
    {
      "cell_type": "markdown",
      "metadata": {
        "id": "mxkhyFKYY_Qw"
      },
      "source": [
        "Several pre-processing steps were conducted to the dataset previewed above.\r\n",
        "\r\n",
        "First, as mentioned previously, the **timestamp**, **state**, and **comments** categories were dropped. This was done because we assumed that the time of survey response did not constitute a major effect on the response variable, state only had an instance if the country was the United States (otherwise empty instance), and the comments category was filled with nonsensical instances which would not have added information to the subsequent machine learning model."
      ]
    },
    {
      "cell_type": "markdown",
      "metadata": {
        "id": "WmUR2pZwZmcq"
      },
      "source": [
        "The following two code chunks extensive describe how the **gender**, **wellness_program**, **anonymity**, **seek_help**, **leave**, **mental_vs_physical**, **benefits**, **care_options**, **work_interfere**, **self_employed**, **country**, and **age** columns were cleaned int the dataset."
      ]
    },
    {
      "cell_type": "code",
      "metadata": {
        "id": "LKpL-TEMbnIS",
        "colab": {
          "base_uri": "https://localhost:8080/"
        },
        "outputId": "e7ec1152-6f65-4f02-ddc2-63f2dc36ce0a"
      },
      "source": [
        "df.Gender.value_counts()"
      ],
      "execution_count": null,
      "outputs": [
        {
          "output_type": "execute_result",
          "data": {
            "text/plain": [
              "Male                                              615\n",
              "male                                              206\n",
              "Female                                            121\n",
              "M                                                 116\n",
              "female                                             62\n",
              "F                                                  38\n",
              "m                                                  34\n",
              "f                                                  15\n",
              "Make                                                4\n",
              "Woman                                               3\n",
              "Male                                                3\n",
              "Cis Male                                            2\n",
              "Female (trans)                                      2\n",
              "Female                                              2\n",
              "Man                                                 2\n",
              "non-binary                                          1\n",
              "Male-ish                                            1\n",
              "male leaning androgynous                            1\n",
              "Androgyne                                           1\n",
              "p                                                   1\n",
              "Neuter                                              1\n",
              "Femake                                              1\n",
              "Mal                                                 1\n",
              "All                                                 1\n",
              "Nah                                                 1\n",
              "Male (CIS)                                          1\n",
              "Trans-female                                        1\n",
              "Cis Man                                             1\n",
              "something kinda male?                               1\n",
              "cis male                                            1\n",
              "cis-female/femme                                    1\n",
              "queer                                               1\n",
              "Guy (-ish) ^_^                                      1\n",
              "maile                                               1\n",
              "Cis Female                                          1\n",
              "ostensibly male, unsure what that really means      1\n",
              "Genderqueer                                         1\n",
              "fluid                                               1\n",
              "Female (cis)                                        1\n",
              "Enby                                                1\n",
              "Malr                                                1\n",
              "msle                                                1\n",
              "A little about you                                  1\n",
              "femail                                              1\n",
              "Agender                                             1\n",
              "Trans woman                                         1\n",
              "queer/she/they                                      1\n",
              "Mail                                                1\n",
              "woman                                               1\n",
              "Name: Gender, dtype: int64"
            ]
          },
          "metadata": {
            "tags": []
          },
          "execution_count": 7
        }
      ]
    },
    {
      "cell_type": "markdown",
      "metadata": {
        "id": "XuvJ9xUUZ9XB"
      },
      "source": [
        "The output above shows the various instances of **Gender** present in the original dataset. As shown in the below code chunk, they were further categorized into 'male', 'female', and 'other' instances."
      ]
    },
    {
      "cell_type": "code",
      "metadata": {
        "id": "XplkvWFXasZR"
      },
      "source": [
        "df[\"Gender\"] = df[\"Gender\"].str.lower()\n",
        "df.Gender[df.Gender == 'm'] = \"male\"\n",
        "df.Gender[df.Gender == 'f'] = \"female\"\n",
        "df.Gender[(df.Gender != 'female') & (df.Gender != 'male')] = \"other\"\n",
        "df.wellness_program[df.wellness_program == 'Don\\'t know'] = \"No\"\n",
        "df.anonymity[df.anonymity == 'Don\\'t know'] = \"No\"\n",
        "df.seek_help[df.seek_help == 'Don\\'t know'] = \"No\"\n",
        "df.leave[df.leave == 'Don\\'t know'] = \"Somewhat difficult\"\n",
        "df.mental_vs_physical[df.mental_vs_physical == 'Don\\'t know'] = \"No\"\n",
        "df.benefits[df.benefits == 'Don\\'t know'] = \"No\"\n",
        "df.care_options[df.care_options == 'Not sure'] = \"No\"\n",
        "df.work_interfere = df.work_interfere.fillna(\"No Response\")\n",
        "df.self_employed = df.self_employed.fillna(\"No\")"
      ],
      "execution_count": null,
      "outputs": []
    },
    {
      "cell_type": "markdown",
      "metadata": {
        "id": "t9H9y0ccbQE4"
      },
      "source": [
        "The above code chunk also showcases how mispelled answers were reverted back to standardized answers of \"Yes\" or \"No\". Furthermore, some of the questions in the survey contained \"Don't know\" or \"Not Sure\" as possible responses. These were releveled to \"No\", with the reason being that if employees do not know about a certain characteristic dealing with mental health in their workplace, their workplace likely either does not have it or does not promote it enough to their employees. As a result, it was assumed that both instances should map to the \"No\" answer."
      ]
    },
    {
      "cell_type": "markdown",
      "metadata": {
        "id": "aJzWclYDD3pM"
      },
      "source": [
        "The following code chunk categorizes the countries present in the dataset into 'North America', 'Europe', and 'Other'. This was done due to the need to encode the categories later on. Since over 48 countries are present in this dataset, one hot encoding would add 47 categories to the dataset, and label encoding would label them from 0-47. Ultimately, this would not be good for the performance of our multiclass classifier."
      ]
    },
    {
      "cell_type": "code",
      "metadata": {
        "colab": {
          "base_uri": "https://localhost:8080/"
        },
        "id": "HehQBsgNXFEB",
        "outputId": "682c6420-f3e5-48d0-b786-8922277d6698"
      },
      "source": [
        "df[\"country_bucket\"] = df[\"Country\"]\n",
        "df.country_bucket[df.country_bucket == 'United States'] = \"North America\"\n",
        "df.country_bucket[df.country_bucket == 'Canada'] = \"North America\"\n",
        "df.country_bucket[df.country_bucket == 'United Kingdom'] = \"Europe\"\n",
        "df.country_bucket[df.country_bucket == 'Germany'] = \"Europe\"\n",
        "df.country_bucket[df.country_bucket == 'Ireland'] = \"Europe\"\n",
        "df.country_bucket[df.country_bucket == 'France'] = \"Europe\"\n",
        "df.country_bucket[df.country_bucket == 'Netherlands'] = \"Europe\"\n",
        "df.country_bucket[df.country_bucket == 'Bulgaria'] = \"Europe\"\n",
        "df.country_bucket[df.country_bucket == 'Switzerland'] = \"Europe\"\n",
        "df.country_bucket[df.country_bucket == 'Italy'] = \"Europe\"\n",
        "df.country_bucket[df.country_bucket == 'Poland'] = \"Europe\"\n",
        "df.country_bucket[df.country_bucket == 'Sweden'] = \"Europe\"\n",
        "df.country_bucket[df.country_bucket == 'Belgium'] = \"Europe\"\n",
        "df.country_bucket[df.country_bucket == 'Austria'] = \"Europe\"\n",
        "df.country_bucket[df.country_bucket == 'Finland'] = \"Europe\"\n",
        "df.country_bucket[df.country_bucket == 'Russia'] = \"Europe\"\n",
        "df.country_bucket[df.country_bucket == 'Greece'] = \"Europe\"\n",
        "df.country_bucket[df.country_bucket == 'Croatia'] = \"Europe\"\n",
        "df.country_bucket[df.country_bucket == 'Spain'] = \"Europe\"\n",
        "df.country_bucket[df.country_bucket == 'Czech Republic'] = \"Europe\"\n",
        "df.country_bucket[df.country_bucket == 'Romania'] = \"Europe\"\n",
        "df.country_bucket[df.country_bucket == 'Moldova'] = \"Europe\"\n",
        "df.country_bucket[df.country_bucket == 'Denmark'] = \"Europe\"\n",
        "df.country_bucket[df.country_bucket == 'Norway'] = \"Europe\"\n",
        "df.country_bucket[df.country_bucket == 'Georgia'] = \"Europe\"\n",
        "df.country_bucket[df.country_bucket == 'Slovenia'] = \"Europe\"\n",
        "df.country_bucket[df.country_bucket == 'Hungary'] = \"Europe\"\n",
        "df.country_bucket[df.country_bucket == 'Portugal'] = \"Europe\"\n",
        "df.country_bucket[df.country_bucket == 'Bosnia and Herzegovina'] = \"Europe\"\n",
        "df.country_bucket[df.country_bucket == 'Latvia'] = \"Europe\"\n",
        "df.country_bucket[df.country_bucket == 'India'] = \"Other\"\n",
        "df.country_bucket[df.country_bucket == 'South Africa'] = \"Other\"\n",
        "df.country_bucket[df.country_bucket == 'Australia'] = \"Other\"\n",
        "df.country_bucket[df.country_bucket == 'New Zealand'] = \"Other\"\n",
        "df.country_bucket[df.country_bucket == 'Philippines'] = \"Other\"\n",
        "df.country_bucket[df.country_bucket == 'Costa Rica '] = \"Other\"\n",
        "df.country_bucket[df.country_bucket == 'Australia'] = \"Other\"\n",
        "df.country_bucket[df.country_bucket == 'Zimbabwe'] = \"Other\"\n",
        "df.country_bucket[df.country_bucket == 'Colombia'] = \"Other\"\n",
        "df.country_bucket[df.country_bucket == 'Singapore'] = \"Other\"\n",
        "df.country_bucket[df.country_bucket == 'Israel'] = \"Other\"\n",
        "df.country_bucket[df.country_bucket == 'Brazil'] = \"Other\"\n",
        "df.country_bucket[df.country_bucket == 'China'] = \"Other\"\n",
        "df.country_bucket[df.country_bucket == 'Japan'] = \"Other\"\n",
        "df.country_bucket[df.country_bucket == 'Nigeria'] = \"Other\"\n",
        "df.country_bucket[df.country_bucket == 'Thailand'] = \"Other\"\n",
        "df.country_bucket[df.country_bucket == 'Bahamas, The'] = \"Other\"\n",
        "df.country_bucket[df.country_bucket == 'Costa Rica'] = \"Other\"\n",
        "df.country_bucket[df.country_bucket == 'Uruguay'] = \"Other\"\n",
        "df.country_bucket[df.country_bucket == 'Mexico'] = \"Other\"\n",
        "df[\"country_bucket\"].value_counts()"
      ],
      "execution_count": null,
      "outputs": [
        {
          "output_type": "execute_result",
          "data": {
            "text/plain": [
              "North America    823\n",
              "Europe           362\n",
              "Other             74\n",
              "Name: country_bucket, dtype: int64"
            ]
          },
          "metadata": {
            "tags": []
          },
          "execution_count": 9
        }
      ]
    },
    {
      "cell_type": "code",
      "metadata": {
        "colab": {
          "base_uri": "https://localhost:8080/"
        },
        "id": "5UIx6W2jeSyZ",
        "outputId": "07c9b81b-08e0-4c8c-b6a5-296c235c98ba"
      },
      "source": [
        "df.isna().sum()"
      ],
      "execution_count": null,
      "outputs": [
        {
          "output_type": "execute_result",
          "data": {
            "text/plain": [
              "Age                          0\n",
              "Gender                       0\n",
              "Country                      0\n",
              "self_employed                0\n",
              "family_history               0\n",
              "treatment                    0\n",
              "work_interfere               0\n",
              "no_employees                 0\n",
              "remote_work                  0\n",
              "tech_company                 0\n",
              "benefits                     0\n",
              "care_options                 0\n",
              "wellness_program             0\n",
              "seek_help                    0\n",
              "anonymity                    0\n",
              "leave                        0\n",
              "mental_health_consequence    0\n",
              "phys_health_consequence      0\n",
              "coworkers                    0\n",
              "supervisor                   0\n",
              "mental_health_interview      0\n",
              "phys_health_interview        0\n",
              "mental_vs_physical           0\n",
              "obs_consequence              0\n",
              "country_bucket               0\n",
              "dtype: int64"
            ]
          },
          "metadata": {
            "tags": []
          },
          "execution_count": 10
        }
      ]
    },
    {
      "cell_type": "markdown",
      "metadata": {
        "id": "kciqQ-C9aJwL"
      },
      "source": [
        "The above output serves as a check to ensure that there are no NaN instances present in our modified dataset."
      ]
    },
    {
      "cell_type": "code",
      "metadata": {
        "colab": {
          "base_uri": "https://localhost:8080/"
        },
        "id": "cRsHnLiyHL8Y",
        "outputId": "8a78a278-4999-4b9e-c909-6e9d5486a5e8"
      },
      "source": [
        "d = {range(0, 18): \"<18\", range(18, 30): \"20s\", range(30, 40): \"30s\", range(40, 50): \"40s\", range(50, 60): \"50s\", range(60, 100): \"60s+\"}\n",
        "df['age_bucket'] = df['Age'].apply(lambda x: next((v for k, v in d.items() if x in k), 0))\n",
        "df[df['age_bucket'] == 0].Age.value_counts()"
      ],
      "execution_count": null,
      "outputs": [
        {
          "output_type": "execute_result",
          "data": {
            "text/plain": [
              "-1726           1\n",
              "-29             1\n",
              " 99999999999    1\n",
              " 329            1\n",
              "-1              1\n",
              "Name: Age, dtype: int64"
            ]
          },
          "metadata": {
            "tags": []
          },
          "execution_count": 11
        }
      ]
    },
    {
      "cell_type": "markdown",
      "metadata": {
        "id": "L1NI1yutaQNr"
      },
      "source": [
        "The code chunk and output below depict how the age category was changed to become a discrete variable. The category was essentially bucketed into age intervals (e.g., less than 18, 20s, 30s, etc.). Furthermore, as depicted by the output above, five outliers were present in the Age category. These were imputed with the mean age present in the dataset, which was found to be 32 as shown below."
      ]
    },
    {
      "cell_type": "code",
      "metadata": {
        "colab": {
          "base_uri": "https://localhost:8080/"
        },
        "id": "8rA0OlzMAQ1b",
        "outputId": "54506fe1-acd4-4c8d-96f3-8d94294ac153"
      },
      "source": [
        "df.Age[df.age_bucket == 0] = float('NaN')\n",
        "df.Age[df.age_bucket == 0] = df.Age.mean()\n",
        "df.age_bucket[df.Age == df.Age.mean()] = \"30s\"\n",
        "df[df['age_bucket'] == 0]"
      ],
      "execution_count": null,
      "outputs": [
        {
          "output_type": "execute_result",
          "data": {
            "text/html": [
              "<div>\n",
              "<style scoped>\n",
              "    .dataframe tbody tr th:only-of-type {\n",
              "        vertical-align: middle;\n",
              "    }\n",
              "\n",
              "    .dataframe tbody tr th {\n",
              "        vertical-align: top;\n",
              "    }\n",
              "\n",
              "    .dataframe thead th {\n",
              "        text-align: right;\n",
              "    }\n",
              "</style>\n",
              "<table border=\"1\" class=\"dataframe\">\n",
              "  <thead>\n",
              "    <tr style=\"text-align: right;\">\n",
              "      <th></th>\n",
              "      <th>Age</th>\n",
              "      <th>Gender</th>\n",
              "      <th>Country</th>\n",
              "      <th>self_employed</th>\n",
              "      <th>family_history</th>\n",
              "      <th>treatment</th>\n",
              "      <th>work_interfere</th>\n",
              "      <th>no_employees</th>\n",
              "      <th>remote_work</th>\n",
              "      <th>tech_company</th>\n",
              "      <th>benefits</th>\n",
              "      <th>care_options</th>\n",
              "      <th>wellness_program</th>\n",
              "      <th>seek_help</th>\n",
              "      <th>anonymity</th>\n",
              "      <th>leave</th>\n",
              "      <th>mental_health_consequence</th>\n",
              "      <th>phys_health_consequence</th>\n",
              "      <th>coworkers</th>\n",
              "      <th>supervisor</th>\n",
              "      <th>mental_health_interview</th>\n",
              "      <th>phys_health_interview</th>\n",
              "      <th>mental_vs_physical</th>\n",
              "      <th>obs_consequence</th>\n",
              "      <th>country_bucket</th>\n",
              "      <th>age_bucket</th>\n",
              "    </tr>\n",
              "  </thead>\n",
              "  <tbody>\n",
              "  </tbody>\n",
              "</table>\n",
              "</div>"
            ],
            "text/plain": [
              "Empty DataFrame\n",
              "Columns: [Age, Gender, Country, self_employed, family_history, treatment, work_interfere, no_employees, remote_work, tech_company, benefits, care_options, wellness_program, seek_help, anonymity, leave, mental_health_consequence, phys_health_consequence, coworkers, supervisor, mental_health_interview, phys_health_interview, mental_vs_physical, obs_consequence, country_bucket, age_bucket]\n",
              "Index: []"
            ]
          },
          "metadata": {
            "tags": []
          },
          "execution_count": 12
        }
      ]
    },
    {
      "cell_type": "code",
      "metadata": {
        "id": "tbIs34q-QzoR"
      },
      "source": [
        "df[\"age_bucket\"] = pd.Categorical(df[\"age_bucket\"], [\"<18\", \"20s\", \"30s\", \"40s\", \"50s\", \"60s+\"])  \n",
        "df['no_employees'] = pd.Categorical(df['no_employees'], [\"1-5\", \"6-25\", \"26-100\", \"100-500\", \"500-1000\", \"More than 1000\"])\n",
        "df['leave'] = pd.Categorical(df['leave'], [\"Very difficult\", \"Somewhat difficult\", \"Somewhat easy\", \"Very easy\"])"
      ],
      "execution_count": null,
      "outputs": []
    },
    {
      "cell_type": "markdown",
      "metadata": {
        "id": "3wVj4BGDcVmv"
      },
      "source": [
        "The above code chunk sorts the discrete variables **age_bucket**, **leave**, and **no_employees** in a logical order such that figures that are generated in subsequent analysis are more intuitive."
      ]
    },
    {
      "cell_type": "code",
      "metadata": {
        "colab": {
          "base_uri": "https://localhost:8080/"
        },
        "id": "lKWxoxwYkw5O",
        "outputId": "2591fbb8-e66b-4bff-e3e3-75915c6b27b7"
      },
      "source": [
        "enc = LabelEncoder()\n",
        "\n",
        "mc_df = df.copy()\n",
        "\n",
        "for category in [\"Gender\", \"Country\", \"self_employed\", \"family_history\", \"treatment\", \n",
        "                 \"work_interfere\", \"no_employees\", \"remote_work\", \"tech_company\", \n",
        "                 \"benefits\", \"care_options\", \"wellness_program\", \"seek_help\", \"anonymity\", \n",
        "                 \"leave\", \"mental_health_consequence\", \"phys_health_consequence\", \"coworkers\", \n",
        "                 \"supervisor\", \"mental_health_interview\", \"phys_health_interview\", \"mental_vs_physical\",\n",
        "                 \"obs_consequence\", \"age_bucket\", \"country_bucket\"]:\n",
        "                 mc_df[category] = enc.fit_transform(df[category])\n",
        "                 \n",
        "mc_df.head()"
      ],
      "execution_count": null,
      "outputs": [
        {
          "output_type": "execute_result",
          "data": {
            "text/html": [
              "<div>\n",
              "<style scoped>\n",
              "    .dataframe tbody tr th:only-of-type {\n",
              "        vertical-align: middle;\n",
              "    }\n",
              "\n",
              "    .dataframe tbody tr th {\n",
              "        vertical-align: top;\n",
              "    }\n",
              "\n",
              "    .dataframe thead th {\n",
              "        text-align: right;\n",
              "    }\n",
              "</style>\n",
              "<table border=\"1\" class=\"dataframe\">\n",
              "  <thead>\n",
              "    <tr style=\"text-align: right;\">\n",
              "      <th></th>\n",
              "      <th>Age</th>\n",
              "      <th>Gender</th>\n",
              "      <th>Country</th>\n",
              "      <th>self_employed</th>\n",
              "      <th>family_history</th>\n",
              "      <th>treatment</th>\n",
              "      <th>work_interfere</th>\n",
              "      <th>no_employees</th>\n",
              "      <th>remote_work</th>\n",
              "      <th>tech_company</th>\n",
              "      <th>benefits</th>\n",
              "      <th>care_options</th>\n",
              "      <th>wellness_program</th>\n",
              "      <th>seek_help</th>\n",
              "      <th>anonymity</th>\n",
              "      <th>leave</th>\n",
              "      <th>mental_health_consequence</th>\n",
              "      <th>phys_health_consequence</th>\n",
              "      <th>coworkers</th>\n",
              "      <th>supervisor</th>\n",
              "      <th>mental_health_interview</th>\n",
              "      <th>phys_health_interview</th>\n",
              "      <th>mental_vs_physical</th>\n",
              "      <th>obs_consequence</th>\n",
              "      <th>country_bucket</th>\n",
              "      <th>age_bucket</th>\n",
              "    </tr>\n",
              "  </thead>\n",
              "  <tbody>\n",
              "    <tr>\n",
              "      <th>0</th>\n",
              "      <td>37.0</td>\n",
              "      <td>0</td>\n",
              "      <td>45</td>\n",
              "      <td>0</td>\n",
              "      <td>0</td>\n",
              "      <td>1</td>\n",
              "      <td>2</td>\n",
              "      <td>4</td>\n",
              "      <td>0</td>\n",
              "      <td>1</td>\n",
              "      <td>1</td>\n",
              "      <td>0</td>\n",
              "      <td>0</td>\n",
              "      <td>1</td>\n",
              "      <td>1</td>\n",
              "      <td>1</td>\n",
              "      <td>1</td>\n",
              "      <td>1</td>\n",
              "      <td>1</td>\n",
              "      <td>2</td>\n",
              "      <td>1</td>\n",
              "      <td>0</td>\n",
              "      <td>1</td>\n",
              "      <td>0</td>\n",
              "      <td>1</td>\n",
              "      <td>1</td>\n",
              "    </tr>\n",
              "    <tr>\n",
              "      <th>1</th>\n",
              "      <td>44.0</td>\n",
              "      <td>1</td>\n",
              "      <td>45</td>\n",
              "      <td>0</td>\n",
              "      <td>0</td>\n",
              "      <td>0</td>\n",
              "      <td>3</td>\n",
              "      <td>5</td>\n",
              "      <td>0</td>\n",
              "      <td>0</td>\n",
              "      <td>0</td>\n",
              "      <td>0</td>\n",
              "      <td>0</td>\n",
              "      <td>0</td>\n",
              "      <td>0</td>\n",
              "      <td>0</td>\n",
              "      <td>0</td>\n",
              "      <td>1</td>\n",
              "      <td>0</td>\n",
              "      <td>0</td>\n",
              "      <td>1</td>\n",
              "      <td>1</td>\n",
              "      <td>0</td>\n",
              "      <td>0</td>\n",
              "      <td>1</td>\n",
              "      <td>2</td>\n",
              "    </tr>\n",
              "    <tr>\n",
              "      <th>2</th>\n",
              "      <td>32.0</td>\n",
              "      <td>1</td>\n",
              "      <td>7</td>\n",
              "      <td>0</td>\n",
              "      <td>0</td>\n",
              "      <td>0</td>\n",
              "      <td>3</td>\n",
              "      <td>4</td>\n",
              "      <td>0</td>\n",
              "      <td>1</td>\n",
              "      <td>0</td>\n",
              "      <td>0</td>\n",
              "      <td>0</td>\n",
              "      <td>0</td>\n",
              "      <td>0</td>\n",
              "      <td>0</td>\n",
              "      <td>1</td>\n",
              "      <td>1</td>\n",
              "      <td>2</td>\n",
              "      <td>2</td>\n",
              "      <td>2</td>\n",
              "      <td>2</td>\n",
              "      <td>0</td>\n",
              "      <td>0</td>\n",
              "      <td>1</td>\n",
              "      <td>1</td>\n",
              "    </tr>\n",
              "    <tr>\n",
              "      <th>3</th>\n",
              "      <td>31.0</td>\n",
              "      <td>1</td>\n",
              "      <td>44</td>\n",
              "      <td>0</td>\n",
              "      <td>1</td>\n",
              "      <td>1</td>\n",
              "      <td>2</td>\n",
              "      <td>2</td>\n",
              "      <td>0</td>\n",
              "      <td>1</td>\n",
              "      <td>0</td>\n",
              "      <td>1</td>\n",
              "      <td>0</td>\n",
              "      <td>0</td>\n",
              "      <td>0</td>\n",
              "      <td>0</td>\n",
              "      <td>2</td>\n",
              "      <td>2</td>\n",
              "      <td>1</td>\n",
              "      <td>0</td>\n",
              "      <td>0</td>\n",
              "      <td>0</td>\n",
              "      <td>0</td>\n",
              "      <td>1</td>\n",
              "      <td>0</td>\n",
              "      <td>1</td>\n",
              "    </tr>\n",
              "    <tr>\n",
              "      <th>4</th>\n",
              "      <td>31.0</td>\n",
              "      <td>1</td>\n",
              "      <td>45</td>\n",
              "      <td>0</td>\n",
              "      <td>0</td>\n",
              "      <td>0</td>\n",
              "      <td>0</td>\n",
              "      <td>1</td>\n",
              "      <td>1</td>\n",
              "      <td>1</td>\n",
              "      <td>1</td>\n",
              "      <td>0</td>\n",
              "      <td>0</td>\n",
              "      <td>0</td>\n",
              "      <td>0</td>\n",
              "      <td>0</td>\n",
              "      <td>1</td>\n",
              "      <td>1</td>\n",
              "      <td>1</td>\n",
              "      <td>2</td>\n",
              "      <td>2</td>\n",
              "      <td>2</td>\n",
              "      <td>0</td>\n",
              "      <td>0</td>\n",
              "      <td>1</td>\n",
              "      <td>1</td>\n",
              "    </tr>\n",
              "  </tbody>\n",
              "</table>\n",
              "</div>"
            ],
            "text/plain": [
              "    Age  Gender  Country  ...  obs_consequence  country_bucket  age_bucket\n",
              "0  37.0       0       45  ...                0               1           1\n",
              "1  44.0       1       45  ...                0               1           2\n",
              "2  32.0       1        7  ...                0               1           1\n",
              "3  31.0       1       44  ...                1               0           1\n",
              "4  31.0       1       45  ...                0               1           1\n",
              "\n",
              "[5 rows x 26 columns]"
            ]
          },
          "metadata": {
            "tags": []
          },
          "execution_count": 14
        }
      ]
    },
    {
      "cell_type": "markdown",
      "metadata": {
        "id": "qy5mYPMXEfUv"
      },
      "source": [
        "The code chunk above uses the label encoding method to convert the categorical instances into numeric ones. Although encoding is necessary in order to make the categories readable by the mathematical equations necessary for machine learning, there is a stark difference between label encoding, which was performed above, and one-hot encoding, which is performed later in this notebook. \r\n",
        "\r\n",
        "In label encoding, each instance of a category is assigned a unique integer based on alphabetical ordering.[$^{21}$](#ref21) Although this is relatively easy to perform and computationally inexpensive later in the machine learning nutshell, laabel encoding inherently adds a rank to the categorical instances based on alphabetical order. For example, as mentioned previously in the notebook, the 48 countries in this dataset would ultimately be numbered from 0-47, and this rank would then be accounted for in the machine learning model. However, the rank might have nothing to do with how much the instance contributes to the response variable, so label encoding, as we will see later, would not be a good fit for this dataset.\r\n",
        "\r\n",
        "On the other hand, One-Hot Encoding simply creates additional features based on the number of unique values in the categorical features; each unique instance in the category will be added as a feature. Although this avoids the ranking problem associated with label encoding, it does add a lot of complexity to our dataset, especially with large categorical instance maps such as country. As such, we bucketed such categories (e.g., **country**) to avoid unecessary complexity and decrease the computational expense found downstream."
      ]
    },
    {
      "cell_type": "markdown",
      "metadata": {
        "id": "D-Baad1YDA82"
      },
      "source": [
        "-------------------------------------------------------------"
      ]
    },
    {
      "cell_type": "markdown",
      "metadata": {
        "id": "1BDra7QsxIvm"
      },
      "source": [
        "<a name=\"three\"></a>\r\n",
        "## **III. Exploratory Data Analysis**\r\n",
        "\r\n",
        "The following section outlines how exploratory data analysis (EDA) was initially conducted with respect to the response variable and independent variables present within the dataset. The exploratory data analysis was organized by several key questions that were generated as more specific versions of our general research question. The questions were also created in an attempt to test and possibly alter our original hypotheses. The Key EDA Questions, in addition to the General Research Question, can be found listed below:\r\n",
        "\r\n",
        "**General Research Question**: \r\n",
        "* What are the strongest predictors dictating whether or not an employee will discuss mental health concerns with their direct supervisor(s)?\r\n",
        "\r\n",
        "**Key EDA Questions**: \r\n",
        "\r\n",
        "1.   [**Key Question #1**](#Q1): Generally, how willing are employees to reach out to their direct supervisor(s) about a mental health issue?\r\n",
        "2.   [**Key Question #2**](#Q2): Do demographic indicators such as age, gender, and country play a role in how willing employees are to reach out to their direct supervisor(s)?\r\n",
        "3.   [**Key Question #3**](#Q3): How much of a role do our 4 initial target predictors play a role in the willingness of employees to reach out to their direct supervisor(s)?\r\n",
        "  * no_employees, obs_consequence, remote_work, benefits\r\n",
        "4.   [**Key Question #4**](#Q4): How much of a role do two target predictors suggested by our peers play a role in the willingness of employees to reach out to their direct supervisor(s)?\r\n",
        "  * leave, seek_help\r\n",
        "5.   [**Key Question #5**](#Q5): What is the multicollinearity between factors in our dataset? Which factors are highly correlated with our target label (**supervisor**)?"
      ]
    },
    {
      "cell_type": "markdown",
      "metadata": {
        "id": "nxsvVos4elR5"
      },
      "source": [
        "<a name=\"Q1\"></a>\r\n",
        "### ***a) Key Question #1: Generally, how willing are employees to reach out to their direct supervisor(s) about a mental health issue?***"
      ]
    },
    {
      "cell_type": "markdown",
      "metadata": {
        "id": "v-0r0iUWBCO4"
      },
      "source": [
        "The first thing we want to look at with our dataset's features is how well-distributed the response variable is. Determining the base rate not only serves as a good measure of model robustness, but also if the method we ultimately use to approach the general research question is the most appropriate. The following code chunks determine the base rate of our response variable. \r\n",
        "\r\n",
        "As a refresher, the response variable is coined **supervisor**, and it is a categorical measure of how willing employees are to discuss mental health issues with their direct supervisor(s). The possible survey responses, or response variable classes, are as follows: 'yes', 'some of them', and 'no'."
      ]
    },
    {
      "cell_type": "code",
      "metadata": {
        "colab": {
          "base_uri": "https://localhost:8080/"
        },
        "id": "_kH0GTAaDpjr",
        "outputId": "dbca86cc-b607-4b42-8608-fdaae1fe9840"
      },
      "source": [
        "comp_employees = df.groupby([\"supervisor\"]).size().reset_index(name='Count')\n",
        "fig = px.bar(comp_employees,\n",
        "             x=\"supervisor\",\n",
        "             y=\"Count\",\n",
        "             color_discrete_sequence=px.colors.qualitative.D3, \n",
        "             title='Distribution of Willingness to Reach Out to Direct Supervisor(s)'\n",
        "             )\n",
        "fig.show()"
      ],
      "execution_count": null,
      "outputs": [
        {
          "output_type": "display_data",
          "data": {
            "text/html": [
              "<html>\n",
              "<head><meta charset=\"utf-8\" /></head>\n",
              "<body>\n",
              "    <div>\n",
              "            <script src=\"https://cdnjs.cloudflare.com/ajax/libs/mathjax/2.7.5/MathJax.js?config=TeX-AMS-MML_SVG\"></script><script type=\"text/javascript\">if (window.MathJax) {MathJax.Hub.Config({SVG: {font: \"STIX-Web\"}});}</script>\n",
              "                <script type=\"text/javascript\">window.PlotlyConfig = {MathJaxConfig: 'local'};</script>\n",
              "        <script src=\"https://cdn.plot.ly/plotly-latest.min.js\"></script>    \n",
              "            <div id=\"210d61c2-5c9e-407c-a22d-2874830de5bc\" class=\"plotly-graph-div\" style=\"height:525px; width:100%;\"></div>\n",
              "            <script type=\"text/javascript\">\n",
              "                \n",
              "                    window.PLOTLYENV=window.PLOTLYENV || {};\n",
              "                    \n",
              "                if (document.getElementById(\"210d61c2-5c9e-407c-a22d-2874830de5bc\")) {\n",
              "                    Plotly.newPlot(\n",
              "                        '210d61c2-5c9e-407c-a22d-2874830de5bc',\n",
              "                        [{\"alignmentgroup\": \"True\", \"hoverlabel\": {\"namelength\": 0}, \"hovertemplate\": \"supervisor=%{x}<br>Count=%{y}\", \"legendgroup\": \"\", \"marker\": {\"color\": \"#1F77B4\"}, \"name\": \"\", \"offsetgroup\": \"\", \"orientation\": \"v\", \"showlegend\": false, \"textposition\": \"auto\", \"type\": \"bar\", \"x\": [\"No\", \"Some of them\", \"Yes\"], \"xaxis\": \"x\", \"y\": [393, 350, 516], \"yaxis\": \"y\"}],\n",
              "                        {\"barmode\": \"relative\", \"legend\": {\"tracegroupgap\": 0}, \"template\": {\"data\": {\"bar\": [{\"error_x\": {\"color\": \"#2a3f5f\"}, \"error_y\": {\"color\": \"#2a3f5f\"}, \"marker\": {\"line\": {\"color\": \"#E5ECF6\", \"width\": 0.5}}, \"type\": \"bar\"}], \"barpolar\": [{\"marker\": {\"line\": {\"color\": \"#E5ECF6\", \"width\": 0.5}}, \"type\": \"barpolar\"}], \"carpet\": [{\"aaxis\": {\"endlinecolor\": \"#2a3f5f\", \"gridcolor\": \"white\", \"linecolor\": \"white\", \"minorgridcolor\": \"white\", \"startlinecolor\": \"#2a3f5f\"}, \"baxis\": {\"endlinecolor\": \"#2a3f5f\", \"gridcolor\": \"white\", \"linecolor\": \"white\", \"minorgridcolor\": \"white\", \"startlinecolor\": \"#2a3f5f\"}, \"type\": \"carpet\"}], \"choropleth\": [{\"colorbar\": {\"outlinewidth\": 0, \"ticks\": \"\"}, \"type\": \"choropleth\"}], \"contour\": [{\"colorbar\": {\"outlinewidth\": 0, \"ticks\": \"\"}, \"colorscale\": [[0.0, \"#0d0887\"], [0.1111111111111111, \"#46039f\"], [0.2222222222222222, \"#7201a8\"], [0.3333333333333333, \"#9c179e\"], [0.4444444444444444, \"#bd3786\"], [0.5555555555555556, \"#d8576b\"], [0.6666666666666666, \"#ed7953\"], [0.7777777777777778, \"#fb9f3a\"], [0.8888888888888888, \"#fdca26\"], [1.0, \"#f0f921\"]], \"type\": \"contour\"}], \"contourcarpet\": [{\"colorbar\": {\"outlinewidth\": 0, \"ticks\": \"\"}, \"type\": \"contourcarpet\"}], \"heatmap\": [{\"colorbar\": {\"outlinewidth\": 0, \"ticks\": \"\"}, \"colorscale\": [[0.0, \"#0d0887\"], [0.1111111111111111, \"#46039f\"], [0.2222222222222222, \"#7201a8\"], [0.3333333333333333, \"#9c179e\"], [0.4444444444444444, \"#bd3786\"], [0.5555555555555556, \"#d8576b\"], [0.6666666666666666, \"#ed7953\"], [0.7777777777777778, \"#fb9f3a\"], [0.8888888888888888, \"#fdca26\"], [1.0, \"#f0f921\"]], \"type\": \"heatmap\"}], \"heatmapgl\": [{\"colorbar\": {\"outlinewidth\": 0, \"ticks\": \"\"}, \"colorscale\": [[0.0, \"#0d0887\"], [0.1111111111111111, \"#46039f\"], [0.2222222222222222, \"#7201a8\"], [0.3333333333333333, \"#9c179e\"], [0.4444444444444444, \"#bd3786\"], [0.5555555555555556, \"#d8576b\"], [0.6666666666666666, \"#ed7953\"], [0.7777777777777778, \"#fb9f3a\"], [0.8888888888888888, \"#fdca26\"], [1.0, \"#f0f921\"]], \"type\": \"heatmapgl\"}], \"histogram\": [{\"marker\": {\"colorbar\": {\"outlinewidth\": 0, \"ticks\": \"\"}}, \"type\": \"histogram\"}], \"histogram2d\": [{\"colorbar\": {\"outlinewidth\": 0, \"ticks\": \"\"}, \"colorscale\": [[0.0, \"#0d0887\"], [0.1111111111111111, \"#46039f\"], [0.2222222222222222, \"#7201a8\"], [0.3333333333333333, \"#9c179e\"], [0.4444444444444444, \"#bd3786\"], [0.5555555555555556, \"#d8576b\"], [0.6666666666666666, \"#ed7953\"], [0.7777777777777778, \"#fb9f3a\"], [0.8888888888888888, \"#fdca26\"], [1.0, \"#f0f921\"]], \"type\": \"histogram2d\"}], \"histogram2dcontour\": [{\"colorbar\": {\"outlinewidth\": 0, \"ticks\": \"\"}, \"colorscale\": [[0.0, \"#0d0887\"], [0.1111111111111111, \"#46039f\"], [0.2222222222222222, \"#7201a8\"], [0.3333333333333333, \"#9c179e\"], [0.4444444444444444, \"#bd3786\"], [0.5555555555555556, \"#d8576b\"], [0.6666666666666666, \"#ed7953\"], [0.7777777777777778, \"#fb9f3a\"], [0.8888888888888888, \"#fdca26\"], [1.0, \"#f0f921\"]], \"type\": \"histogram2dcontour\"}], \"mesh3d\": [{\"colorbar\": {\"outlinewidth\": 0, \"ticks\": \"\"}, \"type\": \"mesh3d\"}], \"parcoords\": [{\"line\": {\"colorbar\": {\"outlinewidth\": 0, \"ticks\": \"\"}}, \"type\": \"parcoords\"}], \"pie\": [{\"automargin\": true, \"type\": \"pie\"}], \"scatter\": [{\"marker\": {\"colorbar\": {\"outlinewidth\": 0, \"ticks\": \"\"}}, \"type\": \"scatter\"}], \"scatter3d\": [{\"line\": {\"colorbar\": {\"outlinewidth\": 0, \"ticks\": \"\"}}, \"marker\": {\"colorbar\": {\"outlinewidth\": 0, \"ticks\": \"\"}}, \"type\": \"scatter3d\"}], \"scattercarpet\": [{\"marker\": {\"colorbar\": {\"outlinewidth\": 0, \"ticks\": \"\"}}, \"type\": \"scattercarpet\"}], \"scattergeo\": [{\"marker\": {\"colorbar\": {\"outlinewidth\": 0, \"ticks\": \"\"}}, \"type\": \"scattergeo\"}], \"scattergl\": [{\"marker\": {\"colorbar\": {\"outlinewidth\": 0, \"ticks\": \"\"}}, \"type\": \"scattergl\"}], \"scattermapbox\": [{\"marker\": {\"colorbar\": {\"outlinewidth\": 0, \"ticks\": \"\"}}, \"type\": \"scattermapbox\"}], \"scatterpolar\": [{\"marker\": {\"colorbar\": {\"outlinewidth\": 0, \"ticks\": \"\"}}, \"type\": \"scatterpolar\"}], \"scatterpolargl\": [{\"marker\": {\"colorbar\": {\"outlinewidth\": 0, \"ticks\": \"\"}}, \"type\": \"scatterpolargl\"}], \"scatterternary\": [{\"marker\": {\"colorbar\": {\"outlinewidth\": 0, \"ticks\": \"\"}}, \"type\": \"scatterternary\"}], \"surface\": [{\"colorbar\": {\"outlinewidth\": 0, \"ticks\": \"\"}, \"colorscale\": [[0.0, \"#0d0887\"], [0.1111111111111111, \"#46039f\"], [0.2222222222222222, \"#7201a8\"], [0.3333333333333333, \"#9c179e\"], [0.4444444444444444, \"#bd3786\"], [0.5555555555555556, \"#d8576b\"], [0.6666666666666666, \"#ed7953\"], [0.7777777777777778, \"#fb9f3a\"], [0.8888888888888888, \"#fdca26\"], [1.0, \"#f0f921\"]], \"type\": \"surface\"}], \"table\": [{\"cells\": {\"fill\": {\"color\": \"#EBF0F8\"}, \"line\": {\"color\": \"white\"}}, \"header\": {\"fill\": {\"color\": \"#C8D4E3\"}, \"line\": {\"color\": \"white\"}}, \"type\": \"table\"}]}, \"layout\": {\"annotationdefaults\": {\"arrowcolor\": \"#2a3f5f\", \"arrowhead\": 0, \"arrowwidth\": 1}, \"coloraxis\": {\"colorbar\": {\"outlinewidth\": 0, \"ticks\": \"\"}}, \"colorscale\": {\"diverging\": [[0, \"#8e0152\"], [0.1, \"#c51b7d\"], [0.2, \"#de77ae\"], [0.3, \"#f1b6da\"], [0.4, \"#fde0ef\"], [0.5, \"#f7f7f7\"], [0.6, \"#e6f5d0\"], [0.7, \"#b8e186\"], [0.8, \"#7fbc41\"], [0.9, \"#4d9221\"], [1, \"#276419\"]], \"sequential\": [[0.0, \"#0d0887\"], [0.1111111111111111, \"#46039f\"], [0.2222222222222222, \"#7201a8\"], [0.3333333333333333, \"#9c179e\"], [0.4444444444444444, \"#bd3786\"], [0.5555555555555556, \"#d8576b\"], [0.6666666666666666, \"#ed7953\"], [0.7777777777777778, \"#fb9f3a\"], [0.8888888888888888, \"#fdca26\"], [1.0, \"#f0f921\"]], \"sequentialminus\": [[0.0, \"#0d0887\"], [0.1111111111111111, \"#46039f\"], [0.2222222222222222, \"#7201a8\"], [0.3333333333333333, \"#9c179e\"], [0.4444444444444444, \"#bd3786\"], [0.5555555555555556, \"#d8576b\"], [0.6666666666666666, \"#ed7953\"], [0.7777777777777778, \"#fb9f3a\"], [0.8888888888888888, \"#fdca26\"], [1.0, \"#f0f921\"]]}, \"colorway\": [\"#636efa\", \"#EF553B\", \"#00cc96\", \"#ab63fa\", \"#FFA15A\", \"#19d3f3\", \"#FF6692\", \"#B6E880\", \"#FF97FF\", \"#FECB52\"], \"font\": {\"color\": \"#2a3f5f\"}, \"geo\": {\"bgcolor\": \"white\", \"lakecolor\": \"white\", \"landcolor\": \"#E5ECF6\", \"showlakes\": true, \"showland\": true, \"subunitcolor\": \"white\"}, \"hoverlabel\": {\"align\": \"left\"}, \"hovermode\": \"closest\", \"mapbox\": {\"style\": \"light\"}, \"paper_bgcolor\": \"white\", \"plot_bgcolor\": \"#E5ECF6\", \"polar\": {\"angularaxis\": {\"gridcolor\": \"white\", \"linecolor\": \"white\", \"ticks\": \"\"}, \"bgcolor\": \"#E5ECF6\", \"radialaxis\": {\"gridcolor\": \"white\", \"linecolor\": \"white\", \"ticks\": \"\"}}, \"scene\": {\"xaxis\": {\"backgroundcolor\": \"#E5ECF6\", \"gridcolor\": \"white\", \"gridwidth\": 2, \"linecolor\": \"white\", \"showbackground\": true, \"ticks\": \"\", \"zerolinecolor\": \"white\"}, \"yaxis\": {\"backgroundcolor\": \"#E5ECF6\", \"gridcolor\": \"white\", \"gridwidth\": 2, \"linecolor\": \"white\", \"showbackground\": true, \"ticks\": \"\", \"zerolinecolor\": \"white\"}, \"zaxis\": {\"backgroundcolor\": \"#E5ECF6\", \"gridcolor\": \"white\", \"gridwidth\": 2, \"linecolor\": \"white\", \"showbackground\": true, \"ticks\": \"\", \"zerolinecolor\": \"white\"}}, \"shapedefaults\": {\"line\": {\"color\": \"#2a3f5f\"}}, \"ternary\": {\"aaxis\": {\"gridcolor\": \"white\", \"linecolor\": \"white\", \"ticks\": \"\"}, \"baxis\": {\"gridcolor\": \"white\", \"linecolor\": \"white\", \"ticks\": \"\"}, \"bgcolor\": \"#E5ECF6\", \"caxis\": {\"gridcolor\": \"white\", \"linecolor\": \"white\", \"ticks\": \"\"}}, \"title\": {\"x\": 0.05}, \"xaxis\": {\"automargin\": true, \"gridcolor\": \"white\", \"linecolor\": \"white\", \"ticks\": \"\", \"title\": {\"standoff\": 15}, \"zerolinecolor\": \"white\", \"zerolinewidth\": 2}, \"yaxis\": {\"automargin\": true, \"gridcolor\": \"white\", \"linecolor\": \"white\", \"ticks\": \"\", \"title\": {\"standoff\": 15}, \"zerolinecolor\": \"white\", \"zerolinewidth\": 2}}}, \"title\": {\"text\": \"Distribution of Willingness to Reach Out to Direct Supervisor(s)\"}, \"xaxis\": {\"anchor\": \"y\", \"domain\": [0.0, 1.0], \"title\": {\"text\": \"supervisor\"}}, \"yaxis\": {\"anchor\": \"x\", \"domain\": [0.0, 1.0], \"title\": {\"text\": \"Count\"}}},\n",
              "                        {\"responsive\": true}\n",
              "                    ).then(function(){\n",
              "                            \n",
              "var gd = document.getElementById('210d61c2-5c9e-407c-a22d-2874830de5bc');\n",
              "var x = new MutationObserver(function (mutations, observer) {{\n",
              "        var display = window.getComputedStyle(gd).display;\n",
              "        if (!display || display === 'none') {{\n",
              "            console.log([gd, 'removed!']);\n",
              "            Plotly.purge(gd);\n",
              "            observer.disconnect();\n",
              "        }}\n",
              "}});\n",
              "\n",
              "// Listen for the removal of the full notebook cells\n",
              "var notebookContainer = gd.closest('#notebook-container');\n",
              "if (notebookContainer) {{\n",
              "    x.observe(notebookContainer, {childList: true});\n",
              "}}\n",
              "\n",
              "// Listen for the clearing of the current output cell\n",
              "var outputEl = gd.closest('.output');\n",
              "if (outputEl) {{\n",
              "    x.observe(outputEl, {childList: true});\n",
              "}}\n",
              "\n",
              "                        })\n",
              "                };\n",
              "                \n",
              "            </script>\n",
              "        </div>\n",
              "</body>\n",
              "</html>"
            ]
          },
          "metadata": {
            "tags": []
          }
        }
      ]
    },
    {
      "cell_type": "markdown",
      "metadata": {
        "id": "GIVhRo9cBgof"
      },
      "source": [
        "As observed qualitatively in the histogram above, the response variable is relatively well-distributed between the possible classes. There are 393 instances of 'No', 350 instances of 'Some of them', and 516 instances of 'Yes'.\r\n",
        "\r\n",
        "The following code chunk will determine the base rates characterizing the response variable."
      ]
    },
    {
      "cell_type": "code",
      "metadata": {
        "colab": {
          "base_uri": "https://localhost:8080/"
        },
        "id": "-LDtEycYZ2g7",
        "outputId": "7459405b-0743-4f8d-aad8-4d553d5da575"
      },
      "source": [
        "num_no = (df.supervisor == \"No\").sum()\n",
        "num_some = (df.supervisor == \"Some of them\").sum()\n",
        "num_yes = (df.supervisor == \"Yes\").sum()\n",
        "\n",
        "fig = go.Figure(data=[go.Pie(labels=[\"No\", \"Some of them\", \"Yes\"],\n",
        "                             values=[num_no, num_some, num_yes],\n",
        "                             pull=[0, 0, 0.1],\n",
        "                             title=\"Base Rates of Response Variable (supervisor)\",\n",
        "                             )])\n",
        "fig.update_traces(hoverinfo='label+value', textinfo='percent', textfont_size=20,\n",
        "                  marker=dict(line=dict(color='#000000', width=2)))\n",
        "fig.show()"
      ],
      "execution_count": null,
      "outputs": [
        {
          "output_type": "display_data",
          "data": {
            "text/html": [
              "<html>\n",
              "<head><meta charset=\"utf-8\" /></head>\n",
              "<body>\n",
              "    <div>\n",
              "            <script src=\"https://cdnjs.cloudflare.com/ajax/libs/mathjax/2.7.5/MathJax.js?config=TeX-AMS-MML_SVG\"></script><script type=\"text/javascript\">if (window.MathJax) {MathJax.Hub.Config({SVG: {font: \"STIX-Web\"}});}</script>\n",
              "                <script type=\"text/javascript\">window.PlotlyConfig = {MathJaxConfig: 'local'};</script>\n",
              "        <script src=\"https://cdn.plot.ly/plotly-latest.min.js\"></script>    \n",
              "            <div id=\"c3f192ee-73b5-4a48-ae5d-84177ed234d4\" class=\"plotly-graph-div\" style=\"height:525px; width:100%;\"></div>\n",
              "            <script type=\"text/javascript\">\n",
              "                \n",
              "                    window.PLOTLYENV=window.PLOTLYENV || {};\n",
              "                    \n",
              "                if (document.getElementById(\"c3f192ee-73b5-4a48-ae5d-84177ed234d4\")) {\n",
              "                    Plotly.newPlot(\n",
              "                        'c3f192ee-73b5-4a48-ae5d-84177ed234d4',\n",
              "                        [{\"hoverinfo\": \"label+value\", \"labels\": [\"No\", \"Some of them\", \"Yes\"], \"marker\": {\"line\": {\"color\": \"#000000\", \"width\": 2}}, \"pull\": [0, 0, 0.1], \"textfont\": {\"size\": 20}, \"textinfo\": \"percent\", \"title\": {\"text\": \"Base Rates of Response Variable (supervisor)\"}, \"type\": \"pie\", \"values\": [393, 350, 516]}],\n",
              "                        {\"template\": {\"data\": {\"bar\": [{\"error_x\": {\"color\": \"#2a3f5f\"}, \"error_y\": {\"color\": \"#2a3f5f\"}, \"marker\": {\"line\": {\"color\": \"#E5ECF6\", \"width\": 0.5}}, \"type\": \"bar\"}], \"barpolar\": [{\"marker\": {\"line\": {\"color\": \"#E5ECF6\", \"width\": 0.5}}, \"type\": \"barpolar\"}], \"carpet\": [{\"aaxis\": {\"endlinecolor\": \"#2a3f5f\", \"gridcolor\": \"white\", \"linecolor\": \"white\", \"minorgridcolor\": \"white\", \"startlinecolor\": \"#2a3f5f\"}, \"baxis\": {\"endlinecolor\": \"#2a3f5f\", \"gridcolor\": \"white\", \"linecolor\": \"white\", \"minorgridcolor\": \"white\", \"startlinecolor\": \"#2a3f5f\"}, \"type\": \"carpet\"}], \"choropleth\": [{\"colorbar\": {\"outlinewidth\": 0, \"ticks\": \"\"}, \"type\": \"choropleth\"}], \"contour\": [{\"colorbar\": {\"outlinewidth\": 0, \"ticks\": \"\"}, \"colorscale\": [[0.0, \"#0d0887\"], [0.1111111111111111, \"#46039f\"], [0.2222222222222222, \"#7201a8\"], [0.3333333333333333, \"#9c179e\"], [0.4444444444444444, \"#bd3786\"], [0.5555555555555556, \"#d8576b\"], [0.6666666666666666, \"#ed7953\"], [0.7777777777777778, \"#fb9f3a\"], [0.8888888888888888, \"#fdca26\"], [1.0, \"#f0f921\"]], \"type\": \"contour\"}], \"contourcarpet\": [{\"colorbar\": {\"outlinewidth\": 0, \"ticks\": \"\"}, \"type\": \"contourcarpet\"}], \"heatmap\": [{\"colorbar\": {\"outlinewidth\": 0, \"ticks\": \"\"}, \"colorscale\": [[0.0, \"#0d0887\"], [0.1111111111111111, \"#46039f\"], [0.2222222222222222, \"#7201a8\"], [0.3333333333333333, \"#9c179e\"], [0.4444444444444444, \"#bd3786\"], [0.5555555555555556, \"#d8576b\"], [0.6666666666666666, \"#ed7953\"], [0.7777777777777778, \"#fb9f3a\"], [0.8888888888888888, \"#fdca26\"], [1.0, \"#f0f921\"]], \"type\": \"heatmap\"}], \"heatmapgl\": [{\"colorbar\": {\"outlinewidth\": 0, \"ticks\": \"\"}, \"colorscale\": [[0.0, \"#0d0887\"], [0.1111111111111111, \"#46039f\"], [0.2222222222222222, \"#7201a8\"], [0.3333333333333333, \"#9c179e\"], [0.4444444444444444, \"#bd3786\"], [0.5555555555555556, \"#d8576b\"], [0.6666666666666666, \"#ed7953\"], [0.7777777777777778, \"#fb9f3a\"], [0.8888888888888888, \"#fdca26\"], [1.0, \"#f0f921\"]], \"type\": \"heatmapgl\"}], \"histogram\": [{\"marker\": {\"colorbar\": {\"outlinewidth\": 0, \"ticks\": \"\"}}, \"type\": \"histogram\"}], \"histogram2d\": [{\"colorbar\": {\"outlinewidth\": 0, \"ticks\": \"\"}, \"colorscale\": [[0.0, \"#0d0887\"], [0.1111111111111111, \"#46039f\"], [0.2222222222222222, \"#7201a8\"], [0.3333333333333333, \"#9c179e\"], [0.4444444444444444, \"#bd3786\"], [0.5555555555555556, \"#d8576b\"], [0.6666666666666666, \"#ed7953\"], [0.7777777777777778, \"#fb9f3a\"], [0.8888888888888888, \"#fdca26\"], [1.0, \"#f0f921\"]], \"type\": \"histogram2d\"}], \"histogram2dcontour\": [{\"colorbar\": {\"outlinewidth\": 0, \"ticks\": \"\"}, \"colorscale\": [[0.0, \"#0d0887\"], [0.1111111111111111, \"#46039f\"], [0.2222222222222222, \"#7201a8\"], [0.3333333333333333, \"#9c179e\"], [0.4444444444444444, \"#bd3786\"], [0.5555555555555556, \"#d8576b\"], [0.6666666666666666, \"#ed7953\"], [0.7777777777777778, \"#fb9f3a\"], [0.8888888888888888, \"#fdca26\"], [1.0, \"#f0f921\"]], \"type\": \"histogram2dcontour\"}], \"mesh3d\": [{\"colorbar\": {\"outlinewidth\": 0, \"ticks\": \"\"}, \"type\": \"mesh3d\"}], \"parcoords\": [{\"line\": {\"colorbar\": {\"outlinewidth\": 0, \"ticks\": \"\"}}, \"type\": \"parcoords\"}], \"pie\": [{\"automargin\": true, \"type\": \"pie\"}], \"scatter\": [{\"marker\": {\"colorbar\": {\"outlinewidth\": 0, \"ticks\": \"\"}}, \"type\": \"scatter\"}], \"scatter3d\": [{\"line\": {\"colorbar\": {\"outlinewidth\": 0, \"ticks\": \"\"}}, \"marker\": {\"colorbar\": {\"outlinewidth\": 0, \"ticks\": \"\"}}, \"type\": \"scatter3d\"}], \"scattercarpet\": [{\"marker\": {\"colorbar\": {\"outlinewidth\": 0, \"ticks\": \"\"}}, \"type\": \"scattercarpet\"}], \"scattergeo\": [{\"marker\": {\"colorbar\": {\"outlinewidth\": 0, \"ticks\": \"\"}}, \"type\": \"scattergeo\"}], \"scattergl\": [{\"marker\": {\"colorbar\": {\"outlinewidth\": 0, \"ticks\": \"\"}}, \"type\": \"scattergl\"}], \"scattermapbox\": [{\"marker\": {\"colorbar\": {\"outlinewidth\": 0, \"ticks\": \"\"}}, \"type\": \"scattermapbox\"}], \"scatterpolar\": [{\"marker\": {\"colorbar\": {\"outlinewidth\": 0, \"ticks\": \"\"}}, \"type\": \"scatterpolar\"}], \"scatterpolargl\": [{\"marker\": {\"colorbar\": {\"outlinewidth\": 0, \"ticks\": \"\"}}, \"type\": \"scatterpolargl\"}], \"scatterternary\": [{\"marker\": {\"colorbar\": {\"outlinewidth\": 0, \"ticks\": \"\"}}, \"type\": \"scatterternary\"}], \"surface\": [{\"colorbar\": {\"outlinewidth\": 0, \"ticks\": \"\"}, \"colorscale\": [[0.0, \"#0d0887\"], [0.1111111111111111, \"#46039f\"], [0.2222222222222222, \"#7201a8\"], [0.3333333333333333, \"#9c179e\"], [0.4444444444444444, \"#bd3786\"], [0.5555555555555556, \"#d8576b\"], [0.6666666666666666, \"#ed7953\"], [0.7777777777777778, \"#fb9f3a\"], [0.8888888888888888, \"#fdca26\"], [1.0, \"#f0f921\"]], \"type\": \"surface\"}], \"table\": [{\"cells\": {\"fill\": {\"color\": \"#EBF0F8\"}, \"line\": {\"color\": \"white\"}}, \"header\": {\"fill\": {\"color\": \"#C8D4E3\"}, \"line\": {\"color\": \"white\"}}, \"type\": \"table\"}]}, \"layout\": {\"annotationdefaults\": {\"arrowcolor\": \"#2a3f5f\", \"arrowhead\": 0, \"arrowwidth\": 1}, \"coloraxis\": {\"colorbar\": {\"outlinewidth\": 0, \"ticks\": \"\"}}, \"colorscale\": {\"diverging\": [[0, \"#8e0152\"], [0.1, \"#c51b7d\"], [0.2, \"#de77ae\"], [0.3, \"#f1b6da\"], [0.4, \"#fde0ef\"], [0.5, \"#f7f7f7\"], [0.6, \"#e6f5d0\"], [0.7, \"#b8e186\"], [0.8, \"#7fbc41\"], [0.9, \"#4d9221\"], [1, \"#276419\"]], \"sequential\": [[0.0, \"#0d0887\"], [0.1111111111111111, \"#46039f\"], [0.2222222222222222, \"#7201a8\"], [0.3333333333333333, \"#9c179e\"], [0.4444444444444444, \"#bd3786\"], [0.5555555555555556, \"#d8576b\"], [0.6666666666666666, \"#ed7953\"], [0.7777777777777778, \"#fb9f3a\"], [0.8888888888888888, \"#fdca26\"], [1.0, \"#f0f921\"]], \"sequentialminus\": [[0.0, \"#0d0887\"], [0.1111111111111111, \"#46039f\"], [0.2222222222222222, \"#7201a8\"], [0.3333333333333333, \"#9c179e\"], [0.4444444444444444, \"#bd3786\"], [0.5555555555555556, \"#d8576b\"], [0.6666666666666666, \"#ed7953\"], [0.7777777777777778, \"#fb9f3a\"], [0.8888888888888888, \"#fdca26\"], [1.0, \"#f0f921\"]]}, \"colorway\": [\"#636efa\", \"#EF553B\", \"#00cc96\", \"#ab63fa\", \"#FFA15A\", \"#19d3f3\", \"#FF6692\", \"#B6E880\", \"#FF97FF\", \"#FECB52\"], \"font\": {\"color\": \"#2a3f5f\"}, \"geo\": {\"bgcolor\": \"white\", \"lakecolor\": \"white\", \"landcolor\": \"#E5ECF6\", \"showlakes\": true, \"showland\": true, \"subunitcolor\": \"white\"}, \"hoverlabel\": {\"align\": \"left\"}, \"hovermode\": \"closest\", \"mapbox\": {\"style\": \"light\"}, \"paper_bgcolor\": \"white\", \"plot_bgcolor\": \"#E5ECF6\", \"polar\": {\"angularaxis\": {\"gridcolor\": \"white\", \"linecolor\": \"white\", \"ticks\": \"\"}, \"bgcolor\": \"#E5ECF6\", \"radialaxis\": {\"gridcolor\": \"white\", \"linecolor\": \"white\", \"ticks\": \"\"}}, \"scene\": {\"xaxis\": {\"backgroundcolor\": \"#E5ECF6\", \"gridcolor\": \"white\", \"gridwidth\": 2, \"linecolor\": \"white\", \"showbackground\": true, \"ticks\": \"\", \"zerolinecolor\": \"white\"}, \"yaxis\": {\"backgroundcolor\": \"#E5ECF6\", \"gridcolor\": \"white\", \"gridwidth\": 2, \"linecolor\": \"white\", \"showbackground\": true, \"ticks\": \"\", \"zerolinecolor\": \"white\"}, \"zaxis\": {\"backgroundcolor\": \"#E5ECF6\", \"gridcolor\": \"white\", \"gridwidth\": 2, \"linecolor\": \"white\", \"showbackground\": true, \"ticks\": \"\", \"zerolinecolor\": \"white\"}}, \"shapedefaults\": {\"line\": {\"color\": \"#2a3f5f\"}}, \"ternary\": {\"aaxis\": {\"gridcolor\": \"white\", \"linecolor\": \"white\", \"ticks\": \"\"}, \"baxis\": {\"gridcolor\": \"white\", \"linecolor\": \"white\", \"ticks\": \"\"}, \"bgcolor\": \"#E5ECF6\", \"caxis\": {\"gridcolor\": \"white\", \"linecolor\": \"white\", \"ticks\": \"\"}}, \"title\": {\"x\": 0.05}, \"xaxis\": {\"automargin\": true, \"gridcolor\": \"white\", \"linecolor\": \"white\", \"ticks\": \"\", \"title\": {\"standoff\": 15}, \"zerolinecolor\": \"white\", \"zerolinewidth\": 2}, \"yaxis\": {\"automargin\": true, \"gridcolor\": \"white\", \"linecolor\": \"white\", \"ticks\": \"\", \"title\": {\"standoff\": 15}, \"zerolinecolor\": \"white\", \"zerolinewidth\": 2}}}},\n",
              "                        {\"responsive\": true}\n",
              "                    ).then(function(){\n",
              "                            \n",
              "var gd = document.getElementById('c3f192ee-73b5-4a48-ae5d-84177ed234d4');\n",
              "var x = new MutationObserver(function (mutations, observer) {{\n",
              "        var display = window.getComputedStyle(gd).display;\n",
              "        if (!display || display === 'none') {{\n",
              "            console.log([gd, 'removed!']);\n",
              "            Plotly.purge(gd);\n",
              "            observer.disconnect();\n",
              "        }}\n",
              "}});\n",
              "\n",
              "// Listen for the removal of the full notebook cells\n",
              "var notebookContainer = gd.closest('#notebook-container');\n",
              "if (notebookContainer) {{\n",
              "    x.observe(notebookContainer, {childList: true});\n",
              "}}\n",
              "\n",
              "// Listen for the clearing of the current output cell\n",
              "var outputEl = gd.closest('.output');\n",
              "if (outputEl) {{\n",
              "    x.observe(outputEl, {childList: true});\n",
              "}}\n",
              "\n",
              "                        })\n",
              "                };\n",
              "                \n",
              "            </script>\n",
              "        </div>\n",
              "</body>\n",
              "</html>"
            ]
          },
          "metadata": {
            "tags": []
          }
        }
      ]
    },
    {
      "cell_type": "markdown",
      "metadata": {
        "id": "zodmJSGACOKE"
      },
      "source": [
        "As seen quantitatively above, the base rates of the response variable are as follows: **41.00** for the 'Yes' class, **27.80%** for the 'Some of them' class, and **31.2%** for the 'No' class. These can serve as indicators of what random guessing the **supervisor** class of any given employee would look like. As such, they will be utilized later as the primary test of model robustness."
      ]
    },
    {
      "cell_type": "markdown",
      "metadata": {
        "id": "m_-AIEtwe4Us"
      },
      "source": [
        "<a name=\"Q2\"></a>\r\n",
        "### ***b) Key Question #2: Do demographic indicators such as age, gender, and country play a role in how willing employees are to reach out to their direct supervisor(s)?***"
      ]
    },
    {
      "cell_type": "markdown",
      "metadata": {
        "id": "YulCDFR0CxJw"
      },
      "source": [
        "Next, let use see both how well the demographic features present in our dataset (**age**, **gender**, and **country**) are distributed and the effect they might have on the response variable."
      ]
    },
    {
      "cell_type": "markdown",
      "metadata": {
        "id": "xbxo42ghfK9c"
      },
      "source": [
        "#### *i) AGE*"
      ]
    },
    {
      "cell_type": "code",
      "metadata": {
        "colab": {
          "base_uri": "https://localhost:8080/",
          "height": 542
        },
        "id": "-0JI5JlQt5gX",
        "outputId": "250b15aa-3f9b-4050-945b-adfb4fe22c57"
      },
      "source": [
        "num_less18 = (df.age_bucket == \"<18\").sum()\r\n",
        "num_20s = (df.age_bucket == \"20s\").sum()\r\n",
        "num_30s = (df.age_bucket == \"30s\").sum()\r\n",
        "num_40s = (df.age_bucket == \"40s\").sum()\r\n",
        "num_50s = (df.age_bucket == \"50s\").sum()\r\n",
        "num_60plus = (df.age_bucket == \"60s+\").sum()\r\n",
        "\r\n",
        "\r\n",
        "fig = go.Figure(data=[go.Pie(labels=[\"<18\", \"20s\", \"30s\", \"40s\", \"50s\", \"60s+\"],\r\n",
        "                             values=[num_less18, num_20s, num_30s, num_40s, num_50s, num_60plus],\r\n",
        "                             pull=[0, 0, 0.1, 0, 0, 0],\r\n",
        "                             title=\"Age Distribution\",\r\n",
        "                             )])\r\n",
        "\r\n",
        "fig.update_traces(hoverinfo='label+value', textinfo='percent', textfont_size=20,\r\n",
        "                  marker=dict(line=dict(color='#000000', width=2)))\r\n",
        "\r\n",
        "fig.show()"
      ],
      "execution_count": null,
      "outputs": [
        {
          "output_type": "display_data",
          "data": {
            "text/html": [
              "<html>\n",
              "<head><meta charset=\"utf-8\" /></head>\n",
              "<body>\n",
              "    <div>\n",
              "            <script src=\"https://cdnjs.cloudflare.com/ajax/libs/mathjax/2.7.5/MathJax.js?config=TeX-AMS-MML_SVG\"></script><script type=\"text/javascript\">if (window.MathJax) {MathJax.Hub.Config({SVG: {font: \"STIX-Web\"}});}</script>\n",
              "                <script type=\"text/javascript\">window.PlotlyConfig = {MathJaxConfig: 'local'};</script>\n",
              "        <script src=\"https://cdn.plot.ly/plotly-latest.min.js\"></script>    \n",
              "            <div id=\"a31ff89c-b386-4c8b-8ab8-54b1c1801c02\" class=\"plotly-graph-div\" style=\"height:525px; width:100%;\"></div>\n",
              "            <script type=\"text/javascript\">\n",
              "                \n",
              "                    window.PLOTLYENV=window.PLOTLYENV || {};\n",
              "                    \n",
              "                if (document.getElementById(\"a31ff89c-b386-4c8b-8ab8-54b1c1801c02\")) {\n",
              "                    Plotly.newPlot(\n",
              "                        'a31ff89c-b386-4c8b-8ab8-54b1c1801c02',\n",
              "                        [{\"hoverinfo\": \"label+value\", \"labels\": [\"<18\", \"20s\", \"30s\", \"40s\", \"50s\", \"60s+\"], \"marker\": {\"line\": {\"color\": \"#000000\", \"width\": 2}}, \"pull\": [0, 0, 0.1, 0, 0, 0], \"textfont\": {\"size\": 20}, \"textinfo\": \"percent\", \"title\": {\"text\": \"Age Distribution\"}, \"type\": \"pie\", \"values\": [3, 516, 559, 149, 26, 6]}],\n",
              "                        {\"template\": {\"data\": {\"bar\": [{\"error_x\": {\"color\": \"#2a3f5f\"}, \"error_y\": {\"color\": \"#2a3f5f\"}, \"marker\": {\"line\": {\"color\": \"#E5ECF6\", \"width\": 0.5}}, \"type\": \"bar\"}], \"barpolar\": [{\"marker\": {\"line\": {\"color\": \"#E5ECF6\", \"width\": 0.5}}, \"type\": \"barpolar\"}], \"carpet\": [{\"aaxis\": {\"endlinecolor\": \"#2a3f5f\", \"gridcolor\": \"white\", \"linecolor\": \"white\", \"minorgridcolor\": \"white\", \"startlinecolor\": \"#2a3f5f\"}, \"baxis\": {\"endlinecolor\": \"#2a3f5f\", \"gridcolor\": \"white\", \"linecolor\": \"white\", \"minorgridcolor\": \"white\", \"startlinecolor\": \"#2a3f5f\"}, \"type\": \"carpet\"}], \"choropleth\": [{\"colorbar\": {\"outlinewidth\": 0, \"ticks\": \"\"}, \"type\": \"choropleth\"}], \"contour\": [{\"colorbar\": {\"outlinewidth\": 0, \"ticks\": \"\"}, \"colorscale\": [[0.0, \"#0d0887\"], [0.1111111111111111, \"#46039f\"], [0.2222222222222222, \"#7201a8\"], [0.3333333333333333, \"#9c179e\"], [0.4444444444444444, \"#bd3786\"], [0.5555555555555556, \"#d8576b\"], [0.6666666666666666, \"#ed7953\"], [0.7777777777777778, \"#fb9f3a\"], [0.8888888888888888, \"#fdca26\"], [1.0, \"#f0f921\"]], \"type\": \"contour\"}], \"contourcarpet\": [{\"colorbar\": {\"outlinewidth\": 0, \"ticks\": \"\"}, \"type\": \"contourcarpet\"}], \"heatmap\": [{\"colorbar\": {\"outlinewidth\": 0, \"ticks\": \"\"}, \"colorscale\": [[0.0, \"#0d0887\"], [0.1111111111111111, \"#46039f\"], [0.2222222222222222, \"#7201a8\"], [0.3333333333333333, \"#9c179e\"], [0.4444444444444444, \"#bd3786\"], [0.5555555555555556, \"#d8576b\"], [0.6666666666666666, \"#ed7953\"], [0.7777777777777778, \"#fb9f3a\"], [0.8888888888888888, \"#fdca26\"], [1.0, \"#f0f921\"]], \"type\": \"heatmap\"}], \"heatmapgl\": [{\"colorbar\": {\"outlinewidth\": 0, \"ticks\": \"\"}, \"colorscale\": [[0.0, \"#0d0887\"], [0.1111111111111111, \"#46039f\"], [0.2222222222222222, \"#7201a8\"], [0.3333333333333333, \"#9c179e\"], [0.4444444444444444, \"#bd3786\"], [0.5555555555555556, \"#d8576b\"], [0.6666666666666666, \"#ed7953\"], [0.7777777777777778, \"#fb9f3a\"], [0.8888888888888888, \"#fdca26\"], [1.0, \"#f0f921\"]], \"type\": \"heatmapgl\"}], \"histogram\": [{\"marker\": {\"colorbar\": {\"outlinewidth\": 0, \"ticks\": \"\"}}, \"type\": \"histogram\"}], \"histogram2d\": [{\"colorbar\": {\"outlinewidth\": 0, \"ticks\": \"\"}, \"colorscale\": [[0.0, \"#0d0887\"], [0.1111111111111111, \"#46039f\"], [0.2222222222222222, \"#7201a8\"], [0.3333333333333333, \"#9c179e\"], [0.4444444444444444, \"#bd3786\"], [0.5555555555555556, \"#d8576b\"], [0.6666666666666666, \"#ed7953\"], [0.7777777777777778, \"#fb9f3a\"], [0.8888888888888888, \"#fdca26\"], [1.0, \"#f0f921\"]], \"type\": \"histogram2d\"}], \"histogram2dcontour\": [{\"colorbar\": {\"outlinewidth\": 0, \"ticks\": \"\"}, \"colorscale\": [[0.0, \"#0d0887\"], [0.1111111111111111, \"#46039f\"], [0.2222222222222222, \"#7201a8\"], [0.3333333333333333, \"#9c179e\"], [0.4444444444444444, \"#bd3786\"], [0.5555555555555556, \"#d8576b\"], [0.6666666666666666, \"#ed7953\"], [0.7777777777777778, \"#fb9f3a\"], [0.8888888888888888, \"#fdca26\"], [1.0, \"#f0f921\"]], \"type\": \"histogram2dcontour\"}], \"mesh3d\": [{\"colorbar\": {\"outlinewidth\": 0, \"ticks\": \"\"}, \"type\": \"mesh3d\"}], \"parcoords\": [{\"line\": {\"colorbar\": {\"outlinewidth\": 0, \"ticks\": \"\"}}, \"type\": \"parcoords\"}], \"pie\": [{\"automargin\": true, \"type\": \"pie\"}], \"scatter\": [{\"marker\": {\"colorbar\": {\"outlinewidth\": 0, \"ticks\": \"\"}}, \"type\": \"scatter\"}], \"scatter3d\": [{\"line\": {\"colorbar\": {\"outlinewidth\": 0, \"ticks\": \"\"}}, \"marker\": {\"colorbar\": {\"outlinewidth\": 0, \"ticks\": \"\"}}, \"type\": \"scatter3d\"}], \"scattercarpet\": [{\"marker\": {\"colorbar\": {\"outlinewidth\": 0, \"ticks\": \"\"}}, \"type\": \"scattercarpet\"}], \"scattergeo\": [{\"marker\": {\"colorbar\": {\"outlinewidth\": 0, \"ticks\": \"\"}}, \"type\": \"scattergeo\"}], \"scattergl\": [{\"marker\": {\"colorbar\": {\"outlinewidth\": 0, \"ticks\": \"\"}}, \"type\": \"scattergl\"}], \"scattermapbox\": [{\"marker\": {\"colorbar\": {\"outlinewidth\": 0, \"ticks\": \"\"}}, \"type\": \"scattermapbox\"}], \"scatterpolar\": [{\"marker\": {\"colorbar\": {\"outlinewidth\": 0, \"ticks\": \"\"}}, \"type\": \"scatterpolar\"}], \"scatterpolargl\": [{\"marker\": {\"colorbar\": {\"outlinewidth\": 0, \"ticks\": \"\"}}, \"type\": \"scatterpolargl\"}], \"scatterternary\": [{\"marker\": {\"colorbar\": {\"outlinewidth\": 0, \"ticks\": \"\"}}, \"type\": \"scatterternary\"}], \"surface\": [{\"colorbar\": {\"outlinewidth\": 0, \"ticks\": \"\"}, \"colorscale\": [[0.0, \"#0d0887\"], [0.1111111111111111, \"#46039f\"], [0.2222222222222222, \"#7201a8\"], [0.3333333333333333, \"#9c179e\"], [0.4444444444444444, \"#bd3786\"], [0.5555555555555556, \"#d8576b\"], [0.6666666666666666, \"#ed7953\"], [0.7777777777777778, \"#fb9f3a\"], [0.8888888888888888, \"#fdca26\"], [1.0, \"#f0f921\"]], \"type\": \"surface\"}], \"table\": [{\"cells\": {\"fill\": {\"color\": \"#EBF0F8\"}, \"line\": {\"color\": \"white\"}}, \"header\": {\"fill\": {\"color\": \"#C8D4E3\"}, \"line\": {\"color\": \"white\"}}, \"type\": \"table\"}]}, \"layout\": {\"annotationdefaults\": {\"arrowcolor\": \"#2a3f5f\", \"arrowhead\": 0, \"arrowwidth\": 1}, \"coloraxis\": {\"colorbar\": {\"outlinewidth\": 0, \"ticks\": \"\"}}, \"colorscale\": {\"diverging\": [[0, \"#8e0152\"], [0.1, \"#c51b7d\"], [0.2, \"#de77ae\"], [0.3, \"#f1b6da\"], [0.4, \"#fde0ef\"], [0.5, \"#f7f7f7\"], [0.6, \"#e6f5d0\"], [0.7, \"#b8e186\"], [0.8, \"#7fbc41\"], [0.9, \"#4d9221\"], [1, \"#276419\"]], \"sequential\": [[0.0, \"#0d0887\"], [0.1111111111111111, \"#46039f\"], [0.2222222222222222, \"#7201a8\"], [0.3333333333333333, \"#9c179e\"], [0.4444444444444444, \"#bd3786\"], [0.5555555555555556, \"#d8576b\"], [0.6666666666666666, \"#ed7953\"], [0.7777777777777778, \"#fb9f3a\"], [0.8888888888888888, \"#fdca26\"], [1.0, \"#f0f921\"]], \"sequentialminus\": [[0.0, \"#0d0887\"], [0.1111111111111111, \"#46039f\"], [0.2222222222222222, \"#7201a8\"], [0.3333333333333333, \"#9c179e\"], [0.4444444444444444, \"#bd3786\"], [0.5555555555555556, \"#d8576b\"], [0.6666666666666666, \"#ed7953\"], [0.7777777777777778, \"#fb9f3a\"], [0.8888888888888888, \"#fdca26\"], [1.0, \"#f0f921\"]]}, \"colorway\": [\"#636efa\", \"#EF553B\", \"#00cc96\", \"#ab63fa\", \"#FFA15A\", \"#19d3f3\", \"#FF6692\", \"#B6E880\", \"#FF97FF\", \"#FECB52\"], \"font\": {\"color\": \"#2a3f5f\"}, \"geo\": {\"bgcolor\": \"white\", \"lakecolor\": \"white\", \"landcolor\": \"#E5ECF6\", \"showlakes\": true, \"showland\": true, \"subunitcolor\": \"white\"}, \"hoverlabel\": {\"align\": \"left\"}, \"hovermode\": \"closest\", \"mapbox\": {\"style\": \"light\"}, \"paper_bgcolor\": \"white\", \"plot_bgcolor\": \"#E5ECF6\", \"polar\": {\"angularaxis\": {\"gridcolor\": \"white\", \"linecolor\": \"white\", \"ticks\": \"\"}, \"bgcolor\": \"#E5ECF6\", \"radialaxis\": {\"gridcolor\": \"white\", \"linecolor\": \"white\", \"ticks\": \"\"}}, \"scene\": {\"xaxis\": {\"backgroundcolor\": \"#E5ECF6\", \"gridcolor\": \"white\", \"gridwidth\": 2, \"linecolor\": \"white\", \"showbackground\": true, \"ticks\": \"\", \"zerolinecolor\": \"white\"}, \"yaxis\": {\"backgroundcolor\": \"#E5ECF6\", \"gridcolor\": \"white\", \"gridwidth\": 2, \"linecolor\": \"white\", \"showbackground\": true, \"ticks\": \"\", \"zerolinecolor\": \"white\"}, \"zaxis\": {\"backgroundcolor\": \"#E5ECF6\", \"gridcolor\": \"white\", \"gridwidth\": 2, \"linecolor\": \"white\", \"showbackground\": true, \"ticks\": \"\", \"zerolinecolor\": \"white\"}}, \"shapedefaults\": {\"line\": {\"color\": \"#2a3f5f\"}}, \"ternary\": {\"aaxis\": {\"gridcolor\": \"white\", \"linecolor\": \"white\", \"ticks\": \"\"}, \"baxis\": {\"gridcolor\": \"white\", \"linecolor\": \"white\", \"ticks\": \"\"}, \"bgcolor\": \"#E5ECF6\", \"caxis\": {\"gridcolor\": \"white\", \"linecolor\": \"white\", \"ticks\": \"\"}}, \"title\": {\"x\": 0.05}, \"xaxis\": {\"automargin\": true, \"gridcolor\": \"white\", \"linecolor\": \"white\", \"ticks\": \"\", \"title\": {\"standoff\": 15}, \"zerolinecolor\": \"white\", \"zerolinewidth\": 2}, \"yaxis\": {\"automargin\": true, \"gridcolor\": \"white\", \"linecolor\": \"white\", \"ticks\": \"\", \"title\": {\"standoff\": 15}, \"zerolinecolor\": \"white\", \"zerolinewidth\": 2}}}},\n",
              "                        {\"responsive\": true}\n",
              "                    ).then(function(){\n",
              "                            \n",
              "var gd = document.getElementById('a31ff89c-b386-4c8b-8ab8-54b1c1801c02');\n",
              "var x = new MutationObserver(function (mutations, observer) {{\n",
              "        var display = window.getComputedStyle(gd).display;\n",
              "        if (!display || display === 'none') {{\n",
              "            console.log([gd, 'removed!']);\n",
              "            Plotly.purge(gd);\n",
              "            observer.disconnect();\n",
              "        }}\n",
              "}});\n",
              "\n",
              "// Listen for the removal of the full notebook cells\n",
              "var notebookContainer = gd.closest('#notebook-container');\n",
              "if (notebookContainer) {{\n",
              "    x.observe(notebookContainer, {childList: true});\n",
              "}}\n",
              "\n",
              "// Listen for the clearing of the current output cell\n",
              "var outputEl = gd.closest('.output');\n",
              "if (outputEl) {{\n",
              "    x.observe(outputEl, {childList: true});\n",
              "}}\n",
              "\n",
              "                        })\n",
              "                };\n",
              "                \n",
              "            </script>\n",
              "        </div>\n",
              "</body>\n",
              "</html>"
            ]
          },
          "metadata": {
            "tags": []
          }
        }
      ]
    },
    {
      "cell_type": "markdown",
      "metadata": {
        "id": "379RX97XAi6a"
      },
      "source": [
        "At first glance, the pie chart above seems heavily distributed in favor of employees in their 20s and 30s. As such, it might be a better idea to leave this variable continuous as originally present in the dataset. We will see the effect of leaving age continuous as opposed to bucketing it into categories on the model later."
      ]
    },
    {
      "cell_type": "code",
      "metadata": {
        "colab": {
          "base_uri": "https://localhost:8080/",
          "height": 542
        },
        "id": "wegh5oh-_u9V",
        "outputId": "35672515-9e03-4d41-f3b9-b8332738b0a6"
      },
      "source": [
        "comp_age = df.groupby([\"supervisor\",\"age_bucket\"]).size().reset_index(name='Count')\n",
        "fig = px.bar(comp_age,\n",
        "             x=\"supervisor\",\n",
        "             y=\"Count\",\n",
        "             color=\"age_bucket\",\n",
        "             barmode='group',\n",
        "             color_discrete_sequence=px.colors.sequential.Plasma_r, \n",
        "             title='Distribution of Likelihood to Reach Out to Supervisor by Age'\n",
        "             )\n",
        "fig.show()"
      ],
      "execution_count": null,
      "outputs": [
        {
          "output_type": "display_data",
          "data": {
            "text/html": [
              "<html>\n",
              "<head><meta charset=\"utf-8\" /></head>\n",
              "<body>\n",
              "    <div>\n",
              "            <script src=\"https://cdnjs.cloudflare.com/ajax/libs/mathjax/2.7.5/MathJax.js?config=TeX-AMS-MML_SVG\"></script><script type=\"text/javascript\">if (window.MathJax) {MathJax.Hub.Config({SVG: {font: \"STIX-Web\"}});}</script>\n",
              "                <script type=\"text/javascript\">window.PlotlyConfig = {MathJaxConfig: 'local'};</script>\n",
              "        <script src=\"https://cdn.plot.ly/plotly-latest.min.js\"></script>    \n",
              "            <div id=\"a949bab7-7f2c-4969-b8e9-903b8be730a5\" class=\"plotly-graph-div\" style=\"height:525px; width:100%;\"></div>\n",
              "            <script type=\"text/javascript\">\n",
              "                \n",
              "                    window.PLOTLYENV=window.PLOTLYENV || {};\n",
              "                    \n",
              "                if (document.getElementById(\"a949bab7-7f2c-4969-b8e9-903b8be730a5\")) {\n",
              "                    Plotly.newPlot(\n",
              "                        'a949bab7-7f2c-4969-b8e9-903b8be730a5',\n",
              "                        [{\"alignmentgroup\": \"True\", \"hoverlabel\": {\"namelength\": 0}, \"hovertemplate\": \"age_bucket=<18<br>supervisor=%{x}<br>Count=%{y}\", \"legendgroup\": \"age_bucket=<18\", \"marker\": {\"color\": \"#f0f921\"}, \"name\": \"age_bucket=<18\", \"offsetgroup\": \"age_bucket=<18\", \"orientation\": \"v\", \"showlegend\": true, \"textposition\": \"auto\", \"type\": \"bar\", \"x\": [\"No\", \"Some of them\", \"Yes\"], \"xaxis\": \"x\", \"y\": [0, 1, 2], \"yaxis\": \"y\"}, {\"alignmentgroup\": \"True\", \"hoverlabel\": {\"namelength\": 0}, \"hovertemplate\": \"age_bucket=20s<br>supervisor=%{x}<br>Count=%{y}\", \"legendgroup\": \"age_bucket=20s\", \"marker\": {\"color\": \"#fdca26\"}, \"name\": \"age_bucket=20s\", \"offsetgroup\": \"age_bucket=20s\", \"orientation\": \"v\", \"showlegend\": true, \"textposition\": \"auto\", \"type\": \"bar\", \"x\": [\"No\", \"Some of them\", \"Yes\"], \"xaxis\": \"x\", \"y\": [167, 144, 205], \"yaxis\": \"y\"}, {\"alignmentgroup\": \"True\", \"hoverlabel\": {\"namelength\": 0}, \"hovertemplate\": \"age_bucket=30s<br>supervisor=%{x}<br>Count=%{y}\", \"legendgroup\": \"age_bucket=30s\", \"marker\": {\"color\": \"#fb9f3a\"}, \"name\": \"age_bucket=30s\", \"offsetgroup\": \"age_bucket=30s\", \"orientation\": \"v\", \"showlegend\": true, \"textposition\": \"auto\", \"type\": \"bar\", \"x\": [\"No\", \"Some of them\", \"Yes\"], \"xaxis\": \"x\", \"y\": [165, 153, 241], \"yaxis\": \"y\"}, {\"alignmentgroup\": \"True\", \"hoverlabel\": {\"namelength\": 0}, \"hovertemplate\": \"age_bucket=40s<br>supervisor=%{x}<br>Count=%{y}\", \"legendgroup\": \"age_bucket=40s\", \"marker\": {\"color\": \"#ed7953\"}, \"name\": \"age_bucket=40s\", \"offsetgroup\": \"age_bucket=40s\", \"orientation\": \"v\", \"showlegend\": true, \"textposition\": \"auto\", \"type\": \"bar\", \"x\": [\"No\", \"Some of them\", \"Yes\"], \"xaxis\": \"x\", \"y\": [51, 47, 51], \"yaxis\": \"y\"}, {\"alignmentgroup\": \"True\", \"hoverlabel\": {\"namelength\": 0}, \"hovertemplate\": \"age_bucket=50s<br>supervisor=%{x}<br>Count=%{y}\", \"legendgroup\": \"age_bucket=50s\", \"marker\": {\"color\": \"#d8576b\"}, \"name\": \"age_bucket=50s\", \"offsetgroup\": \"age_bucket=50s\", \"orientation\": \"v\", \"showlegend\": true, \"textposition\": \"auto\", \"type\": \"bar\", \"x\": [\"No\", \"Some of them\", \"Yes\"], \"xaxis\": \"x\", \"y\": [8, 5, 13], \"yaxis\": \"y\"}, {\"alignmentgroup\": \"True\", \"hoverlabel\": {\"namelength\": 0}, \"hovertemplate\": \"age_bucket=60s+<br>supervisor=%{x}<br>Count=%{y}\", \"legendgroup\": \"age_bucket=60s+\", \"marker\": {\"color\": \"#bd3786\"}, \"name\": \"age_bucket=60s+\", \"offsetgroup\": \"age_bucket=60s+\", \"orientation\": \"v\", \"showlegend\": true, \"textposition\": \"auto\", \"type\": \"bar\", \"x\": [\"No\", \"Some of them\", \"Yes\"], \"xaxis\": \"x\", \"y\": [2, 0, 4], \"yaxis\": \"y\"}],\n",
              "                        {\"barmode\": \"group\", \"legend\": {\"tracegroupgap\": 0}, \"template\": {\"data\": {\"bar\": [{\"error_x\": {\"color\": \"#2a3f5f\"}, \"error_y\": {\"color\": \"#2a3f5f\"}, \"marker\": {\"line\": {\"color\": \"#E5ECF6\", \"width\": 0.5}}, \"type\": \"bar\"}], \"barpolar\": [{\"marker\": {\"line\": {\"color\": \"#E5ECF6\", \"width\": 0.5}}, \"type\": \"barpolar\"}], \"carpet\": [{\"aaxis\": {\"endlinecolor\": \"#2a3f5f\", \"gridcolor\": \"white\", \"linecolor\": \"white\", \"minorgridcolor\": \"white\", \"startlinecolor\": \"#2a3f5f\"}, \"baxis\": {\"endlinecolor\": \"#2a3f5f\", \"gridcolor\": \"white\", \"linecolor\": \"white\", \"minorgridcolor\": \"white\", \"startlinecolor\": \"#2a3f5f\"}, \"type\": \"carpet\"}], \"choropleth\": [{\"colorbar\": {\"outlinewidth\": 0, \"ticks\": \"\"}, \"type\": \"choropleth\"}], \"contour\": [{\"colorbar\": {\"outlinewidth\": 0, \"ticks\": \"\"}, \"colorscale\": [[0.0, \"#0d0887\"], [0.1111111111111111, \"#46039f\"], [0.2222222222222222, \"#7201a8\"], [0.3333333333333333, \"#9c179e\"], [0.4444444444444444, \"#bd3786\"], [0.5555555555555556, \"#d8576b\"], [0.6666666666666666, \"#ed7953\"], [0.7777777777777778, \"#fb9f3a\"], [0.8888888888888888, \"#fdca26\"], [1.0, \"#f0f921\"]], \"type\": \"contour\"}], \"contourcarpet\": [{\"colorbar\": {\"outlinewidth\": 0, \"ticks\": \"\"}, \"type\": \"contourcarpet\"}], \"heatmap\": [{\"colorbar\": {\"outlinewidth\": 0, \"ticks\": \"\"}, \"colorscale\": [[0.0, \"#0d0887\"], [0.1111111111111111, \"#46039f\"], [0.2222222222222222, \"#7201a8\"], [0.3333333333333333, \"#9c179e\"], [0.4444444444444444, \"#bd3786\"], [0.5555555555555556, \"#d8576b\"], [0.6666666666666666, \"#ed7953\"], [0.7777777777777778, \"#fb9f3a\"], [0.8888888888888888, \"#fdca26\"], [1.0, \"#f0f921\"]], \"type\": \"heatmap\"}], \"heatmapgl\": [{\"colorbar\": {\"outlinewidth\": 0, \"ticks\": \"\"}, \"colorscale\": [[0.0, \"#0d0887\"], [0.1111111111111111, \"#46039f\"], [0.2222222222222222, \"#7201a8\"], [0.3333333333333333, \"#9c179e\"], [0.4444444444444444, \"#bd3786\"], [0.5555555555555556, \"#d8576b\"], [0.6666666666666666, \"#ed7953\"], [0.7777777777777778, \"#fb9f3a\"], [0.8888888888888888, \"#fdca26\"], [1.0, \"#f0f921\"]], \"type\": \"heatmapgl\"}], \"histogram\": [{\"marker\": {\"colorbar\": {\"outlinewidth\": 0, \"ticks\": \"\"}}, \"type\": \"histogram\"}], \"histogram2d\": [{\"colorbar\": {\"outlinewidth\": 0, \"ticks\": \"\"}, \"colorscale\": [[0.0, \"#0d0887\"], [0.1111111111111111, \"#46039f\"], [0.2222222222222222, \"#7201a8\"], [0.3333333333333333, \"#9c179e\"], [0.4444444444444444, \"#bd3786\"], [0.5555555555555556, \"#d8576b\"], [0.6666666666666666, \"#ed7953\"], [0.7777777777777778, \"#fb9f3a\"], [0.8888888888888888, \"#fdca26\"], [1.0, \"#f0f921\"]], \"type\": \"histogram2d\"}], \"histogram2dcontour\": [{\"colorbar\": {\"outlinewidth\": 0, \"ticks\": \"\"}, \"colorscale\": [[0.0, \"#0d0887\"], [0.1111111111111111, \"#46039f\"], [0.2222222222222222, \"#7201a8\"], [0.3333333333333333, \"#9c179e\"], [0.4444444444444444, \"#bd3786\"], [0.5555555555555556, \"#d8576b\"], [0.6666666666666666, \"#ed7953\"], [0.7777777777777778, \"#fb9f3a\"], [0.8888888888888888, \"#fdca26\"], [1.0, \"#f0f921\"]], \"type\": \"histogram2dcontour\"}], \"mesh3d\": [{\"colorbar\": {\"outlinewidth\": 0, \"ticks\": \"\"}, \"type\": \"mesh3d\"}], \"parcoords\": [{\"line\": {\"colorbar\": {\"outlinewidth\": 0, \"ticks\": \"\"}}, \"type\": \"parcoords\"}], \"pie\": [{\"automargin\": true, \"type\": \"pie\"}], \"scatter\": [{\"marker\": {\"colorbar\": {\"outlinewidth\": 0, \"ticks\": \"\"}}, \"type\": \"scatter\"}], \"scatter3d\": [{\"line\": {\"colorbar\": {\"outlinewidth\": 0, \"ticks\": \"\"}}, \"marker\": {\"colorbar\": {\"outlinewidth\": 0, \"ticks\": \"\"}}, \"type\": \"scatter3d\"}], \"scattercarpet\": [{\"marker\": {\"colorbar\": {\"outlinewidth\": 0, \"ticks\": \"\"}}, \"type\": \"scattercarpet\"}], \"scattergeo\": [{\"marker\": {\"colorbar\": {\"outlinewidth\": 0, \"ticks\": \"\"}}, \"type\": \"scattergeo\"}], \"scattergl\": [{\"marker\": {\"colorbar\": {\"outlinewidth\": 0, \"ticks\": \"\"}}, \"type\": \"scattergl\"}], \"scattermapbox\": [{\"marker\": {\"colorbar\": {\"outlinewidth\": 0, \"ticks\": \"\"}}, \"type\": \"scattermapbox\"}], \"scatterpolar\": [{\"marker\": {\"colorbar\": {\"outlinewidth\": 0, \"ticks\": \"\"}}, \"type\": \"scatterpolar\"}], \"scatterpolargl\": [{\"marker\": {\"colorbar\": {\"outlinewidth\": 0, \"ticks\": \"\"}}, \"type\": \"scatterpolargl\"}], \"scatterternary\": [{\"marker\": {\"colorbar\": {\"outlinewidth\": 0, \"ticks\": \"\"}}, \"type\": \"scatterternary\"}], \"surface\": [{\"colorbar\": {\"outlinewidth\": 0, \"ticks\": \"\"}, \"colorscale\": [[0.0, \"#0d0887\"], [0.1111111111111111, \"#46039f\"], [0.2222222222222222, \"#7201a8\"], [0.3333333333333333, \"#9c179e\"], [0.4444444444444444, \"#bd3786\"], [0.5555555555555556, \"#d8576b\"], [0.6666666666666666, \"#ed7953\"], [0.7777777777777778, \"#fb9f3a\"], [0.8888888888888888, \"#fdca26\"], [1.0, \"#f0f921\"]], \"type\": \"surface\"}], \"table\": [{\"cells\": {\"fill\": {\"color\": \"#EBF0F8\"}, \"line\": {\"color\": \"white\"}}, \"header\": {\"fill\": {\"color\": \"#C8D4E3\"}, \"line\": {\"color\": \"white\"}}, \"type\": \"table\"}]}, \"layout\": {\"annotationdefaults\": {\"arrowcolor\": \"#2a3f5f\", \"arrowhead\": 0, \"arrowwidth\": 1}, \"coloraxis\": {\"colorbar\": {\"outlinewidth\": 0, \"ticks\": \"\"}}, \"colorscale\": {\"diverging\": [[0, \"#8e0152\"], [0.1, \"#c51b7d\"], [0.2, \"#de77ae\"], [0.3, \"#f1b6da\"], [0.4, \"#fde0ef\"], [0.5, \"#f7f7f7\"], [0.6, \"#e6f5d0\"], [0.7, \"#b8e186\"], [0.8, \"#7fbc41\"], [0.9, \"#4d9221\"], [1, \"#276419\"]], \"sequential\": [[0.0, \"#0d0887\"], [0.1111111111111111, \"#46039f\"], [0.2222222222222222, \"#7201a8\"], [0.3333333333333333, \"#9c179e\"], [0.4444444444444444, \"#bd3786\"], [0.5555555555555556, \"#d8576b\"], [0.6666666666666666, \"#ed7953\"], [0.7777777777777778, \"#fb9f3a\"], [0.8888888888888888, \"#fdca26\"], [1.0, \"#f0f921\"]], \"sequentialminus\": [[0.0, \"#0d0887\"], [0.1111111111111111, \"#46039f\"], [0.2222222222222222, \"#7201a8\"], [0.3333333333333333, \"#9c179e\"], [0.4444444444444444, \"#bd3786\"], [0.5555555555555556, \"#d8576b\"], [0.6666666666666666, \"#ed7953\"], [0.7777777777777778, \"#fb9f3a\"], [0.8888888888888888, \"#fdca26\"], [1.0, \"#f0f921\"]]}, \"colorway\": [\"#636efa\", \"#EF553B\", \"#00cc96\", \"#ab63fa\", \"#FFA15A\", \"#19d3f3\", \"#FF6692\", \"#B6E880\", \"#FF97FF\", \"#FECB52\"], \"font\": {\"color\": \"#2a3f5f\"}, \"geo\": {\"bgcolor\": \"white\", \"lakecolor\": \"white\", \"landcolor\": \"#E5ECF6\", \"showlakes\": true, \"showland\": true, \"subunitcolor\": \"white\"}, \"hoverlabel\": {\"align\": \"left\"}, \"hovermode\": \"closest\", \"mapbox\": {\"style\": \"light\"}, \"paper_bgcolor\": \"white\", \"plot_bgcolor\": \"#E5ECF6\", \"polar\": {\"angularaxis\": {\"gridcolor\": \"white\", \"linecolor\": \"white\", \"ticks\": \"\"}, \"bgcolor\": \"#E5ECF6\", \"radialaxis\": {\"gridcolor\": \"white\", \"linecolor\": \"white\", \"ticks\": \"\"}}, \"scene\": {\"xaxis\": {\"backgroundcolor\": \"#E5ECF6\", \"gridcolor\": \"white\", \"gridwidth\": 2, \"linecolor\": \"white\", \"showbackground\": true, \"ticks\": \"\", \"zerolinecolor\": \"white\"}, \"yaxis\": {\"backgroundcolor\": \"#E5ECF6\", \"gridcolor\": \"white\", \"gridwidth\": 2, \"linecolor\": \"white\", \"showbackground\": true, \"ticks\": \"\", \"zerolinecolor\": \"white\"}, \"zaxis\": {\"backgroundcolor\": \"#E5ECF6\", \"gridcolor\": \"white\", \"gridwidth\": 2, \"linecolor\": \"white\", \"showbackground\": true, \"ticks\": \"\", \"zerolinecolor\": \"white\"}}, \"shapedefaults\": {\"line\": {\"color\": \"#2a3f5f\"}}, \"ternary\": {\"aaxis\": {\"gridcolor\": \"white\", \"linecolor\": \"white\", \"ticks\": \"\"}, \"baxis\": {\"gridcolor\": \"white\", \"linecolor\": \"white\", \"ticks\": \"\"}, \"bgcolor\": \"#E5ECF6\", \"caxis\": {\"gridcolor\": \"white\", \"linecolor\": \"white\", \"ticks\": \"\"}}, \"title\": {\"x\": 0.05}, \"xaxis\": {\"automargin\": true, \"gridcolor\": \"white\", \"linecolor\": \"white\", \"ticks\": \"\", \"title\": {\"standoff\": 15}, \"zerolinecolor\": \"white\", \"zerolinewidth\": 2}, \"yaxis\": {\"automargin\": true, \"gridcolor\": \"white\", \"linecolor\": \"white\", \"ticks\": \"\", \"title\": {\"standoff\": 15}, \"zerolinecolor\": \"white\", \"zerolinewidth\": 2}}}, \"title\": {\"text\": \"Distribution of Likelihood to Reach Out to Supervisor by Age\"}, \"xaxis\": {\"anchor\": \"y\", \"domain\": [0.0, 1.0], \"title\": {\"text\": \"supervisor\"}}, \"yaxis\": {\"anchor\": \"x\", \"domain\": [0.0, 1.0], \"title\": {\"text\": \"Count\"}}},\n",
              "                        {\"responsive\": true}\n",
              "                    ).then(function(){\n",
              "                            \n",
              "var gd = document.getElementById('a949bab7-7f2c-4969-b8e9-903b8be730a5');\n",
              "var x = new MutationObserver(function (mutations, observer) {{\n",
              "        var display = window.getComputedStyle(gd).display;\n",
              "        if (!display || display === 'none') {{\n",
              "            console.log([gd, 'removed!']);\n",
              "            Plotly.purge(gd);\n",
              "            observer.disconnect();\n",
              "        }}\n",
              "}});\n",
              "\n",
              "// Listen for the removal of the full notebook cells\n",
              "var notebookContainer = gd.closest('#notebook-container');\n",
              "if (notebookContainer) {{\n",
              "    x.observe(notebookContainer, {childList: true});\n",
              "}}\n",
              "\n",
              "// Listen for the clearing of the current output cell\n",
              "var outputEl = gd.closest('.output');\n",
              "if (outputEl) {{\n",
              "    x.observe(outputEl, {childList: true});\n",
              "}}\n",
              "\n",
              "                        })\n",
              "                };\n",
              "                \n",
              "            </script>\n",
              "        </div>\n",
              "</body>\n",
              "</html>"
            ]
          },
          "metadata": {
            "tags": []
          }
        }
      ]
    },
    {
      "cell_type": "markdown",
      "metadata": {
        "id": "8baVF4P2DRpJ"
      },
      "source": [
        "As qualitatively observed by the histogram above, it can be seen that age does not generally look like it has an effect on the response variable. However, upon second look, we can see that instances of 60s+ and <18 are relatively minute compared to the other age categories. This backs up what was previously stated, suggesting that age might be better left off as a continous variable rather than transforming it into a discrete one. Nevertheless, the qualitative observation suggests that age does not play a major role in determining whether or not an employee discusses a mental health concern with their direct supervisor(s). As such, we will leave it out of our hypothesized target predictor set."
      ]
    },
    {
      "cell_type": "markdown",
      "metadata": {
        "id": "SkWLhfKXfg9n"
      },
      "source": [
        "#### *ii) GENDER*"
      ]
    },
    {
      "cell_type": "code",
      "metadata": {
        "id": "lTdGJStDxGM7",
        "colab": {
          "base_uri": "https://localhost:8080/",
          "height": 542
        },
        "outputId": "6bc5805e-45cf-4e1f-c640-dd359cf73a86"
      },
      "source": [
        "num_female = (df.Gender == \"female\").sum()\n",
        "num_male = (df.Gender == \"male\").sum()\n",
        "num_other = (df.Gender == \"other\").sum()\n",
        "\n",
        "fig = go.Figure(data=[go.Pie(labels=[\"Female\", \"Male\", \"Other\"],\n",
        "                             values=[num_female, num_male, num_other],\n",
        "                             pull=[0, 0.1, 0],\n",
        "                             title=\"Gender Distribution\",\n",
        "                             )])\n",
        "\n",
        "fig.update_traces(hoverinfo='label+value', textinfo='percent', textfont_size=20,\n",
        "                  marker=dict(line=dict(color='#000000', width=2)))\n",
        "\n",
        "fig.show()"
      ],
      "execution_count": null,
      "outputs": [
        {
          "output_type": "display_data",
          "data": {
            "text/html": [
              "<html>\n",
              "<head><meta charset=\"utf-8\" /></head>\n",
              "<body>\n",
              "    <div>\n",
              "            <script src=\"https://cdnjs.cloudflare.com/ajax/libs/mathjax/2.7.5/MathJax.js?config=TeX-AMS-MML_SVG\"></script><script type=\"text/javascript\">if (window.MathJax) {MathJax.Hub.Config({SVG: {font: \"STIX-Web\"}});}</script>\n",
              "                <script type=\"text/javascript\">window.PlotlyConfig = {MathJaxConfig: 'local'};</script>\n",
              "        <script src=\"https://cdn.plot.ly/plotly-latest.min.js\"></script>    \n",
              "            <div id=\"dc4e0e18-7356-4dee-b04c-fd2e4ae3ee69\" class=\"plotly-graph-div\" style=\"height:525px; width:100%;\"></div>\n",
              "            <script type=\"text/javascript\">\n",
              "                \n",
              "                    window.PLOTLYENV=window.PLOTLYENV || {};\n",
              "                    \n",
              "                if (document.getElementById(\"dc4e0e18-7356-4dee-b04c-fd2e4ae3ee69\")) {\n",
              "                    Plotly.newPlot(\n",
              "                        'dc4e0e18-7356-4dee-b04c-fd2e4ae3ee69',\n",
              "                        [{\"hoverinfo\": \"label+value\", \"labels\": [\"Female\", \"Male\", \"Other\"], \"marker\": {\"line\": {\"color\": \"#000000\", \"width\": 2}}, \"pull\": [0, 0.1, 0], \"textfont\": {\"size\": 20}, \"textinfo\": \"percent\", \"title\": {\"text\": \"Gender Distribution\"}, \"type\": \"pie\", \"values\": [236, 971, 52]}],\n",
              "                        {\"template\": {\"data\": {\"bar\": [{\"error_x\": {\"color\": \"#2a3f5f\"}, \"error_y\": {\"color\": \"#2a3f5f\"}, \"marker\": {\"line\": {\"color\": \"#E5ECF6\", \"width\": 0.5}}, \"type\": \"bar\"}], \"barpolar\": [{\"marker\": {\"line\": {\"color\": \"#E5ECF6\", \"width\": 0.5}}, \"type\": \"barpolar\"}], \"carpet\": [{\"aaxis\": {\"endlinecolor\": \"#2a3f5f\", \"gridcolor\": \"white\", \"linecolor\": \"white\", \"minorgridcolor\": \"white\", \"startlinecolor\": \"#2a3f5f\"}, \"baxis\": {\"endlinecolor\": \"#2a3f5f\", \"gridcolor\": \"white\", \"linecolor\": \"white\", \"minorgridcolor\": \"white\", \"startlinecolor\": \"#2a3f5f\"}, \"type\": \"carpet\"}], \"choropleth\": [{\"colorbar\": {\"outlinewidth\": 0, \"ticks\": \"\"}, \"type\": \"choropleth\"}], \"contour\": [{\"colorbar\": {\"outlinewidth\": 0, \"ticks\": \"\"}, \"colorscale\": [[0.0, \"#0d0887\"], [0.1111111111111111, \"#46039f\"], [0.2222222222222222, \"#7201a8\"], [0.3333333333333333, \"#9c179e\"], [0.4444444444444444, \"#bd3786\"], [0.5555555555555556, \"#d8576b\"], [0.6666666666666666, \"#ed7953\"], [0.7777777777777778, \"#fb9f3a\"], [0.8888888888888888, \"#fdca26\"], [1.0, \"#f0f921\"]], \"type\": \"contour\"}], \"contourcarpet\": [{\"colorbar\": {\"outlinewidth\": 0, \"ticks\": \"\"}, \"type\": \"contourcarpet\"}], \"heatmap\": [{\"colorbar\": {\"outlinewidth\": 0, \"ticks\": \"\"}, \"colorscale\": [[0.0, \"#0d0887\"], [0.1111111111111111, \"#46039f\"], [0.2222222222222222, \"#7201a8\"], [0.3333333333333333, \"#9c179e\"], [0.4444444444444444, \"#bd3786\"], [0.5555555555555556, \"#d8576b\"], [0.6666666666666666, \"#ed7953\"], [0.7777777777777778, \"#fb9f3a\"], [0.8888888888888888, \"#fdca26\"], [1.0, \"#f0f921\"]], \"type\": \"heatmap\"}], \"heatmapgl\": [{\"colorbar\": {\"outlinewidth\": 0, \"ticks\": \"\"}, \"colorscale\": [[0.0, \"#0d0887\"], [0.1111111111111111, \"#46039f\"], [0.2222222222222222, \"#7201a8\"], [0.3333333333333333, \"#9c179e\"], [0.4444444444444444, \"#bd3786\"], [0.5555555555555556, \"#d8576b\"], [0.6666666666666666, \"#ed7953\"], [0.7777777777777778, \"#fb9f3a\"], [0.8888888888888888, \"#fdca26\"], [1.0, \"#f0f921\"]], \"type\": \"heatmapgl\"}], \"histogram\": [{\"marker\": {\"colorbar\": {\"outlinewidth\": 0, \"ticks\": \"\"}}, \"type\": \"histogram\"}], \"histogram2d\": [{\"colorbar\": {\"outlinewidth\": 0, \"ticks\": \"\"}, \"colorscale\": [[0.0, \"#0d0887\"], [0.1111111111111111, \"#46039f\"], [0.2222222222222222, \"#7201a8\"], [0.3333333333333333, \"#9c179e\"], [0.4444444444444444, \"#bd3786\"], [0.5555555555555556, \"#d8576b\"], [0.6666666666666666, \"#ed7953\"], [0.7777777777777778, \"#fb9f3a\"], [0.8888888888888888, \"#fdca26\"], [1.0, \"#f0f921\"]], \"type\": \"histogram2d\"}], \"histogram2dcontour\": [{\"colorbar\": {\"outlinewidth\": 0, \"ticks\": \"\"}, \"colorscale\": [[0.0, \"#0d0887\"], [0.1111111111111111, \"#46039f\"], [0.2222222222222222, \"#7201a8\"], [0.3333333333333333, \"#9c179e\"], [0.4444444444444444, \"#bd3786\"], [0.5555555555555556, \"#d8576b\"], [0.6666666666666666, \"#ed7953\"], [0.7777777777777778, \"#fb9f3a\"], [0.8888888888888888, \"#fdca26\"], [1.0, \"#f0f921\"]], \"type\": \"histogram2dcontour\"}], \"mesh3d\": [{\"colorbar\": {\"outlinewidth\": 0, \"ticks\": \"\"}, \"type\": \"mesh3d\"}], \"parcoords\": [{\"line\": {\"colorbar\": {\"outlinewidth\": 0, \"ticks\": \"\"}}, \"type\": \"parcoords\"}], \"pie\": [{\"automargin\": true, \"type\": \"pie\"}], \"scatter\": [{\"marker\": {\"colorbar\": {\"outlinewidth\": 0, \"ticks\": \"\"}}, \"type\": \"scatter\"}], \"scatter3d\": [{\"line\": {\"colorbar\": {\"outlinewidth\": 0, \"ticks\": \"\"}}, \"marker\": {\"colorbar\": {\"outlinewidth\": 0, \"ticks\": \"\"}}, \"type\": \"scatter3d\"}], \"scattercarpet\": [{\"marker\": {\"colorbar\": {\"outlinewidth\": 0, \"ticks\": \"\"}}, \"type\": \"scattercarpet\"}], \"scattergeo\": [{\"marker\": {\"colorbar\": {\"outlinewidth\": 0, \"ticks\": \"\"}}, \"type\": \"scattergeo\"}], \"scattergl\": [{\"marker\": {\"colorbar\": {\"outlinewidth\": 0, \"ticks\": \"\"}}, \"type\": \"scattergl\"}], \"scattermapbox\": [{\"marker\": {\"colorbar\": {\"outlinewidth\": 0, \"ticks\": \"\"}}, \"type\": \"scattermapbox\"}], \"scatterpolar\": [{\"marker\": {\"colorbar\": {\"outlinewidth\": 0, \"ticks\": \"\"}}, \"type\": \"scatterpolar\"}], \"scatterpolargl\": [{\"marker\": {\"colorbar\": {\"outlinewidth\": 0, \"ticks\": \"\"}}, \"type\": \"scatterpolargl\"}], \"scatterternary\": [{\"marker\": {\"colorbar\": {\"outlinewidth\": 0, \"ticks\": \"\"}}, \"type\": \"scatterternary\"}], \"surface\": [{\"colorbar\": {\"outlinewidth\": 0, \"ticks\": \"\"}, \"colorscale\": [[0.0, \"#0d0887\"], [0.1111111111111111, \"#46039f\"], [0.2222222222222222, \"#7201a8\"], [0.3333333333333333, \"#9c179e\"], [0.4444444444444444, \"#bd3786\"], [0.5555555555555556, \"#d8576b\"], [0.6666666666666666, \"#ed7953\"], [0.7777777777777778, \"#fb9f3a\"], [0.8888888888888888, \"#fdca26\"], [1.0, \"#f0f921\"]], \"type\": \"surface\"}], \"table\": [{\"cells\": {\"fill\": {\"color\": \"#EBF0F8\"}, \"line\": {\"color\": \"white\"}}, \"header\": {\"fill\": {\"color\": \"#C8D4E3\"}, \"line\": {\"color\": \"white\"}}, \"type\": \"table\"}]}, \"layout\": {\"annotationdefaults\": {\"arrowcolor\": \"#2a3f5f\", \"arrowhead\": 0, \"arrowwidth\": 1}, \"coloraxis\": {\"colorbar\": {\"outlinewidth\": 0, \"ticks\": \"\"}}, \"colorscale\": {\"diverging\": [[0, \"#8e0152\"], [0.1, \"#c51b7d\"], [0.2, \"#de77ae\"], [0.3, \"#f1b6da\"], [0.4, \"#fde0ef\"], [0.5, \"#f7f7f7\"], [0.6, \"#e6f5d0\"], [0.7, \"#b8e186\"], [0.8, \"#7fbc41\"], [0.9, \"#4d9221\"], [1, \"#276419\"]], \"sequential\": [[0.0, \"#0d0887\"], [0.1111111111111111, \"#46039f\"], [0.2222222222222222, \"#7201a8\"], [0.3333333333333333, \"#9c179e\"], [0.4444444444444444, \"#bd3786\"], [0.5555555555555556, \"#d8576b\"], [0.6666666666666666, \"#ed7953\"], [0.7777777777777778, \"#fb9f3a\"], [0.8888888888888888, \"#fdca26\"], [1.0, \"#f0f921\"]], \"sequentialminus\": [[0.0, \"#0d0887\"], [0.1111111111111111, \"#46039f\"], [0.2222222222222222, \"#7201a8\"], [0.3333333333333333, \"#9c179e\"], [0.4444444444444444, \"#bd3786\"], [0.5555555555555556, \"#d8576b\"], [0.6666666666666666, \"#ed7953\"], [0.7777777777777778, \"#fb9f3a\"], [0.8888888888888888, \"#fdca26\"], [1.0, \"#f0f921\"]]}, \"colorway\": [\"#636efa\", \"#EF553B\", \"#00cc96\", \"#ab63fa\", \"#FFA15A\", \"#19d3f3\", \"#FF6692\", \"#B6E880\", \"#FF97FF\", \"#FECB52\"], \"font\": {\"color\": \"#2a3f5f\"}, \"geo\": {\"bgcolor\": \"white\", \"lakecolor\": \"white\", \"landcolor\": \"#E5ECF6\", \"showlakes\": true, \"showland\": true, \"subunitcolor\": \"white\"}, \"hoverlabel\": {\"align\": \"left\"}, \"hovermode\": \"closest\", \"mapbox\": {\"style\": \"light\"}, \"paper_bgcolor\": \"white\", \"plot_bgcolor\": \"#E5ECF6\", \"polar\": {\"angularaxis\": {\"gridcolor\": \"white\", \"linecolor\": \"white\", \"ticks\": \"\"}, \"bgcolor\": \"#E5ECF6\", \"radialaxis\": {\"gridcolor\": \"white\", \"linecolor\": \"white\", \"ticks\": \"\"}}, \"scene\": {\"xaxis\": {\"backgroundcolor\": \"#E5ECF6\", \"gridcolor\": \"white\", \"gridwidth\": 2, \"linecolor\": \"white\", \"showbackground\": true, \"ticks\": \"\", \"zerolinecolor\": \"white\"}, \"yaxis\": {\"backgroundcolor\": \"#E5ECF6\", \"gridcolor\": \"white\", \"gridwidth\": 2, \"linecolor\": \"white\", \"showbackground\": true, \"ticks\": \"\", \"zerolinecolor\": \"white\"}, \"zaxis\": {\"backgroundcolor\": \"#E5ECF6\", \"gridcolor\": \"white\", \"gridwidth\": 2, \"linecolor\": \"white\", \"showbackground\": true, \"ticks\": \"\", \"zerolinecolor\": \"white\"}}, \"shapedefaults\": {\"line\": {\"color\": \"#2a3f5f\"}}, \"ternary\": {\"aaxis\": {\"gridcolor\": \"white\", \"linecolor\": \"white\", \"ticks\": \"\"}, \"baxis\": {\"gridcolor\": \"white\", \"linecolor\": \"white\", \"ticks\": \"\"}, \"bgcolor\": \"#E5ECF6\", \"caxis\": {\"gridcolor\": \"white\", \"linecolor\": \"white\", \"ticks\": \"\"}}, \"title\": {\"x\": 0.05}, \"xaxis\": {\"automargin\": true, \"gridcolor\": \"white\", \"linecolor\": \"white\", \"ticks\": \"\", \"title\": {\"standoff\": 15}, \"zerolinecolor\": \"white\", \"zerolinewidth\": 2}, \"yaxis\": {\"automargin\": true, \"gridcolor\": \"white\", \"linecolor\": \"white\", \"ticks\": \"\", \"title\": {\"standoff\": 15}, \"zerolinecolor\": \"white\", \"zerolinewidth\": 2}}}},\n",
              "                        {\"responsive\": true}\n",
              "                    ).then(function(){\n",
              "                            \n",
              "var gd = document.getElementById('dc4e0e18-7356-4dee-b04c-fd2e4ae3ee69');\n",
              "var x = new MutationObserver(function (mutations, observer) {{\n",
              "        var display = window.getComputedStyle(gd).display;\n",
              "        if (!display || display === 'none') {{\n",
              "            console.log([gd, 'removed!']);\n",
              "            Plotly.purge(gd);\n",
              "            observer.disconnect();\n",
              "        }}\n",
              "}});\n",
              "\n",
              "// Listen for the removal of the full notebook cells\n",
              "var notebookContainer = gd.closest('#notebook-container');\n",
              "if (notebookContainer) {{\n",
              "    x.observe(notebookContainer, {childList: true});\n",
              "}}\n",
              "\n",
              "// Listen for the clearing of the current output cell\n",
              "var outputEl = gd.closest('.output');\n",
              "if (outputEl) {{\n",
              "    x.observe(outputEl, {childList: true});\n",
              "}}\n",
              "\n",
              "                        })\n",
              "                };\n",
              "                \n",
              "            </script>\n",
              "        </div>\n",
              "</body>\n",
              "</html>"
            ]
          },
          "metadata": {
            "tags": []
          }
        }
      ]
    },
    {
      "cell_type": "markdown",
      "metadata": {
        "id": "m8JTcZncG2jO"
      },
      "source": [
        "As observed in the qualitative pie chart above, the proportion of employees identifying as male in our dataset largely exceeds both the proportion of employees identifying as female and the proportion of employees identifying as other. Since we are concerning ourselves with the tech workplace, this is as expected. However, it may skew our data in terms of its effect on the response variable. Thus, let us execute the code chunk below to gain a preliminary view of the effect of gender categories on our response variable."
      ]
    },
    {
      "cell_type": "code",
      "metadata": {
        "colab": {
          "base_uri": "https://localhost:8080/",
          "height": 542
        },
        "id": "Us8UT1a6_U-Y",
        "outputId": "e2edeabd-8622-40d5-bced-989228ac9209"
      },
      "source": [
        "comp_gb = df.groupby([\"supervisor\",\"Gender\"]).size().reset_index(name='Count')\n",
        "fig = px.bar(comp_gb,\n",
        "             x=\"supervisor\",\n",
        "             y=\"Count\",\n",
        "             color=\"Gender\",\n",
        "             barmode='group',\n",
        "             color_discrete_sequence=px.colors.qualitative.D3, \n",
        "             title='Distribution of Likelihood to Reach Out to Supervisor by Gender'\n",
        "             )\n",
        "fig.show()"
      ],
      "execution_count": null,
      "outputs": [
        {
          "output_type": "display_data",
          "data": {
            "text/html": [
              "<html>\n",
              "<head><meta charset=\"utf-8\" /></head>\n",
              "<body>\n",
              "    <div>\n",
              "            <script src=\"https://cdnjs.cloudflare.com/ajax/libs/mathjax/2.7.5/MathJax.js?config=TeX-AMS-MML_SVG\"></script><script type=\"text/javascript\">if (window.MathJax) {MathJax.Hub.Config({SVG: {font: \"STIX-Web\"}});}</script>\n",
              "                <script type=\"text/javascript\">window.PlotlyConfig = {MathJaxConfig: 'local'};</script>\n",
              "        <script src=\"https://cdn.plot.ly/plotly-latest.min.js\"></script>    \n",
              "            <div id=\"6e0fcfeb-3e5f-478c-af5c-6132afefb7b3\" class=\"plotly-graph-div\" style=\"height:525px; width:100%;\"></div>\n",
              "            <script type=\"text/javascript\">\n",
              "                \n",
              "                    window.PLOTLYENV=window.PLOTLYENV || {};\n",
              "                    \n",
              "                if (document.getElementById(\"6e0fcfeb-3e5f-478c-af5c-6132afefb7b3\")) {\n",
              "                    Plotly.newPlot(\n",
              "                        '6e0fcfeb-3e5f-478c-af5c-6132afefb7b3',\n",
              "                        [{\"alignmentgroup\": \"True\", \"hoverlabel\": {\"namelength\": 0}, \"hovertemplate\": \"Gender=female<br>supervisor=%{x}<br>Count=%{y}\", \"legendgroup\": \"Gender=female\", \"marker\": {\"color\": \"#1F77B4\"}, \"name\": \"Gender=female\", \"offsetgroup\": \"Gender=female\", \"orientation\": \"v\", \"showlegend\": true, \"textposition\": \"auto\", \"type\": \"bar\", \"x\": [\"No\", \"Some of them\", \"Yes\"], \"xaxis\": \"x\", \"y\": [84, 81, 71], \"yaxis\": \"y\"}, {\"alignmentgroup\": \"True\", \"hoverlabel\": {\"namelength\": 0}, \"hovertemplate\": \"Gender=male<br>supervisor=%{x}<br>Count=%{y}\", \"legendgroup\": \"Gender=male\", \"marker\": {\"color\": \"#FF7F0E\"}, \"name\": \"Gender=male\", \"offsetgroup\": \"Gender=male\", \"orientation\": \"v\", \"showlegend\": true, \"textposition\": \"auto\", \"type\": \"bar\", \"x\": [\"No\", \"Some of them\", \"Yes\"], \"xaxis\": \"x\", \"y\": [294, 249, 428], \"yaxis\": \"y\"}, {\"alignmentgroup\": \"True\", \"hoverlabel\": {\"namelength\": 0}, \"hovertemplate\": \"Gender=other<br>supervisor=%{x}<br>Count=%{y}\", \"legendgroup\": \"Gender=other\", \"marker\": {\"color\": \"#2CA02C\"}, \"name\": \"Gender=other\", \"offsetgroup\": \"Gender=other\", \"orientation\": \"v\", \"showlegend\": true, \"textposition\": \"auto\", \"type\": \"bar\", \"x\": [\"No\", \"Some of them\", \"Yes\"], \"xaxis\": \"x\", \"y\": [15, 20, 17], \"yaxis\": \"y\"}],\n",
              "                        {\"barmode\": \"group\", \"legend\": {\"tracegroupgap\": 0}, \"template\": {\"data\": {\"bar\": [{\"error_x\": {\"color\": \"#2a3f5f\"}, \"error_y\": {\"color\": \"#2a3f5f\"}, \"marker\": {\"line\": {\"color\": \"#E5ECF6\", \"width\": 0.5}}, \"type\": \"bar\"}], \"barpolar\": [{\"marker\": {\"line\": {\"color\": \"#E5ECF6\", \"width\": 0.5}}, \"type\": \"barpolar\"}], \"carpet\": [{\"aaxis\": {\"endlinecolor\": \"#2a3f5f\", \"gridcolor\": \"white\", \"linecolor\": \"white\", \"minorgridcolor\": \"white\", \"startlinecolor\": \"#2a3f5f\"}, \"baxis\": {\"endlinecolor\": \"#2a3f5f\", \"gridcolor\": \"white\", \"linecolor\": \"white\", \"minorgridcolor\": \"white\", \"startlinecolor\": \"#2a3f5f\"}, \"type\": \"carpet\"}], \"choropleth\": [{\"colorbar\": {\"outlinewidth\": 0, \"ticks\": \"\"}, \"type\": \"choropleth\"}], \"contour\": [{\"colorbar\": {\"outlinewidth\": 0, \"ticks\": \"\"}, \"colorscale\": [[0.0, \"#0d0887\"], [0.1111111111111111, \"#46039f\"], [0.2222222222222222, \"#7201a8\"], [0.3333333333333333, \"#9c179e\"], [0.4444444444444444, \"#bd3786\"], [0.5555555555555556, \"#d8576b\"], [0.6666666666666666, \"#ed7953\"], [0.7777777777777778, \"#fb9f3a\"], [0.8888888888888888, \"#fdca26\"], [1.0, \"#f0f921\"]], \"type\": \"contour\"}], \"contourcarpet\": [{\"colorbar\": {\"outlinewidth\": 0, \"ticks\": \"\"}, \"type\": \"contourcarpet\"}], \"heatmap\": [{\"colorbar\": {\"outlinewidth\": 0, \"ticks\": \"\"}, \"colorscale\": [[0.0, \"#0d0887\"], [0.1111111111111111, \"#46039f\"], [0.2222222222222222, \"#7201a8\"], [0.3333333333333333, \"#9c179e\"], [0.4444444444444444, \"#bd3786\"], [0.5555555555555556, \"#d8576b\"], [0.6666666666666666, \"#ed7953\"], [0.7777777777777778, \"#fb9f3a\"], [0.8888888888888888, \"#fdca26\"], [1.0, \"#f0f921\"]], \"type\": \"heatmap\"}], \"heatmapgl\": [{\"colorbar\": {\"outlinewidth\": 0, \"ticks\": \"\"}, \"colorscale\": [[0.0, \"#0d0887\"], [0.1111111111111111, \"#46039f\"], [0.2222222222222222, \"#7201a8\"], [0.3333333333333333, \"#9c179e\"], [0.4444444444444444, \"#bd3786\"], [0.5555555555555556, \"#d8576b\"], [0.6666666666666666, \"#ed7953\"], [0.7777777777777778, \"#fb9f3a\"], [0.8888888888888888, \"#fdca26\"], [1.0, \"#f0f921\"]], \"type\": \"heatmapgl\"}], \"histogram\": [{\"marker\": {\"colorbar\": {\"outlinewidth\": 0, \"ticks\": \"\"}}, \"type\": \"histogram\"}], \"histogram2d\": [{\"colorbar\": {\"outlinewidth\": 0, \"ticks\": \"\"}, \"colorscale\": [[0.0, \"#0d0887\"], [0.1111111111111111, \"#46039f\"], [0.2222222222222222, \"#7201a8\"], [0.3333333333333333, \"#9c179e\"], [0.4444444444444444, \"#bd3786\"], [0.5555555555555556, \"#d8576b\"], [0.6666666666666666, \"#ed7953\"], [0.7777777777777778, \"#fb9f3a\"], [0.8888888888888888, \"#fdca26\"], [1.0, \"#f0f921\"]], \"type\": \"histogram2d\"}], \"histogram2dcontour\": [{\"colorbar\": {\"outlinewidth\": 0, \"ticks\": \"\"}, \"colorscale\": [[0.0, \"#0d0887\"], [0.1111111111111111, \"#46039f\"], [0.2222222222222222, \"#7201a8\"], [0.3333333333333333, \"#9c179e\"], [0.4444444444444444, \"#bd3786\"], [0.5555555555555556, \"#d8576b\"], [0.6666666666666666, \"#ed7953\"], [0.7777777777777778, \"#fb9f3a\"], [0.8888888888888888, \"#fdca26\"], [1.0, \"#f0f921\"]], \"type\": \"histogram2dcontour\"}], \"mesh3d\": [{\"colorbar\": {\"outlinewidth\": 0, \"ticks\": \"\"}, \"type\": \"mesh3d\"}], \"parcoords\": [{\"line\": {\"colorbar\": {\"outlinewidth\": 0, \"ticks\": \"\"}}, \"type\": \"parcoords\"}], \"pie\": [{\"automargin\": true, \"type\": \"pie\"}], \"scatter\": [{\"marker\": {\"colorbar\": {\"outlinewidth\": 0, \"ticks\": \"\"}}, \"type\": \"scatter\"}], \"scatter3d\": [{\"line\": {\"colorbar\": {\"outlinewidth\": 0, \"ticks\": \"\"}}, \"marker\": {\"colorbar\": {\"outlinewidth\": 0, \"ticks\": \"\"}}, \"type\": \"scatter3d\"}], \"scattercarpet\": [{\"marker\": {\"colorbar\": {\"outlinewidth\": 0, \"ticks\": \"\"}}, \"type\": \"scattercarpet\"}], \"scattergeo\": [{\"marker\": {\"colorbar\": {\"outlinewidth\": 0, \"ticks\": \"\"}}, \"type\": \"scattergeo\"}], \"scattergl\": [{\"marker\": {\"colorbar\": {\"outlinewidth\": 0, \"ticks\": \"\"}}, \"type\": \"scattergl\"}], \"scattermapbox\": [{\"marker\": {\"colorbar\": {\"outlinewidth\": 0, \"ticks\": \"\"}}, \"type\": \"scattermapbox\"}], \"scatterpolar\": [{\"marker\": {\"colorbar\": {\"outlinewidth\": 0, \"ticks\": \"\"}}, \"type\": \"scatterpolar\"}], \"scatterpolargl\": [{\"marker\": {\"colorbar\": {\"outlinewidth\": 0, \"ticks\": \"\"}}, \"type\": \"scatterpolargl\"}], \"scatterternary\": [{\"marker\": {\"colorbar\": {\"outlinewidth\": 0, \"ticks\": \"\"}}, \"type\": \"scatterternary\"}], \"surface\": [{\"colorbar\": {\"outlinewidth\": 0, \"ticks\": \"\"}, \"colorscale\": [[0.0, \"#0d0887\"], [0.1111111111111111, \"#46039f\"], [0.2222222222222222, \"#7201a8\"], [0.3333333333333333, \"#9c179e\"], [0.4444444444444444, \"#bd3786\"], [0.5555555555555556, \"#d8576b\"], [0.6666666666666666, \"#ed7953\"], [0.7777777777777778, \"#fb9f3a\"], [0.8888888888888888, \"#fdca26\"], [1.0, \"#f0f921\"]], \"type\": \"surface\"}], \"table\": [{\"cells\": {\"fill\": {\"color\": \"#EBF0F8\"}, \"line\": {\"color\": \"white\"}}, \"header\": {\"fill\": {\"color\": \"#C8D4E3\"}, \"line\": {\"color\": \"white\"}}, \"type\": \"table\"}]}, \"layout\": {\"annotationdefaults\": {\"arrowcolor\": \"#2a3f5f\", \"arrowhead\": 0, \"arrowwidth\": 1}, \"coloraxis\": {\"colorbar\": {\"outlinewidth\": 0, \"ticks\": \"\"}}, \"colorscale\": {\"diverging\": [[0, \"#8e0152\"], [0.1, \"#c51b7d\"], [0.2, \"#de77ae\"], [0.3, \"#f1b6da\"], [0.4, \"#fde0ef\"], [0.5, \"#f7f7f7\"], [0.6, \"#e6f5d0\"], [0.7, \"#b8e186\"], [0.8, \"#7fbc41\"], [0.9, \"#4d9221\"], [1, \"#276419\"]], \"sequential\": [[0.0, \"#0d0887\"], [0.1111111111111111, \"#46039f\"], [0.2222222222222222, \"#7201a8\"], [0.3333333333333333, \"#9c179e\"], [0.4444444444444444, \"#bd3786\"], [0.5555555555555556, \"#d8576b\"], [0.6666666666666666, \"#ed7953\"], [0.7777777777777778, \"#fb9f3a\"], [0.8888888888888888, \"#fdca26\"], [1.0, \"#f0f921\"]], \"sequentialminus\": [[0.0, \"#0d0887\"], [0.1111111111111111, \"#46039f\"], [0.2222222222222222, \"#7201a8\"], [0.3333333333333333, \"#9c179e\"], [0.4444444444444444, \"#bd3786\"], [0.5555555555555556, \"#d8576b\"], [0.6666666666666666, \"#ed7953\"], [0.7777777777777778, \"#fb9f3a\"], [0.8888888888888888, \"#fdca26\"], [1.0, \"#f0f921\"]]}, \"colorway\": [\"#636efa\", \"#EF553B\", \"#00cc96\", \"#ab63fa\", \"#FFA15A\", \"#19d3f3\", \"#FF6692\", \"#B6E880\", \"#FF97FF\", \"#FECB52\"], \"font\": {\"color\": \"#2a3f5f\"}, \"geo\": {\"bgcolor\": \"white\", \"lakecolor\": \"white\", \"landcolor\": \"#E5ECF6\", \"showlakes\": true, \"showland\": true, \"subunitcolor\": \"white\"}, \"hoverlabel\": {\"align\": \"left\"}, \"hovermode\": \"closest\", \"mapbox\": {\"style\": \"light\"}, \"paper_bgcolor\": \"white\", \"plot_bgcolor\": \"#E5ECF6\", \"polar\": {\"angularaxis\": {\"gridcolor\": \"white\", \"linecolor\": \"white\", \"ticks\": \"\"}, \"bgcolor\": \"#E5ECF6\", \"radialaxis\": {\"gridcolor\": \"white\", \"linecolor\": \"white\", \"ticks\": \"\"}}, \"scene\": {\"xaxis\": {\"backgroundcolor\": \"#E5ECF6\", \"gridcolor\": \"white\", \"gridwidth\": 2, \"linecolor\": \"white\", \"showbackground\": true, \"ticks\": \"\", \"zerolinecolor\": \"white\"}, \"yaxis\": {\"backgroundcolor\": \"#E5ECF6\", \"gridcolor\": \"white\", \"gridwidth\": 2, \"linecolor\": \"white\", \"showbackground\": true, \"ticks\": \"\", \"zerolinecolor\": \"white\"}, \"zaxis\": {\"backgroundcolor\": \"#E5ECF6\", \"gridcolor\": \"white\", \"gridwidth\": 2, \"linecolor\": \"white\", \"showbackground\": true, \"ticks\": \"\", \"zerolinecolor\": \"white\"}}, \"shapedefaults\": {\"line\": {\"color\": \"#2a3f5f\"}}, \"ternary\": {\"aaxis\": {\"gridcolor\": \"white\", \"linecolor\": \"white\", \"ticks\": \"\"}, \"baxis\": {\"gridcolor\": \"white\", \"linecolor\": \"white\", \"ticks\": \"\"}, \"bgcolor\": \"#E5ECF6\", \"caxis\": {\"gridcolor\": \"white\", \"linecolor\": \"white\", \"ticks\": \"\"}}, \"title\": {\"x\": 0.05}, \"xaxis\": {\"automargin\": true, \"gridcolor\": \"white\", \"linecolor\": \"white\", \"ticks\": \"\", \"title\": {\"standoff\": 15}, \"zerolinecolor\": \"white\", \"zerolinewidth\": 2}, \"yaxis\": {\"automargin\": true, \"gridcolor\": \"white\", \"linecolor\": \"white\", \"ticks\": \"\", \"title\": {\"standoff\": 15}, \"zerolinecolor\": \"white\", \"zerolinewidth\": 2}}}, \"title\": {\"text\": \"Distribution of Likelihood to Reach Out to Supervisor by Gender\"}, \"xaxis\": {\"anchor\": \"y\", \"domain\": [0.0, 1.0], \"title\": {\"text\": \"supervisor\"}}, \"yaxis\": {\"anchor\": \"x\", \"domain\": [0.0, 1.0], \"title\": {\"text\": \"Count\"}}},\n",
              "                        {\"responsive\": true}\n",
              "                    ).then(function(){\n",
              "                            \n",
              "var gd = document.getElementById('6e0fcfeb-3e5f-478c-af5c-6132afefb7b3');\n",
              "var x = new MutationObserver(function (mutations, observer) {{\n",
              "        var display = window.getComputedStyle(gd).display;\n",
              "        if (!display || display === 'none') {{\n",
              "            console.log([gd, 'removed!']);\n",
              "            Plotly.purge(gd);\n",
              "            observer.disconnect();\n",
              "        }}\n",
              "}});\n",
              "\n",
              "// Listen for the removal of the full notebook cells\n",
              "var notebookContainer = gd.closest('#notebook-container');\n",
              "if (notebookContainer) {{\n",
              "    x.observe(notebookContainer, {childList: true});\n",
              "}}\n",
              "\n",
              "// Listen for the clearing of the current output cell\n",
              "var outputEl = gd.closest('.output');\n",
              "if (outputEl) {{\n",
              "    x.observe(outputEl, {childList: true});\n",
              "}}\n",
              "\n",
              "                        })\n",
              "                };\n",
              "                \n",
              "            </script>\n",
              "        </div>\n",
              "</body>\n",
              "</html>"
            ]
          },
          "metadata": {
            "tags": []
          }
        }
      ]
    },
    {
      "cell_type": "markdown",
      "metadata": {
        "id": "DcIuU4vyHUX2"
      },
      "source": [
        "As seen in the qualitative, stacked bar plot above, gender does not seem to have much of an impact on whether an employee reaches out to their direct supervisor(s) with regard to a potential mental health concern. As such, we will leave this category in our dataset for now, but not add it to our 4 initial target predictors."
      ]
    },
    {
      "cell_type": "markdown",
      "metadata": {
        "id": "ordOy9I6jmDY"
      },
      "source": [
        "#### *iii) Country*"
      ]
    },
    {
      "cell_type": "code",
      "metadata": {
        "colab": {
          "base_uri": "https://localhost:8080/",
          "height": 542
        },
        "id": "p4WBY_Rljpyr",
        "outputId": "0bcdca47-2b08-453a-e226-a14225441b77"
      },
      "source": [
        "comp_country = df.groupby([\"country_bucket\"]).size().reset_index(name='Count')\r\n",
        "\r\n",
        "fig = go.Figure(data=[go.Pie(labels=comp_country[\"country_bucket\"],\r\n",
        "                             values=comp_country[\"Count\"],\r\n",
        "                             pull=[0.1, 0],\r\n",
        "                             title=\"Country Distribution\",\r\n",
        "                             )])\r\n",
        "\r\n",
        "fig.update_traces(hoverinfo='label+value', textinfo='percent', textfont_size=20,\r\n",
        "                  marker=dict(line=dict(color='#000000', width=2)))\r\n",
        "fig.show()"
      ],
      "execution_count": null,
      "outputs": [
        {
          "output_type": "display_data",
          "data": {
            "text/html": [
              "<html>\n",
              "<head><meta charset=\"utf-8\" /></head>\n",
              "<body>\n",
              "    <div>\n",
              "            <script src=\"https://cdnjs.cloudflare.com/ajax/libs/mathjax/2.7.5/MathJax.js?config=TeX-AMS-MML_SVG\"></script><script type=\"text/javascript\">if (window.MathJax) {MathJax.Hub.Config({SVG: {font: \"STIX-Web\"}});}</script>\n",
              "                <script type=\"text/javascript\">window.PlotlyConfig = {MathJaxConfig: 'local'};</script>\n",
              "        <script src=\"https://cdn.plot.ly/plotly-latest.min.js\"></script>    \n",
              "            <div id=\"51880984-ff48-4a28-a89d-32a2cd6dee4b\" class=\"plotly-graph-div\" style=\"height:525px; width:100%;\"></div>\n",
              "            <script type=\"text/javascript\">\n",
              "                \n",
              "                    window.PLOTLYENV=window.PLOTLYENV || {};\n",
              "                    \n",
              "                if (document.getElementById(\"51880984-ff48-4a28-a89d-32a2cd6dee4b\")) {\n",
              "                    Plotly.newPlot(\n",
              "                        '51880984-ff48-4a28-a89d-32a2cd6dee4b',\n",
              "                        [{\"hoverinfo\": \"label+value\", \"labels\": [\"Europe\", \"North America\", \"Other\"], \"marker\": {\"line\": {\"color\": \"#000000\", \"width\": 2}}, \"pull\": [0.1, 0], \"textfont\": {\"size\": 20}, \"textinfo\": \"percent\", \"title\": {\"text\": \"Country Distribution\"}, \"type\": \"pie\", \"values\": [362, 823, 74]}],\n",
              "                        {\"template\": {\"data\": {\"bar\": [{\"error_x\": {\"color\": \"#2a3f5f\"}, \"error_y\": {\"color\": \"#2a3f5f\"}, \"marker\": {\"line\": {\"color\": \"#E5ECF6\", \"width\": 0.5}}, \"type\": \"bar\"}], \"barpolar\": [{\"marker\": {\"line\": {\"color\": \"#E5ECF6\", \"width\": 0.5}}, \"type\": \"barpolar\"}], \"carpet\": [{\"aaxis\": {\"endlinecolor\": \"#2a3f5f\", \"gridcolor\": \"white\", \"linecolor\": \"white\", \"minorgridcolor\": \"white\", \"startlinecolor\": \"#2a3f5f\"}, \"baxis\": {\"endlinecolor\": \"#2a3f5f\", \"gridcolor\": \"white\", \"linecolor\": \"white\", \"minorgridcolor\": \"white\", \"startlinecolor\": \"#2a3f5f\"}, \"type\": \"carpet\"}], \"choropleth\": [{\"colorbar\": {\"outlinewidth\": 0, \"ticks\": \"\"}, \"type\": \"choropleth\"}], \"contour\": [{\"colorbar\": {\"outlinewidth\": 0, \"ticks\": \"\"}, \"colorscale\": [[0.0, \"#0d0887\"], [0.1111111111111111, \"#46039f\"], [0.2222222222222222, \"#7201a8\"], [0.3333333333333333, \"#9c179e\"], [0.4444444444444444, \"#bd3786\"], [0.5555555555555556, \"#d8576b\"], [0.6666666666666666, \"#ed7953\"], [0.7777777777777778, \"#fb9f3a\"], [0.8888888888888888, \"#fdca26\"], [1.0, \"#f0f921\"]], \"type\": \"contour\"}], \"contourcarpet\": [{\"colorbar\": {\"outlinewidth\": 0, \"ticks\": \"\"}, \"type\": \"contourcarpet\"}], \"heatmap\": [{\"colorbar\": {\"outlinewidth\": 0, \"ticks\": \"\"}, \"colorscale\": [[0.0, \"#0d0887\"], [0.1111111111111111, \"#46039f\"], [0.2222222222222222, \"#7201a8\"], [0.3333333333333333, \"#9c179e\"], [0.4444444444444444, \"#bd3786\"], [0.5555555555555556, \"#d8576b\"], [0.6666666666666666, \"#ed7953\"], [0.7777777777777778, \"#fb9f3a\"], [0.8888888888888888, \"#fdca26\"], [1.0, \"#f0f921\"]], \"type\": \"heatmap\"}], \"heatmapgl\": [{\"colorbar\": {\"outlinewidth\": 0, \"ticks\": \"\"}, \"colorscale\": [[0.0, \"#0d0887\"], [0.1111111111111111, \"#46039f\"], [0.2222222222222222, \"#7201a8\"], [0.3333333333333333, \"#9c179e\"], [0.4444444444444444, \"#bd3786\"], [0.5555555555555556, \"#d8576b\"], [0.6666666666666666, \"#ed7953\"], [0.7777777777777778, \"#fb9f3a\"], [0.8888888888888888, \"#fdca26\"], [1.0, \"#f0f921\"]], \"type\": \"heatmapgl\"}], \"histogram\": [{\"marker\": {\"colorbar\": {\"outlinewidth\": 0, \"ticks\": \"\"}}, \"type\": \"histogram\"}], \"histogram2d\": [{\"colorbar\": {\"outlinewidth\": 0, \"ticks\": \"\"}, \"colorscale\": [[0.0, \"#0d0887\"], [0.1111111111111111, \"#46039f\"], [0.2222222222222222, \"#7201a8\"], [0.3333333333333333, \"#9c179e\"], [0.4444444444444444, \"#bd3786\"], [0.5555555555555556, \"#d8576b\"], [0.6666666666666666, \"#ed7953\"], [0.7777777777777778, \"#fb9f3a\"], [0.8888888888888888, \"#fdca26\"], [1.0, \"#f0f921\"]], \"type\": \"histogram2d\"}], \"histogram2dcontour\": [{\"colorbar\": {\"outlinewidth\": 0, \"ticks\": \"\"}, \"colorscale\": [[0.0, \"#0d0887\"], [0.1111111111111111, \"#46039f\"], [0.2222222222222222, \"#7201a8\"], [0.3333333333333333, \"#9c179e\"], [0.4444444444444444, \"#bd3786\"], [0.5555555555555556, \"#d8576b\"], [0.6666666666666666, \"#ed7953\"], [0.7777777777777778, \"#fb9f3a\"], [0.8888888888888888, \"#fdca26\"], [1.0, \"#f0f921\"]], \"type\": \"histogram2dcontour\"}], \"mesh3d\": [{\"colorbar\": {\"outlinewidth\": 0, \"ticks\": \"\"}, \"type\": \"mesh3d\"}], \"parcoords\": [{\"line\": {\"colorbar\": {\"outlinewidth\": 0, \"ticks\": \"\"}}, \"type\": \"parcoords\"}], \"pie\": [{\"automargin\": true, \"type\": \"pie\"}], \"scatter\": [{\"marker\": {\"colorbar\": {\"outlinewidth\": 0, \"ticks\": \"\"}}, \"type\": \"scatter\"}], \"scatter3d\": [{\"line\": {\"colorbar\": {\"outlinewidth\": 0, \"ticks\": \"\"}}, \"marker\": {\"colorbar\": {\"outlinewidth\": 0, \"ticks\": \"\"}}, \"type\": \"scatter3d\"}], \"scattercarpet\": [{\"marker\": {\"colorbar\": {\"outlinewidth\": 0, \"ticks\": \"\"}}, \"type\": \"scattercarpet\"}], \"scattergeo\": [{\"marker\": {\"colorbar\": {\"outlinewidth\": 0, \"ticks\": \"\"}}, \"type\": \"scattergeo\"}], \"scattergl\": [{\"marker\": {\"colorbar\": {\"outlinewidth\": 0, \"ticks\": \"\"}}, \"type\": \"scattergl\"}], \"scattermapbox\": [{\"marker\": {\"colorbar\": {\"outlinewidth\": 0, \"ticks\": \"\"}}, \"type\": \"scattermapbox\"}], \"scatterpolar\": [{\"marker\": {\"colorbar\": {\"outlinewidth\": 0, \"ticks\": \"\"}}, \"type\": \"scatterpolar\"}], \"scatterpolargl\": [{\"marker\": {\"colorbar\": {\"outlinewidth\": 0, \"ticks\": \"\"}}, \"type\": \"scatterpolargl\"}], \"scatterternary\": [{\"marker\": {\"colorbar\": {\"outlinewidth\": 0, \"ticks\": \"\"}}, \"type\": \"scatterternary\"}], \"surface\": [{\"colorbar\": {\"outlinewidth\": 0, \"ticks\": \"\"}, \"colorscale\": [[0.0, \"#0d0887\"], [0.1111111111111111, \"#46039f\"], [0.2222222222222222, \"#7201a8\"], [0.3333333333333333, \"#9c179e\"], [0.4444444444444444, \"#bd3786\"], [0.5555555555555556, \"#d8576b\"], [0.6666666666666666, \"#ed7953\"], [0.7777777777777778, \"#fb9f3a\"], [0.8888888888888888, \"#fdca26\"], [1.0, \"#f0f921\"]], \"type\": \"surface\"}], \"table\": [{\"cells\": {\"fill\": {\"color\": \"#EBF0F8\"}, \"line\": {\"color\": \"white\"}}, \"header\": {\"fill\": {\"color\": \"#C8D4E3\"}, \"line\": {\"color\": \"white\"}}, \"type\": \"table\"}]}, \"layout\": {\"annotationdefaults\": {\"arrowcolor\": \"#2a3f5f\", \"arrowhead\": 0, \"arrowwidth\": 1}, \"coloraxis\": {\"colorbar\": {\"outlinewidth\": 0, \"ticks\": \"\"}}, \"colorscale\": {\"diverging\": [[0, \"#8e0152\"], [0.1, \"#c51b7d\"], [0.2, \"#de77ae\"], [0.3, \"#f1b6da\"], [0.4, \"#fde0ef\"], [0.5, \"#f7f7f7\"], [0.6, \"#e6f5d0\"], [0.7, \"#b8e186\"], [0.8, \"#7fbc41\"], [0.9, \"#4d9221\"], [1, \"#276419\"]], \"sequential\": [[0.0, \"#0d0887\"], [0.1111111111111111, \"#46039f\"], [0.2222222222222222, \"#7201a8\"], [0.3333333333333333, \"#9c179e\"], [0.4444444444444444, \"#bd3786\"], [0.5555555555555556, \"#d8576b\"], [0.6666666666666666, \"#ed7953\"], [0.7777777777777778, \"#fb9f3a\"], [0.8888888888888888, \"#fdca26\"], [1.0, \"#f0f921\"]], \"sequentialminus\": [[0.0, \"#0d0887\"], [0.1111111111111111, \"#46039f\"], [0.2222222222222222, \"#7201a8\"], [0.3333333333333333, \"#9c179e\"], [0.4444444444444444, \"#bd3786\"], [0.5555555555555556, \"#d8576b\"], [0.6666666666666666, \"#ed7953\"], [0.7777777777777778, \"#fb9f3a\"], [0.8888888888888888, \"#fdca26\"], [1.0, \"#f0f921\"]]}, \"colorway\": [\"#636efa\", \"#EF553B\", \"#00cc96\", \"#ab63fa\", \"#FFA15A\", \"#19d3f3\", \"#FF6692\", \"#B6E880\", \"#FF97FF\", \"#FECB52\"], \"font\": {\"color\": \"#2a3f5f\"}, \"geo\": {\"bgcolor\": \"white\", \"lakecolor\": \"white\", \"landcolor\": \"#E5ECF6\", \"showlakes\": true, \"showland\": true, \"subunitcolor\": \"white\"}, \"hoverlabel\": {\"align\": \"left\"}, \"hovermode\": \"closest\", \"mapbox\": {\"style\": \"light\"}, \"paper_bgcolor\": \"white\", \"plot_bgcolor\": \"#E5ECF6\", \"polar\": {\"angularaxis\": {\"gridcolor\": \"white\", \"linecolor\": \"white\", \"ticks\": \"\"}, \"bgcolor\": \"#E5ECF6\", \"radialaxis\": {\"gridcolor\": \"white\", \"linecolor\": \"white\", \"ticks\": \"\"}}, \"scene\": {\"xaxis\": {\"backgroundcolor\": \"#E5ECF6\", \"gridcolor\": \"white\", \"gridwidth\": 2, \"linecolor\": \"white\", \"showbackground\": true, \"ticks\": \"\", \"zerolinecolor\": \"white\"}, \"yaxis\": {\"backgroundcolor\": \"#E5ECF6\", \"gridcolor\": \"white\", \"gridwidth\": 2, \"linecolor\": \"white\", \"showbackground\": true, \"ticks\": \"\", \"zerolinecolor\": \"white\"}, \"zaxis\": {\"backgroundcolor\": \"#E5ECF6\", \"gridcolor\": \"white\", \"gridwidth\": 2, \"linecolor\": \"white\", \"showbackground\": true, \"ticks\": \"\", \"zerolinecolor\": \"white\"}}, \"shapedefaults\": {\"line\": {\"color\": \"#2a3f5f\"}}, \"ternary\": {\"aaxis\": {\"gridcolor\": \"white\", \"linecolor\": \"white\", \"ticks\": \"\"}, \"baxis\": {\"gridcolor\": \"white\", \"linecolor\": \"white\", \"ticks\": \"\"}, \"bgcolor\": \"#E5ECF6\", \"caxis\": {\"gridcolor\": \"white\", \"linecolor\": \"white\", \"ticks\": \"\"}}, \"title\": {\"x\": 0.05}, \"xaxis\": {\"automargin\": true, \"gridcolor\": \"white\", \"linecolor\": \"white\", \"ticks\": \"\", \"title\": {\"standoff\": 15}, \"zerolinecolor\": \"white\", \"zerolinewidth\": 2}, \"yaxis\": {\"automargin\": true, \"gridcolor\": \"white\", \"linecolor\": \"white\", \"ticks\": \"\", \"title\": {\"standoff\": 15}, \"zerolinecolor\": \"white\", \"zerolinewidth\": 2}}}},\n",
              "                        {\"responsive\": true}\n",
              "                    ).then(function(){\n",
              "                            \n",
              "var gd = document.getElementById('51880984-ff48-4a28-a89d-32a2cd6dee4b');\n",
              "var x = new MutationObserver(function (mutations, observer) {{\n",
              "        var display = window.getComputedStyle(gd).display;\n",
              "        if (!display || display === 'none') {{\n",
              "            console.log([gd, 'removed!']);\n",
              "            Plotly.purge(gd);\n",
              "            observer.disconnect();\n",
              "        }}\n",
              "}});\n",
              "\n",
              "// Listen for the removal of the full notebook cells\n",
              "var notebookContainer = gd.closest('#notebook-container');\n",
              "if (notebookContainer) {{\n",
              "    x.observe(notebookContainer, {childList: true});\n",
              "}}\n",
              "\n",
              "// Listen for the clearing of the current output cell\n",
              "var outputEl = gd.closest('.output');\n",
              "if (outputEl) {{\n",
              "    x.observe(outputEl, {childList: true});\n",
              "}}\n",
              "\n",
              "                        })\n",
              "                };\n",
              "                \n",
              "            </script>\n",
              "        </div>\n",
              "</body>\n",
              "</html>"
            ]
          },
          "metadata": {
            "tags": []
          }
        }
      ]
    },
    {
      "cell_type": "markdown",
      "metadata": {
        "id": "AxeIvs2VHvkX"
      },
      "source": [
        "As shown qualitatively in the pie chart above, North American Countries dominate the dataset (**65.4%** of responses), closely followed by European countries (**28.8%** of responses). However, the 'Other' bucket pales in comparison, at **5.88%**. Nevertheless, not unlike the **gender** category, it may be too early to exclude this variable, so let us see qualitatively see what its effect is on the response variable."
      ]
    },
    {
      "cell_type": "code",
      "metadata": {
        "colab": {
          "base_uri": "https://localhost:8080/",
          "height": 542
        },
        "id": "iWjgaKW6jyWV",
        "outputId": "a51ace5b-4b2a-4149-9902-803229667fe0"
      },
      "source": [
        "comp_gb = df.groupby([\"supervisor\",\"country_bucket\"]).size().reset_index(name='Count')\r\n",
        "fig = px.bar(comp_gb,\r\n",
        "             x=\"supervisor\",\r\n",
        "             y=\"Count\",\r\n",
        "             color=\"country_bucket\",\r\n",
        "             barmode='group',\r\n",
        "             color_discrete_sequence=px.colors.qualitative.D3, \r\n",
        "             title='Distribution of Likelihood to Reach Out to Supervisor by Country'\r\n",
        "             )\r\n",
        "fig.show()"
      ],
      "execution_count": null,
      "outputs": [
        {
          "output_type": "display_data",
          "data": {
            "text/html": [
              "<html>\n",
              "<head><meta charset=\"utf-8\" /></head>\n",
              "<body>\n",
              "    <div>\n",
              "            <script src=\"https://cdnjs.cloudflare.com/ajax/libs/mathjax/2.7.5/MathJax.js?config=TeX-AMS-MML_SVG\"></script><script type=\"text/javascript\">if (window.MathJax) {MathJax.Hub.Config({SVG: {font: \"STIX-Web\"}});}</script>\n",
              "                <script type=\"text/javascript\">window.PlotlyConfig = {MathJaxConfig: 'local'};</script>\n",
              "        <script src=\"https://cdn.plot.ly/plotly-latest.min.js\"></script>    \n",
              "            <div id=\"55ad7c86-8329-4987-afdf-17bda0a9cd76\" class=\"plotly-graph-div\" style=\"height:525px; width:100%;\"></div>\n",
              "            <script type=\"text/javascript\">\n",
              "                \n",
              "                    window.PLOTLYENV=window.PLOTLYENV || {};\n",
              "                    \n",
              "                if (document.getElementById(\"55ad7c86-8329-4987-afdf-17bda0a9cd76\")) {\n",
              "                    Plotly.newPlot(\n",
              "                        '55ad7c86-8329-4987-afdf-17bda0a9cd76',\n",
              "                        [{\"alignmentgroup\": \"True\", \"hoverlabel\": {\"namelength\": 0}, \"hovertemplate\": \"country_bucket=Europe<br>supervisor=%{x}<br>Count=%{y}\", \"legendgroup\": \"country_bucket=Europe\", \"marker\": {\"color\": \"#1F77B4\"}, \"name\": \"country_bucket=Europe\", \"offsetgroup\": \"country_bucket=Europe\", \"orientation\": \"v\", \"showlegend\": true, \"textposition\": \"auto\", \"type\": \"bar\", \"x\": [\"No\", \"Some of them\", \"Yes\"], \"xaxis\": \"x\", \"y\": [111, 103, 148], \"yaxis\": \"y\"}, {\"alignmentgroup\": \"True\", \"hoverlabel\": {\"namelength\": 0}, \"hovertemplate\": \"country_bucket=North America<br>supervisor=%{x}<br>Count=%{y}\", \"legendgroup\": \"country_bucket=North America\", \"marker\": {\"color\": \"#FF7F0E\"}, \"name\": \"country_bucket=North America\", \"offsetgroup\": \"country_bucket=North America\", \"orientation\": \"v\", \"showlegend\": true, \"textposition\": \"auto\", \"type\": \"bar\", \"x\": [\"No\", \"Some of them\", \"Yes\"], \"xaxis\": \"x\", \"y\": [258, 233, 332], \"yaxis\": \"y\"}, {\"alignmentgroup\": \"True\", \"hoverlabel\": {\"namelength\": 0}, \"hovertemplate\": \"country_bucket=Other<br>supervisor=%{x}<br>Count=%{y}\", \"legendgroup\": \"country_bucket=Other\", \"marker\": {\"color\": \"#2CA02C\"}, \"name\": \"country_bucket=Other\", \"offsetgroup\": \"country_bucket=Other\", \"orientation\": \"v\", \"showlegend\": true, \"textposition\": \"auto\", \"type\": \"bar\", \"x\": [\"No\", \"Some of them\", \"Yes\"], \"xaxis\": \"x\", \"y\": [24, 14, 36], \"yaxis\": \"y\"}],\n",
              "                        {\"barmode\": \"group\", \"legend\": {\"tracegroupgap\": 0}, \"template\": {\"data\": {\"bar\": [{\"error_x\": {\"color\": \"#2a3f5f\"}, \"error_y\": {\"color\": \"#2a3f5f\"}, \"marker\": {\"line\": {\"color\": \"#E5ECF6\", \"width\": 0.5}}, \"type\": \"bar\"}], \"barpolar\": [{\"marker\": {\"line\": {\"color\": \"#E5ECF6\", \"width\": 0.5}}, \"type\": \"barpolar\"}], \"carpet\": [{\"aaxis\": {\"endlinecolor\": \"#2a3f5f\", \"gridcolor\": \"white\", \"linecolor\": \"white\", \"minorgridcolor\": \"white\", \"startlinecolor\": \"#2a3f5f\"}, \"baxis\": {\"endlinecolor\": \"#2a3f5f\", \"gridcolor\": \"white\", \"linecolor\": \"white\", \"minorgridcolor\": \"white\", \"startlinecolor\": \"#2a3f5f\"}, \"type\": \"carpet\"}], \"choropleth\": [{\"colorbar\": {\"outlinewidth\": 0, \"ticks\": \"\"}, \"type\": \"choropleth\"}], \"contour\": [{\"colorbar\": {\"outlinewidth\": 0, \"ticks\": \"\"}, \"colorscale\": [[0.0, \"#0d0887\"], [0.1111111111111111, \"#46039f\"], [0.2222222222222222, \"#7201a8\"], [0.3333333333333333, \"#9c179e\"], [0.4444444444444444, \"#bd3786\"], [0.5555555555555556, \"#d8576b\"], [0.6666666666666666, \"#ed7953\"], [0.7777777777777778, \"#fb9f3a\"], [0.8888888888888888, \"#fdca26\"], [1.0, \"#f0f921\"]], \"type\": \"contour\"}], \"contourcarpet\": [{\"colorbar\": {\"outlinewidth\": 0, \"ticks\": \"\"}, \"type\": \"contourcarpet\"}], \"heatmap\": [{\"colorbar\": {\"outlinewidth\": 0, \"ticks\": \"\"}, \"colorscale\": [[0.0, \"#0d0887\"], [0.1111111111111111, \"#46039f\"], [0.2222222222222222, \"#7201a8\"], [0.3333333333333333, \"#9c179e\"], [0.4444444444444444, \"#bd3786\"], [0.5555555555555556, \"#d8576b\"], [0.6666666666666666, \"#ed7953\"], [0.7777777777777778, \"#fb9f3a\"], [0.8888888888888888, \"#fdca26\"], [1.0, \"#f0f921\"]], \"type\": \"heatmap\"}], \"heatmapgl\": [{\"colorbar\": {\"outlinewidth\": 0, \"ticks\": \"\"}, \"colorscale\": [[0.0, \"#0d0887\"], [0.1111111111111111, \"#46039f\"], [0.2222222222222222, \"#7201a8\"], [0.3333333333333333, \"#9c179e\"], [0.4444444444444444, \"#bd3786\"], [0.5555555555555556, \"#d8576b\"], [0.6666666666666666, \"#ed7953\"], [0.7777777777777778, \"#fb9f3a\"], [0.8888888888888888, \"#fdca26\"], [1.0, \"#f0f921\"]], \"type\": \"heatmapgl\"}], \"histogram\": [{\"marker\": {\"colorbar\": {\"outlinewidth\": 0, \"ticks\": \"\"}}, \"type\": \"histogram\"}], \"histogram2d\": [{\"colorbar\": {\"outlinewidth\": 0, \"ticks\": \"\"}, \"colorscale\": [[0.0, \"#0d0887\"], [0.1111111111111111, \"#46039f\"], [0.2222222222222222, \"#7201a8\"], [0.3333333333333333, \"#9c179e\"], [0.4444444444444444, \"#bd3786\"], [0.5555555555555556, \"#d8576b\"], [0.6666666666666666, \"#ed7953\"], [0.7777777777777778, \"#fb9f3a\"], [0.8888888888888888, \"#fdca26\"], [1.0, \"#f0f921\"]], \"type\": \"histogram2d\"}], \"histogram2dcontour\": [{\"colorbar\": {\"outlinewidth\": 0, \"ticks\": \"\"}, \"colorscale\": [[0.0, \"#0d0887\"], [0.1111111111111111, \"#46039f\"], [0.2222222222222222, \"#7201a8\"], [0.3333333333333333, \"#9c179e\"], [0.4444444444444444, \"#bd3786\"], [0.5555555555555556, \"#d8576b\"], [0.6666666666666666, \"#ed7953\"], [0.7777777777777778, \"#fb9f3a\"], [0.8888888888888888, \"#fdca26\"], [1.0, \"#f0f921\"]], \"type\": \"histogram2dcontour\"}], \"mesh3d\": [{\"colorbar\": {\"outlinewidth\": 0, \"ticks\": \"\"}, \"type\": \"mesh3d\"}], \"parcoords\": [{\"line\": {\"colorbar\": {\"outlinewidth\": 0, \"ticks\": \"\"}}, \"type\": \"parcoords\"}], \"pie\": [{\"automargin\": true, \"type\": \"pie\"}], \"scatter\": [{\"marker\": {\"colorbar\": {\"outlinewidth\": 0, \"ticks\": \"\"}}, \"type\": \"scatter\"}], \"scatter3d\": [{\"line\": {\"colorbar\": {\"outlinewidth\": 0, \"ticks\": \"\"}}, \"marker\": {\"colorbar\": {\"outlinewidth\": 0, \"ticks\": \"\"}}, \"type\": \"scatter3d\"}], \"scattercarpet\": [{\"marker\": {\"colorbar\": {\"outlinewidth\": 0, \"ticks\": \"\"}}, \"type\": \"scattercarpet\"}], \"scattergeo\": [{\"marker\": {\"colorbar\": {\"outlinewidth\": 0, \"ticks\": \"\"}}, \"type\": \"scattergeo\"}], \"scattergl\": [{\"marker\": {\"colorbar\": {\"outlinewidth\": 0, \"ticks\": \"\"}}, \"type\": \"scattergl\"}], \"scattermapbox\": [{\"marker\": {\"colorbar\": {\"outlinewidth\": 0, \"ticks\": \"\"}}, \"type\": \"scattermapbox\"}], \"scatterpolar\": [{\"marker\": {\"colorbar\": {\"outlinewidth\": 0, \"ticks\": \"\"}}, \"type\": \"scatterpolar\"}], \"scatterpolargl\": [{\"marker\": {\"colorbar\": {\"outlinewidth\": 0, \"ticks\": \"\"}}, \"type\": \"scatterpolargl\"}], \"scatterternary\": [{\"marker\": {\"colorbar\": {\"outlinewidth\": 0, \"ticks\": \"\"}}, \"type\": \"scatterternary\"}], \"surface\": [{\"colorbar\": {\"outlinewidth\": 0, \"ticks\": \"\"}, \"colorscale\": [[0.0, \"#0d0887\"], [0.1111111111111111, \"#46039f\"], [0.2222222222222222, \"#7201a8\"], [0.3333333333333333, \"#9c179e\"], [0.4444444444444444, \"#bd3786\"], [0.5555555555555556, \"#d8576b\"], [0.6666666666666666, \"#ed7953\"], [0.7777777777777778, \"#fb9f3a\"], [0.8888888888888888, \"#fdca26\"], [1.0, \"#f0f921\"]], \"type\": \"surface\"}], \"table\": [{\"cells\": {\"fill\": {\"color\": \"#EBF0F8\"}, \"line\": {\"color\": \"white\"}}, \"header\": {\"fill\": {\"color\": \"#C8D4E3\"}, \"line\": {\"color\": \"white\"}}, \"type\": \"table\"}]}, \"layout\": {\"annotationdefaults\": {\"arrowcolor\": \"#2a3f5f\", \"arrowhead\": 0, \"arrowwidth\": 1}, \"coloraxis\": {\"colorbar\": {\"outlinewidth\": 0, \"ticks\": \"\"}}, \"colorscale\": {\"diverging\": [[0, \"#8e0152\"], [0.1, \"#c51b7d\"], [0.2, \"#de77ae\"], [0.3, \"#f1b6da\"], [0.4, \"#fde0ef\"], [0.5, \"#f7f7f7\"], [0.6, \"#e6f5d0\"], [0.7, \"#b8e186\"], [0.8, \"#7fbc41\"], [0.9, \"#4d9221\"], [1, \"#276419\"]], \"sequential\": [[0.0, \"#0d0887\"], [0.1111111111111111, \"#46039f\"], [0.2222222222222222, \"#7201a8\"], [0.3333333333333333, \"#9c179e\"], [0.4444444444444444, \"#bd3786\"], [0.5555555555555556, \"#d8576b\"], [0.6666666666666666, \"#ed7953\"], [0.7777777777777778, \"#fb9f3a\"], [0.8888888888888888, \"#fdca26\"], [1.0, \"#f0f921\"]], \"sequentialminus\": [[0.0, \"#0d0887\"], [0.1111111111111111, \"#46039f\"], [0.2222222222222222, \"#7201a8\"], [0.3333333333333333, \"#9c179e\"], [0.4444444444444444, \"#bd3786\"], [0.5555555555555556, \"#d8576b\"], [0.6666666666666666, \"#ed7953\"], [0.7777777777777778, \"#fb9f3a\"], [0.8888888888888888, \"#fdca26\"], [1.0, \"#f0f921\"]]}, \"colorway\": [\"#636efa\", \"#EF553B\", \"#00cc96\", \"#ab63fa\", \"#FFA15A\", \"#19d3f3\", \"#FF6692\", \"#B6E880\", \"#FF97FF\", \"#FECB52\"], \"font\": {\"color\": \"#2a3f5f\"}, \"geo\": {\"bgcolor\": \"white\", \"lakecolor\": \"white\", \"landcolor\": \"#E5ECF6\", \"showlakes\": true, \"showland\": true, \"subunitcolor\": \"white\"}, \"hoverlabel\": {\"align\": \"left\"}, \"hovermode\": \"closest\", \"mapbox\": {\"style\": \"light\"}, \"paper_bgcolor\": \"white\", \"plot_bgcolor\": \"#E5ECF6\", \"polar\": {\"angularaxis\": {\"gridcolor\": \"white\", \"linecolor\": \"white\", \"ticks\": \"\"}, \"bgcolor\": \"#E5ECF6\", \"radialaxis\": {\"gridcolor\": \"white\", \"linecolor\": \"white\", \"ticks\": \"\"}}, \"scene\": {\"xaxis\": {\"backgroundcolor\": \"#E5ECF6\", \"gridcolor\": \"white\", \"gridwidth\": 2, \"linecolor\": \"white\", \"showbackground\": true, \"ticks\": \"\", \"zerolinecolor\": \"white\"}, \"yaxis\": {\"backgroundcolor\": \"#E5ECF6\", \"gridcolor\": \"white\", \"gridwidth\": 2, \"linecolor\": \"white\", \"showbackground\": true, \"ticks\": \"\", \"zerolinecolor\": \"white\"}, \"zaxis\": {\"backgroundcolor\": \"#E5ECF6\", \"gridcolor\": \"white\", \"gridwidth\": 2, \"linecolor\": \"white\", \"showbackground\": true, \"ticks\": \"\", \"zerolinecolor\": \"white\"}}, \"shapedefaults\": {\"line\": {\"color\": \"#2a3f5f\"}}, \"ternary\": {\"aaxis\": {\"gridcolor\": \"white\", \"linecolor\": \"white\", \"ticks\": \"\"}, \"baxis\": {\"gridcolor\": \"white\", \"linecolor\": \"white\", \"ticks\": \"\"}, \"bgcolor\": \"#E5ECF6\", \"caxis\": {\"gridcolor\": \"white\", \"linecolor\": \"white\", \"ticks\": \"\"}}, \"title\": {\"x\": 0.05}, \"xaxis\": {\"automargin\": true, \"gridcolor\": \"white\", \"linecolor\": \"white\", \"ticks\": \"\", \"title\": {\"standoff\": 15}, \"zerolinecolor\": \"white\", \"zerolinewidth\": 2}, \"yaxis\": {\"automargin\": true, \"gridcolor\": \"white\", \"linecolor\": \"white\", \"ticks\": \"\", \"title\": {\"standoff\": 15}, \"zerolinecolor\": \"white\", \"zerolinewidth\": 2}}}, \"title\": {\"text\": \"Distribution of Likelihood to Reach Out to Supervisor by Country\"}, \"xaxis\": {\"anchor\": \"y\", \"domain\": [0.0, 1.0], \"title\": {\"text\": \"supervisor\"}}, \"yaxis\": {\"anchor\": \"x\", \"domain\": [0.0, 1.0], \"title\": {\"text\": \"Count\"}}},\n",
              "                        {\"responsive\": true}\n",
              "                    ).then(function(){\n",
              "                            \n",
              "var gd = document.getElementById('55ad7c86-8329-4987-afdf-17bda0a9cd76');\n",
              "var x = new MutationObserver(function (mutations, observer) {{\n",
              "        var display = window.getComputedStyle(gd).display;\n",
              "        if (!display || display === 'none') {{\n",
              "            console.log([gd, 'removed!']);\n",
              "            Plotly.purge(gd);\n",
              "            observer.disconnect();\n",
              "        }}\n",
              "}});\n",
              "\n",
              "// Listen for the removal of the full notebook cells\n",
              "var notebookContainer = gd.closest('#notebook-container');\n",
              "if (notebookContainer) {{\n",
              "    x.observe(notebookContainer, {childList: true});\n",
              "}}\n",
              "\n",
              "// Listen for the clearing of the current output cell\n",
              "var outputEl = gd.closest('.output');\n",
              "if (outputEl) {{\n",
              "    x.observe(outputEl, {childList: true});\n",
              "}}\n",
              "\n",
              "                        })\n",
              "                };\n",
              "                \n",
              "            </script>\n",
              "        </div>\n",
              "</body>\n",
              "</html>"
            ]
          },
          "metadata": {
            "tags": []
          }
        }
      ]
    },
    {
      "cell_type": "markdown",
      "metadata": {
        "id": "CIhHJMzjIL6O"
      },
      "source": [
        "Surprisingly, country does not play much of a role in determining whether or not an employee will reach out to their direct supervisor(s) to discuss a potential mental health concern. Given the various laws, healthcare systems, and benefits provided by different countries with respect to mental health, this is surprising. Nevertheless, we will keep the **country_bucket** category in our dataset for now, but we will not add it to our hypothesized 4 initial target predictors."
      ]
    },
    {
      "cell_type": "markdown",
      "metadata": {
        "id": "740GzQrlfnJI"
      },
      "source": [
        "<a name=\"Q3\"></a>\r\n",
        "### ***c) Key Question #3: How much of a role do our 4 initial target predictors play a role in the willingness of employees to reach out to their direct supervisor(s)?***"
      ]
    },
    {
      "cell_type": "markdown",
      "metadata": {
        "id": "UgqlZ__QIler"
      },
      "source": [
        "With demographic indicators out of the way, let us move on to analyzing our 4 initial target predictors. As a refresher, they are **no_employees**, **remote_work**, **benefits**, and **obs_consequence**."
      ]
    },
    {
      "cell_type": "markdown",
      "metadata": {
        "id": "cc_FpSacfrzR"
      },
      "source": [
        "#### *i) no_employees*"
      ]
    },
    {
      "cell_type": "markdown",
      "metadata": {
        "id": "oJZzqT0iI8H3"
      },
      "source": [
        "As previously mentioned, the **no_employees** feature tracks how many employees are present at the subject's workplace."
      ]
    },
    {
      "cell_type": "code",
      "metadata": {
        "colab": {
          "base_uri": "https://localhost:8080/",
          "height": 542
        },
        "id": "qAayqTKLCC4W",
        "outputId": "34830f60-9cff-4fe1-846b-bcb0fbece5a9"
      },
      "source": [
        "comp_employees = df.groupby([\"no_employees\"]).size().reset_index(name='Count')\n",
        "fig = px.bar(comp_employees,\n",
        "             x=\"no_employees\",\n",
        "             y=\"Count\",\n",
        "             color_discrete_sequence=px.colors.qualitative.D3, \n",
        "             title='Number Employees Distribution'\n",
        "             )\n",
        "fig.show()"
      ],
      "execution_count": null,
      "outputs": [
        {
          "output_type": "display_data",
          "data": {
            "text/html": [
              "<html>\n",
              "<head><meta charset=\"utf-8\" /></head>\n",
              "<body>\n",
              "    <div>\n",
              "            <script src=\"https://cdnjs.cloudflare.com/ajax/libs/mathjax/2.7.5/MathJax.js?config=TeX-AMS-MML_SVG\"></script><script type=\"text/javascript\">if (window.MathJax) {MathJax.Hub.Config({SVG: {font: \"STIX-Web\"}});}</script>\n",
              "                <script type=\"text/javascript\">window.PlotlyConfig = {MathJaxConfig: 'local'};</script>\n",
              "        <script src=\"https://cdn.plot.ly/plotly-latest.min.js\"></script>    \n",
              "            <div id=\"01e4e1f8-a80b-4118-8b5a-91161d485aed\" class=\"plotly-graph-div\" style=\"height:525px; width:100%;\"></div>\n",
              "            <script type=\"text/javascript\">\n",
              "                \n",
              "                    window.PLOTLYENV=window.PLOTLYENV || {};\n",
              "                    \n",
              "                if (document.getElementById(\"01e4e1f8-a80b-4118-8b5a-91161d485aed\")) {\n",
              "                    Plotly.newPlot(\n",
              "                        '01e4e1f8-a80b-4118-8b5a-91161d485aed',\n",
              "                        [{\"alignmentgroup\": \"True\", \"hoverlabel\": {\"namelength\": 0}, \"hovertemplate\": \"no_employees=%{x}<br>Count=%{y}\", \"legendgroup\": \"\", \"marker\": {\"color\": \"#1F77B4\"}, \"name\": \"\", \"offsetgroup\": \"\", \"orientation\": \"v\", \"showlegend\": false, \"textposition\": \"auto\", \"type\": \"bar\", \"x\": [\"1-5\", \"6-25\", \"26-100\", \"100-500\", \"500-1000\", \"More than 1000\"], \"xaxis\": \"x\", \"y\": [162, 290, 289, 176, 60, 282], \"yaxis\": \"y\"}],\n",
              "                        {\"barmode\": \"relative\", \"legend\": {\"tracegroupgap\": 0}, \"template\": {\"data\": {\"bar\": [{\"error_x\": {\"color\": \"#2a3f5f\"}, \"error_y\": {\"color\": \"#2a3f5f\"}, \"marker\": {\"line\": {\"color\": \"#E5ECF6\", \"width\": 0.5}}, \"type\": \"bar\"}], \"barpolar\": [{\"marker\": {\"line\": {\"color\": \"#E5ECF6\", \"width\": 0.5}}, \"type\": \"barpolar\"}], \"carpet\": [{\"aaxis\": {\"endlinecolor\": \"#2a3f5f\", \"gridcolor\": \"white\", \"linecolor\": \"white\", \"minorgridcolor\": \"white\", \"startlinecolor\": \"#2a3f5f\"}, \"baxis\": {\"endlinecolor\": \"#2a3f5f\", \"gridcolor\": \"white\", \"linecolor\": \"white\", \"minorgridcolor\": \"white\", \"startlinecolor\": \"#2a3f5f\"}, \"type\": \"carpet\"}], \"choropleth\": [{\"colorbar\": {\"outlinewidth\": 0, \"ticks\": \"\"}, \"type\": \"choropleth\"}], \"contour\": [{\"colorbar\": {\"outlinewidth\": 0, \"ticks\": \"\"}, \"colorscale\": [[0.0, \"#0d0887\"], [0.1111111111111111, \"#46039f\"], [0.2222222222222222, \"#7201a8\"], [0.3333333333333333, \"#9c179e\"], [0.4444444444444444, \"#bd3786\"], [0.5555555555555556, \"#d8576b\"], [0.6666666666666666, \"#ed7953\"], [0.7777777777777778, \"#fb9f3a\"], [0.8888888888888888, \"#fdca26\"], [1.0, \"#f0f921\"]], \"type\": \"contour\"}], \"contourcarpet\": [{\"colorbar\": {\"outlinewidth\": 0, \"ticks\": \"\"}, \"type\": \"contourcarpet\"}], \"heatmap\": [{\"colorbar\": {\"outlinewidth\": 0, \"ticks\": \"\"}, \"colorscale\": [[0.0, \"#0d0887\"], [0.1111111111111111, \"#46039f\"], [0.2222222222222222, \"#7201a8\"], [0.3333333333333333, \"#9c179e\"], [0.4444444444444444, \"#bd3786\"], [0.5555555555555556, \"#d8576b\"], [0.6666666666666666, \"#ed7953\"], [0.7777777777777778, \"#fb9f3a\"], [0.8888888888888888, \"#fdca26\"], [1.0, \"#f0f921\"]], \"type\": \"heatmap\"}], \"heatmapgl\": [{\"colorbar\": {\"outlinewidth\": 0, \"ticks\": \"\"}, \"colorscale\": [[0.0, \"#0d0887\"], [0.1111111111111111, \"#46039f\"], [0.2222222222222222, \"#7201a8\"], [0.3333333333333333, \"#9c179e\"], [0.4444444444444444, \"#bd3786\"], [0.5555555555555556, \"#d8576b\"], [0.6666666666666666, \"#ed7953\"], [0.7777777777777778, \"#fb9f3a\"], [0.8888888888888888, \"#fdca26\"], [1.0, \"#f0f921\"]], \"type\": \"heatmapgl\"}], \"histogram\": [{\"marker\": {\"colorbar\": {\"outlinewidth\": 0, \"ticks\": \"\"}}, \"type\": \"histogram\"}], \"histogram2d\": [{\"colorbar\": {\"outlinewidth\": 0, \"ticks\": \"\"}, \"colorscale\": [[0.0, \"#0d0887\"], [0.1111111111111111, \"#46039f\"], [0.2222222222222222, \"#7201a8\"], [0.3333333333333333, \"#9c179e\"], [0.4444444444444444, \"#bd3786\"], [0.5555555555555556, \"#d8576b\"], [0.6666666666666666, \"#ed7953\"], [0.7777777777777778, \"#fb9f3a\"], [0.8888888888888888, \"#fdca26\"], [1.0, \"#f0f921\"]], \"type\": \"histogram2d\"}], \"histogram2dcontour\": [{\"colorbar\": {\"outlinewidth\": 0, \"ticks\": \"\"}, \"colorscale\": [[0.0, \"#0d0887\"], [0.1111111111111111, \"#46039f\"], [0.2222222222222222, \"#7201a8\"], [0.3333333333333333, \"#9c179e\"], [0.4444444444444444, \"#bd3786\"], [0.5555555555555556, \"#d8576b\"], [0.6666666666666666, \"#ed7953\"], [0.7777777777777778, \"#fb9f3a\"], [0.8888888888888888, \"#fdca26\"], [1.0, \"#f0f921\"]], \"type\": \"histogram2dcontour\"}], \"mesh3d\": [{\"colorbar\": {\"outlinewidth\": 0, \"ticks\": \"\"}, \"type\": \"mesh3d\"}], \"parcoords\": [{\"line\": {\"colorbar\": {\"outlinewidth\": 0, \"ticks\": \"\"}}, \"type\": \"parcoords\"}], \"pie\": [{\"automargin\": true, \"type\": \"pie\"}], \"scatter\": [{\"marker\": {\"colorbar\": {\"outlinewidth\": 0, \"ticks\": \"\"}}, \"type\": \"scatter\"}], \"scatter3d\": [{\"line\": {\"colorbar\": {\"outlinewidth\": 0, \"ticks\": \"\"}}, \"marker\": {\"colorbar\": {\"outlinewidth\": 0, \"ticks\": \"\"}}, \"type\": \"scatter3d\"}], \"scattercarpet\": [{\"marker\": {\"colorbar\": {\"outlinewidth\": 0, \"ticks\": \"\"}}, \"type\": \"scattercarpet\"}], \"scattergeo\": [{\"marker\": {\"colorbar\": {\"outlinewidth\": 0, \"ticks\": \"\"}}, \"type\": \"scattergeo\"}], \"scattergl\": [{\"marker\": {\"colorbar\": {\"outlinewidth\": 0, \"ticks\": \"\"}}, \"type\": \"scattergl\"}], \"scattermapbox\": [{\"marker\": {\"colorbar\": {\"outlinewidth\": 0, \"ticks\": \"\"}}, \"type\": \"scattermapbox\"}], \"scatterpolar\": [{\"marker\": {\"colorbar\": {\"outlinewidth\": 0, \"ticks\": \"\"}}, \"type\": \"scatterpolar\"}], \"scatterpolargl\": [{\"marker\": {\"colorbar\": {\"outlinewidth\": 0, \"ticks\": \"\"}}, \"type\": \"scatterpolargl\"}], \"scatterternary\": [{\"marker\": {\"colorbar\": {\"outlinewidth\": 0, \"ticks\": \"\"}}, \"type\": \"scatterternary\"}], \"surface\": [{\"colorbar\": {\"outlinewidth\": 0, \"ticks\": \"\"}, \"colorscale\": [[0.0, \"#0d0887\"], [0.1111111111111111, \"#46039f\"], [0.2222222222222222, \"#7201a8\"], [0.3333333333333333, \"#9c179e\"], [0.4444444444444444, \"#bd3786\"], [0.5555555555555556, \"#d8576b\"], [0.6666666666666666, \"#ed7953\"], [0.7777777777777778, \"#fb9f3a\"], [0.8888888888888888, \"#fdca26\"], [1.0, \"#f0f921\"]], \"type\": \"surface\"}], \"table\": [{\"cells\": {\"fill\": {\"color\": \"#EBF0F8\"}, \"line\": {\"color\": \"white\"}}, \"header\": {\"fill\": {\"color\": \"#C8D4E3\"}, \"line\": {\"color\": \"white\"}}, \"type\": \"table\"}]}, \"layout\": {\"annotationdefaults\": {\"arrowcolor\": \"#2a3f5f\", \"arrowhead\": 0, \"arrowwidth\": 1}, \"coloraxis\": {\"colorbar\": {\"outlinewidth\": 0, \"ticks\": \"\"}}, \"colorscale\": {\"diverging\": [[0, \"#8e0152\"], [0.1, \"#c51b7d\"], [0.2, \"#de77ae\"], [0.3, \"#f1b6da\"], [0.4, \"#fde0ef\"], [0.5, \"#f7f7f7\"], [0.6, \"#e6f5d0\"], [0.7, \"#b8e186\"], [0.8, \"#7fbc41\"], [0.9, \"#4d9221\"], [1, \"#276419\"]], \"sequential\": [[0.0, \"#0d0887\"], [0.1111111111111111, \"#46039f\"], [0.2222222222222222, \"#7201a8\"], [0.3333333333333333, \"#9c179e\"], [0.4444444444444444, \"#bd3786\"], [0.5555555555555556, \"#d8576b\"], [0.6666666666666666, \"#ed7953\"], [0.7777777777777778, \"#fb9f3a\"], [0.8888888888888888, \"#fdca26\"], [1.0, \"#f0f921\"]], \"sequentialminus\": [[0.0, \"#0d0887\"], [0.1111111111111111, \"#46039f\"], [0.2222222222222222, \"#7201a8\"], [0.3333333333333333, \"#9c179e\"], [0.4444444444444444, \"#bd3786\"], [0.5555555555555556, \"#d8576b\"], [0.6666666666666666, \"#ed7953\"], [0.7777777777777778, \"#fb9f3a\"], [0.8888888888888888, \"#fdca26\"], [1.0, \"#f0f921\"]]}, \"colorway\": [\"#636efa\", \"#EF553B\", \"#00cc96\", \"#ab63fa\", \"#FFA15A\", \"#19d3f3\", \"#FF6692\", \"#B6E880\", \"#FF97FF\", \"#FECB52\"], \"font\": {\"color\": \"#2a3f5f\"}, \"geo\": {\"bgcolor\": \"white\", \"lakecolor\": \"white\", \"landcolor\": \"#E5ECF6\", \"showlakes\": true, \"showland\": true, \"subunitcolor\": \"white\"}, \"hoverlabel\": {\"align\": \"left\"}, \"hovermode\": \"closest\", \"mapbox\": {\"style\": \"light\"}, \"paper_bgcolor\": \"white\", \"plot_bgcolor\": \"#E5ECF6\", \"polar\": {\"angularaxis\": {\"gridcolor\": \"white\", \"linecolor\": \"white\", \"ticks\": \"\"}, \"bgcolor\": \"#E5ECF6\", \"radialaxis\": {\"gridcolor\": \"white\", \"linecolor\": \"white\", \"ticks\": \"\"}}, \"scene\": {\"xaxis\": {\"backgroundcolor\": \"#E5ECF6\", \"gridcolor\": \"white\", \"gridwidth\": 2, \"linecolor\": \"white\", \"showbackground\": true, \"ticks\": \"\", \"zerolinecolor\": \"white\"}, \"yaxis\": {\"backgroundcolor\": \"#E5ECF6\", \"gridcolor\": \"white\", \"gridwidth\": 2, \"linecolor\": \"white\", \"showbackground\": true, \"ticks\": \"\", \"zerolinecolor\": \"white\"}, \"zaxis\": {\"backgroundcolor\": \"#E5ECF6\", \"gridcolor\": \"white\", \"gridwidth\": 2, \"linecolor\": \"white\", \"showbackground\": true, \"ticks\": \"\", \"zerolinecolor\": \"white\"}}, \"shapedefaults\": {\"line\": {\"color\": \"#2a3f5f\"}}, \"ternary\": {\"aaxis\": {\"gridcolor\": \"white\", \"linecolor\": \"white\", \"ticks\": \"\"}, \"baxis\": {\"gridcolor\": \"white\", \"linecolor\": \"white\", \"ticks\": \"\"}, \"bgcolor\": \"#E5ECF6\", \"caxis\": {\"gridcolor\": \"white\", \"linecolor\": \"white\", \"ticks\": \"\"}}, \"title\": {\"x\": 0.05}, \"xaxis\": {\"automargin\": true, \"gridcolor\": \"white\", \"linecolor\": \"white\", \"ticks\": \"\", \"title\": {\"standoff\": 15}, \"zerolinecolor\": \"white\", \"zerolinewidth\": 2}, \"yaxis\": {\"automargin\": true, \"gridcolor\": \"white\", \"linecolor\": \"white\", \"ticks\": \"\", \"title\": {\"standoff\": 15}, \"zerolinecolor\": \"white\", \"zerolinewidth\": 2}}}, \"title\": {\"text\": \"Number Employees Distribution\"}, \"xaxis\": {\"anchor\": \"y\", \"domain\": [0.0, 1.0], \"title\": {\"text\": \"no_employees\"}}, \"yaxis\": {\"anchor\": \"x\", \"domain\": [0.0, 1.0], \"title\": {\"text\": \"Count\"}}},\n",
              "                        {\"responsive\": true}\n",
              "                    ).then(function(){\n",
              "                            \n",
              "var gd = document.getElementById('01e4e1f8-a80b-4118-8b5a-91161d485aed');\n",
              "var x = new MutationObserver(function (mutations, observer) {{\n",
              "        var display = window.getComputedStyle(gd).display;\n",
              "        if (!display || display === 'none') {{\n",
              "            console.log([gd, 'removed!']);\n",
              "            Plotly.purge(gd);\n",
              "            observer.disconnect();\n",
              "        }}\n",
              "}});\n",
              "\n",
              "// Listen for the removal of the full notebook cells\n",
              "var notebookContainer = gd.closest('#notebook-container');\n",
              "if (notebookContainer) {{\n",
              "    x.observe(notebookContainer, {childList: true});\n",
              "}}\n",
              "\n",
              "// Listen for the clearing of the current output cell\n",
              "var outputEl = gd.closest('.output');\n",
              "if (outputEl) {{\n",
              "    x.observe(outputEl, {childList: true});\n",
              "}}\n",
              "\n",
              "                        })\n",
              "                };\n",
              "                \n",
              "            </script>\n",
              "        </div>\n",
              "</body>\n",
              "</html>"
            ]
          },
          "metadata": {
            "tags": []
          }
        }
      ]
    },
    {
      "cell_type": "markdown",
      "metadata": {
        "id": "SAv1_VkLR2jQ"
      },
      "source": [
        "As seen qualitatively in the individual bar plot above, the distribution of the number of employees follows that of a bimodal one. It will be interesting to observe the effect of such a distribution on the response variable, as there may be merit to having both a small and large company when it comes to mental health discussions with a supervisor."
      ]
    },
    {
      "cell_type": "code",
      "metadata": {
        "colab": {
          "base_uri": "https://localhost:8080/",
          "height": 542
        },
        "id": "ISBjUf2tCLts",
        "outputId": "c4a80d35-34b6-4d4c-bb89-27c0c2958bc9"
      },
      "source": [
        "comp_gb = df.groupby([\"supervisor\",\"no_employees\"]).size().reset_index(name='Count')\n",
        "fig = px.bar(comp_gb,\n",
        "             x=\"supervisor\",\n",
        "             y=\"Count\",\n",
        "             color=\"no_employees\",\n",
        "             barmode='group',\n",
        "             color_discrete_sequence=px.colors.sequential.Plasma_r, \n",
        "             title='Distribution of Likelihood to Reach Out to Supervisor by no_employees'\n",
        "             )\n",
        "fig.show()"
      ],
      "execution_count": null,
      "outputs": [
        {
          "output_type": "display_data",
          "data": {
            "text/html": [
              "<html>\n",
              "<head><meta charset=\"utf-8\" /></head>\n",
              "<body>\n",
              "    <div>\n",
              "            <script src=\"https://cdnjs.cloudflare.com/ajax/libs/mathjax/2.7.5/MathJax.js?config=TeX-AMS-MML_SVG\"></script><script type=\"text/javascript\">if (window.MathJax) {MathJax.Hub.Config({SVG: {font: \"STIX-Web\"}});}</script>\n",
              "                <script type=\"text/javascript\">window.PlotlyConfig = {MathJaxConfig: 'local'};</script>\n",
              "        <script src=\"https://cdn.plot.ly/plotly-latest.min.js\"></script>    \n",
              "            <div id=\"082c53ac-be62-4d96-8c42-9a18edda7159\" class=\"plotly-graph-div\" style=\"height:525px; width:100%;\"></div>\n",
              "            <script type=\"text/javascript\">\n",
              "                \n",
              "                    window.PLOTLYENV=window.PLOTLYENV || {};\n",
              "                    \n",
              "                if (document.getElementById(\"082c53ac-be62-4d96-8c42-9a18edda7159\")) {\n",
              "                    Plotly.newPlot(\n",
              "                        '082c53ac-be62-4d96-8c42-9a18edda7159',\n",
              "                        [{\"alignmentgroup\": \"True\", \"hoverlabel\": {\"namelength\": 0}, \"hovertemplate\": \"no_employees=1-5<br>supervisor=%{x}<br>Count=%{y}\", \"legendgroup\": \"no_employees=1-5\", \"marker\": {\"color\": \"#f0f921\"}, \"name\": \"no_employees=1-5\", \"offsetgroup\": \"no_employees=1-5\", \"orientation\": \"v\", \"showlegend\": true, \"textposition\": \"auto\", \"type\": \"bar\", \"x\": [\"No\", \"Some of them\", \"Yes\"], \"xaxis\": \"x\", \"y\": [50, 40, 72], \"yaxis\": \"y\"}, {\"alignmentgroup\": \"True\", \"hoverlabel\": {\"namelength\": 0}, \"hovertemplate\": \"no_employees=6-25<br>supervisor=%{x}<br>Count=%{y}\", \"legendgroup\": \"no_employees=6-25\", \"marker\": {\"color\": \"#fdca26\"}, \"name\": \"no_employees=6-25\", \"offsetgroup\": \"no_employees=6-25\", \"orientation\": \"v\", \"showlegend\": true, \"textposition\": \"auto\", \"type\": \"bar\", \"x\": [\"No\", \"Some of them\", \"Yes\"], \"xaxis\": \"x\", \"y\": [78, 72, 140], \"yaxis\": \"y\"}, {\"alignmentgroup\": \"True\", \"hoverlabel\": {\"namelength\": 0}, \"hovertemplate\": \"no_employees=26-100<br>supervisor=%{x}<br>Count=%{y}\", \"legendgroup\": \"no_employees=26-100\", \"marker\": {\"color\": \"#fb9f3a\"}, \"name\": \"no_employees=26-100\", \"offsetgroup\": \"no_employees=26-100\", \"orientation\": \"v\", \"showlegend\": true, \"textposition\": \"auto\", \"type\": \"bar\", \"x\": [\"No\", \"Some of them\", \"Yes\"], \"xaxis\": \"x\", \"y\": [91, 85, 113], \"yaxis\": \"y\"}, {\"alignmentgroup\": \"True\", \"hoverlabel\": {\"namelength\": 0}, \"hovertemplate\": \"no_employees=100-500<br>supervisor=%{x}<br>Count=%{y}\", \"legendgroup\": \"no_employees=100-500\", \"marker\": {\"color\": \"#ed7953\"}, \"name\": \"no_employees=100-500\", \"offsetgroup\": \"no_employees=100-500\", \"orientation\": \"v\", \"showlegend\": true, \"textposition\": \"auto\", \"type\": \"bar\", \"x\": [\"No\", \"Some of them\", \"Yes\"], \"xaxis\": \"x\", \"y\": [46, 52, 78], \"yaxis\": \"y\"}, {\"alignmentgroup\": \"True\", \"hoverlabel\": {\"namelength\": 0}, \"hovertemplate\": \"no_employees=500-1000<br>supervisor=%{x}<br>Count=%{y}\", \"legendgroup\": \"no_employees=500-1000\", \"marker\": {\"color\": \"#d8576b\"}, \"name\": \"no_employees=500-1000\", \"offsetgroup\": \"no_employees=500-1000\", \"orientation\": \"v\", \"showlegend\": true, \"textposition\": \"auto\", \"type\": \"bar\", \"x\": [\"No\", \"Some of them\", \"Yes\"], \"xaxis\": \"x\", \"y\": [20, 18, 22], \"yaxis\": \"y\"}, {\"alignmentgroup\": \"True\", \"hoverlabel\": {\"namelength\": 0}, \"hovertemplate\": \"no_employees=More than 1000<br>supervisor=%{x}<br>Count=%{y}\", \"legendgroup\": \"no_employees=More than 1000\", \"marker\": {\"color\": \"#bd3786\"}, \"name\": \"no_employees=More than 1000\", \"offsetgroup\": \"no_employees=More than 1000\", \"orientation\": \"v\", \"showlegend\": true, \"textposition\": \"auto\", \"type\": \"bar\", \"x\": [\"No\", \"Some of them\", \"Yes\"], \"xaxis\": \"x\", \"y\": [108, 83, 91], \"yaxis\": \"y\"}],\n",
              "                        {\"barmode\": \"group\", \"legend\": {\"tracegroupgap\": 0}, \"template\": {\"data\": {\"bar\": [{\"error_x\": {\"color\": \"#2a3f5f\"}, \"error_y\": {\"color\": \"#2a3f5f\"}, \"marker\": {\"line\": {\"color\": \"#E5ECF6\", \"width\": 0.5}}, \"type\": \"bar\"}], \"barpolar\": [{\"marker\": {\"line\": {\"color\": \"#E5ECF6\", \"width\": 0.5}}, \"type\": \"barpolar\"}], \"carpet\": [{\"aaxis\": {\"endlinecolor\": \"#2a3f5f\", \"gridcolor\": \"white\", \"linecolor\": \"white\", \"minorgridcolor\": \"white\", \"startlinecolor\": \"#2a3f5f\"}, \"baxis\": {\"endlinecolor\": \"#2a3f5f\", \"gridcolor\": \"white\", \"linecolor\": \"white\", \"minorgridcolor\": \"white\", \"startlinecolor\": \"#2a3f5f\"}, \"type\": \"carpet\"}], \"choropleth\": [{\"colorbar\": {\"outlinewidth\": 0, \"ticks\": \"\"}, \"type\": \"choropleth\"}], \"contour\": [{\"colorbar\": {\"outlinewidth\": 0, \"ticks\": \"\"}, \"colorscale\": [[0.0, \"#0d0887\"], [0.1111111111111111, \"#46039f\"], [0.2222222222222222, \"#7201a8\"], [0.3333333333333333, \"#9c179e\"], [0.4444444444444444, \"#bd3786\"], [0.5555555555555556, \"#d8576b\"], [0.6666666666666666, \"#ed7953\"], [0.7777777777777778, \"#fb9f3a\"], [0.8888888888888888, \"#fdca26\"], [1.0, \"#f0f921\"]], \"type\": \"contour\"}], \"contourcarpet\": [{\"colorbar\": {\"outlinewidth\": 0, \"ticks\": \"\"}, \"type\": \"contourcarpet\"}], \"heatmap\": [{\"colorbar\": {\"outlinewidth\": 0, \"ticks\": \"\"}, \"colorscale\": [[0.0, \"#0d0887\"], [0.1111111111111111, \"#46039f\"], [0.2222222222222222, \"#7201a8\"], [0.3333333333333333, \"#9c179e\"], [0.4444444444444444, \"#bd3786\"], [0.5555555555555556, \"#d8576b\"], [0.6666666666666666, \"#ed7953\"], [0.7777777777777778, \"#fb9f3a\"], [0.8888888888888888, \"#fdca26\"], [1.0, \"#f0f921\"]], \"type\": \"heatmap\"}], \"heatmapgl\": [{\"colorbar\": {\"outlinewidth\": 0, \"ticks\": \"\"}, \"colorscale\": [[0.0, \"#0d0887\"], [0.1111111111111111, \"#46039f\"], [0.2222222222222222, \"#7201a8\"], [0.3333333333333333, \"#9c179e\"], [0.4444444444444444, \"#bd3786\"], [0.5555555555555556, \"#d8576b\"], [0.6666666666666666, \"#ed7953\"], [0.7777777777777778, \"#fb9f3a\"], [0.8888888888888888, \"#fdca26\"], [1.0, \"#f0f921\"]], \"type\": \"heatmapgl\"}], \"histogram\": [{\"marker\": {\"colorbar\": {\"outlinewidth\": 0, \"ticks\": \"\"}}, \"type\": \"histogram\"}], \"histogram2d\": [{\"colorbar\": {\"outlinewidth\": 0, \"ticks\": \"\"}, \"colorscale\": [[0.0, \"#0d0887\"], [0.1111111111111111, \"#46039f\"], [0.2222222222222222, \"#7201a8\"], [0.3333333333333333, \"#9c179e\"], [0.4444444444444444, \"#bd3786\"], [0.5555555555555556, \"#d8576b\"], [0.6666666666666666, \"#ed7953\"], [0.7777777777777778, \"#fb9f3a\"], [0.8888888888888888, \"#fdca26\"], [1.0, \"#f0f921\"]], \"type\": \"histogram2d\"}], \"histogram2dcontour\": [{\"colorbar\": {\"outlinewidth\": 0, \"ticks\": \"\"}, \"colorscale\": [[0.0, \"#0d0887\"], [0.1111111111111111, \"#46039f\"], [0.2222222222222222, \"#7201a8\"], [0.3333333333333333, \"#9c179e\"], [0.4444444444444444, \"#bd3786\"], [0.5555555555555556, \"#d8576b\"], [0.6666666666666666, \"#ed7953\"], [0.7777777777777778, \"#fb9f3a\"], [0.8888888888888888, \"#fdca26\"], [1.0, \"#f0f921\"]], \"type\": \"histogram2dcontour\"}], \"mesh3d\": [{\"colorbar\": {\"outlinewidth\": 0, \"ticks\": \"\"}, \"type\": \"mesh3d\"}], \"parcoords\": [{\"line\": {\"colorbar\": {\"outlinewidth\": 0, \"ticks\": \"\"}}, \"type\": \"parcoords\"}], \"pie\": [{\"automargin\": true, \"type\": \"pie\"}], \"scatter\": [{\"marker\": {\"colorbar\": {\"outlinewidth\": 0, \"ticks\": \"\"}}, \"type\": \"scatter\"}], \"scatter3d\": [{\"line\": {\"colorbar\": {\"outlinewidth\": 0, \"ticks\": \"\"}}, \"marker\": {\"colorbar\": {\"outlinewidth\": 0, \"ticks\": \"\"}}, \"type\": \"scatter3d\"}], \"scattercarpet\": [{\"marker\": {\"colorbar\": {\"outlinewidth\": 0, \"ticks\": \"\"}}, \"type\": \"scattercarpet\"}], \"scattergeo\": [{\"marker\": {\"colorbar\": {\"outlinewidth\": 0, \"ticks\": \"\"}}, \"type\": \"scattergeo\"}], \"scattergl\": [{\"marker\": {\"colorbar\": {\"outlinewidth\": 0, \"ticks\": \"\"}}, \"type\": \"scattergl\"}], \"scattermapbox\": [{\"marker\": {\"colorbar\": {\"outlinewidth\": 0, \"ticks\": \"\"}}, \"type\": \"scattermapbox\"}], \"scatterpolar\": [{\"marker\": {\"colorbar\": {\"outlinewidth\": 0, \"ticks\": \"\"}}, \"type\": \"scatterpolar\"}], \"scatterpolargl\": [{\"marker\": {\"colorbar\": {\"outlinewidth\": 0, \"ticks\": \"\"}}, \"type\": \"scatterpolargl\"}], \"scatterternary\": [{\"marker\": {\"colorbar\": {\"outlinewidth\": 0, \"ticks\": \"\"}}, \"type\": \"scatterternary\"}], \"surface\": [{\"colorbar\": {\"outlinewidth\": 0, \"ticks\": \"\"}, \"colorscale\": [[0.0, \"#0d0887\"], [0.1111111111111111, \"#46039f\"], [0.2222222222222222, \"#7201a8\"], [0.3333333333333333, \"#9c179e\"], [0.4444444444444444, \"#bd3786\"], [0.5555555555555556, \"#d8576b\"], [0.6666666666666666, \"#ed7953\"], [0.7777777777777778, \"#fb9f3a\"], [0.8888888888888888, \"#fdca26\"], [1.0, \"#f0f921\"]], \"type\": \"surface\"}], \"table\": [{\"cells\": {\"fill\": {\"color\": \"#EBF0F8\"}, \"line\": {\"color\": \"white\"}}, \"header\": {\"fill\": {\"color\": \"#C8D4E3\"}, \"line\": {\"color\": \"white\"}}, \"type\": \"table\"}]}, \"layout\": {\"annotationdefaults\": {\"arrowcolor\": \"#2a3f5f\", \"arrowhead\": 0, \"arrowwidth\": 1}, \"coloraxis\": {\"colorbar\": {\"outlinewidth\": 0, \"ticks\": \"\"}}, \"colorscale\": {\"diverging\": [[0, \"#8e0152\"], [0.1, \"#c51b7d\"], [0.2, \"#de77ae\"], [0.3, \"#f1b6da\"], [0.4, \"#fde0ef\"], [0.5, \"#f7f7f7\"], [0.6, \"#e6f5d0\"], [0.7, \"#b8e186\"], [0.8, \"#7fbc41\"], [0.9, \"#4d9221\"], [1, \"#276419\"]], \"sequential\": [[0.0, \"#0d0887\"], [0.1111111111111111, \"#46039f\"], [0.2222222222222222, \"#7201a8\"], [0.3333333333333333, \"#9c179e\"], [0.4444444444444444, \"#bd3786\"], [0.5555555555555556, \"#d8576b\"], [0.6666666666666666, \"#ed7953\"], [0.7777777777777778, \"#fb9f3a\"], [0.8888888888888888, \"#fdca26\"], [1.0, \"#f0f921\"]], \"sequentialminus\": [[0.0, \"#0d0887\"], [0.1111111111111111, \"#46039f\"], [0.2222222222222222, \"#7201a8\"], [0.3333333333333333, \"#9c179e\"], [0.4444444444444444, \"#bd3786\"], [0.5555555555555556, \"#d8576b\"], [0.6666666666666666, \"#ed7953\"], [0.7777777777777778, \"#fb9f3a\"], [0.8888888888888888, \"#fdca26\"], [1.0, \"#f0f921\"]]}, \"colorway\": [\"#636efa\", \"#EF553B\", \"#00cc96\", \"#ab63fa\", \"#FFA15A\", \"#19d3f3\", \"#FF6692\", \"#B6E880\", \"#FF97FF\", \"#FECB52\"], \"font\": {\"color\": \"#2a3f5f\"}, \"geo\": {\"bgcolor\": \"white\", \"lakecolor\": \"white\", \"landcolor\": \"#E5ECF6\", \"showlakes\": true, \"showland\": true, \"subunitcolor\": \"white\"}, \"hoverlabel\": {\"align\": \"left\"}, \"hovermode\": \"closest\", \"mapbox\": {\"style\": \"light\"}, \"paper_bgcolor\": \"white\", \"plot_bgcolor\": \"#E5ECF6\", \"polar\": {\"angularaxis\": {\"gridcolor\": \"white\", \"linecolor\": \"white\", \"ticks\": \"\"}, \"bgcolor\": \"#E5ECF6\", \"radialaxis\": {\"gridcolor\": \"white\", \"linecolor\": \"white\", \"ticks\": \"\"}}, \"scene\": {\"xaxis\": {\"backgroundcolor\": \"#E5ECF6\", \"gridcolor\": \"white\", \"gridwidth\": 2, \"linecolor\": \"white\", \"showbackground\": true, \"ticks\": \"\", \"zerolinecolor\": \"white\"}, \"yaxis\": {\"backgroundcolor\": \"#E5ECF6\", \"gridcolor\": \"white\", \"gridwidth\": 2, \"linecolor\": \"white\", \"showbackground\": true, \"ticks\": \"\", \"zerolinecolor\": \"white\"}, \"zaxis\": {\"backgroundcolor\": \"#E5ECF6\", \"gridcolor\": \"white\", \"gridwidth\": 2, \"linecolor\": \"white\", \"showbackground\": true, \"ticks\": \"\", \"zerolinecolor\": \"white\"}}, \"shapedefaults\": {\"line\": {\"color\": \"#2a3f5f\"}}, \"ternary\": {\"aaxis\": {\"gridcolor\": \"white\", \"linecolor\": \"white\", \"ticks\": \"\"}, \"baxis\": {\"gridcolor\": \"white\", \"linecolor\": \"white\", \"ticks\": \"\"}, \"bgcolor\": \"#E5ECF6\", \"caxis\": {\"gridcolor\": \"white\", \"linecolor\": \"white\", \"ticks\": \"\"}}, \"title\": {\"x\": 0.05}, \"xaxis\": {\"automargin\": true, \"gridcolor\": \"white\", \"linecolor\": \"white\", \"ticks\": \"\", \"title\": {\"standoff\": 15}, \"zerolinecolor\": \"white\", \"zerolinewidth\": 2}, \"yaxis\": {\"automargin\": true, \"gridcolor\": \"white\", \"linecolor\": \"white\", \"ticks\": \"\", \"title\": {\"standoff\": 15}, \"zerolinecolor\": \"white\", \"zerolinewidth\": 2}}}, \"title\": {\"text\": \"Distribution of Likelihood to Reach Out to Supervisor by no_employees\"}, \"xaxis\": {\"anchor\": \"y\", \"domain\": [0.0, 1.0], \"title\": {\"text\": \"supervisor\"}}, \"yaxis\": {\"anchor\": \"x\", \"domain\": [0.0, 1.0], \"title\": {\"text\": \"Count\"}}},\n",
              "                        {\"responsive\": true}\n",
              "                    ).then(function(){\n",
              "                            \n",
              "var gd = document.getElementById('082c53ac-be62-4d96-8c42-9a18edda7159');\n",
              "var x = new MutationObserver(function (mutations, observer) {{\n",
              "        var display = window.getComputedStyle(gd).display;\n",
              "        if (!display || display === 'none') {{\n",
              "            console.log([gd, 'removed!']);\n",
              "            Plotly.purge(gd);\n",
              "            observer.disconnect();\n",
              "        }}\n",
              "}});\n",
              "\n",
              "// Listen for the removal of the full notebook cells\n",
              "var notebookContainer = gd.closest('#notebook-container');\n",
              "if (notebookContainer) {{\n",
              "    x.observe(notebookContainer, {childList: true});\n",
              "}}\n",
              "\n",
              "// Listen for the clearing of the current output cell\n",
              "var outputEl = gd.closest('.output');\n",
              "if (outputEl) {{\n",
              "    x.observe(outputEl, {childList: true});\n",
              "}}\n",
              "\n",
              "                        })\n",
              "                };\n",
              "                \n",
              "            </script>\n",
              "        </div>\n",
              "</body>\n",
              "</html>"
            ]
          },
          "metadata": {
            "tags": []
          }
        }
      ]
    },
    {
      "cell_type": "markdown",
      "metadata": {
        "id": "R8olbvxtR5iY"
      },
      "source": [
        "It seems as if the biomodal distribution does have a distinct effect on the response variable, at least qualitatively. This can be most distinctly observed with the 6-25 group from the 'No' class to the 'Yes' class of our response variable. Due to this seemingly positive relationship, we will keep **no_employees** in our target predictor set."
      ]
    },
    {
      "cell_type": "markdown",
      "metadata": {
        "id": "KTf9x1wofwoQ"
      },
      "source": [
        "#### *ii) obs_consequence*"
      ]
    },
    {
      "cell_type": "markdown",
      "metadata": {
        "id": "EkAWYunmJ08f"
      },
      "source": [
        "As a refresher, the **obs_consequence** feature tracks whether or not an employee has heard of or observed a negative consequence occurring to a coworker and related to their mental health."
      ]
    },
    {
      "cell_type": "code",
      "metadata": {
        "colab": {
          "base_uri": "https://localhost:8080/",
          "height": 542
        },
        "id": "e5mUZkWsLDpa",
        "outputId": "594b21dd-9cab-4535-d7e2-a9f5ada4ddba"
      },
      "source": [
        "comp_gb = df.groupby([\"supervisor\",\"obs_consequence\"]).size().reset_index(name='Count')\n",
        "fig = px.bar(comp_gb,\n",
        "             x=\"supervisor\",\n",
        "             y=\"Count\",\n",
        "             color=\"obs_consequence\",\n",
        "             barmode='group',\n",
        "             color_discrete_sequence=px.colors.qualitative.D3, \n",
        "             title='Likelihood to Reach Out to Supervisor based on Observed Negative Consequences for Coworkers with Mental Health Conditions'\n",
        "             )\n",
        "fig.show()"
      ],
      "execution_count": null,
      "outputs": [
        {
          "output_type": "display_data",
          "data": {
            "text/html": [
              "<html>\n",
              "<head><meta charset=\"utf-8\" /></head>\n",
              "<body>\n",
              "    <div>\n",
              "            <script src=\"https://cdnjs.cloudflare.com/ajax/libs/mathjax/2.7.5/MathJax.js?config=TeX-AMS-MML_SVG\"></script><script type=\"text/javascript\">if (window.MathJax) {MathJax.Hub.Config({SVG: {font: \"STIX-Web\"}});}</script>\n",
              "                <script type=\"text/javascript\">window.PlotlyConfig = {MathJaxConfig: 'local'};</script>\n",
              "        <script src=\"https://cdn.plot.ly/plotly-latest.min.js\"></script>    \n",
              "            <div id=\"675e7408-6cb0-46a1-9f84-413d4e4d6ff9\" class=\"plotly-graph-div\" style=\"height:525px; width:100%;\"></div>\n",
              "            <script type=\"text/javascript\">\n",
              "                \n",
              "                    window.PLOTLYENV=window.PLOTLYENV || {};\n",
              "                    \n",
              "                if (document.getElementById(\"675e7408-6cb0-46a1-9f84-413d4e4d6ff9\")) {\n",
              "                    Plotly.newPlot(\n",
              "                        '675e7408-6cb0-46a1-9f84-413d4e4d6ff9',\n",
              "                        [{\"alignmentgroup\": \"True\", \"hoverlabel\": {\"namelength\": 0}, \"hovertemplate\": \"obs_consequence=No<br>supervisor=%{x}<br>Count=%{y}\", \"legendgroup\": \"obs_consequence=No\", \"marker\": {\"color\": \"#1F77B4\"}, \"name\": \"obs_consequence=No\", \"offsetgroup\": \"obs_consequence=No\", \"orientation\": \"v\", \"showlegend\": true, \"textposition\": \"auto\", \"type\": \"bar\", \"x\": [\"No\", \"Some of them\", \"Yes\"], \"xaxis\": \"x\", \"y\": [325, 286, 464], \"yaxis\": \"y\"}, {\"alignmentgroup\": \"True\", \"hoverlabel\": {\"namelength\": 0}, \"hovertemplate\": \"obs_consequence=Yes<br>supervisor=%{x}<br>Count=%{y}\", \"legendgroup\": \"obs_consequence=Yes\", \"marker\": {\"color\": \"#FF7F0E\"}, \"name\": \"obs_consequence=Yes\", \"offsetgroup\": \"obs_consequence=Yes\", \"orientation\": \"v\", \"showlegend\": true, \"textposition\": \"auto\", \"type\": \"bar\", \"x\": [\"No\", \"Some of them\", \"Yes\"], \"xaxis\": \"x\", \"y\": [68, 64, 52], \"yaxis\": \"y\"}],\n",
              "                        {\"barmode\": \"group\", \"legend\": {\"tracegroupgap\": 0}, \"template\": {\"data\": {\"bar\": [{\"error_x\": {\"color\": \"#2a3f5f\"}, \"error_y\": {\"color\": \"#2a3f5f\"}, \"marker\": {\"line\": {\"color\": \"#E5ECF6\", \"width\": 0.5}}, \"type\": \"bar\"}], \"barpolar\": [{\"marker\": {\"line\": {\"color\": \"#E5ECF6\", \"width\": 0.5}}, \"type\": \"barpolar\"}], \"carpet\": [{\"aaxis\": {\"endlinecolor\": \"#2a3f5f\", \"gridcolor\": \"white\", \"linecolor\": \"white\", \"minorgridcolor\": \"white\", \"startlinecolor\": \"#2a3f5f\"}, \"baxis\": {\"endlinecolor\": \"#2a3f5f\", \"gridcolor\": \"white\", \"linecolor\": \"white\", \"minorgridcolor\": \"white\", \"startlinecolor\": \"#2a3f5f\"}, \"type\": \"carpet\"}], \"choropleth\": [{\"colorbar\": {\"outlinewidth\": 0, \"ticks\": \"\"}, \"type\": \"choropleth\"}], \"contour\": [{\"colorbar\": {\"outlinewidth\": 0, \"ticks\": \"\"}, \"colorscale\": [[0.0, \"#0d0887\"], [0.1111111111111111, \"#46039f\"], [0.2222222222222222, \"#7201a8\"], [0.3333333333333333, \"#9c179e\"], [0.4444444444444444, \"#bd3786\"], [0.5555555555555556, \"#d8576b\"], [0.6666666666666666, \"#ed7953\"], [0.7777777777777778, \"#fb9f3a\"], [0.8888888888888888, \"#fdca26\"], [1.0, \"#f0f921\"]], \"type\": \"contour\"}], \"contourcarpet\": [{\"colorbar\": {\"outlinewidth\": 0, \"ticks\": \"\"}, \"type\": \"contourcarpet\"}], \"heatmap\": [{\"colorbar\": {\"outlinewidth\": 0, \"ticks\": \"\"}, \"colorscale\": [[0.0, \"#0d0887\"], [0.1111111111111111, \"#46039f\"], [0.2222222222222222, \"#7201a8\"], [0.3333333333333333, \"#9c179e\"], [0.4444444444444444, \"#bd3786\"], [0.5555555555555556, \"#d8576b\"], [0.6666666666666666, \"#ed7953\"], [0.7777777777777778, \"#fb9f3a\"], [0.8888888888888888, \"#fdca26\"], [1.0, \"#f0f921\"]], \"type\": \"heatmap\"}], \"heatmapgl\": [{\"colorbar\": {\"outlinewidth\": 0, \"ticks\": \"\"}, \"colorscale\": [[0.0, \"#0d0887\"], [0.1111111111111111, \"#46039f\"], [0.2222222222222222, \"#7201a8\"], [0.3333333333333333, \"#9c179e\"], [0.4444444444444444, \"#bd3786\"], [0.5555555555555556, \"#d8576b\"], [0.6666666666666666, \"#ed7953\"], [0.7777777777777778, \"#fb9f3a\"], [0.8888888888888888, \"#fdca26\"], [1.0, \"#f0f921\"]], \"type\": \"heatmapgl\"}], \"histogram\": [{\"marker\": {\"colorbar\": {\"outlinewidth\": 0, \"ticks\": \"\"}}, \"type\": \"histogram\"}], \"histogram2d\": [{\"colorbar\": {\"outlinewidth\": 0, \"ticks\": \"\"}, \"colorscale\": [[0.0, \"#0d0887\"], [0.1111111111111111, \"#46039f\"], [0.2222222222222222, \"#7201a8\"], [0.3333333333333333, \"#9c179e\"], [0.4444444444444444, \"#bd3786\"], [0.5555555555555556, \"#d8576b\"], [0.6666666666666666, \"#ed7953\"], [0.7777777777777778, \"#fb9f3a\"], [0.8888888888888888, \"#fdca26\"], [1.0, \"#f0f921\"]], \"type\": \"histogram2d\"}], \"histogram2dcontour\": [{\"colorbar\": {\"outlinewidth\": 0, \"ticks\": \"\"}, \"colorscale\": [[0.0, \"#0d0887\"], [0.1111111111111111, \"#46039f\"], [0.2222222222222222, \"#7201a8\"], [0.3333333333333333, \"#9c179e\"], [0.4444444444444444, \"#bd3786\"], [0.5555555555555556, \"#d8576b\"], [0.6666666666666666, \"#ed7953\"], [0.7777777777777778, \"#fb9f3a\"], [0.8888888888888888, \"#fdca26\"], [1.0, \"#f0f921\"]], \"type\": \"histogram2dcontour\"}], \"mesh3d\": [{\"colorbar\": {\"outlinewidth\": 0, \"ticks\": \"\"}, \"type\": \"mesh3d\"}], \"parcoords\": [{\"line\": {\"colorbar\": {\"outlinewidth\": 0, \"ticks\": \"\"}}, \"type\": \"parcoords\"}], \"pie\": [{\"automargin\": true, \"type\": \"pie\"}], \"scatter\": [{\"marker\": {\"colorbar\": {\"outlinewidth\": 0, \"ticks\": \"\"}}, \"type\": \"scatter\"}], \"scatter3d\": [{\"line\": {\"colorbar\": {\"outlinewidth\": 0, \"ticks\": \"\"}}, \"marker\": {\"colorbar\": {\"outlinewidth\": 0, \"ticks\": \"\"}}, \"type\": \"scatter3d\"}], \"scattercarpet\": [{\"marker\": {\"colorbar\": {\"outlinewidth\": 0, \"ticks\": \"\"}}, \"type\": \"scattercarpet\"}], \"scattergeo\": [{\"marker\": {\"colorbar\": {\"outlinewidth\": 0, \"ticks\": \"\"}}, \"type\": \"scattergeo\"}], \"scattergl\": [{\"marker\": {\"colorbar\": {\"outlinewidth\": 0, \"ticks\": \"\"}}, \"type\": \"scattergl\"}], \"scattermapbox\": [{\"marker\": {\"colorbar\": {\"outlinewidth\": 0, \"ticks\": \"\"}}, \"type\": \"scattermapbox\"}], \"scatterpolar\": [{\"marker\": {\"colorbar\": {\"outlinewidth\": 0, \"ticks\": \"\"}}, \"type\": \"scatterpolar\"}], \"scatterpolargl\": [{\"marker\": {\"colorbar\": {\"outlinewidth\": 0, \"ticks\": \"\"}}, \"type\": \"scatterpolargl\"}], \"scatterternary\": [{\"marker\": {\"colorbar\": {\"outlinewidth\": 0, \"ticks\": \"\"}}, \"type\": \"scatterternary\"}], \"surface\": [{\"colorbar\": {\"outlinewidth\": 0, \"ticks\": \"\"}, \"colorscale\": [[0.0, \"#0d0887\"], [0.1111111111111111, \"#46039f\"], [0.2222222222222222, \"#7201a8\"], [0.3333333333333333, \"#9c179e\"], [0.4444444444444444, \"#bd3786\"], [0.5555555555555556, \"#d8576b\"], [0.6666666666666666, \"#ed7953\"], [0.7777777777777778, \"#fb9f3a\"], [0.8888888888888888, \"#fdca26\"], [1.0, \"#f0f921\"]], \"type\": \"surface\"}], \"table\": [{\"cells\": {\"fill\": {\"color\": \"#EBF0F8\"}, \"line\": {\"color\": \"white\"}}, \"header\": {\"fill\": {\"color\": \"#C8D4E3\"}, \"line\": {\"color\": \"white\"}}, \"type\": \"table\"}]}, \"layout\": {\"annotationdefaults\": {\"arrowcolor\": \"#2a3f5f\", \"arrowhead\": 0, \"arrowwidth\": 1}, \"coloraxis\": {\"colorbar\": {\"outlinewidth\": 0, \"ticks\": \"\"}}, \"colorscale\": {\"diverging\": [[0, \"#8e0152\"], [0.1, \"#c51b7d\"], [0.2, \"#de77ae\"], [0.3, \"#f1b6da\"], [0.4, \"#fde0ef\"], [0.5, \"#f7f7f7\"], [0.6, \"#e6f5d0\"], [0.7, \"#b8e186\"], [0.8, \"#7fbc41\"], [0.9, \"#4d9221\"], [1, \"#276419\"]], \"sequential\": [[0.0, \"#0d0887\"], [0.1111111111111111, \"#46039f\"], [0.2222222222222222, \"#7201a8\"], [0.3333333333333333, \"#9c179e\"], [0.4444444444444444, \"#bd3786\"], [0.5555555555555556, \"#d8576b\"], [0.6666666666666666, \"#ed7953\"], [0.7777777777777778, \"#fb9f3a\"], [0.8888888888888888, \"#fdca26\"], [1.0, \"#f0f921\"]], \"sequentialminus\": [[0.0, \"#0d0887\"], [0.1111111111111111, \"#46039f\"], [0.2222222222222222, \"#7201a8\"], [0.3333333333333333, \"#9c179e\"], [0.4444444444444444, \"#bd3786\"], [0.5555555555555556, \"#d8576b\"], [0.6666666666666666, \"#ed7953\"], [0.7777777777777778, \"#fb9f3a\"], [0.8888888888888888, \"#fdca26\"], [1.0, \"#f0f921\"]]}, \"colorway\": [\"#636efa\", \"#EF553B\", \"#00cc96\", \"#ab63fa\", \"#FFA15A\", \"#19d3f3\", \"#FF6692\", \"#B6E880\", \"#FF97FF\", \"#FECB52\"], \"font\": {\"color\": \"#2a3f5f\"}, \"geo\": {\"bgcolor\": \"white\", \"lakecolor\": \"white\", \"landcolor\": \"#E5ECF6\", \"showlakes\": true, \"showland\": true, \"subunitcolor\": \"white\"}, \"hoverlabel\": {\"align\": \"left\"}, \"hovermode\": \"closest\", \"mapbox\": {\"style\": \"light\"}, \"paper_bgcolor\": \"white\", \"plot_bgcolor\": \"#E5ECF6\", \"polar\": {\"angularaxis\": {\"gridcolor\": \"white\", \"linecolor\": \"white\", \"ticks\": \"\"}, \"bgcolor\": \"#E5ECF6\", \"radialaxis\": {\"gridcolor\": \"white\", \"linecolor\": \"white\", \"ticks\": \"\"}}, \"scene\": {\"xaxis\": {\"backgroundcolor\": \"#E5ECF6\", \"gridcolor\": \"white\", \"gridwidth\": 2, \"linecolor\": \"white\", \"showbackground\": true, \"ticks\": \"\", \"zerolinecolor\": \"white\"}, \"yaxis\": {\"backgroundcolor\": \"#E5ECF6\", \"gridcolor\": \"white\", \"gridwidth\": 2, \"linecolor\": \"white\", \"showbackground\": true, \"ticks\": \"\", \"zerolinecolor\": \"white\"}, \"zaxis\": {\"backgroundcolor\": \"#E5ECF6\", \"gridcolor\": \"white\", \"gridwidth\": 2, \"linecolor\": \"white\", \"showbackground\": true, \"ticks\": \"\", \"zerolinecolor\": \"white\"}}, \"shapedefaults\": {\"line\": {\"color\": \"#2a3f5f\"}}, \"ternary\": {\"aaxis\": {\"gridcolor\": \"white\", \"linecolor\": \"white\", \"ticks\": \"\"}, \"baxis\": {\"gridcolor\": \"white\", \"linecolor\": \"white\", \"ticks\": \"\"}, \"bgcolor\": \"#E5ECF6\", \"caxis\": {\"gridcolor\": \"white\", \"linecolor\": \"white\", \"ticks\": \"\"}}, \"title\": {\"x\": 0.05}, \"xaxis\": {\"automargin\": true, \"gridcolor\": \"white\", \"linecolor\": \"white\", \"ticks\": \"\", \"title\": {\"standoff\": 15}, \"zerolinecolor\": \"white\", \"zerolinewidth\": 2}, \"yaxis\": {\"automargin\": true, \"gridcolor\": \"white\", \"linecolor\": \"white\", \"ticks\": \"\", \"title\": {\"standoff\": 15}, \"zerolinecolor\": \"white\", \"zerolinewidth\": 2}}}, \"title\": {\"text\": \"Likelihood to Reach Out to Supervisor based on Observed Negative Consequences for Coworkers with Mental Health Conditions\"}, \"xaxis\": {\"anchor\": \"y\", \"domain\": [0.0, 1.0], \"title\": {\"text\": \"supervisor\"}}, \"yaxis\": {\"anchor\": \"x\", \"domain\": [0.0, 1.0], \"title\": {\"text\": \"Count\"}}},\n",
              "                        {\"responsive\": true}\n",
              "                    ).then(function(){\n",
              "                            \n",
              "var gd = document.getElementById('675e7408-6cb0-46a1-9f84-413d4e4d6ff9');\n",
              "var x = new MutationObserver(function (mutations, observer) {{\n",
              "        var display = window.getComputedStyle(gd).display;\n",
              "        if (!display || display === 'none') {{\n",
              "            console.log([gd, 'removed!']);\n",
              "            Plotly.purge(gd);\n",
              "            observer.disconnect();\n",
              "        }}\n",
              "}});\n",
              "\n",
              "// Listen for the removal of the full notebook cells\n",
              "var notebookContainer = gd.closest('#notebook-container');\n",
              "if (notebookContainer) {{\n",
              "    x.observe(notebookContainer, {childList: true});\n",
              "}}\n",
              "\n",
              "// Listen for the clearing of the current output cell\n",
              "var outputEl = gd.closest('.output');\n",
              "if (outputEl) {{\n",
              "    x.observe(outputEl, {childList: true});\n",
              "}}\n",
              "\n",
              "                        })\n",
              "                };\n",
              "                \n",
              "            </script>\n",
              "        </div>\n",
              "</body>\n",
              "</html>"
            ]
          },
          "metadata": {
            "tags": []
          }
        }
      ]
    },
    {
      "cell_type": "markdown",
      "metadata": {
        "id": "OP2LmKoHCgGl"
      },
      "source": [
        "Based on the distribution above, it can be qualitatively observed that **obs_consequence** seems to have a role in determining the outcome of the response variable. When the instance of this category is No, it seems as if employees are more likely to discuss their mental health issues with their direct supervisor(s). Thus, we will keep the category in our hypothesized target predictor set for now."
      ]
    },
    {
      "cell_type": "markdown",
      "metadata": {
        "id": "UtDdWFD7fzhS"
      },
      "source": [
        "#### *iii) remote_work*"
      ]
    },
    {
      "cell_type": "markdown",
      "metadata": {
        "id": "98QRvX9TLY0C"
      },
      "source": [
        "As a reminder, the **remote_work** feature tracks whether or not more than 50% of an employee's work takes place remotely as compared to in-person."
      ]
    },
    {
      "cell_type": "code",
      "metadata": {
        "colab": {
          "base_uri": "https://localhost:8080/",
          "height": 542
        },
        "id": "-I2nqbcCMZwD",
        "outputId": "20bbf99f-a131-4ac5-c795-ba94bf0f15ab"
      },
      "source": [
        "comp_gb = df.groupby([\"supervisor\",\"remote_work\"]).size().reset_index(name='Count')\n",
        "fig = px.bar(comp_gb,\n",
        "             x=\"supervisor\",\n",
        "             y=\"Count\",\n",
        "             color=\"remote_work\",\n",
        "             barmode='group',\n",
        "             color_discrete_sequence=px.colors.qualitative.D3, \n",
        "             title='Distribution of Likelihood to Reach Out to Supervisor Based on Remote Work Availability'\n",
        "             )\n",
        "fig.show()"
      ],
      "execution_count": null,
      "outputs": [
        {
          "output_type": "display_data",
          "data": {
            "text/html": [
              "<html>\n",
              "<head><meta charset=\"utf-8\" /></head>\n",
              "<body>\n",
              "    <div>\n",
              "            <script src=\"https://cdnjs.cloudflare.com/ajax/libs/mathjax/2.7.5/MathJax.js?config=TeX-AMS-MML_SVG\"></script><script type=\"text/javascript\">if (window.MathJax) {MathJax.Hub.Config({SVG: {font: \"STIX-Web\"}});}</script>\n",
              "                <script type=\"text/javascript\">window.PlotlyConfig = {MathJaxConfig: 'local'};</script>\n",
              "        <script src=\"https://cdn.plot.ly/plotly-latest.min.js\"></script>    \n",
              "            <div id=\"9525b504-f4be-4808-b96e-6cf15dbc6d33\" class=\"plotly-graph-div\" style=\"height:525px; width:100%;\"></div>\n",
              "            <script type=\"text/javascript\">\n",
              "                \n",
              "                    window.PLOTLYENV=window.PLOTLYENV || {};\n",
              "                    \n",
              "                if (document.getElementById(\"9525b504-f4be-4808-b96e-6cf15dbc6d33\")) {\n",
              "                    Plotly.newPlot(\n",
              "                        '9525b504-f4be-4808-b96e-6cf15dbc6d33',\n",
              "                        [{\"alignmentgroup\": \"True\", \"hoverlabel\": {\"namelength\": 0}, \"hovertemplate\": \"remote_work=No<br>supervisor=%{x}<br>Count=%{y}\", \"legendgroup\": \"remote_work=No\", \"marker\": {\"color\": \"#1F77B4\"}, \"name\": \"remote_work=No\", \"offsetgroup\": \"remote_work=No\", \"orientation\": \"v\", \"showlegend\": true, \"textposition\": \"auto\", \"type\": \"bar\", \"x\": [\"No\", \"Some of them\", \"Yes\"], \"xaxis\": \"x\", \"y\": [276, 257, 350], \"yaxis\": \"y\"}, {\"alignmentgroup\": \"True\", \"hoverlabel\": {\"namelength\": 0}, \"hovertemplate\": \"remote_work=Yes<br>supervisor=%{x}<br>Count=%{y}\", \"legendgroup\": \"remote_work=Yes\", \"marker\": {\"color\": \"#FF7F0E\"}, \"name\": \"remote_work=Yes\", \"offsetgroup\": \"remote_work=Yes\", \"orientation\": \"v\", \"showlegend\": true, \"textposition\": \"auto\", \"type\": \"bar\", \"x\": [\"No\", \"Some of them\", \"Yes\"], \"xaxis\": \"x\", \"y\": [117, 93, 166], \"yaxis\": \"y\"}],\n",
              "                        {\"barmode\": \"group\", \"legend\": {\"tracegroupgap\": 0}, \"template\": {\"data\": {\"bar\": [{\"error_x\": {\"color\": \"#2a3f5f\"}, \"error_y\": {\"color\": \"#2a3f5f\"}, \"marker\": {\"line\": {\"color\": \"#E5ECF6\", \"width\": 0.5}}, \"type\": \"bar\"}], \"barpolar\": [{\"marker\": {\"line\": {\"color\": \"#E5ECF6\", \"width\": 0.5}}, \"type\": \"barpolar\"}], \"carpet\": [{\"aaxis\": {\"endlinecolor\": \"#2a3f5f\", \"gridcolor\": \"white\", \"linecolor\": \"white\", \"minorgridcolor\": \"white\", \"startlinecolor\": \"#2a3f5f\"}, \"baxis\": {\"endlinecolor\": \"#2a3f5f\", \"gridcolor\": \"white\", \"linecolor\": \"white\", \"minorgridcolor\": \"white\", \"startlinecolor\": \"#2a3f5f\"}, \"type\": \"carpet\"}], \"choropleth\": [{\"colorbar\": {\"outlinewidth\": 0, \"ticks\": \"\"}, \"type\": \"choropleth\"}], \"contour\": [{\"colorbar\": {\"outlinewidth\": 0, \"ticks\": \"\"}, \"colorscale\": [[0.0, \"#0d0887\"], [0.1111111111111111, \"#46039f\"], [0.2222222222222222, \"#7201a8\"], [0.3333333333333333, \"#9c179e\"], [0.4444444444444444, \"#bd3786\"], [0.5555555555555556, \"#d8576b\"], [0.6666666666666666, \"#ed7953\"], [0.7777777777777778, \"#fb9f3a\"], [0.8888888888888888, \"#fdca26\"], [1.0, \"#f0f921\"]], \"type\": \"contour\"}], \"contourcarpet\": [{\"colorbar\": {\"outlinewidth\": 0, \"ticks\": \"\"}, \"type\": \"contourcarpet\"}], \"heatmap\": [{\"colorbar\": {\"outlinewidth\": 0, \"ticks\": \"\"}, \"colorscale\": [[0.0, \"#0d0887\"], [0.1111111111111111, \"#46039f\"], [0.2222222222222222, \"#7201a8\"], [0.3333333333333333, \"#9c179e\"], [0.4444444444444444, \"#bd3786\"], [0.5555555555555556, \"#d8576b\"], [0.6666666666666666, \"#ed7953\"], [0.7777777777777778, \"#fb9f3a\"], [0.8888888888888888, \"#fdca26\"], [1.0, \"#f0f921\"]], \"type\": \"heatmap\"}], \"heatmapgl\": [{\"colorbar\": {\"outlinewidth\": 0, \"ticks\": \"\"}, \"colorscale\": [[0.0, \"#0d0887\"], [0.1111111111111111, \"#46039f\"], [0.2222222222222222, \"#7201a8\"], [0.3333333333333333, \"#9c179e\"], [0.4444444444444444, \"#bd3786\"], [0.5555555555555556, \"#d8576b\"], [0.6666666666666666, \"#ed7953\"], [0.7777777777777778, \"#fb9f3a\"], [0.8888888888888888, \"#fdca26\"], [1.0, \"#f0f921\"]], \"type\": \"heatmapgl\"}], \"histogram\": [{\"marker\": {\"colorbar\": {\"outlinewidth\": 0, \"ticks\": \"\"}}, \"type\": \"histogram\"}], \"histogram2d\": [{\"colorbar\": {\"outlinewidth\": 0, \"ticks\": \"\"}, \"colorscale\": [[0.0, \"#0d0887\"], [0.1111111111111111, \"#46039f\"], [0.2222222222222222, \"#7201a8\"], [0.3333333333333333, \"#9c179e\"], [0.4444444444444444, \"#bd3786\"], [0.5555555555555556, \"#d8576b\"], [0.6666666666666666, \"#ed7953\"], [0.7777777777777778, \"#fb9f3a\"], [0.8888888888888888, \"#fdca26\"], [1.0, \"#f0f921\"]], \"type\": \"histogram2d\"}], \"histogram2dcontour\": [{\"colorbar\": {\"outlinewidth\": 0, \"ticks\": \"\"}, \"colorscale\": [[0.0, \"#0d0887\"], [0.1111111111111111, \"#46039f\"], [0.2222222222222222, \"#7201a8\"], [0.3333333333333333, \"#9c179e\"], [0.4444444444444444, \"#bd3786\"], [0.5555555555555556, \"#d8576b\"], [0.6666666666666666, \"#ed7953\"], [0.7777777777777778, \"#fb9f3a\"], [0.8888888888888888, \"#fdca26\"], [1.0, \"#f0f921\"]], \"type\": \"histogram2dcontour\"}], \"mesh3d\": [{\"colorbar\": {\"outlinewidth\": 0, \"ticks\": \"\"}, \"type\": \"mesh3d\"}], \"parcoords\": [{\"line\": {\"colorbar\": {\"outlinewidth\": 0, \"ticks\": \"\"}}, \"type\": \"parcoords\"}], \"pie\": [{\"automargin\": true, \"type\": \"pie\"}], \"scatter\": [{\"marker\": {\"colorbar\": {\"outlinewidth\": 0, \"ticks\": \"\"}}, \"type\": \"scatter\"}], \"scatter3d\": [{\"line\": {\"colorbar\": {\"outlinewidth\": 0, \"ticks\": \"\"}}, \"marker\": {\"colorbar\": {\"outlinewidth\": 0, \"ticks\": \"\"}}, \"type\": \"scatter3d\"}], \"scattercarpet\": [{\"marker\": {\"colorbar\": {\"outlinewidth\": 0, \"ticks\": \"\"}}, \"type\": \"scattercarpet\"}], \"scattergeo\": [{\"marker\": {\"colorbar\": {\"outlinewidth\": 0, \"ticks\": \"\"}}, \"type\": \"scattergeo\"}], \"scattergl\": [{\"marker\": {\"colorbar\": {\"outlinewidth\": 0, \"ticks\": \"\"}}, \"type\": \"scattergl\"}], \"scattermapbox\": [{\"marker\": {\"colorbar\": {\"outlinewidth\": 0, \"ticks\": \"\"}}, \"type\": \"scattermapbox\"}], \"scatterpolar\": [{\"marker\": {\"colorbar\": {\"outlinewidth\": 0, \"ticks\": \"\"}}, \"type\": \"scatterpolar\"}], \"scatterpolargl\": [{\"marker\": {\"colorbar\": {\"outlinewidth\": 0, \"ticks\": \"\"}}, \"type\": \"scatterpolargl\"}], \"scatterternary\": [{\"marker\": {\"colorbar\": {\"outlinewidth\": 0, \"ticks\": \"\"}}, \"type\": \"scatterternary\"}], \"surface\": [{\"colorbar\": {\"outlinewidth\": 0, \"ticks\": \"\"}, \"colorscale\": [[0.0, \"#0d0887\"], [0.1111111111111111, \"#46039f\"], [0.2222222222222222, \"#7201a8\"], [0.3333333333333333, \"#9c179e\"], [0.4444444444444444, \"#bd3786\"], [0.5555555555555556, \"#d8576b\"], [0.6666666666666666, \"#ed7953\"], [0.7777777777777778, \"#fb9f3a\"], [0.8888888888888888, \"#fdca26\"], [1.0, \"#f0f921\"]], \"type\": \"surface\"}], \"table\": [{\"cells\": {\"fill\": {\"color\": \"#EBF0F8\"}, \"line\": {\"color\": \"white\"}}, \"header\": {\"fill\": {\"color\": \"#C8D4E3\"}, \"line\": {\"color\": \"white\"}}, \"type\": \"table\"}]}, \"layout\": {\"annotationdefaults\": {\"arrowcolor\": \"#2a3f5f\", \"arrowhead\": 0, \"arrowwidth\": 1}, \"coloraxis\": {\"colorbar\": {\"outlinewidth\": 0, \"ticks\": \"\"}}, \"colorscale\": {\"diverging\": [[0, \"#8e0152\"], [0.1, \"#c51b7d\"], [0.2, \"#de77ae\"], [0.3, \"#f1b6da\"], [0.4, \"#fde0ef\"], [0.5, \"#f7f7f7\"], [0.6, \"#e6f5d0\"], [0.7, \"#b8e186\"], [0.8, \"#7fbc41\"], [0.9, \"#4d9221\"], [1, \"#276419\"]], \"sequential\": [[0.0, \"#0d0887\"], [0.1111111111111111, \"#46039f\"], [0.2222222222222222, \"#7201a8\"], [0.3333333333333333, \"#9c179e\"], [0.4444444444444444, \"#bd3786\"], [0.5555555555555556, \"#d8576b\"], [0.6666666666666666, \"#ed7953\"], [0.7777777777777778, \"#fb9f3a\"], [0.8888888888888888, \"#fdca26\"], [1.0, \"#f0f921\"]], \"sequentialminus\": [[0.0, \"#0d0887\"], [0.1111111111111111, \"#46039f\"], [0.2222222222222222, \"#7201a8\"], [0.3333333333333333, \"#9c179e\"], [0.4444444444444444, \"#bd3786\"], [0.5555555555555556, \"#d8576b\"], [0.6666666666666666, \"#ed7953\"], [0.7777777777777778, \"#fb9f3a\"], [0.8888888888888888, \"#fdca26\"], [1.0, \"#f0f921\"]]}, \"colorway\": [\"#636efa\", \"#EF553B\", \"#00cc96\", \"#ab63fa\", \"#FFA15A\", \"#19d3f3\", \"#FF6692\", \"#B6E880\", \"#FF97FF\", \"#FECB52\"], \"font\": {\"color\": \"#2a3f5f\"}, \"geo\": {\"bgcolor\": \"white\", \"lakecolor\": \"white\", \"landcolor\": \"#E5ECF6\", \"showlakes\": true, \"showland\": true, \"subunitcolor\": \"white\"}, \"hoverlabel\": {\"align\": \"left\"}, \"hovermode\": \"closest\", \"mapbox\": {\"style\": \"light\"}, \"paper_bgcolor\": \"white\", \"plot_bgcolor\": \"#E5ECF6\", \"polar\": {\"angularaxis\": {\"gridcolor\": \"white\", \"linecolor\": \"white\", \"ticks\": \"\"}, \"bgcolor\": \"#E5ECF6\", \"radialaxis\": {\"gridcolor\": \"white\", \"linecolor\": \"white\", \"ticks\": \"\"}}, \"scene\": {\"xaxis\": {\"backgroundcolor\": \"#E5ECF6\", \"gridcolor\": \"white\", \"gridwidth\": 2, \"linecolor\": \"white\", \"showbackground\": true, \"ticks\": \"\", \"zerolinecolor\": \"white\"}, \"yaxis\": {\"backgroundcolor\": \"#E5ECF6\", \"gridcolor\": \"white\", \"gridwidth\": 2, \"linecolor\": \"white\", \"showbackground\": true, \"ticks\": \"\", \"zerolinecolor\": \"white\"}, \"zaxis\": {\"backgroundcolor\": \"#E5ECF6\", \"gridcolor\": \"white\", \"gridwidth\": 2, \"linecolor\": \"white\", \"showbackground\": true, \"ticks\": \"\", \"zerolinecolor\": \"white\"}}, \"shapedefaults\": {\"line\": {\"color\": \"#2a3f5f\"}}, \"ternary\": {\"aaxis\": {\"gridcolor\": \"white\", \"linecolor\": \"white\", \"ticks\": \"\"}, \"baxis\": {\"gridcolor\": \"white\", \"linecolor\": \"white\", \"ticks\": \"\"}, \"bgcolor\": \"#E5ECF6\", \"caxis\": {\"gridcolor\": \"white\", \"linecolor\": \"white\", \"ticks\": \"\"}}, \"title\": {\"x\": 0.05}, \"xaxis\": {\"automargin\": true, \"gridcolor\": \"white\", \"linecolor\": \"white\", \"ticks\": \"\", \"title\": {\"standoff\": 15}, \"zerolinecolor\": \"white\", \"zerolinewidth\": 2}, \"yaxis\": {\"automargin\": true, \"gridcolor\": \"white\", \"linecolor\": \"white\", \"ticks\": \"\", \"title\": {\"standoff\": 15}, \"zerolinecolor\": \"white\", \"zerolinewidth\": 2}}}, \"title\": {\"text\": \"Distribution of Likelihood to Reach Out to Supervisor Based on Remote Work Availability\"}, \"xaxis\": {\"anchor\": \"y\", \"domain\": [0.0, 1.0], \"title\": {\"text\": \"supervisor\"}}, \"yaxis\": {\"anchor\": \"x\", \"domain\": [0.0, 1.0], \"title\": {\"text\": \"Count\"}}},\n",
              "                        {\"responsive\": true}\n",
              "                    ).then(function(){\n",
              "                            \n",
              "var gd = document.getElementById('9525b504-f4be-4808-b96e-6cf15dbc6d33');\n",
              "var x = new MutationObserver(function (mutations, observer) {{\n",
              "        var display = window.getComputedStyle(gd).display;\n",
              "        if (!display || display === 'none') {{\n",
              "            console.log([gd, 'removed!']);\n",
              "            Plotly.purge(gd);\n",
              "            observer.disconnect();\n",
              "        }}\n",
              "}});\n",
              "\n",
              "// Listen for the removal of the full notebook cells\n",
              "var notebookContainer = gd.closest('#notebook-container');\n",
              "if (notebookContainer) {{\n",
              "    x.observe(notebookContainer, {childList: true});\n",
              "}}\n",
              "\n",
              "// Listen for the clearing of the current output cell\n",
              "var outputEl = gd.closest('.output');\n",
              "if (outputEl) {{\n",
              "    x.observe(outputEl, {childList: true});\n",
              "}}\n",
              "\n",
              "                        })\n",
              "                };\n",
              "                \n",
              "            </script>\n",
              "        </div>\n",
              "</body>\n",
              "</html>"
            ]
          },
          "metadata": {
            "tags": []
          }
        }
      ]
    },
    {
      "cell_type": "markdown",
      "metadata": {
        "id": "2gM2om15SBF3"
      },
      "source": [
        "Although the distribution shown above is not as distinct with respect to a relationship between **remote_work** and classes in the response variable, we will keep **remote_work** in our target predictor set. We decided on this for two reasons: 1) working remotely is becoming an increasingly available option, especially in the tech industry, and 2) this feature is extremely relevant right now due to COVID-19 forcing many people to work remotely. Thus, we want to see how this will contribute to discussing a mental health issue with a direct supervisor."
      ]
    },
    {
      "cell_type": "markdown",
      "metadata": {
        "id": "oZs31mSof1tY"
      },
      "source": [
        "#### *iv) benefits*"
      ]
    },
    {
      "cell_type": "markdown",
      "metadata": {
        "id": "S4DrgMaqMOSn"
      },
      "source": [
        "As previously mentioned in this notebook, the **benefits** feature tracks whether or not workplace benefits specifically related to mental health are present in an employee's workplace."
      ]
    },
    {
      "cell_type": "code",
      "metadata": {
        "colab": {
          "base_uri": "https://localhost:8080/",
          "height": 542
        },
        "id": "bEmvbtLuMWnn",
        "outputId": "48c5cdb0-593c-4125-d7d9-47091968f561"
      },
      "source": [
        "comp_gb = df.groupby([\"supervisor\",\"benefits\"]).size().reset_index(name='Count')\n",
        "fig = px.bar(comp_gb,\n",
        "             x=\"supervisor\",\n",
        "             y=\"Count\",\n",
        "             color=\"benefits\",\n",
        "             barmode='group',\n",
        "             color_discrete_sequence=px.colors.qualitative.D3, \n",
        "             title='Distribution of Likelihood to Reach Out to Supervisor Based on if Employers Provide Mental Health Benefits'\n",
        "             )\n",
        "fig.show()"
      ],
      "execution_count": null,
      "outputs": [
        {
          "output_type": "display_data",
          "data": {
            "text/html": [
              "<html>\n",
              "<head><meta charset=\"utf-8\" /></head>\n",
              "<body>\n",
              "    <div>\n",
              "            <script src=\"https://cdnjs.cloudflare.com/ajax/libs/mathjax/2.7.5/MathJax.js?config=TeX-AMS-MML_SVG\"></script><script type=\"text/javascript\">if (window.MathJax) {MathJax.Hub.Config({SVG: {font: \"STIX-Web\"}});}</script>\n",
              "                <script type=\"text/javascript\">window.PlotlyConfig = {MathJaxConfig: 'local'};</script>\n",
              "        <script src=\"https://cdn.plot.ly/plotly-latest.min.js\"></script>    \n",
              "            <div id=\"423962bc-5d01-421b-ab35-4881cdacfe89\" class=\"plotly-graph-div\" style=\"height:525px; width:100%;\"></div>\n",
              "            <script type=\"text/javascript\">\n",
              "                \n",
              "                    window.PLOTLYENV=window.PLOTLYENV || {};\n",
              "                    \n",
              "                if (document.getElementById(\"423962bc-5d01-421b-ab35-4881cdacfe89\")) {\n",
              "                    Plotly.newPlot(\n",
              "                        '423962bc-5d01-421b-ab35-4881cdacfe89',\n",
              "                        [{\"alignmentgroup\": \"True\", \"hoverlabel\": {\"namelength\": 0}, \"hovertemplate\": \"benefits=No<br>supervisor=%{x}<br>Count=%{y}\", \"legendgroup\": \"benefits=No\", \"marker\": {\"color\": \"#1F77B4\"}, \"name\": \"benefits=No\", \"offsetgroup\": \"benefits=No\", \"orientation\": \"v\", \"showlegend\": true, \"textposition\": \"auto\", \"type\": \"bar\", \"x\": [\"No\", \"Some of them\", \"Yes\"], \"xaxis\": \"x\", \"y\": [258, 210, 314], \"yaxis\": \"y\"}, {\"alignmentgroup\": \"True\", \"hoverlabel\": {\"namelength\": 0}, \"hovertemplate\": \"benefits=Yes<br>supervisor=%{x}<br>Count=%{y}\", \"legendgroup\": \"benefits=Yes\", \"marker\": {\"color\": \"#FF7F0E\"}, \"name\": \"benefits=Yes\", \"offsetgroup\": \"benefits=Yes\", \"orientation\": \"v\", \"showlegend\": true, \"textposition\": \"auto\", \"type\": \"bar\", \"x\": [\"No\", \"Some of them\", \"Yes\"], \"xaxis\": \"x\", \"y\": [135, 140, 202], \"yaxis\": \"y\"}],\n",
              "                        {\"barmode\": \"group\", \"legend\": {\"tracegroupgap\": 0}, \"template\": {\"data\": {\"bar\": [{\"error_x\": {\"color\": \"#2a3f5f\"}, \"error_y\": {\"color\": \"#2a3f5f\"}, \"marker\": {\"line\": {\"color\": \"#E5ECF6\", \"width\": 0.5}}, \"type\": \"bar\"}], \"barpolar\": [{\"marker\": {\"line\": {\"color\": \"#E5ECF6\", \"width\": 0.5}}, \"type\": \"barpolar\"}], \"carpet\": [{\"aaxis\": {\"endlinecolor\": \"#2a3f5f\", \"gridcolor\": \"white\", \"linecolor\": \"white\", \"minorgridcolor\": \"white\", \"startlinecolor\": \"#2a3f5f\"}, \"baxis\": {\"endlinecolor\": \"#2a3f5f\", \"gridcolor\": \"white\", \"linecolor\": \"white\", \"minorgridcolor\": \"white\", \"startlinecolor\": \"#2a3f5f\"}, \"type\": \"carpet\"}], \"choropleth\": [{\"colorbar\": {\"outlinewidth\": 0, \"ticks\": \"\"}, \"type\": \"choropleth\"}], \"contour\": [{\"colorbar\": {\"outlinewidth\": 0, \"ticks\": \"\"}, \"colorscale\": [[0.0, \"#0d0887\"], [0.1111111111111111, \"#46039f\"], [0.2222222222222222, \"#7201a8\"], [0.3333333333333333, \"#9c179e\"], [0.4444444444444444, \"#bd3786\"], [0.5555555555555556, \"#d8576b\"], [0.6666666666666666, \"#ed7953\"], [0.7777777777777778, \"#fb9f3a\"], [0.8888888888888888, \"#fdca26\"], [1.0, \"#f0f921\"]], \"type\": \"contour\"}], \"contourcarpet\": [{\"colorbar\": {\"outlinewidth\": 0, \"ticks\": \"\"}, \"type\": \"contourcarpet\"}], \"heatmap\": [{\"colorbar\": {\"outlinewidth\": 0, \"ticks\": \"\"}, \"colorscale\": [[0.0, \"#0d0887\"], [0.1111111111111111, \"#46039f\"], [0.2222222222222222, \"#7201a8\"], [0.3333333333333333, \"#9c179e\"], [0.4444444444444444, \"#bd3786\"], [0.5555555555555556, \"#d8576b\"], [0.6666666666666666, \"#ed7953\"], [0.7777777777777778, \"#fb9f3a\"], [0.8888888888888888, \"#fdca26\"], [1.0, \"#f0f921\"]], \"type\": \"heatmap\"}], \"heatmapgl\": [{\"colorbar\": {\"outlinewidth\": 0, \"ticks\": \"\"}, \"colorscale\": [[0.0, \"#0d0887\"], [0.1111111111111111, \"#46039f\"], [0.2222222222222222, \"#7201a8\"], [0.3333333333333333, \"#9c179e\"], [0.4444444444444444, \"#bd3786\"], [0.5555555555555556, \"#d8576b\"], [0.6666666666666666, \"#ed7953\"], [0.7777777777777778, \"#fb9f3a\"], [0.8888888888888888, \"#fdca26\"], [1.0, \"#f0f921\"]], \"type\": \"heatmapgl\"}], \"histogram\": [{\"marker\": {\"colorbar\": {\"outlinewidth\": 0, \"ticks\": \"\"}}, \"type\": \"histogram\"}], \"histogram2d\": [{\"colorbar\": {\"outlinewidth\": 0, \"ticks\": \"\"}, \"colorscale\": [[0.0, \"#0d0887\"], [0.1111111111111111, \"#46039f\"], [0.2222222222222222, \"#7201a8\"], [0.3333333333333333, \"#9c179e\"], [0.4444444444444444, \"#bd3786\"], [0.5555555555555556, \"#d8576b\"], [0.6666666666666666, \"#ed7953\"], [0.7777777777777778, \"#fb9f3a\"], [0.8888888888888888, \"#fdca26\"], [1.0, \"#f0f921\"]], \"type\": \"histogram2d\"}], \"histogram2dcontour\": [{\"colorbar\": {\"outlinewidth\": 0, \"ticks\": \"\"}, \"colorscale\": [[0.0, \"#0d0887\"], [0.1111111111111111, \"#46039f\"], [0.2222222222222222, \"#7201a8\"], [0.3333333333333333, \"#9c179e\"], [0.4444444444444444, \"#bd3786\"], [0.5555555555555556, \"#d8576b\"], [0.6666666666666666, \"#ed7953\"], [0.7777777777777778, \"#fb9f3a\"], [0.8888888888888888, \"#fdca26\"], [1.0, \"#f0f921\"]], \"type\": \"histogram2dcontour\"}], \"mesh3d\": [{\"colorbar\": {\"outlinewidth\": 0, \"ticks\": \"\"}, \"type\": \"mesh3d\"}], \"parcoords\": [{\"line\": {\"colorbar\": {\"outlinewidth\": 0, \"ticks\": \"\"}}, \"type\": \"parcoords\"}], \"pie\": [{\"automargin\": true, \"type\": \"pie\"}], \"scatter\": [{\"marker\": {\"colorbar\": {\"outlinewidth\": 0, \"ticks\": \"\"}}, \"type\": \"scatter\"}], \"scatter3d\": [{\"line\": {\"colorbar\": {\"outlinewidth\": 0, \"ticks\": \"\"}}, \"marker\": {\"colorbar\": {\"outlinewidth\": 0, \"ticks\": \"\"}}, \"type\": \"scatter3d\"}], \"scattercarpet\": [{\"marker\": {\"colorbar\": {\"outlinewidth\": 0, \"ticks\": \"\"}}, \"type\": \"scattercarpet\"}], \"scattergeo\": [{\"marker\": {\"colorbar\": {\"outlinewidth\": 0, \"ticks\": \"\"}}, \"type\": \"scattergeo\"}], \"scattergl\": [{\"marker\": {\"colorbar\": {\"outlinewidth\": 0, \"ticks\": \"\"}}, \"type\": \"scattergl\"}], \"scattermapbox\": [{\"marker\": {\"colorbar\": {\"outlinewidth\": 0, \"ticks\": \"\"}}, \"type\": \"scattermapbox\"}], \"scatterpolar\": [{\"marker\": {\"colorbar\": {\"outlinewidth\": 0, \"ticks\": \"\"}}, \"type\": \"scatterpolar\"}], \"scatterpolargl\": [{\"marker\": {\"colorbar\": {\"outlinewidth\": 0, \"ticks\": \"\"}}, \"type\": \"scatterpolargl\"}], \"scatterternary\": [{\"marker\": {\"colorbar\": {\"outlinewidth\": 0, \"ticks\": \"\"}}, \"type\": \"scatterternary\"}], \"surface\": [{\"colorbar\": {\"outlinewidth\": 0, \"ticks\": \"\"}, \"colorscale\": [[0.0, \"#0d0887\"], [0.1111111111111111, \"#46039f\"], [0.2222222222222222, \"#7201a8\"], [0.3333333333333333, \"#9c179e\"], [0.4444444444444444, \"#bd3786\"], [0.5555555555555556, \"#d8576b\"], [0.6666666666666666, \"#ed7953\"], [0.7777777777777778, \"#fb9f3a\"], [0.8888888888888888, \"#fdca26\"], [1.0, \"#f0f921\"]], \"type\": \"surface\"}], \"table\": [{\"cells\": {\"fill\": {\"color\": \"#EBF0F8\"}, \"line\": {\"color\": \"white\"}}, \"header\": {\"fill\": {\"color\": \"#C8D4E3\"}, \"line\": {\"color\": \"white\"}}, \"type\": \"table\"}]}, \"layout\": {\"annotationdefaults\": {\"arrowcolor\": \"#2a3f5f\", \"arrowhead\": 0, \"arrowwidth\": 1}, \"coloraxis\": {\"colorbar\": {\"outlinewidth\": 0, \"ticks\": \"\"}}, \"colorscale\": {\"diverging\": [[0, \"#8e0152\"], [0.1, \"#c51b7d\"], [0.2, \"#de77ae\"], [0.3, \"#f1b6da\"], [0.4, \"#fde0ef\"], [0.5, \"#f7f7f7\"], [0.6, \"#e6f5d0\"], [0.7, \"#b8e186\"], [0.8, \"#7fbc41\"], [0.9, \"#4d9221\"], [1, \"#276419\"]], \"sequential\": [[0.0, \"#0d0887\"], [0.1111111111111111, \"#46039f\"], [0.2222222222222222, \"#7201a8\"], [0.3333333333333333, \"#9c179e\"], [0.4444444444444444, \"#bd3786\"], [0.5555555555555556, \"#d8576b\"], [0.6666666666666666, \"#ed7953\"], [0.7777777777777778, \"#fb9f3a\"], [0.8888888888888888, \"#fdca26\"], [1.0, \"#f0f921\"]], \"sequentialminus\": [[0.0, \"#0d0887\"], [0.1111111111111111, \"#46039f\"], [0.2222222222222222, \"#7201a8\"], [0.3333333333333333, \"#9c179e\"], [0.4444444444444444, \"#bd3786\"], [0.5555555555555556, \"#d8576b\"], [0.6666666666666666, \"#ed7953\"], [0.7777777777777778, \"#fb9f3a\"], [0.8888888888888888, \"#fdca26\"], [1.0, \"#f0f921\"]]}, \"colorway\": [\"#636efa\", \"#EF553B\", \"#00cc96\", \"#ab63fa\", \"#FFA15A\", \"#19d3f3\", \"#FF6692\", \"#B6E880\", \"#FF97FF\", \"#FECB52\"], \"font\": {\"color\": \"#2a3f5f\"}, \"geo\": {\"bgcolor\": \"white\", \"lakecolor\": \"white\", \"landcolor\": \"#E5ECF6\", \"showlakes\": true, \"showland\": true, \"subunitcolor\": \"white\"}, \"hoverlabel\": {\"align\": \"left\"}, \"hovermode\": \"closest\", \"mapbox\": {\"style\": \"light\"}, \"paper_bgcolor\": \"white\", \"plot_bgcolor\": \"#E5ECF6\", \"polar\": {\"angularaxis\": {\"gridcolor\": \"white\", \"linecolor\": \"white\", \"ticks\": \"\"}, \"bgcolor\": \"#E5ECF6\", \"radialaxis\": {\"gridcolor\": \"white\", \"linecolor\": \"white\", \"ticks\": \"\"}}, \"scene\": {\"xaxis\": {\"backgroundcolor\": \"#E5ECF6\", \"gridcolor\": \"white\", \"gridwidth\": 2, \"linecolor\": \"white\", \"showbackground\": true, \"ticks\": \"\", \"zerolinecolor\": \"white\"}, \"yaxis\": {\"backgroundcolor\": \"#E5ECF6\", \"gridcolor\": \"white\", \"gridwidth\": 2, \"linecolor\": \"white\", \"showbackground\": true, \"ticks\": \"\", \"zerolinecolor\": \"white\"}, \"zaxis\": {\"backgroundcolor\": \"#E5ECF6\", \"gridcolor\": \"white\", \"gridwidth\": 2, \"linecolor\": \"white\", \"showbackground\": true, \"ticks\": \"\", \"zerolinecolor\": \"white\"}}, \"shapedefaults\": {\"line\": {\"color\": \"#2a3f5f\"}}, \"ternary\": {\"aaxis\": {\"gridcolor\": \"white\", \"linecolor\": \"white\", \"ticks\": \"\"}, \"baxis\": {\"gridcolor\": \"white\", \"linecolor\": \"white\", \"ticks\": \"\"}, \"bgcolor\": \"#E5ECF6\", \"caxis\": {\"gridcolor\": \"white\", \"linecolor\": \"white\", \"ticks\": \"\"}}, \"title\": {\"x\": 0.05}, \"xaxis\": {\"automargin\": true, \"gridcolor\": \"white\", \"linecolor\": \"white\", \"ticks\": \"\", \"title\": {\"standoff\": 15}, \"zerolinecolor\": \"white\", \"zerolinewidth\": 2}, \"yaxis\": {\"automargin\": true, \"gridcolor\": \"white\", \"linecolor\": \"white\", \"ticks\": \"\", \"title\": {\"standoff\": 15}, \"zerolinecolor\": \"white\", \"zerolinewidth\": 2}}}, \"title\": {\"text\": \"Distribution of Likelihood to Reach Out to Supervisor Based on if Employers Provide Mental Health Benefits\"}, \"xaxis\": {\"anchor\": \"y\", \"domain\": [0.0, 1.0], \"title\": {\"text\": \"supervisor\"}}, \"yaxis\": {\"anchor\": \"x\", \"domain\": [0.0, 1.0], \"title\": {\"text\": \"Count\"}}},\n",
              "                        {\"responsive\": true}\n",
              "                    ).then(function(){\n",
              "                            \n",
              "var gd = document.getElementById('423962bc-5d01-421b-ab35-4881cdacfe89');\n",
              "var x = new MutationObserver(function (mutations, observer) {{\n",
              "        var display = window.getComputedStyle(gd).display;\n",
              "        if (!display || display === 'none') {{\n",
              "            console.log([gd, 'removed!']);\n",
              "            Plotly.purge(gd);\n",
              "            observer.disconnect();\n",
              "        }}\n",
              "}});\n",
              "\n",
              "// Listen for the removal of the full notebook cells\n",
              "var notebookContainer = gd.closest('#notebook-container');\n",
              "if (notebookContainer) {{\n",
              "    x.observe(notebookContainer, {childList: true});\n",
              "}}\n",
              "\n",
              "// Listen for the clearing of the current output cell\n",
              "var outputEl = gd.closest('.output');\n",
              "if (outputEl) {{\n",
              "    x.observe(outputEl, {childList: true});\n",
              "}}\n",
              "\n",
              "                        })\n",
              "                };\n",
              "                \n",
              "            </script>\n",
              "        </div>\n",
              "</body>\n",
              "</html>"
            ]
          },
          "metadata": {
            "tags": []
          }
        }
      ]
    },
    {
      "cell_type": "markdown",
      "metadata": {
        "id": "F8qJeq1kSEdX"
      },
      "source": [
        "Similar to the **remote_work** feature, there does not seem to be much of a qualitative association between the **benefits** feature and our response variable. Despite this, our literature review repeatedly cited benefits as an indicator of beneficial mental health outcomes. As such, we will leave this in our target predictor set."
      ]
    },
    {
      "cell_type": "markdown",
      "metadata": {
        "id": "4YdyHGWDhGGU"
      },
      "source": [
        "<a name=\"Q4\"></a>\r\n",
        "### ***d) Key Question #4: How much of a role do two target predictors suggested by our peers play a role in the willingness of employees to reach out to their direct supervisor(s)?***"
      ]
    },
    {
      "cell_type": "markdown",
      "metadata": {
        "id": "zMs77IMhNBdj"
      },
      "source": [
        "It was suggested by peers to also include **leave** and **seek_help** in our target predictor set. In this sub-section, we will analyze how these features contribute to the outcome of our response variable."
      ]
    },
    {
      "cell_type": "markdown",
      "metadata": {
        "id": "TeD6-64vhiJs"
      },
      "source": [
        "#### *i) leave*"
      ]
    },
    {
      "cell_type": "markdown",
      "metadata": {
        "id": "pn0V_GkqM0T0"
      },
      "source": [
        "As previously mentioned, the **leave** feature tracks how easy it is for an employee to take medical leave specifically due to a mental health condition."
      ]
    },
    {
      "cell_type": "code",
      "metadata": {
        "colab": {
          "base_uri": "https://localhost:8080/",
          "height": 542
        },
        "id": "PxjAwJH0N218",
        "outputId": "4acc2eb0-75af-4f25-e363-d655ec7691a2"
      },
      "source": [
        "comp_leave = df.groupby([\"supervisor\",\"leave\"]).size().reset_index(name='Count')\n",
        "fig = px.bar(comp_leave,\n",
        "             x=\"supervisor\",\n",
        "             y=\"Count\",\n",
        "             color=\"leave\",\n",
        "             barmode='group',\n",
        "             color_discrete_sequence=px.colors.qualitative.D3, \n",
        "             title='Distribution of Likelihood to Reach Out to Direct Supervisor by how easy it is to take Medical Leave'\n",
        "             )\n",
        "fig.show()"
      ],
      "execution_count": null,
      "outputs": [
        {
          "output_type": "display_data",
          "data": {
            "text/html": [
              "<html>\n",
              "<head><meta charset=\"utf-8\" /></head>\n",
              "<body>\n",
              "    <div>\n",
              "            <script src=\"https://cdnjs.cloudflare.com/ajax/libs/mathjax/2.7.5/MathJax.js?config=TeX-AMS-MML_SVG\"></script><script type=\"text/javascript\">if (window.MathJax) {MathJax.Hub.Config({SVG: {font: \"STIX-Web\"}});}</script>\n",
              "                <script type=\"text/javascript\">window.PlotlyConfig = {MathJaxConfig: 'local'};</script>\n",
              "        <script src=\"https://cdn.plot.ly/plotly-latest.min.js\"></script>    \n",
              "            <div id=\"c5a11864-ab68-41c0-9d53-2792ebeec69b\" class=\"plotly-graph-div\" style=\"height:525px; width:100%;\"></div>\n",
              "            <script type=\"text/javascript\">\n",
              "                \n",
              "                    window.PLOTLYENV=window.PLOTLYENV || {};\n",
              "                    \n",
              "                if (document.getElementById(\"c5a11864-ab68-41c0-9d53-2792ebeec69b\")) {\n",
              "                    Plotly.newPlot(\n",
              "                        'c5a11864-ab68-41c0-9d53-2792ebeec69b',\n",
              "                        [{\"alignmentgroup\": \"True\", \"hoverlabel\": {\"namelength\": 0}, \"hovertemplate\": \"leave=Very difficult<br>supervisor=%{x}<br>Count=%{y}\", \"legendgroup\": \"leave=Very difficult\", \"marker\": {\"color\": \"#1F77B4\"}, \"name\": \"leave=Very difficult\", \"offsetgroup\": \"leave=Very difficult\", \"orientation\": \"v\", \"showlegend\": true, \"textposition\": \"auto\", \"type\": \"bar\", \"x\": [\"No\", \"Some of them\", \"Yes\"], \"xaxis\": \"x\", \"y\": [53, 23, 22], \"yaxis\": \"y\"}, {\"alignmentgroup\": \"True\", \"hoverlabel\": {\"namelength\": 0}, \"hovertemplate\": \"leave=Somewhat difficult<br>supervisor=%{x}<br>Count=%{y}\", \"legendgroup\": \"leave=Somewhat difficult\", \"marker\": {\"color\": \"#FF7F0E\"}, \"name\": \"leave=Somewhat difficult\", \"offsetgroup\": \"leave=Somewhat difficult\", \"orientation\": \"v\", \"showlegend\": true, \"textposition\": \"auto\", \"type\": \"bar\", \"x\": [\"No\", \"Some of them\", \"Yes\"], \"xaxis\": \"x\", \"y\": [267, 193, 229], \"yaxis\": \"y\"}, {\"alignmentgroup\": \"True\", \"hoverlabel\": {\"namelength\": 0}, \"hovertemplate\": \"leave=Somewhat easy<br>supervisor=%{x}<br>Count=%{y}\", \"legendgroup\": \"leave=Somewhat easy\", \"marker\": {\"color\": \"#2CA02C\"}, \"name\": \"leave=Somewhat easy\", \"offsetgroup\": \"leave=Somewhat easy\", \"orientation\": \"v\", \"showlegend\": true, \"textposition\": \"auto\", \"type\": \"bar\", \"x\": [\"No\", \"Some of them\", \"Yes\"], \"xaxis\": \"x\", \"y\": [49, 88, 129], \"yaxis\": \"y\"}, {\"alignmentgroup\": \"True\", \"hoverlabel\": {\"namelength\": 0}, \"hovertemplate\": \"leave=Very easy<br>supervisor=%{x}<br>Count=%{y}\", \"legendgroup\": \"leave=Very easy\", \"marker\": {\"color\": \"#D62728\"}, \"name\": \"leave=Very easy\", \"offsetgroup\": \"leave=Very easy\", \"orientation\": \"v\", \"showlegend\": true, \"textposition\": \"auto\", \"type\": \"bar\", \"x\": [\"No\", \"Some of them\", \"Yes\"], \"xaxis\": \"x\", \"y\": [24, 46, 136], \"yaxis\": \"y\"}],\n",
              "                        {\"barmode\": \"group\", \"legend\": {\"tracegroupgap\": 0}, \"template\": {\"data\": {\"bar\": [{\"error_x\": {\"color\": \"#2a3f5f\"}, \"error_y\": {\"color\": \"#2a3f5f\"}, \"marker\": {\"line\": {\"color\": \"#E5ECF6\", \"width\": 0.5}}, \"type\": \"bar\"}], \"barpolar\": [{\"marker\": {\"line\": {\"color\": \"#E5ECF6\", \"width\": 0.5}}, \"type\": \"barpolar\"}], \"carpet\": [{\"aaxis\": {\"endlinecolor\": \"#2a3f5f\", \"gridcolor\": \"white\", \"linecolor\": \"white\", \"minorgridcolor\": \"white\", \"startlinecolor\": \"#2a3f5f\"}, \"baxis\": {\"endlinecolor\": \"#2a3f5f\", \"gridcolor\": \"white\", \"linecolor\": \"white\", \"minorgridcolor\": \"white\", \"startlinecolor\": \"#2a3f5f\"}, \"type\": \"carpet\"}], \"choropleth\": [{\"colorbar\": {\"outlinewidth\": 0, \"ticks\": \"\"}, \"type\": \"choropleth\"}], \"contour\": [{\"colorbar\": {\"outlinewidth\": 0, \"ticks\": \"\"}, \"colorscale\": [[0.0, \"#0d0887\"], [0.1111111111111111, \"#46039f\"], [0.2222222222222222, \"#7201a8\"], [0.3333333333333333, \"#9c179e\"], [0.4444444444444444, \"#bd3786\"], [0.5555555555555556, \"#d8576b\"], [0.6666666666666666, \"#ed7953\"], [0.7777777777777778, \"#fb9f3a\"], [0.8888888888888888, \"#fdca26\"], [1.0, \"#f0f921\"]], \"type\": \"contour\"}], \"contourcarpet\": [{\"colorbar\": {\"outlinewidth\": 0, \"ticks\": \"\"}, \"type\": \"contourcarpet\"}], \"heatmap\": [{\"colorbar\": {\"outlinewidth\": 0, \"ticks\": \"\"}, \"colorscale\": [[0.0, \"#0d0887\"], [0.1111111111111111, \"#46039f\"], [0.2222222222222222, \"#7201a8\"], [0.3333333333333333, \"#9c179e\"], [0.4444444444444444, \"#bd3786\"], [0.5555555555555556, \"#d8576b\"], [0.6666666666666666, \"#ed7953\"], [0.7777777777777778, \"#fb9f3a\"], [0.8888888888888888, \"#fdca26\"], [1.0, \"#f0f921\"]], \"type\": \"heatmap\"}], \"heatmapgl\": [{\"colorbar\": {\"outlinewidth\": 0, \"ticks\": \"\"}, \"colorscale\": [[0.0, \"#0d0887\"], [0.1111111111111111, \"#46039f\"], [0.2222222222222222, \"#7201a8\"], [0.3333333333333333, \"#9c179e\"], [0.4444444444444444, \"#bd3786\"], [0.5555555555555556, \"#d8576b\"], [0.6666666666666666, \"#ed7953\"], [0.7777777777777778, \"#fb9f3a\"], [0.8888888888888888, \"#fdca26\"], [1.0, \"#f0f921\"]], \"type\": \"heatmapgl\"}], \"histogram\": [{\"marker\": {\"colorbar\": {\"outlinewidth\": 0, \"ticks\": \"\"}}, \"type\": \"histogram\"}], \"histogram2d\": [{\"colorbar\": {\"outlinewidth\": 0, \"ticks\": \"\"}, \"colorscale\": [[0.0, \"#0d0887\"], [0.1111111111111111, \"#46039f\"], [0.2222222222222222, \"#7201a8\"], [0.3333333333333333, \"#9c179e\"], [0.4444444444444444, \"#bd3786\"], [0.5555555555555556, \"#d8576b\"], [0.6666666666666666, \"#ed7953\"], [0.7777777777777778, \"#fb9f3a\"], [0.8888888888888888, \"#fdca26\"], [1.0, \"#f0f921\"]], \"type\": \"histogram2d\"}], \"histogram2dcontour\": [{\"colorbar\": {\"outlinewidth\": 0, \"ticks\": \"\"}, \"colorscale\": [[0.0, \"#0d0887\"], [0.1111111111111111, \"#46039f\"], [0.2222222222222222, \"#7201a8\"], [0.3333333333333333, \"#9c179e\"], [0.4444444444444444, \"#bd3786\"], [0.5555555555555556, \"#d8576b\"], [0.6666666666666666, \"#ed7953\"], [0.7777777777777778, \"#fb9f3a\"], [0.8888888888888888, \"#fdca26\"], [1.0, \"#f0f921\"]], \"type\": \"histogram2dcontour\"}], \"mesh3d\": [{\"colorbar\": {\"outlinewidth\": 0, \"ticks\": \"\"}, \"type\": \"mesh3d\"}], \"parcoords\": [{\"line\": {\"colorbar\": {\"outlinewidth\": 0, \"ticks\": \"\"}}, \"type\": \"parcoords\"}], \"pie\": [{\"automargin\": true, \"type\": \"pie\"}], \"scatter\": [{\"marker\": {\"colorbar\": {\"outlinewidth\": 0, \"ticks\": \"\"}}, \"type\": \"scatter\"}], \"scatter3d\": [{\"line\": {\"colorbar\": {\"outlinewidth\": 0, \"ticks\": \"\"}}, \"marker\": {\"colorbar\": {\"outlinewidth\": 0, \"ticks\": \"\"}}, \"type\": \"scatter3d\"}], \"scattercarpet\": [{\"marker\": {\"colorbar\": {\"outlinewidth\": 0, \"ticks\": \"\"}}, \"type\": \"scattercarpet\"}], \"scattergeo\": [{\"marker\": {\"colorbar\": {\"outlinewidth\": 0, \"ticks\": \"\"}}, \"type\": \"scattergeo\"}], \"scattergl\": [{\"marker\": {\"colorbar\": {\"outlinewidth\": 0, \"ticks\": \"\"}}, \"type\": \"scattergl\"}], \"scattermapbox\": [{\"marker\": {\"colorbar\": {\"outlinewidth\": 0, \"ticks\": \"\"}}, \"type\": \"scattermapbox\"}], \"scatterpolar\": [{\"marker\": {\"colorbar\": {\"outlinewidth\": 0, \"ticks\": \"\"}}, \"type\": \"scatterpolar\"}], \"scatterpolargl\": [{\"marker\": {\"colorbar\": {\"outlinewidth\": 0, \"ticks\": \"\"}}, \"type\": \"scatterpolargl\"}], \"scatterternary\": [{\"marker\": {\"colorbar\": {\"outlinewidth\": 0, \"ticks\": \"\"}}, \"type\": \"scatterternary\"}], \"surface\": [{\"colorbar\": {\"outlinewidth\": 0, \"ticks\": \"\"}, \"colorscale\": [[0.0, \"#0d0887\"], [0.1111111111111111, \"#46039f\"], [0.2222222222222222, \"#7201a8\"], [0.3333333333333333, \"#9c179e\"], [0.4444444444444444, \"#bd3786\"], [0.5555555555555556, \"#d8576b\"], [0.6666666666666666, \"#ed7953\"], [0.7777777777777778, \"#fb9f3a\"], [0.8888888888888888, \"#fdca26\"], [1.0, \"#f0f921\"]], \"type\": \"surface\"}], \"table\": [{\"cells\": {\"fill\": {\"color\": \"#EBF0F8\"}, \"line\": {\"color\": \"white\"}}, \"header\": {\"fill\": {\"color\": \"#C8D4E3\"}, \"line\": {\"color\": \"white\"}}, \"type\": \"table\"}]}, \"layout\": {\"annotationdefaults\": {\"arrowcolor\": \"#2a3f5f\", \"arrowhead\": 0, \"arrowwidth\": 1}, \"coloraxis\": {\"colorbar\": {\"outlinewidth\": 0, \"ticks\": \"\"}}, \"colorscale\": {\"diverging\": [[0, \"#8e0152\"], [0.1, \"#c51b7d\"], [0.2, \"#de77ae\"], [0.3, \"#f1b6da\"], [0.4, \"#fde0ef\"], [0.5, \"#f7f7f7\"], [0.6, \"#e6f5d0\"], [0.7, \"#b8e186\"], [0.8, \"#7fbc41\"], [0.9, \"#4d9221\"], [1, \"#276419\"]], \"sequential\": [[0.0, \"#0d0887\"], [0.1111111111111111, \"#46039f\"], [0.2222222222222222, \"#7201a8\"], [0.3333333333333333, \"#9c179e\"], [0.4444444444444444, \"#bd3786\"], [0.5555555555555556, \"#d8576b\"], [0.6666666666666666, \"#ed7953\"], [0.7777777777777778, \"#fb9f3a\"], [0.8888888888888888, \"#fdca26\"], [1.0, \"#f0f921\"]], \"sequentialminus\": [[0.0, \"#0d0887\"], [0.1111111111111111, \"#46039f\"], [0.2222222222222222, \"#7201a8\"], [0.3333333333333333, \"#9c179e\"], [0.4444444444444444, \"#bd3786\"], [0.5555555555555556, \"#d8576b\"], [0.6666666666666666, \"#ed7953\"], [0.7777777777777778, \"#fb9f3a\"], [0.8888888888888888, \"#fdca26\"], [1.0, \"#f0f921\"]]}, \"colorway\": [\"#636efa\", \"#EF553B\", \"#00cc96\", \"#ab63fa\", \"#FFA15A\", \"#19d3f3\", \"#FF6692\", \"#B6E880\", \"#FF97FF\", \"#FECB52\"], \"font\": {\"color\": \"#2a3f5f\"}, \"geo\": {\"bgcolor\": \"white\", \"lakecolor\": \"white\", \"landcolor\": \"#E5ECF6\", \"showlakes\": true, \"showland\": true, \"subunitcolor\": \"white\"}, \"hoverlabel\": {\"align\": \"left\"}, \"hovermode\": \"closest\", \"mapbox\": {\"style\": \"light\"}, \"paper_bgcolor\": \"white\", \"plot_bgcolor\": \"#E5ECF6\", \"polar\": {\"angularaxis\": {\"gridcolor\": \"white\", \"linecolor\": \"white\", \"ticks\": \"\"}, \"bgcolor\": \"#E5ECF6\", \"radialaxis\": {\"gridcolor\": \"white\", \"linecolor\": \"white\", \"ticks\": \"\"}}, \"scene\": {\"xaxis\": {\"backgroundcolor\": \"#E5ECF6\", \"gridcolor\": \"white\", \"gridwidth\": 2, \"linecolor\": \"white\", \"showbackground\": true, \"ticks\": \"\", \"zerolinecolor\": \"white\"}, \"yaxis\": {\"backgroundcolor\": \"#E5ECF6\", \"gridcolor\": \"white\", \"gridwidth\": 2, \"linecolor\": \"white\", \"showbackground\": true, \"ticks\": \"\", \"zerolinecolor\": \"white\"}, \"zaxis\": {\"backgroundcolor\": \"#E5ECF6\", \"gridcolor\": \"white\", \"gridwidth\": 2, \"linecolor\": \"white\", \"showbackground\": true, \"ticks\": \"\", \"zerolinecolor\": \"white\"}}, \"shapedefaults\": {\"line\": {\"color\": \"#2a3f5f\"}}, \"ternary\": {\"aaxis\": {\"gridcolor\": \"white\", \"linecolor\": \"white\", \"ticks\": \"\"}, \"baxis\": {\"gridcolor\": \"white\", \"linecolor\": \"white\", \"ticks\": \"\"}, \"bgcolor\": \"#E5ECF6\", \"caxis\": {\"gridcolor\": \"white\", \"linecolor\": \"white\", \"ticks\": \"\"}}, \"title\": {\"x\": 0.05}, \"xaxis\": {\"automargin\": true, \"gridcolor\": \"white\", \"linecolor\": \"white\", \"ticks\": \"\", \"title\": {\"standoff\": 15}, \"zerolinecolor\": \"white\", \"zerolinewidth\": 2}, \"yaxis\": {\"automargin\": true, \"gridcolor\": \"white\", \"linecolor\": \"white\", \"ticks\": \"\", \"title\": {\"standoff\": 15}, \"zerolinecolor\": \"white\", \"zerolinewidth\": 2}}}, \"title\": {\"text\": \"Distribution of Likelihood to Reach Out to Direct Supervisor by how easy it is to take Medical Leave\"}, \"xaxis\": {\"anchor\": \"y\", \"domain\": [0.0, 1.0], \"title\": {\"text\": \"supervisor\"}}, \"yaxis\": {\"anchor\": \"x\", \"domain\": [0.0, 1.0], \"title\": {\"text\": \"Count\"}}},\n",
              "                        {\"responsive\": true}\n",
              "                    ).then(function(){\n",
              "                            \n",
              "var gd = document.getElementById('c5a11864-ab68-41c0-9d53-2792ebeec69b');\n",
              "var x = new MutationObserver(function (mutations, observer) {{\n",
              "        var display = window.getComputedStyle(gd).display;\n",
              "        if (!display || display === 'none') {{\n",
              "            console.log([gd, 'removed!']);\n",
              "            Plotly.purge(gd);\n",
              "            observer.disconnect();\n",
              "        }}\n",
              "}});\n",
              "\n",
              "// Listen for the removal of the full notebook cells\n",
              "var notebookContainer = gd.closest('#notebook-container');\n",
              "if (notebookContainer) {{\n",
              "    x.observe(notebookContainer, {childList: true});\n",
              "}}\n",
              "\n",
              "// Listen for the clearing of the current output cell\n",
              "var outputEl = gd.closest('.output');\n",
              "if (outputEl) {{\n",
              "    x.observe(outputEl, {childList: true});\n",
              "}}\n",
              "\n",
              "                        })\n",
              "                };\n",
              "                \n",
              "            </script>\n",
              "        </div>\n",
              "</body>\n",
              "</html>"
            ]
          },
          "metadata": {
            "tags": []
          }
        }
      ]
    },
    {
      "cell_type": "markdown",
      "metadata": {
        "id": "Oc5R7d2XDOXe"
      },
      "source": [
        "Unlike the previous two categories, the **leave** feature seems to have a distinct association with the response variable. This is most easily observed with the 'very easy' category, which essentially more than doubled in frequency from the 'Some of them' class to the 'Yes' class. As such, we will definitely add the **leave** feature to our hypothesized set of predictors.\r\n"
      ]
    },
    {
      "cell_type": "markdown",
      "metadata": {
        "id": "a1z2BqYQhmpe"
      },
      "source": [
        "#### *ii) seek_help*"
      ]
    },
    {
      "cell_type": "markdown",
      "metadata": {
        "id": "iJjESA8aSwFU"
      },
      "source": [
        "As mentioned previously, the **seek_help** feature tracks whether an employee's employer provides resources to learn more about mental health issues and how to seek help. "
      ]
    },
    {
      "cell_type": "code",
      "metadata": {
        "colab": {
          "base_uri": "https://localhost:8080/",
          "height": 542
        },
        "id": "AayQBIbTLxkV",
        "outputId": "c5d57248-2e74-42ec-83eb-004149608179"
      },
      "source": [
        "comp_seekhelp = df.groupby([\"supervisor\",\"seek_help\"]).size().reset_index(name='Count')\n",
        "fig = px.bar(comp_seekhelp,\n",
        "             x=\"supervisor\",\n",
        "             y=\"Count\",\n",
        "             color=\"seek_help\",\n",
        "             barmode='group',\n",
        "             color_discrete_sequence=px.colors.qualitative.D3, \n",
        "             title='Distribution of Likelihood to Reach Out to Direct Supervisor whether Employer Provides Resources to raise Mental Health Awareness'\n",
        "             )\n",
        "fig.show()"
      ],
      "execution_count": null,
      "outputs": [
        {
          "output_type": "display_data",
          "data": {
            "text/html": [
              "<html>\n",
              "<head><meta charset=\"utf-8\" /></head>\n",
              "<body>\n",
              "    <div>\n",
              "            <script src=\"https://cdnjs.cloudflare.com/ajax/libs/mathjax/2.7.5/MathJax.js?config=TeX-AMS-MML_SVG\"></script><script type=\"text/javascript\">if (window.MathJax) {MathJax.Hub.Config({SVG: {font: \"STIX-Web\"}});}</script>\n",
              "                <script type=\"text/javascript\">window.PlotlyConfig = {MathJaxConfig: 'local'};</script>\n",
              "        <script src=\"https://cdn.plot.ly/plotly-latest.min.js\"></script>    \n",
              "            <div id=\"4ea6b652-edc1-4239-a38d-79513804cc53\" class=\"plotly-graph-div\" style=\"height:525px; width:100%;\"></div>\n",
              "            <script type=\"text/javascript\">\n",
              "                \n",
              "                    window.PLOTLYENV=window.PLOTLYENV || {};\n",
              "                    \n",
              "                if (document.getElementById(\"4ea6b652-edc1-4239-a38d-79513804cc53\")) {\n",
              "                    Plotly.newPlot(\n",
              "                        '4ea6b652-edc1-4239-a38d-79513804cc53',\n",
              "                        [{\"alignmentgroup\": \"True\", \"hoverlabel\": {\"namelength\": 0}, \"hovertemplate\": \"seek_help=No<br>supervisor=%{x}<br>Count=%{y}\", \"legendgroup\": \"seek_help=No\", \"marker\": {\"color\": \"#1F77B4\"}, \"name\": \"seek_help=No\", \"offsetgroup\": \"seek_help=No\", \"orientation\": \"v\", \"showlegend\": true, \"textposition\": \"auto\", \"type\": \"bar\", \"x\": [\"No\", \"Some of them\", \"Yes\"], \"xaxis\": \"x\", \"y\": [339, 283, 387], \"yaxis\": \"y\"}, {\"alignmentgroup\": \"True\", \"hoverlabel\": {\"namelength\": 0}, \"hovertemplate\": \"seek_help=Yes<br>supervisor=%{x}<br>Count=%{y}\", \"legendgroup\": \"seek_help=Yes\", \"marker\": {\"color\": \"#FF7F0E\"}, \"name\": \"seek_help=Yes\", \"offsetgroup\": \"seek_help=Yes\", \"orientation\": \"v\", \"showlegend\": true, \"textposition\": \"auto\", \"type\": \"bar\", \"x\": [\"No\", \"Some of them\", \"Yes\"], \"xaxis\": \"x\", \"y\": [54, 67, 129], \"yaxis\": \"y\"}],\n",
              "                        {\"barmode\": \"group\", \"legend\": {\"tracegroupgap\": 0}, \"template\": {\"data\": {\"bar\": [{\"error_x\": {\"color\": \"#2a3f5f\"}, \"error_y\": {\"color\": \"#2a3f5f\"}, \"marker\": {\"line\": {\"color\": \"#E5ECF6\", \"width\": 0.5}}, \"type\": \"bar\"}], \"barpolar\": [{\"marker\": {\"line\": {\"color\": \"#E5ECF6\", \"width\": 0.5}}, \"type\": \"barpolar\"}], \"carpet\": [{\"aaxis\": {\"endlinecolor\": \"#2a3f5f\", \"gridcolor\": \"white\", \"linecolor\": \"white\", \"minorgridcolor\": \"white\", \"startlinecolor\": \"#2a3f5f\"}, \"baxis\": {\"endlinecolor\": \"#2a3f5f\", \"gridcolor\": \"white\", \"linecolor\": \"white\", \"minorgridcolor\": \"white\", \"startlinecolor\": \"#2a3f5f\"}, \"type\": \"carpet\"}], \"choropleth\": [{\"colorbar\": {\"outlinewidth\": 0, \"ticks\": \"\"}, \"type\": \"choropleth\"}], \"contour\": [{\"colorbar\": {\"outlinewidth\": 0, \"ticks\": \"\"}, \"colorscale\": [[0.0, \"#0d0887\"], [0.1111111111111111, \"#46039f\"], [0.2222222222222222, \"#7201a8\"], [0.3333333333333333, \"#9c179e\"], [0.4444444444444444, \"#bd3786\"], [0.5555555555555556, \"#d8576b\"], [0.6666666666666666, \"#ed7953\"], [0.7777777777777778, \"#fb9f3a\"], [0.8888888888888888, \"#fdca26\"], [1.0, \"#f0f921\"]], \"type\": \"contour\"}], \"contourcarpet\": [{\"colorbar\": {\"outlinewidth\": 0, \"ticks\": \"\"}, \"type\": \"contourcarpet\"}], \"heatmap\": [{\"colorbar\": {\"outlinewidth\": 0, \"ticks\": \"\"}, \"colorscale\": [[0.0, \"#0d0887\"], [0.1111111111111111, \"#46039f\"], [0.2222222222222222, \"#7201a8\"], [0.3333333333333333, \"#9c179e\"], [0.4444444444444444, \"#bd3786\"], [0.5555555555555556, \"#d8576b\"], [0.6666666666666666, \"#ed7953\"], [0.7777777777777778, \"#fb9f3a\"], [0.8888888888888888, \"#fdca26\"], [1.0, \"#f0f921\"]], \"type\": \"heatmap\"}], \"heatmapgl\": [{\"colorbar\": {\"outlinewidth\": 0, \"ticks\": \"\"}, \"colorscale\": [[0.0, \"#0d0887\"], [0.1111111111111111, \"#46039f\"], [0.2222222222222222, \"#7201a8\"], [0.3333333333333333, \"#9c179e\"], [0.4444444444444444, \"#bd3786\"], [0.5555555555555556, \"#d8576b\"], [0.6666666666666666, \"#ed7953\"], [0.7777777777777778, \"#fb9f3a\"], [0.8888888888888888, \"#fdca26\"], [1.0, \"#f0f921\"]], \"type\": \"heatmapgl\"}], \"histogram\": [{\"marker\": {\"colorbar\": {\"outlinewidth\": 0, \"ticks\": \"\"}}, \"type\": \"histogram\"}], \"histogram2d\": [{\"colorbar\": {\"outlinewidth\": 0, \"ticks\": \"\"}, \"colorscale\": [[0.0, \"#0d0887\"], [0.1111111111111111, \"#46039f\"], [0.2222222222222222, \"#7201a8\"], [0.3333333333333333, \"#9c179e\"], [0.4444444444444444, \"#bd3786\"], [0.5555555555555556, \"#d8576b\"], [0.6666666666666666, \"#ed7953\"], [0.7777777777777778, \"#fb9f3a\"], [0.8888888888888888, \"#fdca26\"], [1.0, \"#f0f921\"]], \"type\": \"histogram2d\"}], \"histogram2dcontour\": [{\"colorbar\": {\"outlinewidth\": 0, \"ticks\": \"\"}, \"colorscale\": [[0.0, \"#0d0887\"], [0.1111111111111111, \"#46039f\"], [0.2222222222222222, \"#7201a8\"], [0.3333333333333333, \"#9c179e\"], [0.4444444444444444, \"#bd3786\"], [0.5555555555555556, \"#d8576b\"], [0.6666666666666666, \"#ed7953\"], [0.7777777777777778, \"#fb9f3a\"], [0.8888888888888888, \"#fdca26\"], [1.0, \"#f0f921\"]], \"type\": \"histogram2dcontour\"}], \"mesh3d\": [{\"colorbar\": {\"outlinewidth\": 0, \"ticks\": \"\"}, \"type\": \"mesh3d\"}], \"parcoords\": [{\"line\": {\"colorbar\": {\"outlinewidth\": 0, \"ticks\": \"\"}}, \"type\": \"parcoords\"}], \"pie\": [{\"automargin\": true, \"type\": \"pie\"}], \"scatter\": [{\"marker\": {\"colorbar\": {\"outlinewidth\": 0, \"ticks\": \"\"}}, \"type\": \"scatter\"}], \"scatter3d\": [{\"line\": {\"colorbar\": {\"outlinewidth\": 0, \"ticks\": \"\"}}, \"marker\": {\"colorbar\": {\"outlinewidth\": 0, \"ticks\": \"\"}}, \"type\": \"scatter3d\"}], \"scattercarpet\": [{\"marker\": {\"colorbar\": {\"outlinewidth\": 0, \"ticks\": \"\"}}, \"type\": \"scattercarpet\"}], \"scattergeo\": [{\"marker\": {\"colorbar\": {\"outlinewidth\": 0, \"ticks\": \"\"}}, \"type\": \"scattergeo\"}], \"scattergl\": [{\"marker\": {\"colorbar\": {\"outlinewidth\": 0, \"ticks\": \"\"}}, \"type\": \"scattergl\"}], \"scattermapbox\": [{\"marker\": {\"colorbar\": {\"outlinewidth\": 0, \"ticks\": \"\"}}, \"type\": \"scattermapbox\"}], \"scatterpolar\": [{\"marker\": {\"colorbar\": {\"outlinewidth\": 0, \"ticks\": \"\"}}, \"type\": \"scatterpolar\"}], \"scatterpolargl\": [{\"marker\": {\"colorbar\": {\"outlinewidth\": 0, \"ticks\": \"\"}}, \"type\": \"scatterpolargl\"}], \"scatterternary\": [{\"marker\": {\"colorbar\": {\"outlinewidth\": 0, \"ticks\": \"\"}}, \"type\": \"scatterternary\"}], \"surface\": [{\"colorbar\": {\"outlinewidth\": 0, \"ticks\": \"\"}, \"colorscale\": [[0.0, \"#0d0887\"], [0.1111111111111111, \"#46039f\"], [0.2222222222222222, \"#7201a8\"], [0.3333333333333333, \"#9c179e\"], [0.4444444444444444, \"#bd3786\"], [0.5555555555555556, \"#d8576b\"], [0.6666666666666666, \"#ed7953\"], [0.7777777777777778, \"#fb9f3a\"], [0.8888888888888888, \"#fdca26\"], [1.0, \"#f0f921\"]], \"type\": \"surface\"}], \"table\": [{\"cells\": {\"fill\": {\"color\": \"#EBF0F8\"}, \"line\": {\"color\": \"white\"}}, \"header\": {\"fill\": {\"color\": \"#C8D4E3\"}, \"line\": {\"color\": \"white\"}}, \"type\": \"table\"}]}, \"layout\": {\"annotationdefaults\": {\"arrowcolor\": \"#2a3f5f\", \"arrowhead\": 0, \"arrowwidth\": 1}, \"coloraxis\": {\"colorbar\": {\"outlinewidth\": 0, \"ticks\": \"\"}}, \"colorscale\": {\"diverging\": [[0, \"#8e0152\"], [0.1, \"#c51b7d\"], [0.2, \"#de77ae\"], [0.3, \"#f1b6da\"], [0.4, \"#fde0ef\"], [0.5, \"#f7f7f7\"], [0.6, \"#e6f5d0\"], [0.7, \"#b8e186\"], [0.8, \"#7fbc41\"], [0.9, \"#4d9221\"], [1, \"#276419\"]], \"sequential\": [[0.0, \"#0d0887\"], [0.1111111111111111, \"#46039f\"], [0.2222222222222222, \"#7201a8\"], [0.3333333333333333, \"#9c179e\"], [0.4444444444444444, \"#bd3786\"], [0.5555555555555556, \"#d8576b\"], [0.6666666666666666, \"#ed7953\"], [0.7777777777777778, \"#fb9f3a\"], [0.8888888888888888, \"#fdca26\"], [1.0, \"#f0f921\"]], \"sequentialminus\": [[0.0, \"#0d0887\"], [0.1111111111111111, \"#46039f\"], [0.2222222222222222, \"#7201a8\"], [0.3333333333333333, \"#9c179e\"], [0.4444444444444444, \"#bd3786\"], [0.5555555555555556, \"#d8576b\"], [0.6666666666666666, \"#ed7953\"], [0.7777777777777778, \"#fb9f3a\"], [0.8888888888888888, \"#fdca26\"], [1.0, \"#f0f921\"]]}, \"colorway\": [\"#636efa\", \"#EF553B\", \"#00cc96\", \"#ab63fa\", \"#FFA15A\", \"#19d3f3\", \"#FF6692\", \"#B6E880\", \"#FF97FF\", \"#FECB52\"], \"font\": {\"color\": \"#2a3f5f\"}, \"geo\": {\"bgcolor\": \"white\", \"lakecolor\": \"white\", \"landcolor\": \"#E5ECF6\", \"showlakes\": true, \"showland\": true, \"subunitcolor\": \"white\"}, \"hoverlabel\": {\"align\": \"left\"}, \"hovermode\": \"closest\", \"mapbox\": {\"style\": \"light\"}, \"paper_bgcolor\": \"white\", \"plot_bgcolor\": \"#E5ECF6\", \"polar\": {\"angularaxis\": {\"gridcolor\": \"white\", \"linecolor\": \"white\", \"ticks\": \"\"}, \"bgcolor\": \"#E5ECF6\", \"radialaxis\": {\"gridcolor\": \"white\", \"linecolor\": \"white\", \"ticks\": \"\"}}, \"scene\": {\"xaxis\": {\"backgroundcolor\": \"#E5ECF6\", \"gridcolor\": \"white\", \"gridwidth\": 2, \"linecolor\": \"white\", \"showbackground\": true, \"ticks\": \"\", \"zerolinecolor\": \"white\"}, \"yaxis\": {\"backgroundcolor\": \"#E5ECF6\", \"gridcolor\": \"white\", \"gridwidth\": 2, \"linecolor\": \"white\", \"showbackground\": true, \"ticks\": \"\", \"zerolinecolor\": \"white\"}, \"zaxis\": {\"backgroundcolor\": \"#E5ECF6\", \"gridcolor\": \"white\", \"gridwidth\": 2, \"linecolor\": \"white\", \"showbackground\": true, \"ticks\": \"\", \"zerolinecolor\": \"white\"}}, \"shapedefaults\": {\"line\": {\"color\": \"#2a3f5f\"}}, \"ternary\": {\"aaxis\": {\"gridcolor\": \"white\", \"linecolor\": \"white\", \"ticks\": \"\"}, \"baxis\": {\"gridcolor\": \"white\", \"linecolor\": \"white\", \"ticks\": \"\"}, \"bgcolor\": \"#E5ECF6\", \"caxis\": {\"gridcolor\": \"white\", \"linecolor\": \"white\", \"ticks\": \"\"}}, \"title\": {\"x\": 0.05}, \"xaxis\": {\"automargin\": true, \"gridcolor\": \"white\", \"linecolor\": \"white\", \"ticks\": \"\", \"title\": {\"standoff\": 15}, \"zerolinecolor\": \"white\", \"zerolinewidth\": 2}, \"yaxis\": {\"automargin\": true, \"gridcolor\": \"white\", \"linecolor\": \"white\", \"ticks\": \"\", \"title\": {\"standoff\": 15}, \"zerolinecolor\": \"white\", \"zerolinewidth\": 2}}}, \"title\": {\"text\": \"Distribution of Likelihood to Reach Out to Direct Supervisor whether Employer Provides Resources to raise Mental Health Awareness\"}, \"xaxis\": {\"anchor\": \"y\", \"domain\": [0.0, 1.0], \"title\": {\"text\": \"supervisor\"}}, \"yaxis\": {\"anchor\": \"x\", \"domain\": [0.0, 1.0], \"title\": {\"text\": \"Count\"}}},\n",
              "                        {\"responsive\": true}\n",
              "                    ).then(function(){\n",
              "                            \n",
              "var gd = document.getElementById('4ea6b652-edc1-4239-a38d-79513804cc53');\n",
              "var x = new MutationObserver(function (mutations, observer) {{\n",
              "        var display = window.getComputedStyle(gd).display;\n",
              "        if (!display || display === 'none') {{\n",
              "            console.log([gd, 'removed!']);\n",
              "            Plotly.purge(gd);\n",
              "            observer.disconnect();\n",
              "        }}\n",
              "}});\n",
              "\n",
              "// Listen for the removal of the full notebook cells\n",
              "var notebookContainer = gd.closest('#notebook-container');\n",
              "if (notebookContainer) {{\n",
              "    x.observe(notebookContainer, {childList: true});\n",
              "}}\n",
              "\n",
              "// Listen for the clearing of the current output cell\n",
              "var outputEl = gd.closest('.output');\n",
              "if (outputEl) {{\n",
              "    x.observe(outputEl, {childList: true});\n",
              "}}\n",
              "\n",
              "                        })\n",
              "                };\n",
              "                \n",
              "            </script>\n",
              "        </div>\n",
              "</body>\n",
              "</html>"
            ]
          },
          "metadata": {
            "tags": []
          }
        }
      ]
    },
    {
      "cell_type": "markdown",
      "metadata": {
        "id": "d4hpz2RnTD4b"
      },
      "source": [
        "As qualitatively observed in the plot above, there does not seem to be much of an association between the **seek_help** feature and our response variable. As such, this does not warrant an addition into our hypothesized set of features."
      ]
    },
    {
      "cell_type": "markdown",
      "metadata": {
        "id": "B0Rb5rQYigNf"
      },
      "source": [
        "<a name=\"Q5\"></a>\r\n",
        "### ***e) Key Question #5: What is the multicollinearity between factors in our dataset? Which factors are highly correlated with our target label (supervisor)***"
      ]
    },
    {
      "cell_type": "markdown",
      "metadata": {
        "id": "v_0mF63aTSx8"
      },
      "source": [
        "Now that we have analyzed qualitative effects of our hypothesized set of target predictors on our response variables, even adding one in while doing so (**leave**), let us look at more quantitative metrics to determine relationships between predictive features and the response variable as well as between predictive features themselves.\r\n",
        "\r\n",
        "The following code chunk and output will display a correlation matrix between the features of our dataset."
      ]
    },
    {
      "cell_type": "code",
      "metadata": {
        "colab": {
          "base_uri": "https://localhost:8080/",
          "height": 402
        },
        "id": "O4Xvz224kBSR",
        "outputId": "fe7bca12-eccc-4f15-88b1-f5e7adb47f96"
      },
      "source": [
        "corr = mc_df.iloc[:].corr()\n",
        "sns.heatmap(corr,\n",
        "            xticklabels=corr.columns,\n",
        "            yticklabels=corr.columns)\n",
        "plt.show()"
      ],
      "execution_count": null,
      "outputs": [
        {
          "output_type": "display_data",
          "data": {
            "image/png": "[encoded data removed]",
            "text/plain": [
              "<Figure size 432x288 with 2 Axes>"
            ]
          },
          "metadata": {
            "tags": [],
            "needs_background": "light"
          }
        }
      ]
    },
    {
      "cell_type": "markdown",
      "metadata": {
        "id": "q-W7qArPTssQ"
      },
      "source": [
        "As observed qualitatively above, although some features are highly correlated, there does not seem to be too many features highly correlated with our response variable (**supervisor**). At first glance, only **coworkers** and **mental_vs_physical** seem to be highly correlated with the response variable, but let us double check this qualitative observation with quantitative features."
      ]
    },
    {
      "cell_type": "code",
      "metadata": {
        "colab": {
          "base_uri": "https://localhost:8080/"
        },
        "id": "tqsmnShmkd8G",
        "outputId": "02b1b162-789b-4276-8ee6-1a22311b8987"
      },
      "source": [
        "corr[\"supervisor\"]"
      ],
      "execution_count": null,
      "outputs": [
        {
          "output_type": "execute_result",
          "data": {
            "text/plain": [
              "Age                          0.003533\n",
              "Gender                       0.068139\n",
              "Country                     -0.001308\n",
              "self_employed                0.037432\n",
              "family_history               0.003729\n",
              "treatment                   -0.036199\n",
              "work_interfere              -0.092664\n",
              "no_employees                -0.052650\n",
              "remote_work                  0.025220\n",
              "tech_company                 0.049543\n",
              "benefits                     0.039570\n",
              "care_options                 0.070158\n",
              "wellness_program             0.103986\n",
              "seek_help                    0.119302\n",
              "anonymity                    0.179767\n",
              "leave                        0.208364\n",
              "mental_health_consequence   -0.153149\n",
              "phys_health_consequence      0.103836\n",
              "coworkers                    0.574310\n",
              "supervisor                   1.000000\n",
              "mental_health_interview     -0.189549\n",
              "phys_health_interview        0.082835\n",
              "mental_vs_physical           0.311737\n",
              "obs_consequence             -0.090507\n",
              "country_bucket               0.005444\n",
              "age_bucket                   0.016276\n",
              "Name: supervisor, dtype: float64"
            ]
          },
          "metadata": {
            "tags": []
          },
          "execution_count": 31
        }
      ]
    },
    {
      "cell_type": "markdown",
      "metadata": {
        "id": "-ow6Db1PUIpm"
      },
      "source": [
        "After excluding all other columns in the matrix, and generating quantitative statistics, our suspicious are more or less confirmed. The **coworkers** and **mental_vs_physical** features seem to be highly correlated with our response variable (**supervisor**), with metrics of **0.5743** and **0.3117**, respectively. Upon quantitatively finding this, we may consider taking them out so that our model does not overfit to the training set."
      ]
    },
    {
      "cell_type": "code",
      "metadata": {
        "colab": {
          "base_uri": "https://localhost:8080/",
          "height": 827
        },
        "id": "eFWn2WeFkKux",
        "outputId": "5eec7b08-3094-4f28-864f-c558a3b5c82b"
      },
      "source": [
        "res = chi2(mc_df.iloc[:], mc_df['supervisor'])\n",
        "features = pd.DataFrame({\n",
        "    'features': mc_df.columns[:],\n",
        "    'chi2': res[0],\n",
        "    'p-value': res[1]\n",
        "})\n",
        "\n",
        "features"
      ],
      "execution_count": null,
      "outputs": [
        {
          "output_type": "execute_result",
          "data": {
            "text/html": [
              "<div>\n",
              "<style scoped>\n",
              "    .dataframe tbody tr th:only-of-type {\n",
              "        vertical-align: middle;\n",
              "    }\n",
              "\n",
              "    .dataframe tbody tr th {\n",
              "        vertical-align: top;\n",
              "    }\n",
              "\n",
              "    .dataframe thead th {\n",
              "        text-align: right;\n",
              "    }\n",
              "</style>\n",
              "<table border=\"1\" class=\"dataframe\">\n",
              "  <thead>\n",
              "    <tr style=\"text-align: right;\">\n",
              "      <th></th>\n",
              "      <th>features</th>\n",
              "      <th>chi2</th>\n",
              "      <th>p-value</th>\n",
              "    </tr>\n",
              "  </thead>\n",
              "  <tbody>\n",
              "    <tr>\n",
              "      <th>0</th>\n",
              "      <td>Age</td>\n",
              "      <td>0.595044</td>\n",
              "      <td>7.426564e-01</td>\n",
              "    </tr>\n",
              "    <tr>\n",
              "      <th>1</th>\n",
              "      <td>Gender</td>\n",
              "      <td>1.763668</td>\n",
              "      <td>4.140229e-01</td>\n",
              "    </tr>\n",
              "    <tr>\n",
              "      <th>2</th>\n",
              "      <td>Country</td>\n",
              "      <td>2.950676</td>\n",
              "      <td>2.287014e-01</td>\n",
              "    </tr>\n",
              "    <tr>\n",
              "      <th>3</th>\n",
              "      <td>self_employed</td>\n",
              "      <td>1.601137</td>\n",
              "      <td>4.490735e-01</td>\n",
              "    </tr>\n",
              "    <tr>\n",
              "      <th>4</th>\n",
              "      <td>family_history</td>\n",
              "      <td>0.015672</td>\n",
              "      <td>9.921946e-01</td>\n",
              "    </tr>\n",
              "    <tr>\n",
              "      <th>5</th>\n",
              "      <td>treatment</td>\n",
              "      <td>0.852475</td>\n",
              "      <td>6.529614e-01</td>\n",
              "    </tr>\n",
              "    <tr>\n",
              "      <th>6</th>\n",
              "      <td>work_interfere</td>\n",
              "      <td>11.234793</td>\n",
              "      <td>3.634090e-03</td>\n",
              "    </tr>\n",
              "    <tr>\n",
              "      <th>7</th>\n",
              "      <td>no_employees</td>\n",
              "      <td>3.796551</td>\n",
              "      <td>1.498267e-01</td>\n",
              "    </tr>\n",
              "    <tr>\n",
              "      <th>8</th>\n",
              "      <td>remote_work</td>\n",
              "      <td>2.190844</td>\n",
              "      <td>3.343985e-01</td>\n",
              "    </tr>\n",
              "    <tr>\n",
              "      <th>9</th>\n",
              "      <td>tech_company</td>\n",
              "      <td>0.576132</td>\n",
              "      <td>7.497121e-01</td>\n",
              "    </tr>\n",
              "    <tr>\n",
              "      <th>10</th>\n",
              "      <td>benefits</td>\n",
              "      <td>1.925620</td>\n",
              "      <td>3.818185e-01</td>\n",
              "    </tr>\n",
              "    <tr>\n",
              "      <th>11</th>\n",
              "      <td>care_options</td>\n",
              "      <td>4.552720</td>\n",
              "      <td>1.026572e-01</td>\n",
              "    </tr>\n",
              "    <tr>\n",
              "      <th>12</th>\n",
              "      <td>wellness_program</td>\n",
              "      <td>11.221737</td>\n",
              "      <td>3.657891e-03</td>\n",
              "    </tr>\n",
              "    <tr>\n",
              "      <th>13</th>\n",
              "      <td>seek_help</td>\n",
              "      <td>14.367648</td>\n",
              "      <td>7.587607e-04</td>\n",
              "    </tr>\n",
              "    <tr>\n",
              "      <th>14</th>\n",
              "      <td>anonymity</td>\n",
              "      <td>29.881474</td>\n",
              "      <td>3.245789e-07</td>\n",
              "    </tr>\n",
              "    <tr>\n",
              "      <th>15</th>\n",
              "      <td>leave</td>\n",
              "      <td>81.879679</td>\n",
              "      <td>1.659792e-18</td>\n",
              "    </tr>\n",
              "    <tr>\n",
              "      <th>16</th>\n",
              "      <td>mental_health_consequence</td>\n",
              "      <td>42.810801</td>\n",
              "      <td>5.055367e-10</td>\n",
              "    </tr>\n",
              "    <tr>\n",
              "      <th>17</th>\n",
              "      <td>phys_health_consequence</td>\n",
              "      <td>7.622049</td>\n",
              "      <td>2.212550e-02</td>\n",
              "    </tr>\n",
              "    <tr>\n",
              "      <th>18</th>\n",
              "      <td>coworkers</td>\n",
              "      <td>164.231691</td>\n",
              "      <td>2.175412e-36</td>\n",
              "    </tr>\n",
              "    <tr>\n",
              "      <th>19</th>\n",
              "      <td>supervisor</td>\n",
              "      <td>817.150507</td>\n",
              "      <td>3.614282e-178</td>\n",
              "    </tr>\n",
              "    <tr>\n",
              "      <th>20</th>\n",
              "      <td>mental_health_interview</td>\n",
              "      <td>9.530343</td>\n",
              "      <td>8.521428e-03</td>\n",
              "    </tr>\n",
              "    <tr>\n",
              "      <th>21</th>\n",
              "      <td>phys_health_interview</td>\n",
              "      <td>6.428747</td>\n",
              "      <td>4.018050e-02</td>\n",
              "    </tr>\n",
              "    <tr>\n",
              "      <th>22</th>\n",
              "      <td>mental_vs_physical</td>\n",
              "      <td>91.026257</td>\n",
              "      <td>1.713560e-20</td>\n",
              "    </tr>\n",
              "    <tr>\n",
              "      <th>23</th>\n",
              "      <td>obs_consequence</td>\n",
              "      <td>12.438695</td>\n",
              "      <td>1.990544e-03</td>\n",
              "    </tr>\n",
              "    <tr>\n",
              "      <th>24</th>\n",
              "      <td>country_bucket</td>\n",
              "      <td>0.415159</td>\n",
              "      <td>8.125486e-01</td>\n",
              "    </tr>\n",
              "    <tr>\n",
              "      <th>25</th>\n",
              "      <td>age_bucket</td>\n",
              "      <td>0.330236</td>\n",
              "      <td>8.477937e-01</td>\n",
              "    </tr>\n",
              "  </tbody>\n",
              "</table>\n",
              "</div>"
            ],
            "text/plain": [
              "                     features        chi2        p-value\n",
              "0                         Age    0.595044   7.426564e-01\n",
              "1                      Gender    1.763668   4.140229e-01\n",
              "2                     Country    2.950676   2.287014e-01\n",
              "3               self_employed    1.601137   4.490735e-01\n",
              "4              family_history    0.015672   9.921946e-01\n",
              "5                   treatment    0.852475   6.529614e-01\n",
              "6              work_interfere   11.234793   3.634090e-03\n",
              "7                no_employees    3.796551   1.498267e-01\n",
              "8                 remote_work    2.190844   3.343985e-01\n",
              "9                tech_company    0.576132   7.497121e-01\n",
              "10                   benefits    1.925620   3.818185e-01\n",
              "11               care_options    4.552720   1.026572e-01\n",
              "12           wellness_program   11.221737   3.657891e-03\n",
              "13                  seek_help   14.367648   7.587607e-04\n",
              "14                  anonymity   29.881474   3.245789e-07\n",
              "15                      leave   81.879679   1.659792e-18\n",
              "16  mental_health_consequence   42.810801   5.055367e-10\n",
              "17    phys_health_consequence    7.622049   2.212550e-02\n",
              "18                  coworkers  164.231691   2.175412e-36\n",
              "19                 supervisor  817.150507  3.614282e-178\n",
              "20    mental_health_interview    9.530343   8.521428e-03\n",
              "21      phys_health_interview    6.428747   4.018050e-02\n",
              "22         mental_vs_physical   91.026257   1.713560e-20\n",
              "23            obs_consequence   12.438695   1.990544e-03\n",
              "24             country_bucket    0.415159   8.125486e-01\n",
              "25                 age_bucket    0.330236   8.477937e-01"
            ]
          },
          "metadata": {
            "tags": []
          },
          "execution_count": 32
        }
      ]
    },
    {
      "cell_type": "markdown",
      "metadata": {
        "id": "3vyc1crfUnH8"
      },
      "source": [
        "Finally, the results of running a chi-square analysis on each feature with respect to the response variable are depicted in the above output. The chi-square test investigates whether or not a statistical significance of the observed relationship with respect to the expected relationship exists.[$^{22}$](#ref22) In other words, the statistic is used to determine whether or not a statistically significant relationship between any given feature and the response variable exists due to the categorical nature of the variables.\r\n",
        "\r\n",
        "According to the results, the following features are statistically significant at the 0.001 level: **seek_help**, **anonymity**, **leave**, **mental_health_consequence**, **coworkers**, and **mental_vs_physical**. This is simply too many to take out, but we can sufficiently decide to take **coworkers** out by now due to not only the more than significant p-value (**2.1754*10$^{36}$**) and high correlation found with the response variable (**0.5743**). "
      ]
    },
    {
      "cell_type": "markdown",
      "metadata": {
        "id": "9gDd_OBQdenu"
      },
      "source": [
        "### ***f) Finalized Hypothesis***\n",
        "\n",
        "After answering the key questions associated with our general research question, we can now reformat our original hypotheses. The biggest changes here are the addition of the **leave** feature to the hypothesized set of target predictors, which now possess 5 features, and the rewording of the hypothesis to capture the 5 strongest predictors instead of adding the predictors by feature importance and determining whether or not they are greater than an arbitrary value of 50%.\n",
        "\n",
        "**Null Hypothesis:** Using Random Forest and feature importance from sklearn (Mean Decrease in Gini Index), the 5 target predictors, in no particular order, will not be the most important when predicting whether employees are willing to discuss mental health issues with supervisors.\n",
        "\n",
        "**Alternative Hypothesis:** Using Random Forest and feature importance from sklearn (Mean Decrease in Gini Index), the 5 target predictors, in no particular no order, will be the most important when predicting whether employees are willing to discuss mental health issues with supervisors\n",
        "\n",
        "\n",
        "**Target Predictors:**\n",
        "- **leave: How easy is it for you to take medical leave for a mental health condition?**\n",
        "- benefits: Does your employer provide mental health benefits?\n",
        "- no_employees: How many employees does your company/organization have?\n",
        "- obs_consequence: Have you heard of or observed negative consequences for coworkers with mental health conditions in your workplace\n",
        "- remote_work: Do you work remotely (outside of an office) at least 50% of the time?\n"
      ]
    },
    {
      "cell_type": "markdown",
      "metadata": {
        "id": "ghCLHjsMDCh4"
      },
      "source": [
        "-------------------------------------------------------------"
      ]
    },
    {
      "cell_type": "markdown",
      "metadata": {
        "id": "nLxBwuF1vCPb"
      },
      "source": [
        "<a name=\"four\"></a>\r\n",
        "## **IV. Initial Model & Feature Engineering**\r\n",
        "\r\n",
        "The following section outlines the initial model plan for the RandomForestClassifier, and showcases the results of the model's performance on the cleaned dataset. The model's performance is then analyzed depending on whether label encoding or one-hot encoding was utilized to encode the dataset's categorical features. Next, feature engineering is performed in an attempt to improve overall model performance. Finally, the model is tuned through performance of a multi-stage GridSearch containing multiple cross validation procedures within each overall iteration. At the end of this section, the best possible model with respect to accuracy in classifying the supervisor response variable as 'Yes' will be determined. \r\n",
        "\r\n",
        "This finalized model will be subsequently utilized in [**Section V: Finalized Model & Results**](#five) to determine its performance with respect to the other classes of the supervisor response variable (e.g., 'Some of them' and 'no')."
      ]
    },
    {
      "cell_type": "markdown",
      "metadata": {
        "id": "CiBQgzLG-FUd"
      },
      "source": [
        "### ***a) Initial Model Plan***"
      ]
    },
    {
      "cell_type": "markdown",
      "metadata": {
        "id": "BHkK36cKXufg"
      },
      "source": [
        "In order to approach our general question and test our hypothesis, we will be utilizing the scikit-learn library, specifically its Random Forest Classifier, to model our dataset and determine which features in our dataset hold the most weight when predicting whether or not an employee is willing to discuss a mental health concern with their direct supervisor(s). \r\n",
        "\r\n",
        "As mentioned previously, the scikit-learn library in Python is a state-of-the-art machine learning library consisting of many different classifiers and machines. One of these classifiers is the Random Forest Classifier, which relies on the concept of classification trees. Essentially, a random forest algorithm grows many classification trees fitted to any specific dataset.[$^{23}$](#ref23) The node in each tree is split based on a measure of impurity, most commonly either Gini or Information Entropy, as we will see later. This gives a fast variable importance measure at every node of the tree, allowing the algorithm to be efficient and computationally inexpensive. When creating a Random Forest Classifier, there are several arguments necessary to be passed in. As obtained from the scikit-learn Python documentation, listed below are several important ones that will be utilized later in this notebook for tuning and feature engineering[$^{24}$](#ref24): \r\n",
        "\r\n",
        "> **n_estimators** --> Refers to the number of trees in the random forest.\r\n",
        "\r\n",
        "> **criterion** --> As stated previously, refers to the function calculated to measure the quality/impurity of a split. The most common functions are the Gini Index and the information gain.\r\n",
        "\r\n",
        "> **max_depth** --> Refers to the maximum depth of the tree.\r\n",
        "\r\n",
        "> **min_samples_split** --> Refers to the minimum number of samples required to split an internal node.\r\n",
        "\r\n",
        "> **min_samples_leaf** --> Refers to the minimum number of samples required to be at a leaf node.\r\n",
        "\r\n",
        "> **max_features** --> Refers to the number of features to consider when looking for the best node split.\r\n",
        "\r\n",
        "> **boostrap** --> Determines whether or not the whole dataset will be utilized to build each tree in the random forest.\r\n",
        "\r\n",
        "> **max_samples** --> If bootstrap is True, refers to the proportion of the dataset that will be utilized to build each tree in the random forest. \r\n",
        "\r\n",
        "Although there are tradeoffs to extremely high and extremely low values of each hyperparameter, as we will see below, Random Forest Classifiers generally perform well and tend not to overfit. As such, the algorithm does not require very thorough hyper-parameter tuning to produce an accurate result, as the performance is most largely dependent on the **min_samples_leaf** and **n_estimators** hyperparameters. Furthermore, using the random forest algorithm makes it very easy to measure the relative importance of each feature on the prediction, which is what our hypothesis is about. Morevoer, the scikit-learn Python library even allows us to directly access normalized feature importance as an attribute of the fitted model. Ultimately, this is calculated by the Mean Decrease in the Gini Index, which essentially renders it an impurity-based measure of feature importance. In the end, this will be our primary endpoint for testing the hypothesis and answering the general research question listed above. \r\n",
        "\r\n",
        "Furthermore, Bootstrapping will be leveraged to improve predictive accuracy and prevent overfitting even further, which will allow for a reduced variance of the overall classifier. All in all, Random Forest Classifiers will serve as an efficient measure of feature importance of the 5 hypothesized predictors in our target set: **obs_consequence**, **benefits**, **remote_work**, **leave**, and **no_employees**.\r\n",
        "\r\n",
        "However, in order to tune the hyperparameters listed above, thereby optimizing our model, a parameter search algorithm will likely need to be conducted. Our plan is to use GridSearchCV(), also provided by the scikit-learn Python library, on a distinct set of parameters for the purposes of tuning parameters related to tree size, tree number, node size, and number estimators in our random forest model. Ultimately, we will utilize the GridSearchCV algorithm in steps, tuning the most important hyperparameters first before becoming more and more detailed in our approach. As such, we will start by tuning **min_samples_leaf** and **n_estimators**, then move on to **max_features**, and finally move on to **max_depth** and **max_sample**.\r\n",
        "\r\n",
        "The dataset will be divided into training and testing portions via an 80:20 split in order to train and evaluate the performance of our model. To test our hypothesis, we will call feature importance and determine whether or not the 5 predictors present in our hypothesis are actually the 5 most important features in our Random Forest Classifier. As stated previously, feature importance is calculated by mean decrease in Gini Index. "
      ]
    },
    {
      "cell_type": "markdown",
      "metadata": {
        "id": "o76CSKeQkCPp"
      },
      "source": [
        "### ***b) Encoding Variables***\n",
        "As previously mentioned, we must encode our categorical variables and convert them to numeric identifiers so that the random forest can actually learn from the training dataset. We have already label encoded the dataset, but now will also one-hot encode it. The distinction between the two was explained previously in [**Section II: Data Overview & Cleaning**](#two). The following code chunk performs the one-hot encoding aspect through utilization of the **get_dummies** function in the **pandas** library."
      ]
    },
    {
      "cell_type": "code",
      "metadata": {
        "id": "ADyHF3XHxoEn"
      },
      "source": [
        "encoded_df = pd.get_dummies(df)\n",
        "\n",
        "unfe_df = pd.read_csv(file_path)\n",
        "unfe_df = unfe_df.drop('Timestamp', 1)\n",
        "unfe_df = unfe_df.drop('comments', 1)\n",
        "unfe_df = pd.get_dummies(unfe_df)\n",
        "\n",
        "cdrop = df.drop('Country', 1)\n",
        "cdrop = pd.get_dummies(cdrop)\n",
        "\n",
        "cdrop = df.drop('Country', 1)\n",
        "cdrop = pd.get_dummies(cdrop)\n",
        "\n",
        "agecdrop = df.drop('Country', 1)\n",
        "agecdrop = df.drop('age_bucket', 1)\n",
        "agecdrop = pd.get_dummies(agecdrop)"
      ],
      "execution_count": null,
      "outputs": []
    },
    {
      "cell_type": "markdown",
      "metadata": {
        "id": "v2mTorm3EzRz"
      },
      "source": [
        "### ***c) Initial OHE Model***\n",
        "The following code chunks will train a Random Forest Classifier on the one-hot encoded dataset as an initial indicator of model performance. Depending on the result, we will perform feature engineering as needed.\n",
        "\n",
        "However, we first need to pre-process the dataset and drop some categories due to results of our exploratory data analysis and intuition. The following list summarizes the features that were dropped and the justification as to why they were dropped. \n",
        "\n",
        "*   **timestamp** - We did not think the timestamp that the survey was submitted was relevant to determining our question.\n",
        "*   **state** - We dropped state because we are looking at global data, and have country already.\n",
        "*   **coworkers** - We dropped coworkers because it has the exact same question as supervisor, our label, but for coworkers.\n",
        "  * We thought that including this category would introduce overfitting to our model (0.57).\n",
        "*   **mental_health_interview** - We dropped mental_health_interview because we thought it was too similar to our label.\n",
        "  * We thought including this category would introduce overfitting.\n",
        "* **physical_health_interview** - We dropped physical_health_interview because we thought it was too similar to our label\n",
        "  * We thought including this category would introduce overfitting\n",
        "* **comments** - We dropped comments because the it contains many null values, and the string responses are all very different, so it would be very hard to format this data to actually benefit our model.\n",
        "\n",
        "All of the following models were trained on this initially dropped dataset. However, feature engineering was also performed on some of the models below, as explained later. Nevertheless, with all preprocessing finished, let us see the results of our initial model run.\n"
      ]
    },
    {
      "cell_type": "code",
      "metadata": {
        "id": "5ekwFs0QGiBM"
      },
      "source": [
        "X_full = unfe_df.drop(['supervisor_Yes', 'supervisor_No', 'supervisor_Some of them', 'coworkers_Yes', 'coworkers_Some of them', 'coworkers_No', 'mental_health_interview_Maybe', 'mental_health_interview_No', 'mental_health_interview_Yes', 'phys_health_interview_Maybe', 'phys_health_interview_No', 'phys_health_interview_Yes'], axis=1)\n",
        "y_full = unfe_df.loc[: ,'supervisor_Yes']"
      ],
      "execution_count": null,
      "outputs": []
    },
    {
      "cell_type": "code",
      "metadata": {
        "id": "WvMygU-Om9OR"
      },
      "source": [
        "X_train_full, X_test_full, y_train_full, y_test_full = train_test_split(\n",
        "            X_full,\n",
        "            X_full,\n",
        "            test_size = 0.2,\n",
        "            random_state = 508)"
      ],
      "execution_count": null,
      "outputs": []
    },
    {
      "cell_type": "code",
      "metadata": {
        "id": "cqOnXBskd6KX"
      },
      "source": [
        "#Instantiate and fit Entropy on Full Dataset\n",
        "RF_entropy = RandomForestClassifier(n_estimators = 100,\n",
        "                                     criterion = 'entropy',\n",
        "                                     max_depth = None,\n",
        "                                     min_samples_leaf = 1,\n",
        "                                     bootstrap = False,\n",
        "                                     warm_start = False,\n",
        "                                     random_state = 508)\n",
        "RF_entropy_fit = RF_entropy.fit(X_train_full, y_train_full)"
      ],
      "execution_count": null,
      "outputs": []
    },
    {
      "cell_type": "code",
      "metadata": {
        "id": "WcoAJqh5rg6n"
      },
      "source": [
        "rfc_cv_score = cross_val_score(RF_entropy, X, y, cv=10, scoring='roc_auc')\n",
        "print(rfc_cv_score.mean())\n",
        "\n",
        "rfc_predict = RF_entropy.predict(X_test_full) \n",
        "print(classification_report(y_test_full, rfc_predict))"
      ],
      "execution_count": null,
      "outputs": []
    },
    {
      "cell_type": "code",
      "metadata": {
        "id": "GKkfMHRgrbHA"
      },
      "source": [
        "#Printing model scores\n",
        "print('Training Score', RF_entropy_fit.score(X_train_full, y_train_full).round(7))\n",
        "print('Testing Score:', RF_entropy_fit.score(X_test_full, y_test_full).round(7))"
      ],
      "execution_count": null,
      "outputs": []
    },
    {
      "cell_type": "markdown",
      "metadata": {
        "id": "Rz7y-XsSkWIB"
      },
      "source": [
        "As observed quantitatively from the code chunks above, the random forest classifier trained on the non-feature engineered dataset exhibits strong overfitting. The training score was found to be 1.0 and the testing score was found to be 0.0, demonstrating high variance due to the overfit. This is likely due to the hyperparameters utilized above, as Bootstrapping was not performed, and all hyperparameters were left as default. Thus, we will start with altering these hyperparameters from the initial run."
      ]
    },
    {
      "cell_type": "markdown",
      "metadata": {
        "id": "tbPMAsj4vmcP"
      },
      "source": [
        "### ***d) OHE Non feature engineered model w/o age and country buckets***"
      ]
    },
    {
      "cell_type": "markdown",
      "metadata": {
        "id": "MaaFhBoKlHkt"
      },
      "source": [
        "In this run, we will utilize the one-hot encoded dataset, yet make the hyperparameters of the Random Forest Classifier to different values to prevent the overfitting of the previous section. At the start, we will use 100 random forest trees and set the **bootstrap** argument to true. As a reminder, this second alteration allows the random forest to be grown out of subsets of the dataset instead of its entirety. \r\n",
        "\r\n",
        "However, we will also perform the analysis without the **age_bucket** and **country_bucket** features, which might reduce the feature space complexity for age since it will stay continous. However, for country, the feature space will likely still be complex. Nevertheless, let us see the initial results based on this initil feature engineering change and hyperparameter additions."
      ]
    },
    {
      "cell_type": "code",
      "metadata": {
        "id": "hKnlomw2v3kU"
      },
      "source": [
        "X = encoded_df.drop(['supervisor_Yes', 'supervisor_No', 'supervisor_Some of them', 'coworkers_Yes', 'coworkers_Some of them', 'coworkers_No', 'mental_health_interview_Maybe', 'mental_health_interview_No', 'mental_health_interview_Yes', 'age_bucket_<18', 'age_bucket_20s', 'age_bucket_30s', 'age_bucket_40s', 'age_bucket_50s', 'age_bucket_60s+', 'phys_health_interview_Maybe', 'phys_health_interview_No', 'phys_health_interview_Yes', 'country_bucket_Europe', 'country_bucket_North America', 'country_bucket_Europe'], axis=1)\n",
        "y = encoded_df.loc[: ,'supervisor_Yes']"
      ],
      "execution_count": null,
      "outputs": []
    },
    {
      "cell_type": "code",
      "metadata": {
        "id": "n9kGuH5bv83G"
      },
      "source": [
        "#Train, test, split\n",
        "X_train, X_test, y_train, y_test = train_test_split(\n",
        "            X,\n",
        "            y,\n",
        "            test_size = 0.2,\n",
        "            random_state = 508)"
      ],
      "execution_count": null,
      "outputs": []
    },
    {
      "cell_type": "code",
      "metadata": {
        "colab": {
          "base_uri": "https://localhost:8080/"
        },
        "id": "TV3rkCA0wEef",
        "outputId": "16e028b9-db34-4e77-ad2a-1f0fad31ebf1"
      },
      "source": [
        "#Instantiate and fit Entropy\n",
        "RF_entropy = RandomForestClassifier(n_estimators = 100,\n",
        "                                     criterion = 'entropy',\n",
        "                                     max_depth = None,\n",
        "                                     min_samples_leaf = 1,\n",
        "                                     bootstrap = True,\n",
        "                                     warm_start = False,\n",
        "                                     random_state = 508)\n",
        "RF_entropy_fit = RF_entropy.fit(X_train, y_train)\n",
        "\n",
        "#Printing model scores\n",
        "print('Training Score', RF_entropy_fit.score(X_train, y_train).round(7))\n",
        "print('Testing Score:', RF_entropy_fit.score(X_test, y_test).round(7))\n",
        "\n",
        "rfc_cv_score = cross_val_score(RF_entropy, X, y, cv=10, scoring='roc_auc')\n",
        "print(rfc_cv_score.mean())\n",
        "\n",
        "rfc_predict = RF_entropy.predict(X_test) \n",
        "print(classification_report(y_test, rfc_predict))"
      ],
      "execution_count": null,
      "outputs": [
        {
          "output_type": "stream",
          "text": [
            "Training Score 1.0\n",
            "Testing Score: 0.7579365\n",
            "0.7902831247537131\n",
            "              precision    recall  f1-score   support\n",
            "\n",
            "           0       0.78      0.81      0.79       144\n",
            "           1       0.73      0.69      0.71       108\n",
            "\n",
            "    accuracy                           0.76       252\n",
            "   macro avg       0.75      0.75      0.75       252\n",
            "weighted avg       0.76      0.76      0.76       252\n",
            "\n"
          ],
          "name": "stdout"
        }
      ]
    },
    {
      "cell_type": "markdown",
      "metadata": {
        "id": "nZ_aUt08mBM8"
      },
      "source": [
        "Right off the bat, we can see that the alterations to our hyperparameters of the Random Forest Classifier and the changes in our dataset resulted in less of an overfit. This was as expected, as the age_bucket likely contributed substantial variance to the model since it was changed from continous to categorical. However, let us see the difference between using the Gini Index and using the Information Gain Index in the Random Forest Classifier Model."
      ]
    },
    {
      "cell_type": "code",
      "metadata": {
        "colab": {
          "base_uri": "https://localhost:8080/"
        },
        "id": "aPtARWHnyWU_",
        "outputId": "71722f70-9119-4027-afb2-ddb51ae2e157"
      },
      "source": [
        "#Instantiate and fit Gini\n",
        "RF_gini = RandomForestClassifier(n_estimators = 100,\n",
        "                                     criterion = 'gini',\n",
        "                                     max_depth = None,\n",
        "                                     min_samples_leaf = 1,\n",
        "                                     bootstrap = True,\n",
        "                                     warm_start = False,\n",
        "                                     random_state = 508)\n",
        "\n",
        "#Fitting model\n",
        "RF_gini_fit = RF_gini.fit(X_train, y_train)\n",
        "\n",
        "#Printing model scores\n",
        "print('Training Score', RF_gini_fit.score(X_train, y_train).round(7))\n",
        "print('Testing Score:', RF_gini_fit.score(X_test, y_test).round(7))\n",
        "\n",
        "rfc_cv_score = cross_val_score(RF_gini, X, y, cv=10, scoring='roc_auc')\n",
        "print(rfc_cv_score.mean())\n",
        "\n",
        "rfc_predict = RF_gini.predict(X_test) \n",
        "print(classification_report(y_test, rfc_predict))"
      ],
      "execution_count": null,
      "outputs": [
        {
          "output_type": "stream",
          "text": [
            "Training Score 1.0\n",
            "Testing Score: 0.7698413\n",
            "0.7904685160273395\n",
            "              precision    recall  f1-score   support\n",
            "\n",
            "           0       0.79      0.81      0.80       144\n",
            "           1       0.74      0.71      0.73       108\n",
            "\n",
            "    accuracy                           0.77       252\n",
            "   macro avg       0.77      0.76      0.76       252\n",
            "weighted avg       0.77      0.77      0.77       252\n",
            "\n"
          ],
          "name": "stdout"
        }
      ]
    },
    {
      "cell_type": "markdown",
      "metadata": {
        "id": "E1K6Z-xRnLMy"
      },
      "source": [
        "All metrics seem to improve when changing from Information Gain Index to the Gini Index as the criterion for the node split. However, it still seems to be overfitting based on the **1.0** training score.\r\n",
        "\r\n",
        "Now, let us plot feature importance, which is the metric of interest."
      ]
    },
    {
      "cell_type": "code",
      "metadata": {
        "id": "5u8aqE4QJdOm"
      },
      "source": [
        "def plot_feature_importances(model, train = X_train):\n",
        "    n_features = train.shape[1]\n",
        "    fi = np.sort(model.feature_importances_) #[::-1]\n",
        "    fig = px.bar(X_train, fi, y=X_train.columns, orientation='h', title=\"Feature Importances of Model Features\")\n",
        "    fig.update_layout(xaxis=dict(title=\"Feature Importance\"), yaxis=dict(title=\"Feature\"))\n",
        "    fig.show()"
      ],
      "execution_count": null,
      "outputs": []
    },
    {
      "cell_type": "code",
      "metadata": {
        "colab": {
          "base_uri": "https://localhost:8080/",
          "height": 542
        },
        "id": "UB-g4nI0whPU",
        "outputId": "040c451e-4f38-44f6-d4c2-d85040183967"
      },
      "source": [
        "plot_feature_importances(RF_gini_fit, train = X_train)"
      ],
      "execution_count": null,
      "outputs": [
        {
          "output_type": "display_data",
          "data": {
            "text/html": [
              "<html>\n",
              "<head><meta charset=\"utf-8\" /></head>\n",
              "<body>\n",
              "    <div>\n",
              "            <script src=\"https://cdnjs.cloudflare.com/ajax/libs/mathjax/2.7.5/MathJax.js?config=TeX-AMS-MML_SVG\"></script><script type=\"text/javascript\">if (window.MathJax) {MathJax.Hub.Config({SVG: {font: \"STIX-Web\"}});}</script>\n",
              "                <script type=\"text/javascript\">window.PlotlyConfig = {MathJaxConfig: 'local'};</script>\n",
              "        <script src=\"https://cdn.plot.ly/plotly-latest.min.js\"></script>    \n",
              "            <div id=\"deb47b3a-1343-4548-b366-5d19b89f98f6\" class=\"plotly-graph-div\" style=\"height:525px; width:100%;\"></div>\n",
              "            <script type=\"text/javascript\">\n",
              "                \n",
              "                    window.PLOTLYENV=window.PLOTLYENV || {};\n",
              "                    \n",
              "                if (document.getElementById(\"deb47b3a-1343-4548-b366-5d19b89f98f6\")) {\n",
              "                    Plotly.newPlot(\n",
              "                        'deb47b3a-1343-4548-b366-5d19b89f98f6',\n",
              "                        [{\"alignmentgroup\": \"True\", \"hoverlabel\": {\"namelength\": 0}, \"hovertemplate\": \"x=%{x}<br>y=%{y}\", \"legendgroup\": \"\", \"marker\": {\"color\": \"#636efa\"}, \"name\": \"\", \"offsetgroup\": \"\", \"orientation\": \"h\", \"showlegend\": false, \"textposition\": \"auto\", \"type\": \"bar\", \"x\": [0.0, 0.0, 0.0, 0.0, 4.401148477087092e-06, 6.5874017304740225e-06, 6.776763842902902e-06, 2.4030600311843917e-05, 5.522969146187705e-05, 6.181986814152248e-05, 6.32568335503984e-05, 6.457358956722545e-05, 9.630494761301893e-05, 0.00010815982871920945, 0.0001315068798313207, 0.00015156313369172857, 0.00017072708361578836, 0.00019181137889416838, 0.0002654969998900635, 0.00031105774716157214, 0.0003685067559190755, 0.0004024025439873427, 0.00041833160844832447, 0.0004546739155215984, 0.0007669342596067364, 0.0007759716475833965, 0.0008094443695140281, 0.0008483865029503458, 0.0009157745694359624, 0.0009992511577330894, 0.0010113035911183566, 0.0010142421057068786, 0.0011661897276891839, 0.0012205936334316366, 0.0012900028689329184, 0.001293511203657618, 0.0013333082396156846, 0.001602656002009257, 0.001823729649392411, 0.002701116454504228, 0.002798384391529255, 0.0030451817743041977, 0.0031575371602977744, 0.004239986430688378, 0.0043269394634064375, 0.006083026348378655, 0.006123055542656556, 0.007299014107182998, 0.008019780281715773, 0.008096280905528119, 0.008463469675098267, 0.00868705456975806, 0.00876339089251571, 0.008956665276015172, 0.00939505610683883, 0.009948588287007353, 0.010099984053397409, 0.010767424578059409, 0.010847892592725698, 0.011298207904228525, 0.011358233082519218, 0.01140333167294897, 0.012181274013604184, 0.012371006969554432, 0.012564196866371544, 0.012855623066769718, 0.012858520613332456, 0.013219971536272888, 0.01336318197380809, 0.013545112226644394, 0.013849847122171815, 0.014482674770675379, 0.014759945457200217, 0.014787372587439252, 0.014943652151251203, 0.014987211544624308, 0.014993323626793988, 0.015034881128621513, 0.015179253548300606, 0.015222878597178809, 0.015369870760262406, 0.015564751309150018, 0.015573937670060139, 0.015972934822275985, 0.01602658525325285, 0.01728994631901194, 0.01787201971231688, 0.018191511566914443, 0.018755115385871154, 0.020407655941618075, 0.02050142646398713, 0.025156482477813054, 0.02757040098798661, 0.028311436658801436, 0.03136185236311778, 0.0495775327703589, 0.09514667033639788, 0.10404182160012948], \"xaxis\": \"x\", \"y\": [\"Age\", \"Gender_female\", \"Gender_male\", \"Gender_other\", \"Country_Australia\", \"Country_Austria\", \"Country_Bahamas, The\", \"Country_Belgium\", \"Country_Bosnia and Herzegovina\", \"Country_Brazil\", \"Country_Bulgaria\", \"Country_Canada\", \"Country_China\", \"Country_Colombia\", \"Country_Costa Rica\", \"Country_Croatia\", \"Country_Czech Republic\", \"Country_Denmark\", \"Country_Finland\", \"Country_France\", \"Country_Georgia\", \"Country_Germany\", \"Country_Greece\", \"Country_Hungary\", \"Country_India\", \"Country_Ireland\", \"Country_Israel\", \"Country_Italy\", \"Country_Japan\", \"Country_Latvia\", \"Country_Mexico\", \"Country_Moldova\", \"Country_Netherlands\", \"Country_New Zealand\", \"Country_Nigeria\", \"Country_Norway\", \"Country_Philippines\", \"Country_Poland\", \"Country_Portugal\", \"Country_Romania\", \"Country_Russia\", \"Country_Singapore\", \"Country_Slovenia\", \"Country_South Africa\", \"Country_Spain\", \"Country_Sweden\", \"Country_Switzerland\", \"Country_Thailand\", \"Country_United Kingdom\", \"Country_United States\", \"Country_Uruguay\", \"Country_Zimbabwe\", \"self_employed_No\", \"self_employed_Yes\", \"family_history_No\", \"family_history_Yes\", \"treatment_No\", \"treatment_Yes\", \"work_interfere_Never\", \"work_interfere_No Response\", \"work_interfere_Often\", \"work_interfere_Rarely\", \"work_interfere_Sometimes\", \"no_employees_1-5\", \"no_employees_6-25\", \"no_employees_26-100\", \"no_employees_100-500\", \"no_employees_500-1000\", \"no_employees_More than 1000\", \"remote_work_No\", \"remote_work_Yes\", \"tech_company_No\", \"tech_company_Yes\", \"benefits_No\", \"benefits_Yes\", \"care_options_No\", \"care_options_Yes\", \"wellness_program_No\", \"wellness_program_Yes\", \"seek_help_No\", \"seek_help_Yes\", \"anonymity_No\", \"anonymity_Yes\", \"leave_Very difficult\", \"leave_Somewhat difficult\", \"leave_Somewhat easy\", \"leave_Very easy\", \"mental_health_consequence_Maybe\", \"mental_health_consequence_No\", \"mental_health_consequence_Yes\", \"phys_health_consequence_Maybe\", \"phys_health_consequence_No\", \"phys_health_consequence_Yes\", \"mental_vs_physical_No\", \"mental_vs_physical_Yes\", \"obs_consequence_No\", \"obs_consequence_Yes\", \"country_bucket_Other\"], \"yaxis\": \"y\"}],\n",
              "                        {\"barmode\": \"relative\", \"legend\": {\"tracegroupgap\": 0}, \"template\": {\"data\": {\"bar\": [{\"error_x\": {\"color\": \"#2a3f5f\"}, \"error_y\": {\"color\": \"#2a3f5f\"}, \"marker\": {\"line\": {\"color\": \"#E5ECF6\", \"width\": 0.5}}, \"type\": \"bar\"}], \"barpolar\": [{\"marker\": {\"line\": {\"color\": \"#E5ECF6\", \"width\": 0.5}}, \"type\": \"barpolar\"}], \"carpet\": [{\"aaxis\": {\"endlinecolor\": \"#2a3f5f\", \"gridcolor\": \"white\", \"linecolor\": \"white\", \"minorgridcolor\": \"white\", \"startlinecolor\": \"#2a3f5f\"}, \"baxis\": {\"endlinecolor\": \"#2a3f5f\", \"gridcolor\": \"white\", \"linecolor\": \"white\", \"minorgridcolor\": \"white\", \"startlinecolor\": \"#2a3f5f\"}, \"type\": \"carpet\"}], \"choropleth\": [{\"colorbar\": {\"outlinewidth\": 0, \"ticks\": \"\"}, \"type\": \"choropleth\"}], \"contour\": [{\"colorbar\": {\"outlinewidth\": 0, \"ticks\": \"\"}, \"colorscale\": [[0.0, \"#0d0887\"], [0.1111111111111111, \"#46039f\"], [0.2222222222222222, \"#7201a8\"], [0.3333333333333333, \"#9c179e\"], [0.4444444444444444, \"#bd3786\"], [0.5555555555555556, \"#d8576b\"], [0.6666666666666666, \"#ed7953\"], [0.7777777777777778, \"#fb9f3a\"], [0.8888888888888888, \"#fdca26\"], [1.0, \"#f0f921\"]], \"type\": \"contour\"}], \"contourcarpet\": [{\"colorbar\": {\"outlinewidth\": 0, \"ticks\": \"\"}, \"type\": \"contourcarpet\"}], \"heatmap\": [{\"colorbar\": {\"outlinewidth\": 0, \"ticks\": \"\"}, \"colorscale\": [[0.0, \"#0d0887\"], [0.1111111111111111, \"#46039f\"], [0.2222222222222222, \"#7201a8\"], [0.3333333333333333, \"#9c179e\"], [0.4444444444444444, \"#bd3786\"], [0.5555555555555556, \"#d8576b\"], [0.6666666666666666, \"#ed7953\"], [0.7777777777777778, \"#fb9f3a\"], [0.8888888888888888, \"#fdca26\"], [1.0, \"#f0f921\"]], \"type\": \"heatmap\"}], \"heatmapgl\": [{\"colorbar\": {\"outlinewidth\": 0, \"ticks\": \"\"}, \"colorscale\": [[0.0, \"#0d0887\"], [0.1111111111111111, \"#46039f\"], [0.2222222222222222, \"#7201a8\"], [0.3333333333333333, \"#9c179e\"], [0.4444444444444444, \"#bd3786\"], [0.5555555555555556, \"#d8576b\"], [0.6666666666666666, \"#ed7953\"], [0.7777777777777778, \"#fb9f3a\"], [0.8888888888888888, \"#fdca26\"], [1.0, \"#f0f921\"]], \"type\": \"heatmapgl\"}], \"histogram\": [{\"marker\": {\"colorbar\": {\"outlinewidth\": 0, \"ticks\": \"\"}}, \"type\": \"histogram\"}], \"histogram2d\": [{\"colorbar\": {\"outlinewidth\": 0, \"ticks\": \"\"}, \"colorscale\": [[0.0, \"#0d0887\"], [0.1111111111111111, \"#46039f\"], [0.2222222222222222, \"#7201a8\"], [0.3333333333333333, \"#9c179e\"], [0.4444444444444444, \"#bd3786\"], [0.5555555555555556, \"#d8576b\"], [0.6666666666666666, \"#ed7953\"], [0.7777777777777778, \"#fb9f3a\"], [0.8888888888888888, \"#fdca26\"], [1.0, \"#f0f921\"]], \"type\": \"histogram2d\"}], \"histogram2dcontour\": [{\"colorbar\": {\"outlinewidth\": 0, \"ticks\": \"\"}, \"colorscale\": [[0.0, \"#0d0887\"], [0.1111111111111111, \"#46039f\"], [0.2222222222222222, \"#7201a8\"], [0.3333333333333333, \"#9c179e\"], [0.4444444444444444, \"#bd3786\"], [0.5555555555555556, \"#d8576b\"], [0.6666666666666666, \"#ed7953\"], [0.7777777777777778, \"#fb9f3a\"], [0.8888888888888888, \"#fdca26\"], [1.0, \"#f0f921\"]], \"type\": \"histogram2dcontour\"}], \"mesh3d\": [{\"colorbar\": {\"outlinewidth\": 0, \"ticks\": \"\"}, \"type\": \"mesh3d\"}], \"parcoords\": [{\"line\": {\"colorbar\": {\"outlinewidth\": 0, \"ticks\": \"\"}}, \"type\": \"parcoords\"}], \"pie\": [{\"automargin\": true, \"type\": \"pie\"}], \"scatter\": [{\"marker\": {\"colorbar\": {\"outlinewidth\": 0, \"ticks\": \"\"}}, \"type\": \"scatter\"}], \"scatter3d\": [{\"line\": {\"colorbar\": {\"outlinewidth\": 0, \"ticks\": \"\"}}, \"marker\": {\"colorbar\": {\"outlinewidth\": 0, \"ticks\": \"\"}}, \"type\": \"scatter3d\"}], \"scattercarpet\": [{\"marker\": {\"colorbar\": {\"outlinewidth\": 0, \"ticks\": \"\"}}, \"type\": \"scattercarpet\"}], \"scattergeo\": [{\"marker\": {\"colorbar\": {\"outlinewidth\": 0, \"ticks\": \"\"}}, \"type\": \"scattergeo\"}], \"scattergl\": [{\"marker\": {\"colorbar\": {\"outlinewidth\": 0, \"ticks\": \"\"}}, \"type\": \"scattergl\"}], \"scattermapbox\": [{\"marker\": {\"colorbar\": {\"outlinewidth\": 0, \"ticks\": \"\"}}, \"type\": \"scattermapbox\"}], \"scatterpolar\": [{\"marker\": {\"colorbar\": {\"outlinewidth\": 0, \"ticks\": \"\"}}, \"type\": \"scatterpolar\"}], \"scatterpolargl\": [{\"marker\": {\"colorbar\": {\"outlinewidth\": 0, \"ticks\": \"\"}}, \"type\": \"scatterpolargl\"}], \"scatterternary\": [{\"marker\": {\"colorbar\": {\"outlinewidth\": 0, \"ticks\": \"\"}}, \"type\": \"scatterternary\"}], \"surface\": [{\"colorbar\": {\"outlinewidth\": 0, \"ticks\": \"\"}, \"colorscale\": [[0.0, \"#0d0887\"], [0.1111111111111111, \"#46039f\"], [0.2222222222222222, \"#7201a8\"], [0.3333333333333333, \"#9c179e\"], [0.4444444444444444, \"#bd3786\"], [0.5555555555555556, \"#d8576b\"], [0.6666666666666666, \"#ed7953\"], [0.7777777777777778, \"#fb9f3a\"], [0.8888888888888888, \"#fdca26\"], [1.0, \"#f0f921\"]], \"type\": \"surface\"}], \"table\": [{\"cells\": {\"fill\": {\"color\": \"#EBF0F8\"}, \"line\": {\"color\": \"white\"}}, \"header\": {\"fill\": {\"color\": \"#C8D4E3\"}, \"line\": {\"color\": \"white\"}}, \"type\": \"table\"}]}, \"layout\": {\"annotationdefaults\": {\"arrowcolor\": \"#2a3f5f\", \"arrowhead\": 0, \"arrowwidth\": 1}, \"coloraxis\": {\"colorbar\": {\"outlinewidth\": 0, \"ticks\": \"\"}}, \"colorscale\": {\"diverging\": [[0, \"#8e0152\"], [0.1, \"#c51b7d\"], [0.2, \"#de77ae\"], [0.3, \"#f1b6da\"], [0.4, \"#fde0ef\"], [0.5, \"#f7f7f7\"], [0.6, \"#e6f5d0\"], [0.7, \"#b8e186\"], [0.8, \"#7fbc41\"], [0.9, \"#4d9221\"], [1, \"#276419\"]], \"sequential\": [[0.0, \"#0d0887\"], [0.1111111111111111, \"#46039f\"], [0.2222222222222222, \"#7201a8\"], [0.3333333333333333, \"#9c179e\"], [0.4444444444444444, \"#bd3786\"], [0.5555555555555556, \"#d8576b\"], [0.6666666666666666, \"#ed7953\"], [0.7777777777777778, \"#fb9f3a\"], [0.8888888888888888, \"#fdca26\"], [1.0, \"#f0f921\"]], \"sequentialminus\": [[0.0, \"#0d0887\"], [0.1111111111111111, \"#46039f\"], [0.2222222222222222, \"#7201a8\"], [0.3333333333333333, \"#9c179e\"], [0.4444444444444444, \"#bd3786\"], [0.5555555555555556, \"#d8576b\"], [0.6666666666666666, \"#ed7953\"], [0.7777777777777778, \"#fb9f3a\"], [0.8888888888888888, \"#fdca26\"], [1.0, \"#f0f921\"]]}, \"colorway\": [\"#636efa\", \"#EF553B\", \"#00cc96\", \"#ab63fa\", \"#FFA15A\", \"#19d3f3\", \"#FF6692\", \"#B6E880\", \"#FF97FF\", \"#FECB52\"], \"font\": {\"color\": \"#2a3f5f\"}, \"geo\": {\"bgcolor\": \"white\", \"lakecolor\": \"white\", \"landcolor\": \"#E5ECF6\", \"showlakes\": true, \"showland\": true, \"subunitcolor\": \"white\"}, \"hoverlabel\": {\"align\": \"left\"}, \"hovermode\": \"closest\", \"mapbox\": {\"style\": \"light\"}, \"paper_bgcolor\": \"white\", \"plot_bgcolor\": \"#E5ECF6\", \"polar\": {\"angularaxis\": {\"gridcolor\": \"white\", \"linecolor\": \"white\", \"ticks\": \"\"}, \"bgcolor\": \"#E5ECF6\", \"radialaxis\": {\"gridcolor\": \"white\", \"linecolor\": \"white\", \"ticks\": \"\"}}, \"scene\": {\"xaxis\": {\"backgroundcolor\": \"#E5ECF6\", \"gridcolor\": \"white\", \"gridwidth\": 2, \"linecolor\": \"white\", \"showbackground\": true, \"ticks\": \"\", \"zerolinecolor\": \"white\"}, \"yaxis\": {\"backgroundcolor\": \"#E5ECF6\", \"gridcolor\": \"white\", \"gridwidth\": 2, \"linecolor\": \"white\", \"showbackground\": true, \"ticks\": \"\", \"zerolinecolor\": \"white\"}, \"zaxis\": {\"backgroundcolor\": \"#E5ECF6\", \"gridcolor\": \"white\", \"gridwidth\": 2, \"linecolor\": \"white\", \"showbackground\": true, \"ticks\": \"\", \"zerolinecolor\": \"white\"}}, \"shapedefaults\": {\"line\": {\"color\": \"#2a3f5f\"}}, \"ternary\": {\"aaxis\": {\"gridcolor\": \"white\", \"linecolor\": \"white\", \"ticks\": \"\"}, \"baxis\": {\"gridcolor\": \"white\", \"linecolor\": \"white\", \"ticks\": \"\"}, \"bgcolor\": \"#E5ECF6\", \"caxis\": {\"gridcolor\": \"white\", \"linecolor\": \"white\", \"ticks\": \"\"}}, \"title\": {\"x\": 0.05}, \"xaxis\": {\"automargin\": true, \"gridcolor\": \"white\", \"linecolor\": \"white\", \"ticks\": \"\", \"title\": {\"standoff\": 15}, \"zerolinecolor\": \"white\", \"zerolinewidth\": 2}, \"yaxis\": {\"automargin\": true, \"gridcolor\": \"white\", \"linecolor\": \"white\", \"ticks\": \"\", \"title\": {\"standoff\": 15}, \"zerolinecolor\": \"white\", \"zerolinewidth\": 2}}}, \"title\": {\"text\": \"Feature Importances of Model Features\"}, \"xaxis\": {\"anchor\": \"y\", \"domain\": [0.0, 1.0], \"title\": {\"text\": \"Feature Importance\"}}, \"yaxis\": {\"anchor\": \"x\", \"domain\": [0.0, 1.0], \"title\": {\"text\": \"Feature\"}}},\n",
              "                        {\"responsive\": true}\n",
              "                    ).then(function(){\n",
              "                            \n",
              "var gd = document.getElementById('deb47b3a-1343-4548-b366-5d19b89f98f6');\n",
              "var x = new MutationObserver(function (mutations, observer) {{\n",
              "        var display = window.getComputedStyle(gd).display;\n",
              "        if (!display || display === 'none') {{\n",
              "            console.log([gd, 'removed!']);\n",
              "            Plotly.purge(gd);\n",
              "            observer.disconnect();\n",
              "        }}\n",
              "}});\n",
              "\n",
              "// Listen for the removal of the full notebook cells\n",
              "var notebookContainer = gd.closest('#notebook-container');\n",
              "if (notebookContainer) {{\n",
              "    x.observe(notebookContainer, {childList: true});\n",
              "}}\n",
              "\n",
              "// Listen for the clearing of the current output cell\n",
              "var outputEl = gd.closest('.output');\n",
              "if (outputEl) {{\n",
              "    x.observe(outputEl, {childList: true});\n",
              "}}\n",
              "\n",
              "                        })\n",
              "                };\n",
              "                \n",
              "            </script>\n",
              "        </div>\n",
              "</body>\n",
              "</html>"
            ]
          },
          "metadata": {
            "tags": []
          }
        }
      ]
    },
    {
      "cell_type": "markdown",
      "metadata": {
        "id": "x3obbRYxnqsI"
      },
      "source": [
        "Based on the initial plot of feature importance, it seems as if the model is heavily favoring **mental_health_consequence**, **work_interfere**, **leave**, **remote_work**, and **gender** as important categories."
      ]
    },
    {
      "cell_type": "markdown",
      "metadata": {
        "id": "hAGI-F0s0rcy"
      },
      "source": [
        "### ***e) LE Non feature engineered model w/o age and country buckets***"
      ]
    },
    {
      "cell_type": "markdown",
      "metadata": {
        "id": "a4aCT9xEn6xj"
      },
      "source": [
        "The following is a repetition of the last section but with the label encoded dataframe instead of the OHE encoded one."
      ]
    },
    {
      "cell_type": "code",
      "metadata": {
        "id": "c5Ywg4wm0njS"
      },
      "source": [
        "X = mc_df.drop(['supervisor', 'coworkers', 'mental_health_interview', 'phys_health_interview', 'age_bucket'], axis=1)\n",
        "y = mc_df.loc[: ,'supervisor']\n",
        "\n",
        "#Train, test, split\n",
        "X_train, X_test, y_train, y_test = train_test_split(\n",
        "            X,\n",
        "            y,\n",
        "            test_size = 0.2,\n",
        "            random_state = 508)"
      ],
      "execution_count": null,
      "outputs": []
    },
    {
      "cell_type": "code",
      "metadata": {
        "colab": {
          "base_uri": "https://localhost:8080/"
        },
        "id": "7GAEgwoL1IYY",
        "outputId": "7230341e-2d0d-49d7-dc78-3876703c5003"
      },
      "source": [
        "#Instantiate and fit Entropy\n",
        "RF_entropy = RandomForestClassifier(n_estimators = 100,\n",
        "                                     criterion = 'entropy',\n",
        "                                     max_depth = None,\n",
        "                                     min_samples_leaf = 1,\n",
        "                                     bootstrap = True,\n",
        "                                     warm_start = False,\n",
        "                                     random_state = 508)\n",
        "RF_entropy_fit = RF_entropy.fit(X_train, y_train)\n",
        "\n",
        "#Printing model scores\n",
        "print('Training Score', RF_entropy_fit.score(X_train, y_train).round(7))\n",
        "print('Testing Score:', RF_entropy_fit.score(X_test, y_test).round(7))\n",
        "\n",
        "rfc_predict = RF_entropy.predict(X_test) \n",
        "print(classification_report(y_test, rfc_predict)) "
      ],
      "execution_count": null,
      "outputs": [
        {
          "output_type": "stream",
          "text": [
            "Training Score 1.0\n",
            "Testing Score: 0.6031746\n",
            "              precision    recall  f1-score   support\n",
            "\n",
            "           0       0.59      0.66      0.62        64\n",
            "           1       0.53      0.33      0.40        80\n",
            "           2       0.64      0.78      0.70       108\n",
            "\n",
            "    accuracy                           0.60       252\n",
            "   macro avg       0.59      0.59      0.58       252\n",
            "weighted avg       0.59      0.60      0.59       252\n",
            "\n"
          ],
          "name": "stdout"
        }
      ]
    },
    {
      "cell_type": "markdown",
      "metadata": {
        "id": "loM5EUKHoSzQ"
      },
      "source": [
        "Based on the information gained from the model run above, with information gain entropy as the criterion, the model achieved admirable results, although they were still overal lower than the one-hot encoded model without feature engineering. Now, let us look at the feature importance."
      ]
    },
    {
      "cell_type": "code",
      "metadata": {
        "id": "icKpr2pU1JEc",
        "colab": {
          "base_uri": "https://localhost:8080/"
        },
        "outputId": "9855dd4a-2ba2-40b1-b7c0-c81249953d74"
      },
      "source": [
        "plot_feature_importances(RF_entropy_fit, train = X_train)"
      ],
      "execution_count": null,
      "outputs": [
        {
          "output_type": "display_data",
          "data": {
            "text/html": [
              "<html>\n",
              "<head><meta charset=\"utf-8\" /></head>\n",
              "<body>\n",
              "    <div>\n",
              "            <script src=\"https://cdnjs.cloudflare.com/ajax/libs/mathjax/2.7.5/MathJax.js?config=TeX-AMS-MML_SVG\"></script><script type=\"text/javascript\">if (window.MathJax) {MathJax.Hub.Config({SVG: {font: \"STIX-Web\"}});}</script>\n",
              "                <script type=\"text/javascript\">window.PlotlyConfig = {MathJaxConfig: 'local'};</script>\n",
              "        <script src=\"https://cdn.plot.ly/plotly-latest.min.js\"></script>    \n",
              "            <div id=\"e4808977-be1f-4d5e-8a7b-3c9674f0bc08\" class=\"plotly-graph-div\" style=\"height:525px; width:100%;\"></div>\n",
              "            <script type=\"text/javascript\">\n",
              "                \n",
              "                    window.PLOTLYENV=window.PLOTLYENV || {};\n",
              "                    \n",
              "                if (document.getElementById(\"e4808977-be1f-4d5e-8a7b-3c9674f0bc08\")) {\n",
              "                    Plotly.newPlot(\n",
              "                        'e4808977-be1f-4d5e-8a7b-3c9674f0bc08',\n",
              "                        [{\"alignmentgroup\": \"True\", \"hoverlabel\": {\"namelength\": 0}, \"hovertemplate\": \"x=%{x}<br>y=%{y}\", \"legendgroup\": \"\", \"marker\": {\"color\": \"#636efa\"}, \"name\": \"\", \"offsetgroup\": \"\", \"orientation\": \"h\", \"showlegend\": false, \"textposition\": \"auto\", \"type\": \"bar\", \"x\": [0.015240606466893679, 0.01873660804938574, 0.01993185781407842, 0.020008360173381392, 0.027736380775490017, 0.027996360279232597, 0.02897527488717773, 0.029290282067496252, 0.030625128202005233, 0.03135139263676277, 0.03190297079401468, 0.03410774213876856, 0.03581743335379967, 0.03586537134832883, 0.04125281899836764, 0.06083093632274809, 0.06436515345615239, 0.07146333249430185, 0.08364391370939635, 0.13865132343791972, 0.15220675259429853], \"xaxis\": \"x\", \"y\": [\"Age\", \"Gender\", \"Country\", \"self_employed\", \"family_history\", \"treatment\", \"work_interfere\", \"no_employees\", \"remote_work\", \"tech_company\", \"benefits\", \"care_options\", \"wellness_program\", \"seek_help\", \"anonymity\", \"leave\", \"mental_health_consequence\", \"phys_health_consequence\", \"mental_vs_physical\", \"obs_consequence\", \"country_bucket\"], \"yaxis\": \"y\"}],\n",
              "                        {\"barmode\": \"relative\", \"legend\": {\"tracegroupgap\": 0}, \"template\": {\"data\": {\"bar\": [{\"error_x\": {\"color\": \"#2a3f5f\"}, \"error_y\": {\"color\": \"#2a3f5f\"}, \"marker\": {\"line\": {\"color\": \"#E5ECF6\", \"width\": 0.5}}, \"type\": \"bar\"}], \"barpolar\": [{\"marker\": {\"line\": {\"color\": \"#E5ECF6\", \"width\": 0.5}}, \"type\": \"barpolar\"}], \"carpet\": [{\"aaxis\": {\"endlinecolor\": \"#2a3f5f\", \"gridcolor\": \"white\", \"linecolor\": \"white\", \"minorgridcolor\": \"white\", \"startlinecolor\": \"#2a3f5f\"}, \"baxis\": {\"endlinecolor\": \"#2a3f5f\", \"gridcolor\": \"white\", \"linecolor\": \"white\", \"minorgridcolor\": \"white\", \"startlinecolor\": \"#2a3f5f\"}, \"type\": \"carpet\"}], \"choropleth\": [{\"colorbar\": {\"outlinewidth\": 0, \"ticks\": \"\"}, \"type\": \"choropleth\"}], \"contour\": [{\"colorbar\": {\"outlinewidth\": 0, \"ticks\": \"\"}, \"colorscale\": [[0.0, \"#0d0887\"], [0.1111111111111111, \"#46039f\"], [0.2222222222222222, \"#7201a8\"], [0.3333333333333333, \"#9c179e\"], [0.4444444444444444, \"#bd3786\"], [0.5555555555555556, \"#d8576b\"], [0.6666666666666666, \"#ed7953\"], [0.7777777777777778, \"#fb9f3a\"], [0.8888888888888888, \"#fdca26\"], [1.0, \"#f0f921\"]], \"type\": \"contour\"}], \"contourcarpet\": [{\"colorbar\": {\"outlinewidth\": 0, \"ticks\": \"\"}, \"type\": \"contourcarpet\"}], \"heatmap\": [{\"colorbar\": {\"outlinewidth\": 0, \"ticks\": \"\"}, \"colorscale\": [[0.0, \"#0d0887\"], [0.1111111111111111, \"#46039f\"], [0.2222222222222222, \"#7201a8\"], [0.3333333333333333, \"#9c179e\"], [0.4444444444444444, \"#bd3786\"], [0.5555555555555556, \"#d8576b\"], [0.6666666666666666, \"#ed7953\"], [0.7777777777777778, \"#fb9f3a\"], [0.8888888888888888, \"#fdca26\"], [1.0, \"#f0f921\"]], \"type\": \"heatmap\"}], \"heatmapgl\": [{\"colorbar\": {\"outlinewidth\": 0, \"ticks\": \"\"}, \"colorscale\": [[0.0, \"#0d0887\"], [0.1111111111111111, \"#46039f\"], [0.2222222222222222, \"#7201a8\"], [0.3333333333333333, \"#9c179e\"], [0.4444444444444444, \"#bd3786\"], [0.5555555555555556, \"#d8576b\"], [0.6666666666666666, \"#ed7953\"], [0.7777777777777778, \"#fb9f3a\"], [0.8888888888888888, \"#fdca26\"], [1.0, \"#f0f921\"]], \"type\": \"heatmapgl\"}], \"histogram\": [{\"marker\": {\"colorbar\": {\"outlinewidth\": 0, \"ticks\": \"\"}}, \"type\": \"histogram\"}], \"histogram2d\": [{\"colorbar\": {\"outlinewidth\": 0, \"ticks\": \"\"}, \"colorscale\": [[0.0, \"#0d0887\"], [0.1111111111111111, \"#46039f\"], [0.2222222222222222, \"#7201a8\"], [0.3333333333333333, \"#9c179e\"], [0.4444444444444444, \"#bd3786\"], [0.5555555555555556, \"#d8576b\"], [0.6666666666666666, \"#ed7953\"], [0.7777777777777778, \"#fb9f3a\"], [0.8888888888888888, \"#fdca26\"], [1.0, \"#f0f921\"]], \"type\": \"histogram2d\"}], \"histogram2dcontour\": [{\"colorbar\": {\"outlinewidth\": 0, \"ticks\": \"\"}, \"colorscale\": [[0.0, \"#0d0887\"], [0.1111111111111111, \"#46039f\"], [0.2222222222222222, \"#7201a8\"], [0.3333333333333333, \"#9c179e\"], [0.4444444444444444, \"#bd3786\"], [0.5555555555555556, \"#d8576b\"], [0.6666666666666666, \"#ed7953\"], [0.7777777777777778, \"#fb9f3a\"], [0.8888888888888888, \"#fdca26\"], [1.0, \"#f0f921\"]], \"type\": \"histogram2dcontour\"}], \"mesh3d\": [{\"colorbar\": {\"outlinewidth\": 0, \"ticks\": \"\"}, \"type\": \"mesh3d\"}], \"parcoords\": [{\"line\": {\"colorbar\": {\"outlinewidth\": 0, \"ticks\": \"\"}}, \"type\": \"parcoords\"}], \"pie\": [{\"automargin\": true, \"type\": \"pie\"}], \"scatter\": [{\"marker\": {\"colorbar\": {\"outlinewidth\": 0, \"ticks\": \"\"}}, \"type\": \"scatter\"}], \"scatter3d\": [{\"line\": {\"colorbar\": {\"outlinewidth\": 0, \"ticks\": \"\"}}, \"marker\": {\"colorbar\": {\"outlinewidth\": 0, \"ticks\": \"\"}}, \"type\": \"scatter3d\"}], \"scattercarpet\": [{\"marker\": {\"colorbar\": {\"outlinewidth\": 0, \"ticks\": \"\"}}, \"type\": \"scattercarpet\"}], \"scattergeo\": [{\"marker\": {\"colorbar\": {\"outlinewidth\": 0, \"ticks\": \"\"}}, \"type\": \"scattergeo\"}], \"scattergl\": [{\"marker\": {\"colorbar\": {\"outlinewidth\": 0, \"ticks\": \"\"}}, \"type\": \"scattergl\"}], \"scattermapbox\": [{\"marker\": {\"colorbar\": {\"outlinewidth\": 0, \"ticks\": \"\"}}, \"type\": \"scattermapbox\"}], \"scatterpolar\": [{\"marker\": {\"colorbar\": {\"outlinewidth\": 0, \"ticks\": \"\"}}, \"type\": \"scatterpolar\"}], \"scatterpolargl\": [{\"marker\": {\"colorbar\": {\"outlinewidth\": 0, \"ticks\": \"\"}}, \"type\": \"scatterpolargl\"}], \"scatterternary\": [{\"marker\": {\"colorbar\": {\"outlinewidth\": 0, \"ticks\": \"\"}}, \"type\": \"scatterternary\"}], \"surface\": [{\"colorbar\": {\"outlinewidth\": 0, \"ticks\": \"\"}, \"colorscale\": [[0.0, \"#0d0887\"], [0.1111111111111111, \"#46039f\"], [0.2222222222222222, \"#7201a8\"], [0.3333333333333333, \"#9c179e\"], [0.4444444444444444, \"#bd3786\"], [0.5555555555555556, \"#d8576b\"], [0.6666666666666666, \"#ed7953\"], [0.7777777777777778, \"#fb9f3a\"], [0.8888888888888888, \"#fdca26\"], [1.0, \"#f0f921\"]], \"type\": \"surface\"}], \"table\": [{\"cells\": {\"fill\": {\"color\": \"#EBF0F8\"}, \"line\": {\"color\": \"white\"}}, \"header\": {\"fill\": {\"color\": \"#C8D4E3\"}, \"line\": {\"color\": \"white\"}}, \"type\": \"table\"}]}, \"layout\": {\"annotationdefaults\": {\"arrowcolor\": \"#2a3f5f\", \"arrowhead\": 0, \"arrowwidth\": 1}, \"coloraxis\": {\"colorbar\": {\"outlinewidth\": 0, \"ticks\": \"\"}}, \"colorscale\": {\"diverging\": [[0, \"#8e0152\"], [0.1, \"#c51b7d\"], [0.2, \"#de77ae\"], [0.3, \"#f1b6da\"], [0.4, \"#fde0ef\"], [0.5, \"#f7f7f7\"], [0.6, \"#e6f5d0\"], [0.7, \"#b8e186\"], [0.8, \"#7fbc41\"], [0.9, \"#4d9221\"], [1, \"#276419\"]], \"sequential\": [[0.0, \"#0d0887\"], [0.1111111111111111, \"#46039f\"], [0.2222222222222222, \"#7201a8\"], [0.3333333333333333, \"#9c179e\"], [0.4444444444444444, \"#bd3786\"], [0.5555555555555556, \"#d8576b\"], [0.6666666666666666, \"#ed7953\"], [0.7777777777777778, \"#fb9f3a\"], [0.8888888888888888, \"#fdca26\"], [1.0, \"#f0f921\"]], \"sequentialminus\": [[0.0, \"#0d0887\"], [0.1111111111111111, \"#46039f\"], [0.2222222222222222, \"#7201a8\"], [0.3333333333333333, \"#9c179e\"], [0.4444444444444444, \"#bd3786\"], [0.5555555555555556, \"#d8576b\"], [0.6666666666666666, \"#ed7953\"], [0.7777777777777778, \"#fb9f3a\"], [0.8888888888888888, \"#fdca26\"], [1.0, \"#f0f921\"]]}, \"colorway\": [\"#636efa\", \"#EF553B\", \"#00cc96\", \"#ab63fa\", \"#FFA15A\", \"#19d3f3\", \"#FF6692\", \"#B6E880\", \"#FF97FF\", \"#FECB52\"], \"font\": {\"color\": \"#2a3f5f\"}, \"geo\": {\"bgcolor\": \"white\", \"lakecolor\": \"white\", \"landcolor\": \"#E5ECF6\", \"showlakes\": true, \"showland\": true, \"subunitcolor\": \"white\"}, \"hoverlabel\": {\"align\": \"left\"}, \"hovermode\": \"closest\", \"mapbox\": {\"style\": \"light\"}, \"paper_bgcolor\": \"white\", \"plot_bgcolor\": \"#E5ECF6\", \"polar\": {\"angularaxis\": {\"gridcolor\": \"white\", \"linecolor\": \"white\", \"ticks\": \"\"}, \"bgcolor\": \"#E5ECF6\", \"radialaxis\": {\"gridcolor\": \"white\", \"linecolor\": \"white\", \"ticks\": \"\"}}, \"scene\": {\"xaxis\": {\"backgroundcolor\": \"#E5ECF6\", \"gridcolor\": \"white\", \"gridwidth\": 2, \"linecolor\": \"white\", \"showbackground\": true, \"ticks\": \"\", \"zerolinecolor\": \"white\"}, \"yaxis\": {\"backgroundcolor\": \"#E5ECF6\", \"gridcolor\": \"white\", \"gridwidth\": 2, \"linecolor\": \"white\", \"showbackground\": true, \"ticks\": \"\", \"zerolinecolor\": \"white\"}, \"zaxis\": {\"backgroundcolor\": \"#E5ECF6\", \"gridcolor\": \"white\", \"gridwidth\": 2, \"linecolor\": \"white\", \"showbackground\": true, \"ticks\": \"\", \"zerolinecolor\": \"white\"}}, \"shapedefaults\": {\"line\": {\"color\": \"#2a3f5f\"}}, \"ternary\": {\"aaxis\": {\"gridcolor\": \"white\", \"linecolor\": \"white\", \"ticks\": \"\"}, \"baxis\": {\"gridcolor\": \"white\", \"linecolor\": \"white\", \"ticks\": \"\"}, \"bgcolor\": \"#E5ECF6\", \"caxis\": {\"gridcolor\": \"white\", \"linecolor\": \"white\", \"ticks\": \"\"}}, \"title\": {\"x\": 0.05}, \"xaxis\": {\"automargin\": true, \"gridcolor\": \"white\", \"linecolor\": \"white\", \"ticks\": \"\", \"title\": {\"standoff\": 15}, \"zerolinecolor\": \"white\", \"zerolinewidth\": 2}, \"yaxis\": {\"automargin\": true, \"gridcolor\": \"white\", \"linecolor\": \"white\", \"ticks\": \"\", \"title\": {\"standoff\": 15}, \"zerolinecolor\": \"white\", \"zerolinewidth\": 2}}}, \"title\": {\"text\": \"Feature Importances of Model Features\"}, \"xaxis\": {\"anchor\": \"y\", \"domain\": [0.0, 1.0], \"title\": {\"text\": \"Feature Importance\"}}, \"yaxis\": {\"anchor\": \"x\", \"domain\": [0.0, 1.0], \"title\": {\"text\": \"Feature\"}}},\n",
              "                        {\"responsive\": true}\n",
              "                    ).then(function(){\n",
              "                            \n",
              "var gd = document.getElementById('e4808977-be1f-4d5e-8a7b-3c9674f0bc08');\n",
              "var x = new MutationObserver(function (mutations, observer) {{\n",
              "        var display = window.getComputedStyle(gd).display;\n",
              "        if (!display || display === 'none') {{\n",
              "            console.log([gd, 'removed!']);\n",
              "            Plotly.purge(gd);\n",
              "            observer.disconnect();\n",
              "        }}\n",
              "}});\n",
              "\n",
              "// Listen for the removal of the full notebook cells\n",
              "var notebookContainer = gd.closest('#notebook-container');\n",
              "if (notebookContainer) {{\n",
              "    x.observe(notebookContainer, {childList: true});\n",
              "}}\n",
              "\n",
              "// Listen for the clearing of the current output cell\n",
              "var outputEl = gd.closest('.output');\n",
              "if (outputEl) {{\n",
              "    x.observe(outputEl, {childList: true});\n",
              "}}\n",
              "\n",
              "                        })\n",
              "                };\n",
              "                \n",
              "            </script>\n",
              "        </div>\n",
              "</body>\n",
              "</html>"
            ]
          },
          "metadata": {
            "tags": []
          }
        }
      ]
    },
    {
      "cell_type": "markdown",
      "metadata": {
        "id": "ZVo5xW-5o4Gx"
      },
      "source": [
        "Interestingly, Age was a strong predictor of the response variable. **no_employees* was also included in the top 5, in addition to **mental_health_consequence** feature, which was also included in the last section's run. Similarly, **work_interfere** was also included in the top 5 most important features. Unexpectedly, **Country** seemed to have a big role in this model's predictions of the response variable as well."
      ]
    },
    {
      "cell_type": "markdown",
      "metadata": {
        "id": "NBOeZ7HuuXCN"
      },
      "source": [
        "### ***f) OHE Feature engineered model /w age and country buckets***"
      ]
    },
    {
      "cell_type": "markdown",
      "metadata": {
        "id": "6il53UTFpRxx"
      },
      "source": [
        "The following secton trains the model on a feature engineered dataset with age and country buckets. "
      ]
    },
    {
      "cell_type": "code",
      "metadata": {
        "id": "iWps_NOmuX-T"
      },
      "source": [
        "X = cdrop.drop(['supervisor_Yes', 'supervisor_No', 'supervisor_Some of them', 'coworkers_Yes', 'coworkers_Some of them', 'coworkers_No', 'Age', 'mental_health_interview_Maybe', 'mental_health_interview_No', 'mental_health_interview_Yes', 'phys_health_interview_Maybe', 'phys_health_interview_No', 'phys_health_interview_Yes'], axis=1)\n",
        "y = cdrop.loc[: ,'supervisor_Yes']"
      ],
      "execution_count": null,
      "outputs": []
    },
    {
      "cell_type": "code",
      "metadata": {
        "id": "-1reB-PiE_IP"
      },
      "source": [
        "#Train, test, split\n",
        "X_train, X_test, y_train, y_test = train_test_split(\n",
        "            X,\n",
        "            y,\n",
        "            test_size = 0.2,\n",
        "            random_state = 508)"
      ],
      "execution_count": null,
      "outputs": []
    },
    {
      "cell_type": "code",
      "metadata": {
        "id": "9aul10jxvIOe"
      },
      "source": [
        "def plot_feature_importances(model, train = X_train):\n",
        "    n_features = train.shape[1]\n",
        "    fi = np.sort(model.feature_importances_) #[::-1]\n",
        "    fig = px.bar(X_train, fi, y=X_train.columns, orientation='h', title=\"Feature Importances of Model Features\")\n",
        "    fig.update_layout(xaxis=dict(title=\"Feature Importance\"), yaxis=dict(title=\"Feature\"))\n",
        "    fig.show()"
      ],
      "execution_count": null,
      "outputs": []
    },
    {
      "cell_type": "code",
      "metadata": {
        "colab": {
          "base_uri": "https://localhost:8080/"
        },
        "id": "NoBX9082HSyE",
        "outputId": "c058134b-96ca-4930-942f-083999c6f6a0"
      },
      "source": [
        "#Instantiate and fit Gini\n",
        "RF_gini = RandomForestClassifier(n_estimators = 100,\n",
        "                                     criterion = 'gini',\n",
        "                                     max_depth = None,\n",
        "                                     min_samples_leaf = 1,\n",
        "                                     bootstrap = True,\n",
        "                                     warm_start = False,\n",
        "                                     random_state = 508)\n",
        "\n",
        "#Fitting model\n",
        "RF_gini_fit = RF_gini.fit(X_train, y_train)\n",
        "\n",
        "#Printing model scores\n",
        "print('Training Score', RF_gini_fit.score(X_train, y_train).round(7))\n",
        "print('Testing Score:', RF_gini_fit.score(X_test, y_test).round(7))\n",
        "\n",
        "rfc_cv_score = cross_val_score(RF_gini, X, y, cv=10, scoring='roc_auc')\n",
        "print(rfc_cv_score.mean())\n",
        "\n",
        "rfc_predict = RF_gini.predict(X_test) \n",
        "print(classification_report(y_test, rfc_predict))"
      ],
      "execution_count": null,
      "outputs": [
        {
          "output_type": "stream",
          "text": [
            "Training Score 0.9940417\n",
            "Testing Score: 0.7420635\n",
            "0.7855883440001087\n",
            "              precision    recall  f1-score   support\n",
            "\n",
            "           0       0.76      0.80      0.78       144\n",
            "           1       0.71      0.67      0.69       108\n",
            "\n",
            "    accuracy                           0.74       252\n",
            "   macro avg       0.74      0.73      0.73       252\n",
            "weighted avg       0.74      0.74      0.74       252\n",
            "\n"
          ],
          "name": "stdout"
        }
      ]
    },
    {
      "cell_type": "markdown",
      "metadata": {
        "id": "gknANGjlpheo"
      },
      "source": [
        "Based on the Gini Index Criterion, we can see a decrease in the overfitting related to our model, although slightly. However, the metrics decreased across the board from our previous One-Hot Encoded model which was run without any feature engineering. This was likely due to the **age_bucket** introducing a categorical variable with complex feature space into the dataset. Since age is an extremely variable category continously, parking ages into buckets reduces the ability of the model to be resistant to inherent variance.\r\n",
        "\r\n",
        "Now, let us see how the metrics change through using information gain entropy as the criterion of node splitting."
      ]
    },
    {
      "cell_type": "code",
      "metadata": {
        "colab": {
          "base_uri": "https://localhost:8080/"
        },
        "id": "zN5ND3rMHfIE",
        "outputId": "d5d34f80-74df-4fc1-85eb-4b97f83a2ea5"
      },
      "source": [
        "#Instantiate and fit Entropy\n",
        "RF_entropy = RandomForestClassifier(n_estimators = 100,\n",
        "                                     criterion = 'entropy',\n",
        "                                     max_depth = None,\n",
        "                                     min_samples_leaf = 1,\n",
        "                                     bootstrap = True,\n",
        "                                     warm_start = False,\n",
        "                                     random_state = 508)\n",
        "RF_entropy_fit = RF_entropy.fit(X_train, y_train)\n",
        "\n",
        "#Printing model scores\n",
        "print('Training Score', RF_entropy_fit.score(X_train, y_train).round(7))\n",
        "print('Testing Score:', RF_entropy_fit.score(X_test, y_test).round(7))\n",
        "\n",
        "rfc_cv_score = cross_val_score(RF_entropy, X, y, cv=10, scoring='roc_auc')\n",
        "print(rfc_cv_score.mean())\n",
        "\n",
        "rfc_predict = RF_entropy.predict(X_test) \n",
        "print(classification_report(y_test, rfc_predict))"
      ],
      "execution_count": null,
      "outputs": [
        {
          "output_type": "stream",
          "text": [
            "Training Score 0.9940417\n",
            "Testing Score: 0.7619048\n",
            "0.7869484733602381\n",
            "              precision    recall  f1-score   support\n",
            "\n",
            "           0       0.78      0.82      0.80       144\n",
            "           1       0.74      0.69      0.71       108\n",
            "\n",
            "    accuracy                           0.76       252\n",
            "   macro avg       0.76      0.75      0.75       252\n",
            "weighted avg       0.76      0.76      0.76       252\n",
            "\n"
          ],
          "name": "stdout"
        }
      ]
    },
    {
      "cell_type": "markdown",
      "metadata": {
        "id": "mFbdbl57qCnq"
      },
      "source": [
        "The results are relatively similar to those obtained using the Gini Information Index, although a slight increase can be observed across generally all metrics."
      ]
    },
    {
      "cell_type": "code",
      "metadata": {
        "colab": {
          "base_uri": "https://localhost:8080/"
        },
        "id": "lOtipje8Hmac",
        "outputId": "889c43a0-376f-46f0-8f9a-a40b99341abd"
      },
      "source": [
        "plot_feature_importances(RF_entropy_fit, train = X_train)"
      ],
      "execution_count": null,
      "outputs": [
        {
          "output_type": "display_data",
          "data": {
            "text/html": [
              "<html>\n",
              "<head><meta charset=\"utf-8\" /></head>\n",
              "<body>\n",
              "    <div>\n",
              "            <script src=\"https://cdnjs.cloudflare.com/ajax/libs/mathjax/2.7.5/MathJax.js?config=TeX-AMS-MML_SVG\"></script><script type=\"text/javascript\">if (window.MathJax) {MathJax.Hub.Config({SVG: {font: \"STIX-Web\"}});}</script>\n",
              "                <script type=\"text/javascript\">window.PlotlyConfig = {MathJaxConfig: 'local'};</script>\n",
              "        <script src=\"https://cdn.plot.ly/plotly-latest.min.js\"></script>    \n",
              "            <div id=\"d126efea-571a-481d-8696-5f3681c84a99\" class=\"plotly-graph-div\" style=\"height:525px; width:100%;\"></div>\n",
              "            <script type=\"text/javascript\">\n",
              "                \n",
              "                    window.PLOTLYENV=window.PLOTLYENV || {};\n",
              "                    \n",
              "                if (document.getElementById(\"d126efea-571a-481d-8696-5f3681c84a99\")) {\n",
              "                    Plotly.newPlot(\n",
              "                        'd126efea-571a-481d-8696-5f3681c84a99',\n",
              "                        [{\"alignmentgroup\": \"True\", \"hoverlabel\": {\"namelength\": 0}, \"hovertemplate\": \"x=%{x}<br>y=%{y}\", \"legendgroup\": \"\", \"marker\": {\"color\": \"#636efa\"}, \"name\": \"\", \"offsetgroup\": \"\", \"orientation\": \"h\", \"showlegend\": false, \"textposition\": \"auto\", \"type\": \"bar\", \"x\": [0.001091245029220434, 0.0029850679139348103, 0.003853873197238899, 0.005153228644660743, 0.005225080628499296, 0.009275200735671356, 0.0095818487751334, 0.009703659042049548, 0.009830084831743134, 0.010470308846229927, 0.010626821808474473, 0.010775983981855319, 0.011914913780356107, 0.012329614826874011, 0.012350246059370596, 0.012684121742793333, 0.013085535934882596, 0.013104582236362461, 0.01402568179580538, 0.014237481042130944, 0.014562676229370635, 0.014772616137485331, 0.014888553779389285, 0.014933267396827073, 0.015600294265789055, 0.015659978262006817, 0.015960699334954552, 0.01597473742578113, 0.016084410129410243, 0.016095224453109083, 0.016522509126918064, 0.01689531527555173, 0.01696713464579339, 0.017158848667221886, 0.01716055499976874, 0.01716117610034952, 0.0174979728520248, 0.017675052886008437, 0.018289473267217197, 0.018363962850429908, 0.01863711400879475, 0.01883472924973914, 0.01894491881252667, 0.019853879253704833, 0.02130442085682791, 0.021368354732453656, 0.021663515126207695, 0.02168436169672575, 0.022053193509017605, 0.022742149720911025, 0.024670280094638727, 0.025425323639510465, 0.025954012781505127, 0.026259184033749293, 0.03225966926652736, 0.057695064855932135, 0.08012078942253424], \"xaxis\": \"x\", \"y\": [\"Gender_female\", \"Gender_male\", \"Gender_other\", \"self_employed_No\", \"self_employed_Yes\", \"family_history_No\", \"family_history_Yes\", \"treatment_No\", \"treatment_Yes\", \"work_interfere_Never\", \"work_interfere_No Response\", \"work_interfere_Often\", \"work_interfere_Rarely\", \"work_interfere_Sometimes\", \"no_employees_1-5\", \"no_employees_6-25\", \"no_employees_26-100\", \"no_employees_100-500\", \"no_employees_500-1000\", \"no_employees_More than 1000\", \"remote_work_No\", \"remote_work_Yes\", \"tech_company_No\", \"tech_company_Yes\", \"benefits_No\", \"benefits_Yes\", \"care_options_No\", \"care_options_Yes\", \"wellness_program_No\", \"wellness_program_Yes\", \"seek_help_No\", \"seek_help_Yes\", \"anonymity_No\", \"anonymity_Yes\", \"leave_Very difficult\", \"leave_Somewhat difficult\", \"leave_Somewhat easy\", \"leave_Very easy\", \"mental_health_consequence_Maybe\", \"mental_health_consequence_No\", \"mental_health_consequence_Yes\", \"phys_health_consequence_Maybe\", \"phys_health_consequence_No\", \"phys_health_consequence_Yes\", \"mental_vs_physical_No\", \"mental_vs_physical_Yes\", \"obs_consequence_No\", \"obs_consequence_Yes\", \"country_bucket_Europe\", \"country_bucket_North America\", \"country_bucket_Other\", \"age_bucket_<18\", \"age_bucket_20s\", \"age_bucket_30s\", \"age_bucket_40s\", \"age_bucket_50s\", \"age_bucket_60s+\"], \"yaxis\": \"y\"}],\n",
              "                        {\"barmode\": \"relative\", \"legend\": {\"tracegroupgap\": 0}, \"template\": {\"data\": {\"bar\": [{\"error_x\": {\"color\": \"#2a3f5f\"}, \"error_y\": {\"color\": \"#2a3f5f\"}, \"marker\": {\"line\": {\"color\": \"#E5ECF6\", \"width\": 0.5}}, \"type\": \"bar\"}], \"barpolar\": [{\"marker\": {\"line\": {\"color\": \"#E5ECF6\", \"width\": 0.5}}, \"type\": \"barpolar\"}], \"carpet\": [{\"aaxis\": {\"endlinecolor\": \"#2a3f5f\", \"gridcolor\": \"white\", \"linecolor\": \"white\", \"minorgridcolor\": \"white\", \"startlinecolor\": \"#2a3f5f\"}, \"baxis\": {\"endlinecolor\": \"#2a3f5f\", \"gridcolor\": \"white\", \"linecolor\": \"white\", \"minorgridcolor\": \"white\", \"startlinecolor\": \"#2a3f5f\"}, \"type\": \"carpet\"}], \"choropleth\": [{\"colorbar\": {\"outlinewidth\": 0, \"ticks\": \"\"}, \"type\": \"choropleth\"}], \"contour\": [{\"colorbar\": {\"outlinewidth\": 0, \"ticks\": \"\"}, \"colorscale\": [[0.0, \"#0d0887\"], [0.1111111111111111, \"#46039f\"], [0.2222222222222222, \"#7201a8\"], [0.3333333333333333, \"#9c179e\"], [0.4444444444444444, \"#bd3786\"], [0.5555555555555556, \"#d8576b\"], [0.6666666666666666, \"#ed7953\"], [0.7777777777777778, \"#fb9f3a\"], [0.8888888888888888, \"#fdca26\"], [1.0, \"#f0f921\"]], \"type\": \"contour\"}], \"contourcarpet\": [{\"colorbar\": {\"outlinewidth\": 0, \"ticks\": \"\"}, \"type\": \"contourcarpet\"}], \"heatmap\": [{\"colorbar\": {\"outlinewidth\": 0, \"ticks\": \"\"}, \"colorscale\": [[0.0, \"#0d0887\"], [0.1111111111111111, \"#46039f\"], [0.2222222222222222, \"#7201a8\"], [0.3333333333333333, \"#9c179e\"], [0.4444444444444444, \"#bd3786\"], [0.5555555555555556, \"#d8576b\"], [0.6666666666666666, \"#ed7953\"], [0.7777777777777778, \"#fb9f3a\"], [0.8888888888888888, \"#fdca26\"], [1.0, \"#f0f921\"]], \"type\": \"heatmap\"}], \"heatmapgl\": [{\"colorbar\": {\"outlinewidth\": 0, \"ticks\": \"\"}, \"colorscale\": [[0.0, \"#0d0887\"], [0.1111111111111111, \"#46039f\"], [0.2222222222222222, \"#7201a8\"], [0.3333333333333333, \"#9c179e\"], [0.4444444444444444, \"#bd3786\"], [0.5555555555555556, \"#d8576b\"], [0.6666666666666666, \"#ed7953\"], [0.7777777777777778, \"#fb9f3a\"], [0.8888888888888888, \"#fdca26\"], [1.0, \"#f0f921\"]], \"type\": \"heatmapgl\"}], \"histogram\": [{\"marker\": {\"colorbar\": {\"outlinewidth\": 0, \"ticks\": \"\"}}, \"type\": \"histogram\"}], \"histogram2d\": [{\"colorbar\": {\"outlinewidth\": 0, \"ticks\": \"\"}, \"colorscale\": [[0.0, \"#0d0887\"], [0.1111111111111111, \"#46039f\"], [0.2222222222222222, \"#7201a8\"], [0.3333333333333333, \"#9c179e\"], [0.4444444444444444, \"#bd3786\"], [0.5555555555555556, \"#d8576b\"], [0.6666666666666666, \"#ed7953\"], [0.7777777777777778, \"#fb9f3a\"], [0.8888888888888888, \"#fdca26\"], [1.0, \"#f0f921\"]], \"type\": \"histogram2d\"}], \"histogram2dcontour\": [{\"colorbar\": {\"outlinewidth\": 0, \"ticks\": \"\"}, \"colorscale\": [[0.0, \"#0d0887\"], [0.1111111111111111, \"#46039f\"], [0.2222222222222222, \"#7201a8\"], [0.3333333333333333, \"#9c179e\"], [0.4444444444444444, \"#bd3786\"], [0.5555555555555556, \"#d8576b\"], [0.6666666666666666, \"#ed7953\"], [0.7777777777777778, \"#fb9f3a\"], [0.8888888888888888, \"#fdca26\"], [1.0, \"#f0f921\"]], \"type\": \"histogram2dcontour\"}], \"mesh3d\": [{\"colorbar\": {\"outlinewidth\": 0, \"ticks\": \"\"}, \"type\": \"mesh3d\"}], \"parcoords\": [{\"line\": {\"colorbar\": {\"outlinewidth\": 0, \"ticks\": \"\"}}, \"type\": \"parcoords\"}], \"pie\": [{\"automargin\": true, \"type\": \"pie\"}], \"scatter\": [{\"marker\": {\"colorbar\": {\"outlinewidth\": 0, \"ticks\": \"\"}}, \"type\": \"scatter\"}], \"scatter3d\": [{\"line\": {\"colorbar\": {\"outlinewidth\": 0, \"ticks\": \"\"}}, \"marker\": {\"colorbar\": {\"outlinewidth\": 0, \"ticks\": \"\"}}, \"type\": \"scatter3d\"}], \"scattercarpet\": [{\"marker\": {\"colorbar\": {\"outlinewidth\": 0, \"ticks\": \"\"}}, \"type\": \"scattercarpet\"}], \"scattergeo\": [{\"marker\": {\"colorbar\": {\"outlinewidth\": 0, \"ticks\": \"\"}}, \"type\": \"scattergeo\"}], \"scattergl\": [{\"marker\": {\"colorbar\": {\"outlinewidth\": 0, \"ticks\": \"\"}}, \"type\": \"scattergl\"}], \"scattermapbox\": [{\"marker\": {\"colorbar\": {\"outlinewidth\": 0, \"ticks\": \"\"}}, \"type\": \"scattermapbox\"}], \"scatterpolar\": [{\"marker\": {\"colorbar\": {\"outlinewidth\": 0, \"ticks\": \"\"}}, \"type\": \"scatterpolar\"}], \"scatterpolargl\": [{\"marker\": {\"colorbar\": {\"outlinewidth\": 0, \"ticks\": \"\"}}, \"type\": \"scatterpolargl\"}], \"scatterternary\": [{\"marker\": {\"colorbar\": {\"outlinewidth\": 0, \"ticks\": \"\"}}, \"type\": \"scatterternary\"}], \"surface\": [{\"colorbar\": {\"outlinewidth\": 0, \"ticks\": \"\"}, \"colorscale\": [[0.0, \"#0d0887\"], [0.1111111111111111, \"#46039f\"], [0.2222222222222222, \"#7201a8\"], [0.3333333333333333, \"#9c179e\"], [0.4444444444444444, \"#bd3786\"], [0.5555555555555556, \"#d8576b\"], [0.6666666666666666, \"#ed7953\"], [0.7777777777777778, \"#fb9f3a\"], [0.8888888888888888, \"#fdca26\"], [1.0, \"#f0f921\"]], \"type\": \"surface\"}], \"table\": [{\"cells\": {\"fill\": {\"color\": \"#EBF0F8\"}, \"line\": {\"color\": \"white\"}}, \"header\": {\"fill\": {\"color\": \"#C8D4E3\"}, \"line\": {\"color\": \"white\"}}, \"type\": \"table\"}]}, \"layout\": {\"annotationdefaults\": {\"arrowcolor\": \"#2a3f5f\", \"arrowhead\": 0, \"arrowwidth\": 1}, \"coloraxis\": {\"colorbar\": {\"outlinewidth\": 0, \"ticks\": \"\"}}, \"colorscale\": {\"diverging\": [[0, \"#8e0152\"], [0.1, \"#c51b7d\"], [0.2, \"#de77ae\"], [0.3, \"#f1b6da\"], [0.4, \"#fde0ef\"], [0.5, \"#f7f7f7\"], [0.6, \"#e6f5d0\"], [0.7, \"#b8e186\"], [0.8, \"#7fbc41\"], [0.9, \"#4d9221\"], [1, \"#276419\"]], \"sequential\": [[0.0, \"#0d0887\"], [0.1111111111111111, \"#46039f\"], [0.2222222222222222, \"#7201a8\"], [0.3333333333333333, \"#9c179e\"], [0.4444444444444444, \"#bd3786\"], [0.5555555555555556, \"#d8576b\"], [0.6666666666666666, \"#ed7953\"], [0.7777777777777778, \"#fb9f3a\"], [0.8888888888888888, \"#fdca26\"], [1.0, \"#f0f921\"]], \"sequentialminus\": [[0.0, \"#0d0887\"], [0.1111111111111111, \"#46039f\"], [0.2222222222222222, \"#7201a8\"], [0.3333333333333333, \"#9c179e\"], [0.4444444444444444, \"#bd3786\"], [0.5555555555555556, \"#d8576b\"], [0.6666666666666666, \"#ed7953\"], [0.7777777777777778, \"#fb9f3a\"], [0.8888888888888888, \"#fdca26\"], [1.0, \"#f0f921\"]]}, \"colorway\": [\"#636efa\", \"#EF553B\", \"#00cc96\", \"#ab63fa\", \"#FFA15A\", \"#19d3f3\", \"#FF6692\", \"#B6E880\", \"#FF97FF\", \"#FECB52\"], \"font\": {\"color\": \"#2a3f5f\"}, \"geo\": {\"bgcolor\": \"white\", \"lakecolor\": \"white\", \"landcolor\": \"#E5ECF6\", \"showlakes\": true, \"showland\": true, \"subunitcolor\": \"white\"}, \"hoverlabel\": {\"align\": \"left\"}, \"hovermode\": \"closest\", \"mapbox\": {\"style\": \"light\"}, \"paper_bgcolor\": \"white\", \"plot_bgcolor\": \"#E5ECF6\", \"polar\": {\"angularaxis\": {\"gridcolor\": \"white\", \"linecolor\": \"white\", \"ticks\": \"\"}, \"bgcolor\": \"#E5ECF6\", \"radialaxis\": {\"gridcolor\": \"white\", \"linecolor\": \"white\", \"ticks\": \"\"}}, \"scene\": {\"xaxis\": {\"backgroundcolor\": \"#E5ECF6\", \"gridcolor\": \"white\", \"gridwidth\": 2, \"linecolor\": \"white\", \"showbackground\": true, \"ticks\": \"\", \"zerolinecolor\": \"white\"}, \"yaxis\": {\"backgroundcolor\": \"#E5ECF6\", \"gridcolor\": \"white\", \"gridwidth\": 2, \"linecolor\": \"white\", \"showbackground\": true, \"ticks\": \"\", \"zerolinecolor\": \"white\"}, \"zaxis\": {\"backgroundcolor\": \"#E5ECF6\", \"gridcolor\": \"white\", \"gridwidth\": 2, \"linecolor\": \"white\", \"showbackground\": true, \"ticks\": \"\", \"zerolinecolor\": \"white\"}}, \"shapedefaults\": {\"line\": {\"color\": \"#2a3f5f\"}}, \"ternary\": {\"aaxis\": {\"gridcolor\": \"white\", \"linecolor\": \"white\", \"ticks\": \"\"}, \"baxis\": {\"gridcolor\": \"white\", \"linecolor\": \"white\", \"ticks\": \"\"}, \"bgcolor\": \"#E5ECF6\", \"caxis\": {\"gridcolor\": \"white\", \"linecolor\": \"white\", \"ticks\": \"\"}}, \"title\": {\"x\": 0.05}, \"xaxis\": {\"automargin\": true, \"gridcolor\": \"white\", \"linecolor\": \"white\", \"ticks\": \"\", \"title\": {\"standoff\": 15}, \"zerolinecolor\": \"white\", \"zerolinewidth\": 2}, \"yaxis\": {\"automargin\": true, \"gridcolor\": \"white\", \"linecolor\": \"white\", \"ticks\": \"\", \"title\": {\"standoff\": 15}, \"zerolinecolor\": \"white\", \"zerolinewidth\": 2}}}, \"title\": {\"text\": \"Feature Importances of Model Features\"}, \"xaxis\": {\"anchor\": \"y\", \"domain\": [0.0, 1.0], \"title\": {\"text\": \"Feature Importance\"}}, \"yaxis\": {\"anchor\": \"x\", \"domain\": [0.0, 1.0], \"title\": {\"text\": \"Feature\"}}},\n",
              "                        {\"responsive\": true}\n",
              "                    ).then(function(){\n",
              "                            \n",
              "var gd = document.getElementById('d126efea-571a-481d-8696-5f3681c84a99');\n",
              "var x = new MutationObserver(function (mutations, observer) {{\n",
              "        var display = window.getComputedStyle(gd).display;\n",
              "        if (!display || display === 'none') {{\n",
              "            console.log([gd, 'removed!']);\n",
              "            Plotly.purge(gd);\n",
              "            observer.disconnect();\n",
              "        }}\n",
              "}});\n",
              "\n",
              "// Listen for the removal of the full notebook cells\n",
              "var notebookContainer = gd.closest('#notebook-container');\n",
              "if (notebookContainer) {{\n",
              "    x.observe(notebookContainer, {childList: true});\n",
              "}}\n",
              "\n",
              "// Listen for the clearing of the current output cell\n",
              "var outputEl = gd.closest('.output');\n",
              "if (outputEl) {{\n",
              "    x.observe(outputEl, {childList: true});\n",
              "}}\n",
              "\n",
              "                        })\n",
              "                };\n",
              "                \n",
              "            </script>\n",
              "        </div>\n",
              "</body>\n",
              "</html>"
            ]
          },
          "metadata": {
            "tags": []
          }
        }
      ]
    },
    {
      "cell_type": "markdown",
      "metadata": {
        "id": "bC4h3uFFqQXQ"
      },
      "source": [
        "Based on the feature importance plot above, it seems as if **mental_health_consequence** is still in our top 5, as are **no_employees**, **leave**, and **age_bucket**."
      ]
    },
    {
      "cell_type": "markdown",
      "metadata": {
        "id": "hGfkMTIBlCF0"
      },
      "source": [
        "### ***g) LE Feature engineered model /w age and country buckets***"
      ]
    },
    {
      "cell_type": "markdown",
      "metadata": {
        "id": "dAvye165qcV0"
      },
      "source": [
        "The following sub-section repeats the analysis on the label encoded dataframe instead of the one-hot encoded dataframe."
      ]
    },
    {
      "cell_type": "code",
      "metadata": {
        "id": "0dnmHG-klE_A"
      },
      "source": [
        "X = mc_df.drop(['supervisor', 'coworkers', 'Age', 'mental_health_interview', 'phys_health_interview', 'Country'], axis=1)\n",
        "y = mc_df.loc[: ,'supervisor']\n",
        "\n",
        "#Train, test, split\n",
        "X_train, X_test, y_train, y_test = train_test_split(\n",
        "            X,\n",
        "            y,\n",
        "            test_size = 0.2,\n",
        "            random_state = 508)"
      ],
      "execution_count": null,
      "outputs": []
    },
    {
      "cell_type": "code",
      "metadata": {
        "colab": {
          "base_uri": "https://localhost:8080/"
        },
        "id": "h61lKx8LlSBZ",
        "outputId": "0e6e2e17-e709-4e9d-dd67-b7e887c7369e"
      },
      "source": [
        "#Instantiate and fit Entropy\n",
        "RF_entropy = RandomForestClassifier(n_estimators = 100,\n",
        "                                     criterion = 'entropy',\n",
        "                                     max_depth = None,\n",
        "                                     min_samples_leaf = 1,\n",
        "                                     bootstrap = True,\n",
        "                                     warm_start = False,\n",
        "                                     random_state = 508)\n",
        "RF_entropy_fit = RF_entropy.fit(X_train, y_train)\n",
        "\n",
        "#Printing model scores\n",
        "print('Training Score', RF_entropy_fit.score(X_train, y_train).round(7))\n",
        "print('Testing Score:', RF_entropy_fit.score(X_test, y_test).round(7))\n",
        "\n",
        "rfc_predict = RF_entropy.predict(X_test) \n",
        "print(classification_report(y_test, rfc_predict)) "
      ],
      "execution_count": null,
      "outputs": [
        {
          "output_type": "stream",
          "text": [
            "Training Score 0.9920556\n",
            "Testing Score: 0.5714286\n",
            "              precision    recall  f1-score   support\n",
            "\n",
            "           0       0.53      0.62      0.58        64\n",
            "           1       0.43      0.23      0.30        80\n",
            "           2       0.64      0.80      0.71       108\n",
            "\n",
            "    accuracy                           0.57       252\n",
            "   macro avg       0.53      0.55      0.53       252\n",
            "weighted avg       0.54      0.57      0.54       252\n",
            "\n"
          ],
          "name": "stdout"
        }
      ]
    },
    {
      "cell_type": "markdown",
      "metadata": {
        "id": "cPZixx9sqvTp"
      },
      "source": [
        "Upon initial glance, this model's performance is not too distinct relative to the non-feature engineered results. However, all metrics were observed to drop across the board.\r\n",
        "\r\n",
        "Now, let us see if the Gini Index Criterion results in any differences in performance."
      ]
    },
    {
      "cell_type": "code",
      "metadata": {
        "colab": {
          "base_uri": "https://localhost:8080/"
        },
        "id": "KYLw2BIs1Ftm",
        "outputId": "88a883bf-bb63-4cd7-9dcd-d7b2d1053190"
      },
      "source": [
        "#Instantiate and fit Gini\n",
        "RF_gini = RandomForestClassifier(n_estimators = 100,\n",
        "                                     criterion = 'gini',\n",
        "                                     max_depth = None,\n",
        "                                     min_samples_leaf = 1,\n",
        "                                     bootstrap = True,\n",
        "                                     warm_start = False,\n",
        "                                     random_state = 508)\n",
        "\n",
        "#Fitting model\n",
        "RF_gini_fit = RF_gini.fit(X_train, y_train)\n",
        "\n",
        "#Printing model scores\n",
        "print('Training Score', RF_entropy_fit.score(X_train, y_train).round(7))\n",
        "print('Testing Score:', RF_entropy_fit.score(X_test, y_test).round(7))\n",
        "\n",
        "rfc_predict = RF_entropy.predict(X_test) \n",
        "print(classification_report(y_test, rfc_predict)) "
      ],
      "execution_count": null,
      "outputs": [
        {
          "output_type": "stream",
          "text": [
            "Training Score 0.9920556\n",
            "Testing Score: 0.5714286\n",
            "              precision    recall  f1-score   support\n",
            "\n",
            "           0       0.53      0.62      0.58        64\n",
            "           1       0.43      0.23      0.30        80\n",
            "           2       0.64      0.80      0.71       108\n",
            "\n",
            "    accuracy                           0.57       252\n",
            "   macro avg       0.53      0.55      0.53       252\n",
            "weighted avg       0.54      0.57      0.54       252\n",
            "\n"
          ],
          "name": "stdout"
        }
      ]
    },
    {
      "cell_type": "markdown",
      "metadata": {
        "id": "3qTwJvmqq8e6"
      },
      "source": [
        "The results of using Gini Index Criterion were identical to those of the Information Gain Entropy Criterion."
      ]
    },
    {
      "cell_type": "code",
      "metadata": {
        "colab": {
          "base_uri": "https://localhost:8080/"
        },
        "id": "T1z0q1lflWb4",
        "outputId": "f6ae1737-f524-40cc-a7bd-e428aebeb468"
      },
      "source": [
        "plot_feature_importances(RF_entropy_fit, train = X_train)"
      ],
      "execution_count": null,
      "outputs": [
        {
          "output_type": "display_data",
          "data": {
            "text/html": [
              "<html>\n",
              "<head><meta charset=\"utf-8\" /></head>\n",
              "<body>\n",
              "    <div>\n",
              "            <script src=\"https://cdnjs.cloudflare.com/ajax/libs/mathjax/2.7.5/MathJax.js?config=TeX-AMS-MML_SVG\"></script><script type=\"text/javascript\">if (window.MathJax) {MathJax.Hub.Config({SVG: {font: \"STIX-Web\"}});}</script>\n",
              "                <script type=\"text/javascript\">window.PlotlyConfig = {MathJaxConfig: 'local'};</script>\n",
              "        <script src=\"https://cdn.plot.ly/plotly-latest.min.js\"></script>    \n",
              "            <div id=\"c6f6350b-85bf-41fc-9779-d2344e7fa4ab\" class=\"plotly-graph-div\" style=\"height:525px; width:100%;\"></div>\n",
              "            <script type=\"text/javascript\">\n",
              "                \n",
              "                    window.PLOTLYENV=window.PLOTLYENV || {};\n",
              "                    \n",
              "                if (document.getElementById(\"c6f6350b-85bf-41fc-9779-d2344e7fa4ab\")) {\n",
              "                    Plotly.newPlot(\n",
              "                        'c6f6350b-85bf-41fc-9779-d2344e7fa4ab',\n",
              "                        [{\"alignmentgroup\": \"True\", \"hoverlabel\": {\"namelength\": 0}, \"hovertemplate\": \"x=%{x}<br>y=%{y}\", \"legendgroup\": \"\", \"marker\": {\"color\": \"#636efa\"}, \"name\": \"\", \"offsetgroup\": \"\", \"orientation\": \"h\", \"showlegend\": false, \"textposition\": \"auto\", \"type\": \"bar\", \"x\": [0.018742910057235322, 0.022224817668260143, 0.02325554711601516, 0.02358748530564669, 0.02967121948711056, 0.03144826851717332, 0.033389172311523246, 0.03639379174004005, 0.036510974260870604, 0.03727156988121357, 0.039980492211603186, 0.040432037040133116, 0.0426033689252821, 0.04481429348973498, 0.05520411030218057, 0.07133407581223546, 0.07740595075616381, 0.08831555876329304, 0.10485892983969555, 0.14255542651458955], \"xaxis\": \"x\", \"y\": [\"Gender\", \"self_employed\", \"family_history\", \"treatment\", \"work_interfere\", \"no_employees\", \"remote_work\", \"tech_company\", \"benefits\", \"care_options\", \"wellness_program\", \"seek_help\", \"anonymity\", \"leave\", \"mental_health_consequence\", \"phys_health_consequence\", \"mental_vs_physical\", \"obs_consequence\", \"country_bucket\", \"age_bucket\"], \"yaxis\": \"y\"}],\n",
              "                        {\"barmode\": \"relative\", \"legend\": {\"tracegroupgap\": 0}, \"template\": {\"data\": {\"bar\": [{\"error_x\": {\"color\": \"#2a3f5f\"}, \"error_y\": {\"color\": \"#2a3f5f\"}, \"marker\": {\"line\": {\"color\": \"#E5ECF6\", \"width\": 0.5}}, \"type\": \"bar\"}], \"barpolar\": [{\"marker\": {\"line\": {\"color\": \"#E5ECF6\", \"width\": 0.5}}, \"type\": \"barpolar\"}], \"carpet\": [{\"aaxis\": {\"endlinecolor\": \"#2a3f5f\", \"gridcolor\": \"white\", \"linecolor\": \"white\", \"minorgridcolor\": \"white\", \"startlinecolor\": \"#2a3f5f\"}, \"baxis\": {\"endlinecolor\": \"#2a3f5f\", \"gridcolor\": \"white\", \"linecolor\": \"white\", \"minorgridcolor\": \"white\", \"startlinecolor\": \"#2a3f5f\"}, \"type\": \"carpet\"}], \"choropleth\": [{\"colorbar\": {\"outlinewidth\": 0, \"ticks\": \"\"}, \"type\": \"choropleth\"}], \"contour\": [{\"colorbar\": {\"outlinewidth\": 0, \"ticks\": \"\"}, \"colorscale\": [[0.0, \"#0d0887\"], [0.1111111111111111, \"#46039f\"], [0.2222222222222222, \"#7201a8\"], [0.3333333333333333, \"#9c179e\"], [0.4444444444444444, \"#bd3786\"], [0.5555555555555556, \"#d8576b\"], [0.6666666666666666, \"#ed7953\"], [0.7777777777777778, \"#fb9f3a\"], [0.8888888888888888, \"#fdca26\"], [1.0, \"#f0f921\"]], \"type\": \"contour\"}], \"contourcarpet\": [{\"colorbar\": {\"outlinewidth\": 0, \"ticks\": \"\"}, \"type\": \"contourcarpet\"}], \"heatmap\": [{\"colorbar\": {\"outlinewidth\": 0, \"ticks\": \"\"}, \"colorscale\": [[0.0, \"#0d0887\"], [0.1111111111111111, \"#46039f\"], [0.2222222222222222, \"#7201a8\"], [0.3333333333333333, \"#9c179e\"], [0.4444444444444444, \"#bd3786\"], [0.5555555555555556, \"#d8576b\"], [0.6666666666666666, \"#ed7953\"], [0.7777777777777778, \"#fb9f3a\"], [0.8888888888888888, \"#fdca26\"], [1.0, \"#f0f921\"]], \"type\": \"heatmap\"}], \"heatmapgl\": [{\"colorbar\": {\"outlinewidth\": 0, \"ticks\": \"\"}, \"colorscale\": [[0.0, \"#0d0887\"], [0.1111111111111111, \"#46039f\"], [0.2222222222222222, \"#7201a8\"], [0.3333333333333333, \"#9c179e\"], [0.4444444444444444, \"#bd3786\"], [0.5555555555555556, \"#d8576b\"], [0.6666666666666666, \"#ed7953\"], [0.7777777777777778, \"#fb9f3a\"], [0.8888888888888888, \"#fdca26\"], [1.0, \"#f0f921\"]], \"type\": \"heatmapgl\"}], \"histogram\": [{\"marker\": {\"colorbar\": {\"outlinewidth\": 0, \"ticks\": \"\"}}, \"type\": \"histogram\"}], \"histogram2d\": [{\"colorbar\": {\"outlinewidth\": 0, \"ticks\": \"\"}, \"colorscale\": [[0.0, \"#0d0887\"], [0.1111111111111111, \"#46039f\"], [0.2222222222222222, \"#7201a8\"], [0.3333333333333333, \"#9c179e\"], [0.4444444444444444, \"#bd3786\"], [0.5555555555555556, \"#d8576b\"], [0.6666666666666666, \"#ed7953\"], [0.7777777777777778, \"#fb9f3a\"], [0.8888888888888888, \"#fdca26\"], [1.0, \"#f0f921\"]], \"type\": \"histogram2d\"}], \"histogram2dcontour\": [{\"colorbar\": {\"outlinewidth\": 0, \"ticks\": \"\"}, \"colorscale\": [[0.0, \"#0d0887\"], [0.1111111111111111, \"#46039f\"], [0.2222222222222222, \"#7201a8\"], [0.3333333333333333, \"#9c179e\"], [0.4444444444444444, \"#bd3786\"], [0.5555555555555556, \"#d8576b\"], [0.6666666666666666, \"#ed7953\"], [0.7777777777777778, \"#fb9f3a\"], [0.8888888888888888, \"#fdca26\"], [1.0, \"#f0f921\"]], \"type\": \"histogram2dcontour\"}], \"mesh3d\": [{\"colorbar\": {\"outlinewidth\": 0, \"ticks\": \"\"}, \"type\": \"mesh3d\"}], \"parcoords\": [{\"line\": {\"colorbar\": {\"outlinewidth\": 0, \"ticks\": \"\"}}, \"type\": \"parcoords\"}], \"pie\": [{\"automargin\": true, \"type\": \"pie\"}], \"scatter\": [{\"marker\": {\"colorbar\": {\"outlinewidth\": 0, \"ticks\": \"\"}}, \"type\": \"scatter\"}], \"scatter3d\": [{\"line\": {\"colorbar\": {\"outlinewidth\": 0, \"ticks\": \"\"}}, \"marker\": {\"colorbar\": {\"outlinewidth\": 0, \"ticks\": \"\"}}, \"type\": \"scatter3d\"}], \"scattercarpet\": [{\"marker\": {\"colorbar\": {\"outlinewidth\": 0, \"ticks\": \"\"}}, \"type\": \"scattercarpet\"}], \"scattergeo\": [{\"marker\": {\"colorbar\": {\"outlinewidth\": 0, \"ticks\": \"\"}}, \"type\": \"scattergeo\"}], \"scattergl\": [{\"marker\": {\"colorbar\": {\"outlinewidth\": 0, \"ticks\": \"\"}}, \"type\": \"scattergl\"}], \"scattermapbox\": [{\"marker\": {\"colorbar\": {\"outlinewidth\": 0, \"ticks\": \"\"}}, \"type\": \"scattermapbox\"}], \"scatterpolar\": [{\"marker\": {\"colorbar\": {\"outlinewidth\": 0, \"ticks\": \"\"}}, \"type\": \"scatterpolar\"}], \"scatterpolargl\": [{\"marker\": {\"colorbar\": {\"outlinewidth\": 0, \"ticks\": \"\"}}, \"type\": \"scatterpolargl\"}], \"scatterternary\": [{\"marker\": {\"colorbar\": {\"outlinewidth\": 0, \"ticks\": \"\"}}, \"type\": \"scatterternary\"}], \"surface\": [{\"colorbar\": {\"outlinewidth\": 0, \"ticks\": \"\"}, \"colorscale\": [[0.0, \"#0d0887\"], [0.1111111111111111, \"#46039f\"], [0.2222222222222222, \"#7201a8\"], [0.3333333333333333, \"#9c179e\"], [0.4444444444444444, \"#bd3786\"], [0.5555555555555556, \"#d8576b\"], [0.6666666666666666, \"#ed7953\"], [0.7777777777777778, \"#fb9f3a\"], [0.8888888888888888, \"#fdca26\"], [1.0, \"#f0f921\"]], \"type\": \"surface\"}], \"table\": [{\"cells\": {\"fill\": {\"color\": \"#EBF0F8\"}, \"line\": {\"color\": \"white\"}}, \"header\": {\"fill\": {\"color\": \"#C8D4E3\"}, \"line\": {\"color\": \"white\"}}, \"type\": \"table\"}]}, \"layout\": {\"annotationdefaults\": {\"arrowcolor\": \"#2a3f5f\", \"arrowhead\": 0, \"arrowwidth\": 1}, \"coloraxis\": {\"colorbar\": {\"outlinewidth\": 0, \"ticks\": \"\"}}, \"colorscale\": {\"diverging\": [[0, \"#8e0152\"], [0.1, \"#c51b7d\"], [0.2, \"#de77ae\"], [0.3, \"#f1b6da\"], [0.4, \"#fde0ef\"], [0.5, \"#f7f7f7\"], [0.6, \"#e6f5d0\"], [0.7, \"#b8e186\"], [0.8, \"#7fbc41\"], [0.9, \"#4d9221\"], [1, \"#276419\"]], \"sequential\": [[0.0, \"#0d0887\"], [0.1111111111111111, \"#46039f\"], [0.2222222222222222, \"#7201a8\"], [0.3333333333333333, \"#9c179e\"], [0.4444444444444444, \"#bd3786\"], [0.5555555555555556, \"#d8576b\"], [0.6666666666666666, \"#ed7953\"], [0.7777777777777778, \"#fb9f3a\"], [0.8888888888888888, \"#fdca26\"], [1.0, \"#f0f921\"]], \"sequentialminus\": [[0.0, \"#0d0887\"], [0.1111111111111111, \"#46039f\"], [0.2222222222222222, \"#7201a8\"], [0.3333333333333333, \"#9c179e\"], [0.4444444444444444, \"#bd3786\"], [0.5555555555555556, \"#d8576b\"], [0.6666666666666666, \"#ed7953\"], [0.7777777777777778, \"#fb9f3a\"], [0.8888888888888888, \"#fdca26\"], [1.0, \"#f0f921\"]]}, \"colorway\": [\"#636efa\", \"#EF553B\", \"#00cc96\", \"#ab63fa\", \"#FFA15A\", \"#19d3f3\", \"#FF6692\", \"#B6E880\", \"#FF97FF\", \"#FECB52\"], \"font\": {\"color\": \"#2a3f5f\"}, \"geo\": {\"bgcolor\": \"white\", \"lakecolor\": \"white\", \"landcolor\": \"#E5ECF6\", \"showlakes\": true, \"showland\": true, \"subunitcolor\": \"white\"}, \"hoverlabel\": {\"align\": \"left\"}, \"hovermode\": \"closest\", \"mapbox\": {\"style\": \"light\"}, \"paper_bgcolor\": \"white\", \"plot_bgcolor\": \"#E5ECF6\", \"polar\": {\"angularaxis\": {\"gridcolor\": \"white\", \"linecolor\": \"white\", \"ticks\": \"\"}, \"bgcolor\": \"#E5ECF6\", \"radialaxis\": {\"gridcolor\": \"white\", \"linecolor\": \"white\", \"ticks\": \"\"}}, \"scene\": {\"xaxis\": {\"backgroundcolor\": \"#E5ECF6\", \"gridcolor\": \"white\", \"gridwidth\": 2, \"linecolor\": \"white\", \"showbackground\": true, \"ticks\": \"\", \"zerolinecolor\": \"white\"}, \"yaxis\": {\"backgroundcolor\": \"#E5ECF6\", \"gridcolor\": \"white\", \"gridwidth\": 2, \"linecolor\": \"white\", \"showbackground\": true, \"ticks\": \"\", \"zerolinecolor\": \"white\"}, \"zaxis\": {\"backgroundcolor\": \"#E5ECF6\", \"gridcolor\": \"white\", \"gridwidth\": 2, \"linecolor\": \"white\", \"showbackground\": true, \"ticks\": \"\", \"zerolinecolor\": \"white\"}}, \"shapedefaults\": {\"line\": {\"color\": \"#2a3f5f\"}}, \"ternary\": {\"aaxis\": {\"gridcolor\": \"white\", \"linecolor\": \"white\", \"ticks\": \"\"}, \"baxis\": {\"gridcolor\": \"white\", \"linecolor\": \"white\", \"ticks\": \"\"}, \"bgcolor\": \"#E5ECF6\", \"caxis\": {\"gridcolor\": \"white\", \"linecolor\": \"white\", \"ticks\": \"\"}}, \"title\": {\"x\": 0.05}, \"xaxis\": {\"automargin\": true, \"gridcolor\": \"white\", \"linecolor\": \"white\", \"ticks\": \"\", \"title\": {\"standoff\": 15}, \"zerolinecolor\": \"white\", \"zerolinewidth\": 2}, \"yaxis\": {\"automargin\": true, \"gridcolor\": \"white\", \"linecolor\": \"white\", \"ticks\": \"\", \"title\": {\"standoff\": 15}, \"zerolinecolor\": \"white\", \"zerolinewidth\": 2}}}, \"title\": {\"text\": \"Feature Importances of Model Features\"}, \"xaxis\": {\"anchor\": \"y\", \"domain\": [0.0, 1.0], \"title\": {\"text\": \"Feature Importance\"}}, \"yaxis\": {\"anchor\": \"x\", \"domain\": [0.0, 1.0], \"title\": {\"text\": \"Feature\"}}},\n",
              "                        {\"responsive\": true}\n",
              "                    ).then(function(){\n",
              "                            \n",
              "var gd = document.getElementById('c6f6350b-85bf-41fc-9779-d2344e7fa4ab');\n",
              "var x = new MutationObserver(function (mutations, observer) {{\n",
              "        var display = window.getComputedStyle(gd).display;\n",
              "        if (!display || display === 'none') {{\n",
              "            console.log([gd, 'removed!']);\n",
              "            Plotly.purge(gd);\n",
              "            observer.disconnect();\n",
              "        }}\n",
              "}});\n",
              "\n",
              "// Listen for the removal of the full notebook cells\n",
              "var notebookContainer = gd.closest('#notebook-container');\n",
              "if (notebookContainer) {{\n",
              "    x.observe(notebookContainer, {childList: true});\n",
              "}}\n",
              "\n",
              "// Listen for the clearing of the current output cell\n",
              "var outputEl = gd.closest('.output');\n",
              "if (outputEl) {{\n",
              "    x.observe(outputEl, {childList: true});\n",
              "}}\n",
              "\n",
              "                        })\n",
              "                };\n",
              "                \n",
              "            </script>\n",
              "        </div>\n",
              "</body>\n",
              "</html>"
            ]
          },
          "metadata": {
            "tags": []
          }
        }
      ]
    },
    {
      "cell_type": "markdown",
      "metadata": {
        "id": "k8FVTEVarOek"
      },
      "source": [
        "According to the plot, **mental_health_consequence**, **no_employees**, **work_interfere**, **age_bucket**, and **leave** were the 5 most important predictors. This is promising, as two of our target predictors are present in the top five. However, the concerning part is the low metrics obtained in the model performance."
      ]
    },
    {
      "cell_type": "markdown",
      "metadata": {
        "id": "4HTaqRvJeGGZ"
      },
      "source": [
        "### ***h) OHE Feature engineered model w/o age bucket /w country bucket***"
      ]
    },
    {
      "cell_type": "markdown",
      "metadata": {
        "id": "0qZuFAz7rk-3"
      },
      "source": [
        "Since One-Hot Encoding generally performed the best thus far, let us now try running a Random Forest Classifier with the same hyperparameters mentioned above on the OHE dataset without the age bucket but with the country bucket."
      ]
    },
    {
      "cell_type": "code",
      "metadata": {
        "id": "pR281m1YeEx1"
      },
      "source": [
        "X = agecdrop.drop(['supervisor_Yes', 'supervisor_No', 'supervisor_Some of them', 'coworkers_Yes', 'coworkers_Some of them', 'coworkers_No', 'mental_health_interview_Maybe', 'mental_health_interview_No', 'mental_health_interview_Yes', 'phys_health_interview_Maybe', 'phys_health_interview_No', 'phys_health_interview_Yes'], axis=1)\n",
        "y = agecdrop.loc[: ,'supervisor_Yes']"
      ],
      "execution_count": null,
      "outputs": []
    },
    {
      "cell_type": "code",
      "metadata": {
        "id": "_UEYoPtAe_81"
      },
      "source": [
        "#Train, test, split\n",
        "X_train, X_test, y_train, y_test = train_test_split(\n",
        "            X,\n",
        "            y,\n",
        "            test_size = 0.2,\n",
        "            random_state = 508)"
      ],
      "execution_count": null,
      "outputs": []
    },
    {
      "cell_type": "code",
      "metadata": {
        "colab": {
          "base_uri": "https://localhost:8080/"
        },
        "id": "-6g4vKbofCqf",
        "outputId": "b18fa5b9-9790-4e63-f8c9-d59fa5a3ef6f"
      },
      "source": [
        "#Instantiate and fit Gini\n",
        "RF_gini = RandomForestClassifier(n_estimators = 100,\n",
        "                                     criterion = 'gini',\n",
        "                                     max_depth = None,\n",
        "                                     min_samples_leaf = 1,\n",
        "                                     bootstrap = True,\n",
        "                                     warm_start = False,\n",
        "                                     random_state = 508)\n",
        "\n",
        "#Fitting model\n",
        "RF_gini_fit = RF_gini.fit(X_train, y_train)\n",
        "\n",
        "#Printing model scores\n",
        "print('Training Score', RF_gini_fit.score(X_train, y_train).round(7))\n",
        "print('Testing Score:', RF_gini_fit.score(X_test, y_test).round(7))\n",
        "\n",
        "rfc_cv_score = cross_val_score(RF_gini, X, y, cv=10, scoring='roc_auc')\n",
        "print(rfc_cv_score.mean())\n",
        "\n",
        "rfc_predict = RF_gini.predict(X_test) \n",
        "print(classification_report(y_test, rfc_predict))"
      ],
      "execution_count": null,
      "outputs": [
        {
          "output_type": "stream",
          "text": [
            "Training Score 1.0\n",
            "Testing Score: 0.7539683\n",
            "0.7853761668908729\n",
            "              precision    recall  f1-score   support\n",
            "\n",
            "           0       0.78      0.80      0.79       144\n",
            "           1       0.72      0.69      0.71       108\n",
            "\n",
            "    accuracy                           0.75       252\n",
            "   macro avg       0.75      0.75      0.75       252\n",
            "weighted avg       0.75      0.75      0.75       252\n",
            "\n"
          ],
          "name": "stdout"
        }
      ]
    },
    {
      "cell_type": "markdown",
      "metadata": {
        "id": "Iif08vJ9sFa8"
      },
      "source": [
        "As depicted in the output above, this model was determined to be the most generalizable with respect to testing score, and will thus be utilized for hyperparameter tuning and subsequent multiclass classification."
      ]
    },
    {
      "cell_type": "code",
      "metadata": {
        "id": "E6dxcj7NfGuo",
        "colab": {
          "base_uri": "https://localhost:8080/"
        },
        "outputId": "65754b50-7519-466c-ab9f-ef6b7ff001e2"
      },
      "source": [
        "ax = plt.gca()\r\n",
        "roc_disp = skmet.plot_roc_curve(RF_gini_fit, X_test, y_test, ax = ax, alpha=.8)\r\n",
        "ax.plot([0,1], [0,1], linestyle = '--', lw=2, color= 'black', label = 'Chance', alpha = .8)\r\n",
        "ax.legend(loc = 'lower right')\r\n",
        "plt.show()"
      ],
      "execution_count": null,
      "outputs": [
        {
          "output_type": "display_data",
          "data": {
            "image/png": "[encoded data removed]",
            "text/plain": [
              "<Figure size 432x288 with 1 Axes>"
            ]
          },
          "metadata": {
            "tags": [],
            "needs_background": "light"
          }
        }
      ]
    },
    {
      "cell_type": "markdown",
      "metadata": {
        "id": "lkSjB2f2sTvl"
      },
      "source": [
        "The ROC Curve above showcases an Area-Under-Curve (AUC) value of **0.79**. As such, the model exhibits a 79% chance that a randomly chosen positive instance (e.g., 'Yes' in the **supervisor** category) will be ranked higher than a randomly chosen negative instance. As such, it is a good sign that the model possess high quality and robustness."
      ]
    },
    {
      "cell_type": "markdown",
      "metadata": {
        "id": "0FfKz8yJcBHg"
      },
      "source": [
        "### ***i) Optimized DE Feature engineered model w/o age buckets /w country bucket***"
      ]
    },
    {
      "cell_type": "markdown",
      "metadata": {
        "id": "oQELkaaEtJ3w"
      },
      "source": [
        "Now that we have picked the model of interest and conducted feature engineering, let's hypertune the parameters of the model using **GridSearchCV()**. As a refresher, the model of interest utilizes the 'gini' criterion with a **True** bootstrap argument. The engineered dataset does not contain the **age_bucket** feature but still contains the **country** bucket."
      ]
    },
    {
      "cell_type": "markdown",
      "metadata": {
        "id": "yaoowUeSlzKi"
      },
      "source": [
        "#### *i) Hypertuning n_estimators & min_samples_leaf*"
      ]
    },
    {
      "cell_type": "markdown",
      "metadata": {
        "id": "2dhxbXyKtfWL"
      },
      "source": [
        "First, let's tune the **n_estimators** and **min_samples_leaf** hyperparameters. As previously stated, these are generally considered to be the most important hyperparameters of the Random Forest Classifier. The **n_estimators** hyperparameter reflects the amount of trees utilized in the random forest, while the **min_samples_leaf** reflects the minimum number of samples required to be at a leaf node in the model."
      ]
    },
    {
      "cell_type": "code",
      "metadata": {
        "id": "9flRJtkI35F8",
        "colab": {
          "base_uri": "https://localhost:8080/"
        },
        "outputId": "fe3d935e-8d50-4295-a24b-7bdf462308a8"
      },
      "source": [
        "agecdrop = df.drop('Country', 1)\n",
        "agecdrop = agecdrop.drop('age_bucket', 1)\n",
        "agecdrop = pd.get_dummies(agecdrop)\n",
        "\n",
        "X = agecdrop.drop(['supervisor_Yes', 'supervisor_No', 'supervisor_Some of them', 'coworkers_Yes', 'coworkers_Some of them', 'coworkers_No', 'mental_health_interview_Maybe', 'mental_health_interview_No', 'mental_health_interview_Yes', 'phys_health_interview_Maybe', 'phys_health_interview_No', 'phys_health_interview_Yes'], axis=1)\n",
        "y = agecdrop.loc[: ,'supervisor_Yes']\n",
        "\n",
        "\n",
        "X_train, X_test, y_train, y_test = train_test_split(\n",
        "            X,\n",
        "            y,\n",
        "            test_size = 0.2,\n",
        "            random_state = 508)\n",
        "\n",
        "param_grid = {\n",
        "    'n_estimators': [1, 20, 50, 75, 100, 200, 300],\n",
        "    'min_samples_leaf': [1, 5, 10, 50, 100], \n",
        "}\n",
        "\n",
        "rfc=RandomForestClassifier(random_state=508, bootstrap=True)\n",
        "\n",
        "CV_rfc = GridSearchCV(estimator=rfc, param_grid=param_grid, scoring='accuracy', cv=5)\n",
        "CV_rfc.fit(X_train, y_train)\n",
        "\n",
        "print(\"Best Parameter Set: \", CV_rfc.best_params_)\n",
        "print()\n",
        "\n",
        "best_acc = CV_rfc.best_score_\n",
        "print(\"Best Accuracy: \", best_acc)\n",
        "print()\n",
        "\n",
        "best_model = CV_rfc.best_estimator_"
      ],
      "execution_count": null,
      "outputs": [
        {
          "output_type": "stream",
          "text": [
            "Best Parameter Set:  {'min_samples_leaf': 10, 'n_estimators': 200}\n",
            "\n",
            "Best Accuracy:  0.7636668144426382\n",
            "\n"
          ],
          "name": "stdout"
        }
      ]
    },
    {
      "cell_type": "markdown",
      "metadata": {
        "id": "agrrN4nHt9CM"
      },
      "source": [
        "Based on the results of the first grid search, the optimal **n_estimators** hyperparameter was found to be 200, and the optimal **min_samples_leaf** hyperparameter was found to be 10. The base cross-validation accuracy after this grid-search was found to be **76.37%**."
      ]
    },
    {
      "cell_type": "markdown",
      "metadata": {
        "id": "OA35_j2jmCdr"
      },
      "source": [
        "#### *ii) Hypertuning max_features*"
      ]
    },
    {
      "cell_type": "markdown",
      "metadata": {
        "id": "unMyntkPuvvE"
      },
      "source": [
        "As a reminder, the **max_features** hyperparameter measures the maximum amount of features considered when looking for the best node split."
      ]
    },
    {
      "cell_type": "code",
      "metadata": {
        "colab": {
          "base_uri": "https://localhost:8080/"
        },
        "id": "8j4nGAtrmQmt",
        "outputId": "ddf2d5ee-54f1-4b90-cd15-6944c1e22fd0"
      },
      "source": [
        "param_grid = {\r\n",
        "    'min_samples_leaf': [10], \r\n",
        "    'n_estimators': [200], \r\n",
        "    'max_features':[5, 10, 15, 20],\r\n",
        "}\r\n",
        "\r\n",
        "rfc=RandomForestClassifier(random_state=508, bootstrap=True)\r\n",
        "CV_rfc = GridSearchCV(estimator=rfc, param_grid=param_grid, scoring='accuracy', cv=5)\r\n",
        "CV_rfc.fit(X_train, y_train)\r\n",
        "\r\n",
        "print(\"Best Parameter Set: \", CV_rfc.best_params_)\r\n",
        "print()\r\n",
        "\r\n",
        "print(\"Best Accuracy: \", CV_rfc.best_score_)\r\n",
        "print()\r\n",
        "\r\n",
        "if best_acc < CV_rfc.best_score_:\r\n",
        "  print(\"Better Model?: \", True)\r\n",
        "  best_acc = CV_rfc.best_score_\r\n",
        "  best_model = CV_rfc.best_estimator_\r\n",
        "else:\r\n",
        "  print(\"Better Model?: \", False)\r\n"
      ],
      "execution_count": null,
      "outputs": [
        {
          "output_type": "stream",
          "text": [
            "Best Parameter Set:  {'max_features': 5, 'min_samples_leaf': 10, 'n_estimators': 200}\n",
            "\n",
            "Best Accuracy:  0.7577163686517905\n",
            "\n",
            "Better Model?:  False\n"
          ],
          "name": "stdout"
        }
      ]
    },
    {
      "cell_type": "markdown",
      "metadata": {
        "id": "wGR_ShO2u7LW"
      },
      "source": [
        "As can be seen in the output above, tuning the **max_features** hyperparameter did not result in a better Cross-Validation Accuracy score. Thus, we will leave this as its default value (None) in order to reduce model unecessary model constraints."
      ]
    },
    {
      "cell_type": "markdown",
      "metadata": {
        "id": "_N2yaVYpnwZ8"
      },
      "source": [
        "#### *iii) Hypertuning max_depth & max_samples*\r\n"
      ]
    },
    {
      "cell_type": "markdown",
      "metadata": {
        "id": "S9I6e--xvNJ2"
      },
      "source": [
        "As a refresher, **max_depth** refers to the maximum depth of the random forest's decision trees, and **max_samples** refers to the proportion of the original dataset sampled to make the decision tree when bootstrapping."
      ]
    },
    {
      "cell_type": "code",
      "metadata": {
        "colab": {
          "base_uri": "https://localhost:8080/"
        },
        "id": "aVrmOPCgoFxk",
        "outputId": "e4b210e9-99f6-42b6-ce61-fd1866b0bec4"
      },
      "source": [
        "param_grid = {\r\n",
        "    'min_samples_leaf': [10], \r\n",
        "    'n_estimators': [200], \r\n",
        "    'max_depth': [5, 10, 15, 20, 50, 100],\r\n",
        "    'max_samples': [0.2, 0.4, 0.6, 0.8]\r\n",
        "}\r\n",
        "\r\n",
        "rfc=RandomForestClassifier(random_state=508, bootstrap=True)\r\n",
        "CV_rfc = GridSearchCV(estimator=rfc, param_grid=param_grid, scoring='accuracy', cv=5)\r\n",
        "CV_rfc.fit(X_train, y_train)\r\n",
        "\r\n",
        "print(\"Best Parameter Set: \", CV_rfc.best_params_)\r\n",
        "print()\r\n",
        "\r\n",
        "print(\"Best Score: \", CV_rfc.best_score_)\r\n",
        "print()\r\n",
        "\r\n",
        "if best_acc < CV_rfc.best_score_:\r\n",
        "  print(\"Better Model?: \", True)\r\n",
        "  best_acc = CV_rfc.best_score_\r\n",
        "  best_model = CV_rfc.best_estimator_\r\n",
        "else:\r\n",
        "  print(\"Better Model?: \", False)"
      ],
      "execution_count": null,
      "outputs": [
        {
          "output_type": "stream",
          "text": [
            "Best Parameter Set:  {'max_depth': 15, 'max_samples': 0.8, 'min_samples_leaf': 10, 'n_estimators': 200}\n",
            "\n",
            "Best Score:  0.7636668144426382\n",
            "\n",
            "Better Model?:  False\n"
          ],
          "name": "stdout"
        }
      ]
    },
    {
      "cell_type": "markdown",
      "metadata": {
        "id": "qOpXEFXrvk28"
      },
      "source": [
        "Tuning the **max_depth** and **max_samples** hyperparameters did not improve the Cross-Validation Score. Thus, we will not include them in the final analysis."
      ]
    },
    {
      "cell_type": "markdown",
      "metadata": {
        "id": "mdEQf10Vt4D2"
      },
      "source": [
        "#### *iv) Summary of Best RandomForestClassifier & Testing Performance*"
      ]
    },
    {
      "cell_type": "markdown",
      "metadata": {
        "id": "5195rN_EvxGd"
      },
      "source": [
        "This section will generate summary statistics of the tuned, feature engineered model on the 'Yes' class."
      ]
    },
    {
      "cell_type": "code",
      "metadata": {
        "colab": {
          "base_uri": "https://localhost:8080/"
        },
        "id": "M1-b2AKTvt60",
        "outputId": "96b98728-c1f3-481e-be04-2e3ddff18898"
      },
      "source": [
        "best_parameters = best_model.get_params()\r\n",
        "print(\"{:<10}\\t\\t\\t{:<10}\".format(\"HYPERPARAMETER\", \"VALUE\"))\r\n",
        "\r\n",
        "for key, value in best_parameters.items():\r\n",
        "  if value == None:\r\n",
        "    val = 'None'\r\n",
        "  else:\r\n",
        "    val = value\r\n",
        "\r\n",
        "  if key == \"min_impurity_decrease\" or key == \"min_impurity_split\" or key==\"min_samples_leaf\" or key == \"min_samples_split\": \r\n",
        "    print(\"{:<10}\\t\\t{:<10}\".format(key, val))\r\n",
        "  elif key == \"min_weight_fraction_leaf\":\r\n",
        "    print(\"{:<10}\\t{:<10}\".format(key, val))\r\n",
        "  else:\r\n",
        "    print(\"{:<10}\\t\\t\\t{:<10}\".format(key, val))"
      ],
      "execution_count": null,
      "outputs": [
        {
          "output_type": "stream",
          "text": [
            "HYPERPARAMETER\t\t\tVALUE     \n",
            "bootstrap \t\t\t1         \n",
            "ccp_alpha \t\t\t0.0       \n",
            "class_weight\t\t\tNone      \n",
            "criterion \t\t\tgini      \n",
            "max_depth \t\t\tNone      \n",
            "max_features\t\t\tauto      \n",
            "max_leaf_nodes\t\t\tNone      \n",
            "max_samples\t\t\tNone      \n",
            "min_impurity_decrease\t\t0.0       \n",
            "min_impurity_split\t\tNone      \n",
            "min_samples_leaf\t\t10        \n",
            "min_samples_split\t\t2         \n",
            "min_weight_fraction_leaf\t0.0       \n",
            "n_estimators\t\t\t200       \n",
            "n_jobs    \t\t\tNone      \n",
            "oob_score \t\t\t0         \n",
            "random_state\t\t\t508       \n",
            "verbose   \t\t\t0         \n",
            "warm_start\t\t\t0         \n"
          ],
          "name": "stdout"
        }
      ]
    },
    {
      "cell_type": "code",
      "metadata": {
        "colab": {
          "base_uri": "https://localhost:8080/"
        },
        "id": "QmK4yvf6scld",
        "outputId": "3115a2ee-f9b7-45e7-c811-0008bb8c29a6"
      },
      "source": [
        "y_pred = best_model.predict(X_test)\r\n",
        "print(classification_report(y_test, y_pred))"
      ],
      "execution_count": null,
      "outputs": [
        {
          "output_type": "stream",
          "text": [
            "              precision    recall  f1-score   support\n",
            "\n",
            "           0       0.80      0.82      0.81       144\n",
            "           1       0.75      0.72      0.74       108\n",
            "\n",
            "    accuracy                           0.78       252\n",
            "   macro avg       0.77      0.77      0.77       252\n",
            "weighted avg       0.78      0.78      0.78       252\n",
            "\n"
          ],
          "name": "stdout"
        }
      ]
    },
    {
      "cell_type": "markdown",
      "metadata": {
        "id": "W_x8W5-3DD2g"
      },
      "source": [
        "-------------------------------------------------------------"
      ]
    },
    {
      "cell_type": "markdown",
      "metadata": {
        "id": "jBgb2OshDxmb"
      },
      "source": [
        "<a name=\"five\"></a>\r\n",
        "## **V. Finalized Model & Results**\r\n",
        "\r\n",
        "The following section showcases the performance of the finalized model obtained from [**Section IV: Initial Model & Feature Engineering**](#four) on each class of the **supervisor** response variable from the dataset. As previously mentioned, the classes of the **supervisor** response variable are as follows: 'Yes', 'Some of them', and 'No'. When looking at this section, keep in mind that feature engineering on the Random Forest Classifier, in addition to hyperparameter tuning, was only performed by training with respect to the 'Yes' label. Furthermore, the base rates of the 'Yes', 'Some of them', and 'No' classes, as found previously in [**Section III: Exploratory Data Analysis**](#three) are 41%, 27.8%, and 31.2%, respectively.\r\n",
        "\r\n",
        "From there, this section will go into analysis of the results to address the finalized hypotheses, which are listed again below for clarity: \r\n",
        "\r\n",
        "\r\n",
        "**Null Hypothesis:** Using Random Forest and feature importance from sklearn (Mean Decrease in Gini Index), the 5 target predictors, in no particular order, will not be the most important when predicting whether employees are willing to discuss mental health issues with supervisors.\r\n",
        "\r\n",
        "**Alternative Hypothesis:** Using Random Forest and feature importance from sklearn (Mean Decrease in Gini Index), the 5 target predictors, in no particular no order, will be the most important when predicting whether employees are willing to discuss mental health issues with supervisors\r\n",
        "\r\n",
        "\r\n",
        "**Target Predictors:**\r\n",
        "- **leave: How easy is it for you to take medical leave for a mental health condition?**\r\n",
        "- benefits: Does your employer provide mental health benefits?\r\n",
        "- no_employees: How many employees does your company/organization have?\r\n",
        "- obs_consequence: Have you heard of or observed negative consequences for coworkers with mental health conditions in your workplace\r\n",
        "- remote_work: Do you work remotely (outside of an office) at least 50% of the time?"
      ]
    },
    {
      "cell_type": "markdown",
      "metadata": {
        "id": "ZoarQYkZAqkh"
      },
      "source": [
        "### ***a) Model Summary and Performance on each Class***"
      ]
    },
    {
      "cell_type": "markdown",
      "metadata": {
        "id": "Z5DJuKHYA3Bh"
      },
      "source": [
        "#### *i) Random Forest Classifier - Finalized Model with Optimal Features*"
      ]
    },
    {
      "cell_type": "code",
      "metadata": {
        "colab": {
          "base_uri": "https://localhost:8080/"
        },
        "id": "y9pZCvKoCAK9",
        "outputId": "10e4672b-ae66-4294-a761-98bc1547900f"
      },
      "source": [
        "agecdrop = df.drop('Country', 1)\r\n",
        "agecdrop = agecdrop.drop('age_bucket', 1)\r\n",
        "agecdrop = pd.get_dummies(agecdrop)\r\n",
        "\r\n",
        "X = agecdrop.drop(['supervisor_Yes', 'supervisor_No', 'supervisor_Some of them', 'coworkers_Yes', 'coworkers_Some of them', 'coworkers_No', 'mental_health_interview_Maybe', 'mental_health_interview_No', 'mental_health_interview_Yes', 'phys_health_interview_Maybe', 'phys_health_interview_No', 'phys_health_interview_Yes'], axis=1)\r\n",
        "y_yes = agecdrop.loc[: ,'supervisor_Yes']\r\n",
        "y_some = agecdrop.loc[:, 'supervisor_Some of them']\r\n",
        "y_no = agecdrop.loc[:, 'supervisor_No']\r\n",
        "\r\n",
        "RF = RandomForestClassifier(n_estimators = 200,\r\n",
        "                                     criterion = 'gini',\r\n",
        "                                     #max_depth = 10,\r\n",
        "                                     min_samples_leaf = 10,\r\n",
        "                                     #max_samples = 0.6,\r\n",
        "                                     bootstrap = True,\r\n",
        "                                     warm_start = False,\r\n",
        "                                     random_state = 508)\r\n",
        "\r\n",
        "print(\"Summary of the Best Model\")\r\n",
        "print()\r\n",
        "\r\n",
        "model_parameters = RF.get_params()\r\n",
        "print(\"{:<10}\\t\\t\\t{:<10}\".format(\"HYPERPARAMETER\", \"VALUE\"))\r\n",
        "\r\n",
        "for key, value in model_parameters.items():\r\n",
        "  if value == None:\r\n",
        "    val = 'None'\r\n",
        "  else:\r\n",
        "    val = value\r\n",
        "\r\n",
        "  if key == \"min_impurity_decrease\" or key == \"min_impurity_split\" or key==\"min_samples_leaf\" or key == \"min_samples_split\": \r\n",
        "    print(\"{:<10}\\t\\t{:<10}\".format(key, val))\r\n",
        "  elif key == \"min_weight_fraction_leaf\":\r\n",
        "    print(\"{:<10}\\t{:<10}\".format(key, val))\r\n",
        "  else:\r\n",
        "    print(\"{:<10}\\t\\t\\t{:<10}\".format(key, val))\r\n"
      ],
      "execution_count": null,
      "outputs": [
        {
          "output_type": "stream",
          "text": [
            "Summary of the Best Model\n",
            "\n",
            "HYPERPARAMETER\t\t\tVALUE     \n",
            "bootstrap \t\t\t1         \n",
            "ccp_alpha \t\t\t0.0       \n",
            "class_weight\t\t\tNone      \n",
            "criterion \t\t\tgini      \n",
            "max_depth \t\t\tNone      \n",
            "max_features\t\t\tauto      \n",
            "max_leaf_nodes\t\t\tNone      \n",
            "max_samples\t\t\tNone      \n",
            "min_impurity_decrease\t\t0.0       \n",
            "min_impurity_split\t\tNone      \n",
            "min_samples_leaf\t\t10        \n",
            "min_samples_split\t\t2         \n",
            "min_weight_fraction_leaf\t0.0       \n",
            "n_estimators\t\t\t200       \n",
            "n_jobs    \t\t\tNone      \n",
            "oob_score \t\t\t0         \n",
            "random_state\t\t\t508       \n",
            "verbose   \t\t\t0         \n",
            "warm_start\t\t\t0         \n"
          ],
          "name": "stdout"
        }
      ]
    },
    {
      "cell_type": "markdown",
      "metadata": {
        "id": "2Q3ATPMXB_h_"
      },
      "source": [
        "#### *ii) Training & Testing Model on 'Yes' Label of Supervisor*"
      ]
    },
    {
      "cell_type": "code",
      "metadata": {
        "colab": {
          "base_uri": "https://localhost:8080/"
        },
        "id": "bMmomN_AFGhP",
        "outputId": "1c5ef75e-8409-4c73-bf27-ec9795ba4335"
      },
      "source": [
        "X_train_yes, X_test_yes, y_train_yes, y_test_yes = train_test_split(\r\n",
        "            X,\r\n",
        "            y_yes,\r\n",
        "            test_size = 0.2,\r\n",
        "            random_state = 508)\r\n",
        "\r\n",
        "RF_fit_yes = RF.fit(X_train_yes, y_train_yes)\r\n",
        "\r\n",
        "print('Training Score', RF_fit_yes.score(X_train_yes, y_train_yes).round(7))\r\n",
        "print('Testing Score:', RF_fit_yes.score(X_test_yes, y_test_yes).round(7))\r\n",
        "print()\r\n",
        "\r\n",
        "yes_predict = RF_fit_yes.predict(X_test_yes) \r\n",
        "print(classification_report(y_test_yes, yes_predict)) "
      ],
      "execution_count": null,
      "outputs": [
        {
          "output_type": "stream",
          "text": [
            "Training Score 0.7795432\n",
            "Testing Score: 0.7777778\n",
            "\n",
            "              precision    recall  f1-score   support\n",
            "\n",
            "           0       0.80      0.82      0.81       144\n",
            "           1       0.75      0.72      0.74       108\n",
            "\n",
            "    accuracy                           0.78       252\n",
            "   macro avg       0.77      0.77      0.77       252\n",
            "weighted avg       0.78      0.78      0.78       252\n",
            "\n"
          ],
          "name": "stdout"
        }
      ]
    },
    {
      "cell_type": "code",
      "metadata": {
        "id": "CV49r3Zcz2ho"
      },
      "source": [
        "ftr_imp = RF_fit_yes.feature_importances_\n",
        "ftrs = X_train_yes.columns\n",
        "ftrs_gen = ftrs.str.rsplit('_', 1).str.get(0)"
      ],
      "execution_count": null,
      "outputs": []
    },
    {
      "cell_type": "code",
      "metadata": {
        "id": "J6QfxoZd6oo2"
      },
      "source": [
        "ftrs_df = pd.DataFrame(\n",
        "    {'Original_Column': ftrs_gen,\n",
        "     #'Bucketed Column': ftrs,\n",
        "     'Feature_Importance': ftr_imp\n",
        "    })"
      ],
      "execution_count": null,
      "outputs": []
    },
    {
      "cell_type": "code",
      "metadata": {
        "colab": {
          "base_uri": "https://localhost:8080/"
        },
        "id": "HjIzf7GK5DQN",
        "outputId": "26eb97d9-4e7c-4b0a-859d-2e6e97e4bd7c"
      },
      "source": [
        "grouped = ftrs_df.groupby(['Original_Column']).sum().reset_index().head(10)\n",
        "#ftrs_df['Original Column'].value_counts()\n",
        "grouped.sort_values(by='Feature_Importance', ascending=False).head(5)"
      ],
      "execution_count": null,
      "outputs": [
        {
          "output_type": "execute_result",
          "data": {
            "text/html": [
              "<div>\n",
              "<style scoped>\n",
              "    .dataframe tbody tr th:only-of-type {\n",
              "        vertical-align: middle;\n",
              "    }\n",
              "\n",
              "    .dataframe tbody tr th {\n",
              "        vertical-align: top;\n",
              "    }\n",
              "\n",
              "    .dataframe thead th {\n",
              "        text-align: right;\n",
              "    }\n",
              "</style>\n",
              "<table border=\"1\" class=\"dataframe\">\n",
              "  <thead>\n",
              "    <tr style=\"text-align: right;\">\n",
              "      <th></th>\n",
              "      <th>Original_Column</th>\n",
              "      <th>Feature_Importance</th>\n",
              "    </tr>\n",
              "  </thead>\n",
              "  <tbody>\n",
              "    <tr>\n",
              "      <th>8</th>\n",
              "      <td>mental_health_consequence</td>\n",
              "      <td>0.444921</td>\n",
              "    </tr>\n",
              "    <tr>\n",
              "      <th>9</th>\n",
              "      <td>mental_vs_physical</td>\n",
              "      <td>0.129960</td>\n",
              "    </tr>\n",
              "    <tr>\n",
              "      <th>0</th>\n",
              "      <td>Age</td>\n",
              "      <td>0.047588</td>\n",
              "    </tr>\n",
              "    <tr>\n",
              "      <th>7</th>\n",
              "      <td>leave</td>\n",
              "      <td>0.043240</td>\n",
              "    </tr>\n",
              "    <tr>\n",
              "      <th>2</th>\n",
              "      <td>anonymity</td>\n",
              "      <td>0.030094</td>\n",
              "    </tr>\n",
              "  </tbody>\n",
              "</table>\n",
              "</div>"
            ],
            "text/plain": [
              "             Original_Column  Feature_Importance\n",
              "8  mental_health_consequence            0.444921\n",
              "9         mental_vs_physical            0.129960\n",
              "0                        Age            0.047588\n",
              "7                      leave            0.043240\n",
              "2                  anonymity            0.030094"
            ]
          },
          "metadata": {
            "tags": []
          },
          "execution_count": 72
        }
      ]
    },
    {
      "cell_type": "code",
      "metadata": {
        "colab": {
          "base_uri": "https://localhost:8080/"
        },
        "id": "s4cqp2p_5UFD",
        "outputId": "a34e517b-be59-4991-e6b6-b5d2b2296640"
      },
      "source": [
        "grouped.sort_values(by='Feature_Importance', ascending=False).tail(5)"
      ],
      "execution_count": null,
      "outputs": [
        {
          "output_type": "execute_result",
          "data": {
            "text/html": [
              "<div>\n",
              "<style scoped>\n",
              "    .dataframe tbody tr th:only-of-type {\n",
              "        vertical-align: middle;\n",
              "    }\n",
              "\n",
              "    .dataframe tbody tr th {\n",
              "        vertical-align: top;\n",
              "    }\n",
              "\n",
              "    .dataframe thead th {\n",
              "        text-align: right;\n",
              "    }\n",
              "</style>\n",
              "<table border=\"1\" class=\"dataframe\">\n",
              "  <thead>\n",
              "    <tr style=\"text-align: right;\">\n",
              "      <th></th>\n",
              "      <th>Original_Column</th>\n",
              "      <th>Feature_Importance</th>\n",
              "    </tr>\n",
              "  </thead>\n",
              "  <tbody>\n",
              "    <tr>\n",
              "      <th>1</th>\n",
              "      <td>Gender</td>\n",
              "      <td>0.017018</td>\n",
              "    </tr>\n",
              "    <tr>\n",
              "      <th>5</th>\n",
              "      <td>country_bucket</td>\n",
              "      <td>0.014821</td>\n",
              "    </tr>\n",
              "    <tr>\n",
              "      <th>6</th>\n",
              "      <td>family_history</td>\n",
              "      <td>0.014580</td>\n",
              "    </tr>\n",
              "    <tr>\n",
              "      <th>4</th>\n",
              "      <td>care_options</td>\n",
              "      <td>0.011414</td>\n",
              "    </tr>\n",
              "    <tr>\n",
              "      <th>3</th>\n",
              "      <td>benefits</td>\n",
              "      <td>0.011035</td>\n",
              "    </tr>\n",
              "  </tbody>\n",
              "</table>\n",
              "</div>"
            ],
            "text/plain": [
              "  Original_Column  Feature_Importance\n",
              "1          Gender            0.017018\n",
              "5  country_bucket            0.014821\n",
              "6  family_history            0.014580\n",
              "4    care_options            0.011414\n",
              "3        benefits            0.011035"
            ]
          },
          "metadata": {
            "tags": []
          },
          "execution_count": 73
        }
      ]
    },
    {
      "cell_type": "code",
      "metadata": {
        "id": "qG5ATB2W5Dwf",
        "colab": {
          "base_uri": "https://localhost:8080/"
        },
        "outputId": "9b35f226-fbbc-4ba3-afa3-655640d8bbd5"
      },
      "source": [
        "ftrs_df"
      ],
      "execution_count": null,
      "outputs": [
        {
          "output_type": "execute_result",
          "data": {
            "text/html": [
              "<div>\n",
              "<style scoped>\n",
              "    .dataframe tbody tr th:only-of-type {\n",
              "        vertical-align: middle;\n",
              "    }\n",
              "\n",
              "    .dataframe tbody tr th {\n",
              "        vertical-align: top;\n",
              "    }\n",
              "\n",
              "    .dataframe thead th {\n",
              "        text-align: right;\n",
              "    }\n",
              "</style>\n",
              "<table border=\"1\" class=\"dataframe\">\n",
              "  <thead>\n",
              "    <tr style=\"text-align: right;\">\n",
              "      <th></th>\n",
              "      <th>Original_Column</th>\n",
              "      <th>Feature_Importance</th>\n",
              "    </tr>\n",
              "  </thead>\n",
              "  <tbody>\n",
              "    <tr>\n",
              "      <th>0</th>\n",
              "      <td>Age</td>\n",
              "      <td>0.047588</td>\n",
              "    </tr>\n",
              "    <tr>\n",
              "      <th>1</th>\n",
              "      <td>Gender</td>\n",
              "      <td>0.006901</td>\n",
              "    </tr>\n",
              "    <tr>\n",
              "      <th>2</th>\n",
              "      <td>Gender</td>\n",
              "      <td>0.010059</td>\n",
              "    </tr>\n",
              "    <tr>\n",
              "      <th>3</th>\n",
              "      <td>Gender</td>\n",
              "      <td>0.000058</td>\n",
              "    </tr>\n",
              "    <tr>\n",
              "      <th>4</th>\n",
              "      <td>self_employed</td>\n",
              "      <td>0.003878</td>\n",
              "    </tr>\n",
              "    <tr>\n",
              "      <th>5</th>\n",
              "      <td>self_employed</td>\n",
              "      <td>0.002629</td>\n",
              "    </tr>\n",
              "    <tr>\n",
              "      <th>6</th>\n",
              "      <td>family_history</td>\n",
              "      <td>0.007195</td>\n",
              "    </tr>\n",
              "    <tr>\n",
              "      <th>7</th>\n",
              "      <td>family_history</td>\n",
              "      <td>0.007385</td>\n",
              "    </tr>\n",
              "    <tr>\n",
              "      <th>8</th>\n",
              "      <td>treatment</td>\n",
              "      <td>0.006085</td>\n",
              "    </tr>\n",
              "    <tr>\n",
              "      <th>9</th>\n",
              "      <td>treatment</td>\n",
              "      <td>0.009589</td>\n",
              "    </tr>\n",
              "    <tr>\n",
              "      <th>10</th>\n",
              "      <td>work_interfere</td>\n",
              "      <td>0.004771</td>\n",
              "    </tr>\n",
              "    <tr>\n",
              "      <th>11</th>\n",
              "      <td>work_interfere</td>\n",
              "      <td>0.007941</td>\n",
              "    </tr>\n",
              "    <tr>\n",
              "      <th>12</th>\n",
              "      <td>work_interfere</td>\n",
              "      <td>0.003528</td>\n",
              "    </tr>\n",
              "    <tr>\n",
              "      <th>13</th>\n",
              "      <td>work_interfere</td>\n",
              "      <td>0.002733</td>\n",
              "    </tr>\n",
              "    <tr>\n",
              "      <th>14</th>\n",
              "      <td>work_interfere</td>\n",
              "      <td>0.013994</td>\n",
              "    </tr>\n",
              "    <tr>\n",
              "      <th>15</th>\n",
              "      <td>no_employees</td>\n",
              "      <td>0.002788</td>\n",
              "    </tr>\n",
              "    <tr>\n",
              "      <th>16</th>\n",
              "      <td>no_employees</td>\n",
              "      <td>0.011632</td>\n",
              "    </tr>\n",
              "    <tr>\n",
              "      <th>17</th>\n",
              "      <td>no_employees</td>\n",
              "      <td>0.008057</td>\n",
              "    </tr>\n",
              "    <tr>\n",
              "      <th>18</th>\n",
              "      <td>no_employees</td>\n",
              "      <td>0.003641</td>\n",
              "    </tr>\n",
              "    <tr>\n",
              "      <th>19</th>\n",
              "      <td>no_employees</td>\n",
              "      <td>0.000725</td>\n",
              "    </tr>\n",
              "    <tr>\n",
              "      <th>20</th>\n",
              "      <td>no_employees</td>\n",
              "      <td>0.008726</td>\n",
              "    </tr>\n",
              "    <tr>\n",
              "      <th>21</th>\n",
              "      <td>remote_work</td>\n",
              "      <td>0.006021</td>\n",
              "    </tr>\n",
              "    <tr>\n",
              "      <th>22</th>\n",
              "      <td>remote_work</td>\n",
              "      <td>0.005657</td>\n",
              "    </tr>\n",
              "    <tr>\n",
              "      <th>23</th>\n",
              "      <td>tech_company</td>\n",
              "      <td>0.003874</td>\n",
              "    </tr>\n",
              "    <tr>\n",
              "      <th>24</th>\n",
              "      <td>tech_company</td>\n",
              "      <td>0.004672</td>\n",
              "    </tr>\n",
              "    <tr>\n",
              "      <th>25</th>\n",
              "      <td>benefits</td>\n",
              "      <td>0.005475</td>\n",
              "    </tr>\n",
              "    <tr>\n",
              "      <th>26</th>\n",
              "      <td>benefits</td>\n",
              "      <td>0.005560</td>\n",
              "    </tr>\n",
              "    <tr>\n",
              "      <th>27</th>\n",
              "      <td>care_options</td>\n",
              "      <td>0.005198</td>\n",
              "    </tr>\n",
              "    <tr>\n",
              "      <th>28</th>\n",
              "      <td>care_options</td>\n",
              "      <td>0.006216</td>\n",
              "    </tr>\n",
              "    <tr>\n",
              "      <th>29</th>\n",
              "      <td>wellness_program</td>\n",
              "      <td>0.004048</td>\n",
              "    </tr>\n",
              "    <tr>\n",
              "      <th>30</th>\n",
              "      <td>wellness_program</td>\n",
              "      <td>0.005536</td>\n",
              "    </tr>\n",
              "    <tr>\n",
              "      <th>31</th>\n",
              "      <td>seek_help</td>\n",
              "      <td>0.005092</td>\n",
              "    </tr>\n",
              "    <tr>\n",
              "      <th>32</th>\n",
              "      <td>seek_help</td>\n",
              "      <td>0.004361</td>\n",
              "    </tr>\n",
              "    <tr>\n",
              "      <th>33</th>\n",
              "      <td>anonymity</td>\n",
              "      <td>0.020166</td>\n",
              "    </tr>\n",
              "    <tr>\n",
              "      <th>34</th>\n",
              "      <td>anonymity</td>\n",
              "      <td>0.009928</td>\n",
              "    </tr>\n",
              "    <tr>\n",
              "      <th>35</th>\n",
              "      <td>leave</td>\n",
              "      <td>0.003117</td>\n",
              "    </tr>\n",
              "    <tr>\n",
              "      <th>36</th>\n",
              "      <td>leave</td>\n",
              "      <td>0.016974</td>\n",
              "    </tr>\n",
              "    <tr>\n",
              "      <th>37</th>\n",
              "      <td>leave</td>\n",
              "      <td>0.007024</td>\n",
              "    </tr>\n",
              "    <tr>\n",
              "      <th>38</th>\n",
              "      <td>leave</td>\n",
              "      <td>0.016125</td>\n",
              "    </tr>\n",
              "    <tr>\n",
              "      <th>39</th>\n",
              "      <td>mental_health_consequence</td>\n",
              "      <td>0.066655</td>\n",
              "    </tr>\n",
              "    <tr>\n",
              "      <th>40</th>\n",
              "      <td>mental_health_consequence</td>\n",
              "      <td>0.267035</td>\n",
              "    </tr>\n",
              "    <tr>\n",
              "      <th>41</th>\n",
              "      <td>mental_health_consequence</td>\n",
              "      <td>0.111230</td>\n",
              "    </tr>\n",
              "    <tr>\n",
              "      <th>42</th>\n",
              "      <td>phys_health_consequence</td>\n",
              "      <td>0.030946</td>\n",
              "    </tr>\n",
              "    <tr>\n",
              "      <th>43</th>\n",
              "      <td>phys_health_consequence</td>\n",
              "      <td>0.059542</td>\n",
              "    </tr>\n",
              "    <tr>\n",
              "      <th>44</th>\n",
              "      <td>phys_health_consequence</td>\n",
              "      <td>0.010204</td>\n",
              "    </tr>\n",
              "    <tr>\n",
              "      <th>45</th>\n",
              "      <td>mental_vs_physical</td>\n",
              "      <td>0.055514</td>\n",
              "    </tr>\n",
              "    <tr>\n",
              "      <th>46</th>\n",
              "      <td>mental_vs_physical</td>\n",
              "      <td>0.074446</td>\n",
              "    </tr>\n",
              "    <tr>\n",
              "      <th>47</th>\n",
              "      <td>obs_consequence</td>\n",
              "      <td>0.002252</td>\n",
              "    </tr>\n",
              "    <tr>\n",
              "      <th>48</th>\n",
              "      <td>obs_consequence</td>\n",
              "      <td>0.002409</td>\n",
              "    </tr>\n",
              "    <tr>\n",
              "      <th>49</th>\n",
              "      <td>country_bucket</td>\n",
              "      <td>0.004934</td>\n",
              "    </tr>\n",
              "    <tr>\n",
              "      <th>50</th>\n",
              "      <td>country_bucket</td>\n",
              "      <td>0.008325</td>\n",
              "    </tr>\n",
              "    <tr>\n",
              "      <th>51</th>\n",
              "      <td>country_bucket</td>\n",
              "      <td>0.001562</td>\n",
              "    </tr>\n",
              "  </tbody>\n",
              "</table>\n",
              "</div>"
            ],
            "text/plain": [
              "              Original_Column  Feature_Importance\n",
              "0                         Age            0.047588\n",
              "1                      Gender            0.006901\n",
              "2                      Gender            0.010059\n",
              "3                      Gender            0.000058\n",
              "4               self_employed            0.003878\n",
              "5               self_employed            0.002629\n",
              "6              family_history            0.007195\n",
              "7              family_history            0.007385\n",
              "8                   treatment            0.006085\n",
              "9                   treatment            0.009589\n",
              "10             work_interfere            0.004771\n",
              "11             work_interfere            0.007941\n",
              "12             work_interfere            0.003528\n",
              "13             work_interfere            0.002733\n",
              "14             work_interfere            0.013994\n",
              "15               no_employees            0.002788\n",
              "16               no_employees            0.011632\n",
              "17               no_employees            0.008057\n",
              "18               no_employees            0.003641\n",
              "19               no_employees            0.000725\n",
              "20               no_employees            0.008726\n",
              "21                remote_work            0.006021\n",
              "22                remote_work            0.005657\n",
              "23               tech_company            0.003874\n",
              "24               tech_company            0.004672\n",
              "25                   benefits            0.005475\n",
              "26                   benefits            0.005560\n",
              "27               care_options            0.005198\n",
              "28               care_options            0.006216\n",
              "29           wellness_program            0.004048\n",
              "30           wellness_program            0.005536\n",
              "31                  seek_help            0.005092\n",
              "32                  seek_help            0.004361\n",
              "33                  anonymity            0.020166\n",
              "34                  anonymity            0.009928\n",
              "35                      leave            0.003117\n",
              "36                      leave            0.016974\n",
              "37                      leave            0.007024\n",
              "38                      leave            0.016125\n",
              "39  mental_health_consequence            0.066655\n",
              "40  mental_health_consequence            0.267035\n",
              "41  mental_health_consequence            0.111230\n",
              "42    phys_health_consequence            0.030946\n",
              "43    phys_health_consequence            0.059542\n",
              "44    phys_health_consequence            0.010204\n",
              "45         mental_vs_physical            0.055514\n",
              "46         mental_vs_physical            0.074446\n",
              "47            obs_consequence            0.002252\n",
              "48            obs_consequence            0.002409\n",
              "49             country_bucket            0.004934\n",
              "50             country_bucket            0.008325\n",
              "51             country_bucket            0.001562"
            ]
          },
          "metadata": {
            "tags": []
          },
          "execution_count": 74
        }
      ]
    },
    {
      "cell_type": "markdown",
      "metadata": {
        "id": "IOBdaqtdHDgt"
      },
      "source": [
        "#### *iii) Training & Testing Model on 'Some of them' Label of Supervisor*"
      ]
    },
    {
      "cell_type": "code",
      "metadata": {
        "colab": {
          "base_uri": "https://localhost:8080/"
        },
        "id": "mjclX07_F91Z",
        "outputId": "388d8718-5845-4b6c-baf6-a8f94bd61f31"
      },
      "source": [
        "X_train_some, X_test_some, y_train_some, y_test_some = train_test_split(\r\n",
        "            X,\r\n",
        "            y_some,\r\n",
        "            test_size = 0.2,\r\n",
        "            random_state = 508)\r\n",
        "\r\n",
        "RF_fit_some = RF.fit(X_train_some, y_train_some)\r\n",
        "\r\n",
        "print('Training Score', RF_fit_some.score(X_train_some, y_train_some).round(7))\r\n",
        "print('Testing Score:', RF_fit_some.score(X_test_some, y_test_some).round(7))\r\n",
        "print()\r\n",
        "\r\n",
        "some_predict = RF_fit_some.predict(X_test_some) \r\n",
        "print(classification_report(y_test_some, some_predict)) "
      ],
      "execution_count": null,
      "outputs": [
        {
          "output_type": "stream",
          "text": [
            "Training Score 0.7437934\n",
            "Testing Score: 0.6825397\n",
            "\n",
            "              precision    recall  f1-score   support\n",
            "\n",
            "           0       0.68      1.00      0.81       172\n",
            "           1       0.00      0.00      0.00        80\n",
            "\n",
            "    accuracy                           0.68       252\n",
            "   macro avg       0.34      0.50      0.41       252\n",
            "weighted avg       0.47      0.68      0.55       252\n",
            "\n"
          ],
          "name": "stdout"
        },
        {
          "output_type": "stream",
          "text": [
            "/usr/local/lib/python3.6/dist-packages/sklearn/metrics/_classification.py:1272: UndefinedMetricWarning:\n",
            "\n",
            "Precision and F-score are ill-defined and being set to 0.0 in labels with no predicted samples. Use `zero_division` parameter to control this behavior.\n",
            "\n"
          ],
          "name": "stderr"
        }
      ]
    },
    {
      "cell_type": "markdown",
      "metadata": {
        "id": "99C13b9yFD0h"
      },
      "source": [
        "#### *iv) Training & Testing Model on 'No' Label of Supervisor*"
      ]
    },
    {
      "cell_type": "code",
      "metadata": {
        "colab": {
          "base_uri": "https://localhost:8080/"
        },
        "id": "fDkhWtVdHOmQ",
        "outputId": "5c07dfa7-0146-435f-b6c5-131dab9c85a9"
      },
      "source": [
        "X_train_no, X_test_no, y_train_no, y_test_no = train_test_split(\r\n",
        "            X,\r\n",
        "            y_no,\r\n",
        "            test_size = 0.2,\r\n",
        "            random_state = 508)\r\n",
        "\r\n",
        "RF_fit_no = RF.fit(X_train_no, y_train_no)\r\n",
        "\r\n",
        "print('Training Score', RF_fit_no.score(X_train_no, y_train_no).round(7))\r\n",
        "print('Testing Score:', RF_fit_no.score(X_test_no, y_test_no).round(7))\r\n",
        "print()\r\n",
        "\r\n",
        "no_predict = RF_fit_no.predict(X_test_no) \r\n",
        "print(classification_report(y_test_no, no_predict)) "
      ],
      "execution_count": null,
      "outputs": [
        {
          "output_type": "stream",
          "text": [
            "Training Score 0.7934459\n",
            "Testing Score: 0.7936508\n",
            "\n",
            "              precision    recall  f1-score   support\n",
            "\n",
            "           0       0.82      0.92      0.87       188\n",
            "           1       0.64      0.42      0.51        64\n",
            "\n",
            "    accuracy                           0.79       252\n",
            "   macro avg       0.73      0.67      0.69       252\n",
            "weighted avg       0.78      0.79      0.78       252\n",
            "\n"
          ],
          "name": "stdout"
        }
      ]
    },
    {
      "cell_type": "markdown",
      "metadata": {
        "id": "S7bPUtzTfqcc"
      },
      "source": [
        "#### *v) ROC Curves*"
      ]
    },
    {
      "cell_type": "code",
      "metadata": {
        "colab": {
          "base_uri": "https://localhost:8080/"
        },
        "id": "xfQCclwLfnFC",
        "outputId": "e57a39a5-2aa8-4c29-bde2-bdc2b67d9fe8"
      },
      "source": [
        "ax = plt.gca()\r\n",
        "ax.plot([0,1], [0,1], linestyle = '--', lw=2, color= 'black', label = 'Chance', alpha = .8)\r\n",
        "ax.legend(loc = 'lower right')\r\n",
        "roc_disp_yes = skmet.plot_roc_curve(RF_fit_yes, X_test_yes, y_test_yes, ax = ax, alpha=.8, name = 'RFC for \"Yes\" Response')\r\n",
        "roc_disp_some = skmet.plot_roc_curve(RF_fit_some, X_test_some, y_test_some, ax = ax, alpha=.8, name = 'RFC for \"Some of them\" Response')\r\n",
        "roc_disp_no = skmet.plot_roc_curve(RF_fit_no, X_test_no, y_test_no, ax = ax, alpha=.8, name = 'RFC for \"No\" Response')\r\n",
        "plt.title(\"ROC curves of Model on the Different Supervisor Labels\")\r\n",
        "plt.show()"
      ],
      "execution_count": null,
      "outputs": [
        {
          "output_type": "display_data",
          "data": {
            "image/png": "[encoded data removed]",
            "text/plain": [
              "<Figure size 432x288 with 1 Axes>"
            ]
          },
          "metadata": {
            "tags": [],
            "needs_background": "light"
          }
        }
      ]
    },
    {
      "cell_type": "markdown",
      "metadata": {
        "id": "6J1m-rzwNPRp"
      },
      "source": [
        "### ***b) Feature Importance of Each Class's Model Fit***"
      ]
    },
    {
      "cell_type": "markdown",
      "metadata": {
        "id": "df8Xx_02OBBi"
      },
      "source": [
        "In order to ensure that all model's were correctly trained on the same dataset, we will plot the feature importance, as determined by the mean decrease in Gini Index of the Random Forest Classifier fit, for each class's model train."
      ]
    },
    {
      "cell_type": "code",
      "metadata": {
        "id": "TB1UQNHJNJ9R"
      },
      "source": [
        "def plot_feature_importances(model, train = X_train_yes):\n",
        "    n_features = train.shape[1]\n",
        "    fi = model.feature_importances_ #[::-1]\n",
        "    fig = px.bar(X_train_yes, fi, y=X_train_yes.columns, orientation='h', title=\"Feature Importances of Model Features\").update_yaxes(categoryorder=\"total ascending\")\n",
        "    fig.update_layout(xaxis=dict(title=\"Feature Importance\"), yaxis=dict(title=\"Feature\"))\n",
        "    fig.update_layout(xaxis={'categoryorder':'total descending'})\n",
        "    fig.show()"
      ],
      "execution_count": null,
      "outputs": []
    },
    {
      "cell_type": "code",
      "metadata": {
        "colab": {
          "base_uri": "https://localhost:8080/"
        },
        "id": "6ghUqHJRNVjs",
        "outputId": "fb18032c-496e-4707-ab22-65ba8876c211"
      },
      "source": [
        "plot_feature_importances(RF_fit_yes, train = X_train_yes)"
      ],
      "execution_count": null,
      "outputs": [
        {
          "output_type": "display_data",
          "data": {
            "text/html": [
              "<html>\n",
              "<head><meta charset=\"utf-8\" /></head>\n",
              "<body>\n",
              "    <div>\n",
              "            <script src=\"https://cdnjs.cloudflare.com/ajax/libs/mathjax/2.7.5/MathJax.js?config=TeX-AMS-MML_SVG\"></script><script type=\"text/javascript\">if (window.MathJax) {MathJax.Hub.Config({SVG: {font: \"STIX-Web\"}});}</script>\n",
              "                <script type=\"text/javascript\">window.PlotlyConfig = {MathJaxConfig: 'local'};</script>\n",
              "        <script src=\"https://cdn.plot.ly/plotly-latest.min.js\"></script>    \n",
              "            <div id=\"39814754-7f90-44d1-a618-54458a069395\" class=\"plotly-graph-div\" style=\"height:525px; width:100%;\"></div>\n",
              "            <script type=\"text/javascript\">\n",
              "                \n",
              "                    window.PLOTLYENV=window.PLOTLYENV || {};\n",
              "                    \n",
              "                if (document.getElementById(\"39814754-7f90-44d1-a618-54458a069395\")) {\n",
              "                    Plotly.newPlot(\n",
              "                        '39814754-7f90-44d1-a618-54458a069395',\n",
              "                        [{\"alignmentgroup\": \"True\", \"hoverlabel\": {\"namelength\": 0}, \"hovertemplate\": \"x=%{x}<br>y=%{y}\", \"legendgroup\": \"\", \"marker\": {\"color\": \"#636efa\"}, \"name\": \"\", \"offsetgroup\": \"\", \"orientation\": \"h\", \"showlegend\": false, \"textposition\": \"auto\", \"type\": \"bar\", \"x\": [0.04788563984249787, 0.005075286937816553, 0.0057645783775240565, 0.00019939180919803978, 0.0016283133569059175, 0.0015417270086554825, 0.008652761942850034, 0.009359048615151593, 0.010859964188066529, 0.011413727991390562, 0.006011370107705334, 0.004623844544933343, 0.0028564065390196233, 0.005462041266448879, 0.011635636932247078, 0.001932102958588034, 0.005983628413631417, 0.005229112388353302, 0.0056386074104661415, 0.0004051032465157156, 0.00991230938100099, 0.008179140846281557, 0.007413840521094531, 0.004498594213435763, 0.003292891623350997, 0.006577539782615793, 0.006184357488888707, 0.012078055043893634, 0.013546228086144082, 0.0036073085619471755, 0.005520510194906644, 0.0042212599980029734, 0.0052324770103856005, 0.01444306394679259, 0.009246852550212206, 0.009556842963106814, 0.03722961872726423, 0.016017236624351276, 0.019199290949289852, 0.06431991853800545, 0.19732265334548355, 0.20035066266434007, 0.012098626610848233, 0.04233257531161142, 0.016823526954372184, 0.03550493714021652, 0.05701213403755987, 0.0031536460330307057, 0.003925825615408726, 0.007073152378999964, 0.011401704515906216, 0.0005649244632862152], \"xaxis\": \"x\", \"y\": [\"Age\", \"Gender_female\", \"Gender_male\", \"Gender_other\", \"self_employed_No\", \"self_employed_Yes\", \"family_history_No\", \"family_history_Yes\", \"treatment_No\", \"treatment_Yes\", \"work_interfere_Never\", \"work_interfere_No Response\", \"work_interfere_Often\", \"work_interfere_Rarely\", \"work_interfere_Sometimes\", \"no_employees_1-5\", \"no_employees_6-25\", \"no_employees_26-100\", \"no_employees_100-500\", \"no_employees_500-1000\", \"no_employees_More than 1000\", \"remote_work_No\", \"remote_work_Yes\", \"tech_company_No\", \"tech_company_Yes\", \"benefits_No\", \"benefits_Yes\", \"care_options_No\", \"care_options_Yes\", \"wellness_program_No\", \"wellness_program_Yes\", \"seek_help_No\", \"seek_help_Yes\", \"anonymity_No\", \"anonymity_Yes\", \"leave_Very difficult\", \"leave_Somewhat difficult\", \"leave_Somewhat easy\", \"leave_Very easy\", \"mental_health_consequence_Maybe\", \"mental_health_consequence_No\", \"mental_health_consequence_Yes\", \"phys_health_consequence_Maybe\", \"phys_health_consequence_No\", \"phys_health_consequence_Yes\", \"mental_vs_physical_No\", \"mental_vs_physical_Yes\", \"obs_consequence_No\", \"obs_consequence_Yes\", \"country_bucket_Europe\", \"country_bucket_North America\", \"country_bucket_Other\"], \"yaxis\": \"y\"}],\n",
              "                        {\"barmode\": \"relative\", \"legend\": {\"tracegroupgap\": 0}, \"template\": {\"data\": {\"bar\": [{\"error_x\": {\"color\": \"#2a3f5f\"}, \"error_y\": {\"color\": \"#2a3f5f\"}, \"marker\": {\"line\": {\"color\": \"#E5ECF6\", \"width\": 0.5}}, \"type\": \"bar\"}], \"barpolar\": [{\"marker\": {\"line\": {\"color\": \"#E5ECF6\", \"width\": 0.5}}, \"type\": \"barpolar\"}], \"carpet\": [{\"aaxis\": {\"endlinecolor\": \"#2a3f5f\", \"gridcolor\": \"white\", \"linecolor\": \"white\", \"minorgridcolor\": \"white\", \"startlinecolor\": \"#2a3f5f\"}, \"baxis\": {\"endlinecolor\": \"#2a3f5f\", \"gridcolor\": \"white\", \"linecolor\": \"white\", \"minorgridcolor\": \"white\", \"startlinecolor\": \"#2a3f5f\"}, \"type\": \"carpet\"}], \"choropleth\": [{\"colorbar\": {\"outlinewidth\": 0, \"ticks\": \"\"}, \"type\": \"choropleth\"}], \"contour\": [{\"colorbar\": {\"outlinewidth\": 0, \"ticks\": \"\"}, \"colorscale\": [[0.0, \"#0d0887\"], [0.1111111111111111, \"#46039f\"], [0.2222222222222222, \"#7201a8\"], [0.3333333333333333, \"#9c179e\"], [0.4444444444444444, \"#bd3786\"], [0.5555555555555556, \"#d8576b\"], [0.6666666666666666, \"#ed7953\"], [0.7777777777777778, \"#fb9f3a\"], [0.8888888888888888, \"#fdca26\"], [1.0, \"#f0f921\"]], \"type\": \"contour\"}], \"contourcarpet\": [{\"colorbar\": {\"outlinewidth\": 0, \"ticks\": \"\"}, \"type\": \"contourcarpet\"}], \"heatmap\": [{\"colorbar\": {\"outlinewidth\": 0, \"ticks\": \"\"}, \"colorscale\": [[0.0, \"#0d0887\"], [0.1111111111111111, \"#46039f\"], [0.2222222222222222, \"#7201a8\"], [0.3333333333333333, \"#9c179e\"], [0.4444444444444444, \"#bd3786\"], [0.5555555555555556, \"#d8576b\"], [0.6666666666666666, \"#ed7953\"], [0.7777777777777778, \"#fb9f3a\"], [0.8888888888888888, \"#fdca26\"], [1.0, \"#f0f921\"]], \"type\": \"heatmap\"}], \"heatmapgl\": [{\"colorbar\": {\"outlinewidth\": 0, \"ticks\": \"\"}, \"colorscale\": [[0.0, \"#0d0887\"], [0.1111111111111111, \"#46039f\"], [0.2222222222222222, \"#7201a8\"], [0.3333333333333333, \"#9c179e\"], [0.4444444444444444, \"#bd3786\"], [0.5555555555555556, \"#d8576b\"], [0.6666666666666666, \"#ed7953\"], [0.7777777777777778, \"#fb9f3a\"], [0.8888888888888888, \"#fdca26\"], [1.0, \"#f0f921\"]], \"type\": \"heatmapgl\"}], \"histogram\": [{\"marker\": {\"colorbar\": {\"outlinewidth\": 0, \"ticks\": \"\"}}, \"type\": \"histogram\"}], \"histogram2d\": [{\"colorbar\": {\"outlinewidth\": 0, \"ticks\": \"\"}, \"colorscale\": [[0.0, \"#0d0887\"], [0.1111111111111111, \"#46039f\"], [0.2222222222222222, \"#7201a8\"], [0.3333333333333333, \"#9c179e\"], [0.4444444444444444, \"#bd3786\"], [0.5555555555555556, \"#d8576b\"], [0.6666666666666666, \"#ed7953\"], [0.7777777777777778, \"#fb9f3a\"], [0.8888888888888888, \"#fdca26\"], [1.0, \"#f0f921\"]], \"type\": \"histogram2d\"}], \"histogram2dcontour\": [{\"colorbar\": {\"outlinewidth\": 0, \"ticks\": \"\"}, \"colorscale\": [[0.0, \"#0d0887\"], [0.1111111111111111, \"#46039f\"], [0.2222222222222222, \"#7201a8\"], [0.3333333333333333, \"#9c179e\"], [0.4444444444444444, \"#bd3786\"], [0.5555555555555556, \"#d8576b\"], [0.6666666666666666, \"#ed7953\"], [0.7777777777777778, \"#fb9f3a\"], [0.8888888888888888, \"#fdca26\"], [1.0, \"#f0f921\"]], \"type\": \"histogram2dcontour\"}], \"mesh3d\": [{\"colorbar\": {\"outlinewidth\": 0, \"ticks\": \"\"}, \"type\": \"mesh3d\"}], \"parcoords\": [{\"line\": {\"colorbar\": {\"outlinewidth\": 0, \"ticks\": \"\"}}, \"type\": \"parcoords\"}], \"pie\": [{\"automargin\": true, \"type\": \"pie\"}], \"scatter\": [{\"marker\": {\"colorbar\": {\"outlinewidth\": 0, \"ticks\": \"\"}}, \"type\": \"scatter\"}], \"scatter3d\": [{\"line\": {\"colorbar\": {\"outlinewidth\": 0, \"ticks\": \"\"}}, \"marker\": {\"colorbar\": {\"outlinewidth\": 0, \"ticks\": \"\"}}, \"type\": \"scatter3d\"}], \"scattercarpet\": [{\"marker\": {\"colorbar\": {\"outlinewidth\": 0, \"ticks\": \"\"}}, \"type\": \"scattercarpet\"}], \"scattergeo\": [{\"marker\": {\"colorbar\": {\"outlinewidth\": 0, \"ticks\": \"\"}}, \"type\": \"scattergeo\"}], \"scattergl\": [{\"marker\": {\"colorbar\": {\"outlinewidth\": 0, \"ticks\": \"\"}}, \"type\": \"scattergl\"}], \"scattermapbox\": [{\"marker\": {\"colorbar\": {\"outlinewidth\": 0, \"ticks\": \"\"}}, \"type\": \"scattermapbox\"}], \"scatterpolar\": [{\"marker\": {\"colorbar\": {\"outlinewidth\": 0, \"ticks\": \"\"}}, \"type\": \"scatterpolar\"}], \"scatterpolargl\": [{\"marker\": {\"colorbar\": {\"outlinewidth\": 0, \"ticks\": \"\"}}, \"type\": \"scatterpolargl\"}], \"scatterternary\": [{\"marker\": {\"colorbar\": {\"outlinewidth\": 0, \"ticks\": \"\"}}, \"type\": \"scatterternary\"}], \"surface\": [{\"colorbar\": {\"outlinewidth\": 0, \"ticks\": \"\"}, \"colorscale\": [[0.0, \"#0d0887\"], [0.1111111111111111, \"#46039f\"], [0.2222222222222222, \"#7201a8\"], [0.3333333333333333, \"#9c179e\"], [0.4444444444444444, \"#bd3786\"], [0.5555555555555556, \"#d8576b\"], [0.6666666666666666, \"#ed7953\"], [0.7777777777777778, \"#fb9f3a\"], [0.8888888888888888, \"#fdca26\"], [1.0, \"#f0f921\"]], \"type\": \"surface\"}], \"table\": [{\"cells\": {\"fill\": {\"color\": \"#EBF0F8\"}, \"line\": {\"color\": \"white\"}}, \"header\": {\"fill\": {\"color\": \"#C8D4E3\"}, \"line\": {\"color\": \"white\"}}, \"type\": \"table\"}]}, \"layout\": {\"annotationdefaults\": {\"arrowcolor\": \"#2a3f5f\", \"arrowhead\": 0, \"arrowwidth\": 1}, \"coloraxis\": {\"colorbar\": {\"outlinewidth\": 0, \"ticks\": \"\"}}, \"colorscale\": {\"diverging\": [[0, \"#8e0152\"], [0.1, \"#c51b7d\"], [0.2, \"#de77ae\"], [0.3, \"#f1b6da\"], [0.4, \"#fde0ef\"], [0.5, \"#f7f7f7\"], [0.6, \"#e6f5d0\"], [0.7, \"#b8e186\"], [0.8, \"#7fbc41\"], [0.9, \"#4d9221\"], [1, \"#276419\"]], \"sequential\": [[0.0, \"#0d0887\"], [0.1111111111111111, \"#46039f\"], [0.2222222222222222, \"#7201a8\"], [0.3333333333333333, \"#9c179e\"], [0.4444444444444444, \"#bd3786\"], [0.5555555555555556, \"#d8576b\"], [0.6666666666666666, \"#ed7953\"], [0.7777777777777778, \"#fb9f3a\"], [0.8888888888888888, \"#fdca26\"], [1.0, \"#f0f921\"]], \"sequentialminus\": [[0.0, \"#0d0887\"], [0.1111111111111111, \"#46039f\"], [0.2222222222222222, \"#7201a8\"], [0.3333333333333333, \"#9c179e\"], [0.4444444444444444, \"#bd3786\"], [0.5555555555555556, \"#d8576b\"], [0.6666666666666666, \"#ed7953\"], [0.7777777777777778, \"#fb9f3a\"], [0.8888888888888888, \"#fdca26\"], [1.0, \"#f0f921\"]]}, \"colorway\": [\"#636efa\", \"#EF553B\", \"#00cc96\", \"#ab63fa\", \"#FFA15A\", \"#19d3f3\", \"#FF6692\", \"#B6E880\", \"#FF97FF\", \"#FECB52\"], \"font\": {\"color\": \"#2a3f5f\"}, \"geo\": {\"bgcolor\": \"white\", \"lakecolor\": \"white\", \"landcolor\": \"#E5ECF6\", \"showlakes\": true, \"showland\": true, \"subunitcolor\": \"white\"}, \"hoverlabel\": {\"align\": \"left\"}, \"hovermode\": \"closest\", \"mapbox\": {\"style\": \"light\"}, \"paper_bgcolor\": \"white\", \"plot_bgcolor\": \"#E5ECF6\", \"polar\": {\"angularaxis\": {\"gridcolor\": \"white\", \"linecolor\": \"white\", \"ticks\": \"\"}, \"bgcolor\": \"#E5ECF6\", \"radialaxis\": {\"gridcolor\": \"white\", \"linecolor\": \"white\", \"ticks\": \"\"}}, \"scene\": {\"xaxis\": {\"backgroundcolor\": \"#E5ECF6\", \"gridcolor\": \"white\", \"gridwidth\": 2, \"linecolor\": \"white\", \"showbackground\": true, \"ticks\": \"\", \"zerolinecolor\": \"white\"}, \"yaxis\": {\"backgroundcolor\": \"#E5ECF6\", \"gridcolor\": \"white\", \"gridwidth\": 2, \"linecolor\": \"white\", \"showbackground\": true, \"ticks\": \"\", \"zerolinecolor\": \"white\"}, \"zaxis\": {\"backgroundcolor\": \"#E5ECF6\", \"gridcolor\": \"white\", \"gridwidth\": 2, \"linecolor\": \"white\", \"showbackground\": true, \"ticks\": \"\", \"zerolinecolor\": \"white\"}}, \"shapedefaults\": {\"line\": {\"color\": \"#2a3f5f\"}}, \"ternary\": {\"aaxis\": {\"gridcolor\": \"white\", \"linecolor\": \"white\", \"ticks\": \"\"}, \"baxis\": {\"gridcolor\": \"white\", \"linecolor\": \"white\", \"ticks\": \"\"}, \"bgcolor\": \"#E5ECF6\", \"caxis\": {\"gridcolor\": \"white\", \"linecolor\": \"white\", \"ticks\": \"\"}}, \"title\": {\"x\": 0.05}, \"xaxis\": {\"automargin\": true, \"gridcolor\": \"white\", \"linecolor\": \"white\", \"ticks\": \"\", \"title\": {\"standoff\": 15}, \"zerolinecolor\": \"white\", \"zerolinewidth\": 2}, \"yaxis\": {\"automargin\": true, \"gridcolor\": \"white\", \"linecolor\": \"white\", \"ticks\": \"\", \"title\": {\"standoff\": 15}, \"zerolinecolor\": \"white\", \"zerolinewidth\": 2}}}, \"title\": {\"text\": \"Feature Importances of Model Features\"}, \"xaxis\": {\"anchor\": \"y\", \"categoryorder\": \"total descending\", \"domain\": [0.0, 1.0], \"title\": {\"text\": \"Feature Importance\"}}, \"yaxis\": {\"anchor\": \"x\", \"categoryorder\": \"total ascending\", \"domain\": [0.0, 1.0], \"title\": {\"text\": \"Feature\"}}},\n",
              "                        {\"responsive\": true}\n",
              "                    ).then(function(){\n",
              "                            \n",
              "var gd = document.getElementById('39814754-7f90-44d1-a618-54458a069395');\n",
              "var x = new MutationObserver(function (mutations, observer) {{\n",
              "        var display = window.getComputedStyle(gd).display;\n",
              "        if (!display || display === 'none') {{\n",
              "            console.log([gd, 'removed!']);\n",
              "            Plotly.purge(gd);\n",
              "            observer.disconnect();\n",
              "        }}\n",
              "}});\n",
              "\n",
              "// Listen for the removal of the full notebook cells\n",
              "var notebookContainer = gd.closest('#notebook-container');\n",
              "if (notebookContainer) {{\n",
              "    x.observe(notebookContainer, {childList: true});\n",
              "}}\n",
              "\n",
              "// Listen for the clearing of the current output cell\n",
              "var outputEl = gd.closest('.output');\n",
              "if (outputEl) {{\n",
              "    x.observe(outputEl, {childList: true});\n",
              "}}\n",
              "\n",
              "                        })\n",
              "                };\n",
              "                \n",
              "            </script>\n",
              "        </div>\n",
              "</body>\n",
              "</html>"
            ]
          },
          "metadata": {
            "tags": []
          }
        }
      ]
    },
    {
      "cell_type": "code",
      "metadata": {
        "colab": {
          "base_uri": "https://localhost:8080/"
        },
        "id": "QjHgbUbgNwnw",
        "outputId": "6fb65b70-7dbe-403f-a4db-d12aa9d25f72"
      },
      "source": [
        "plot_feature_importances(RF_fit_some, train = X_train_some)"
      ],
      "execution_count": null,
      "outputs": [
        {
          "output_type": "display_data",
          "data": {
            "text/html": [
              "<html>\n",
              "<head><meta charset=\"utf-8\" /></head>\n",
              "<body>\n",
              "    <div>\n",
              "            <script src=\"https://cdnjs.cloudflare.com/ajax/libs/mathjax/2.7.5/MathJax.js?config=TeX-AMS-MML_SVG\"></script><script type=\"text/javascript\">if (window.MathJax) {MathJax.Hub.Config({SVG: {font: \"STIX-Web\"}});}</script>\n",
              "                <script type=\"text/javascript\">window.PlotlyConfig = {MathJaxConfig: 'local'};</script>\n",
              "        <script src=\"https://cdn.plot.ly/plotly-latest.min.js\"></script>    \n",
              "            <div id=\"3477a4c4-a4da-4b65-8664-d07d9dc69619\" class=\"plotly-graph-div\" style=\"height:525px; width:100%;\"></div>\n",
              "            <script type=\"text/javascript\">\n",
              "                \n",
              "                    window.PLOTLYENV=window.PLOTLYENV || {};\n",
              "                    \n",
              "                if (document.getElementById(\"3477a4c4-a4da-4b65-8664-d07d9dc69619\")) {\n",
              "                    Plotly.newPlot(\n",
              "                        '3477a4c4-a4da-4b65-8664-d07d9dc69619',\n",
              "                        [{\"alignmentgroup\": \"True\", \"hoverlabel\": {\"namelength\": 0}, \"hovertemplate\": \"x=%{x}<br>y=%{y}\", \"legendgroup\": \"\", \"marker\": {\"color\": \"#636efa\"}, \"name\": \"\", \"offsetgroup\": \"\", \"orientation\": \"h\", \"showlegend\": false, \"textposition\": \"auto\", \"type\": \"bar\", \"x\": [0.04788563984249787, 0.005075286937816553, 0.0057645783775240565, 0.00019939180919803978, 0.0016283133569059175, 0.0015417270086554825, 0.008652761942850034, 0.009359048615151593, 0.010859964188066529, 0.011413727991390562, 0.006011370107705334, 0.004623844544933343, 0.0028564065390196233, 0.005462041266448879, 0.011635636932247078, 0.001932102958588034, 0.005983628413631417, 0.005229112388353302, 0.0056386074104661415, 0.0004051032465157156, 0.00991230938100099, 0.008179140846281557, 0.007413840521094531, 0.004498594213435763, 0.003292891623350997, 0.006577539782615793, 0.006184357488888707, 0.012078055043893634, 0.013546228086144082, 0.0036073085619471755, 0.005520510194906644, 0.0042212599980029734, 0.0052324770103856005, 0.01444306394679259, 0.009246852550212206, 0.009556842963106814, 0.03722961872726423, 0.016017236624351276, 0.019199290949289852, 0.06431991853800545, 0.19732265334548355, 0.20035066266434007, 0.012098626610848233, 0.04233257531161142, 0.016823526954372184, 0.03550493714021652, 0.05701213403755987, 0.0031536460330307057, 0.003925825615408726, 0.007073152378999964, 0.011401704515906216, 0.0005649244632862152], \"xaxis\": \"x\", \"y\": [\"Age\", \"Gender_female\", \"Gender_male\", \"Gender_other\", \"self_employed_No\", \"self_employed_Yes\", \"family_history_No\", \"family_history_Yes\", \"treatment_No\", \"treatment_Yes\", \"work_interfere_Never\", \"work_interfere_No Response\", \"work_interfere_Often\", \"work_interfere_Rarely\", \"work_interfere_Sometimes\", \"no_employees_1-5\", \"no_employees_6-25\", \"no_employees_26-100\", \"no_employees_100-500\", \"no_employees_500-1000\", \"no_employees_More than 1000\", \"remote_work_No\", \"remote_work_Yes\", \"tech_company_No\", \"tech_company_Yes\", \"benefits_No\", \"benefits_Yes\", \"care_options_No\", \"care_options_Yes\", \"wellness_program_No\", \"wellness_program_Yes\", \"seek_help_No\", \"seek_help_Yes\", \"anonymity_No\", \"anonymity_Yes\", \"leave_Very difficult\", \"leave_Somewhat difficult\", \"leave_Somewhat easy\", \"leave_Very easy\", \"mental_health_consequence_Maybe\", \"mental_health_consequence_No\", \"mental_health_consequence_Yes\", \"phys_health_consequence_Maybe\", \"phys_health_consequence_No\", \"phys_health_consequence_Yes\", \"mental_vs_physical_No\", \"mental_vs_physical_Yes\", \"obs_consequence_No\", \"obs_consequence_Yes\", \"country_bucket_Europe\", \"country_bucket_North America\", \"country_bucket_Other\"], \"yaxis\": \"y\"}],\n",
              "                        {\"barmode\": \"relative\", \"legend\": {\"tracegroupgap\": 0}, \"template\": {\"data\": {\"bar\": [{\"error_x\": {\"color\": \"#2a3f5f\"}, \"error_y\": {\"color\": \"#2a3f5f\"}, \"marker\": {\"line\": {\"color\": \"#E5ECF6\", \"width\": 0.5}}, \"type\": \"bar\"}], \"barpolar\": [{\"marker\": {\"line\": {\"color\": \"#E5ECF6\", \"width\": 0.5}}, \"type\": \"barpolar\"}], \"carpet\": [{\"aaxis\": {\"endlinecolor\": \"#2a3f5f\", \"gridcolor\": \"white\", \"linecolor\": \"white\", \"minorgridcolor\": \"white\", \"startlinecolor\": \"#2a3f5f\"}, \"baxis\": {\"endlinecolor\": \"#2a3f5f\", \"gridcolor\": \"white\", \"linecolor\": \"white\", \"minorgridcolor\": \"white\", \"startlinecolor\": \"#2a3f5f\"}, \"type\": \"carpet\"}], \"choropleth\": [{\"colorbar\": {\"outlinewidth\": 0, \"ticks\": \"\"}, \"type\": \"choropleth\"}], \"contour\": [{\"colorbar\": {\"outlinewidth\": 0, \"ticks\": \"\"}, \"colorscale\": [[0.0, \"#0d0887\"], [0.1111111111111111, \"#46039f\"], [0.2222222222222222, \"#7201a8\"], [0.3333333333333333, \"#9c179e\"], [0.4444444444444444, \"#bd3786\"], [0.5555555555555556, \"#d8576b\"], [0.6666666666666666, \"#ed7953\"], [0.7777777777777778, \"#fb9f3a\"], [0.8888888888888888, \"#fdca26\"], [1.0, \"#f0f921\"]], \"type\": \"contour\"}], \"contourcarpet\": [{\"colorbar\": {\"outlinewidth\": 0, \"ticks\": \"\"}, \"type\": \"contourcarpet\"}], \"heatmap\": [{\"colorbar\": {\"outlinewidth\": 0, \"ticks\": \"\"}, \"colorscale\": [[0.0, \"#0d0887\"], [0.1111111111111111, \"#46039f\"], [0.2222222222222222, \"#7201a8\"], [0.3333333333333333, \"#9c179e\"], [0.4444444444444444, \"#bd3786\"], [0.5555555555555556, \"#d8576b\"], [0.6666666666666666, \"#ed7953\"], [0.7777777777777778, \"#fb9f3a\"], [0.8888888888888888, \"#fdca26\"], [1.0, \"#f0f921\"]], \"type\": \"heatmap\"}], \"heatmapgl\": [{\"colorbar\": {\"outlinewidth\": 0, \"ticks\": \"\"}, \"colorscale\": [[0.0, \"#0d0887\"], [0.1111111111111111, \"#46039f\"], [0.2222222222222222, \"#7201a8\"], [0.3333333333333333, \"#9c179e\"], [0.4444444444444444, \"#bd3786\"], [0.5555555555555556, \"#d8576b\"], [0.6666666666666666, \"#ed7953\"], [0.7777777777777778, \"#fb9f3a\"], [0.8888888888888888, \"#fdca26\"], [1.0, \"#f0f921\"]], \"type\": \"heatmapgl\"}], \"histogram\": [{\"marker\": {\"colorbar\": {\"outlinewidth\": 0, \"ticks\": \"\"}}, \"type\": \"histogram\"}], \"histogram2d\": [{\"colorbar\": {\"outlinewidth\": 0, \"ticks\": \"\"}, \"colorscale\": [[0.0, \"#0d0887\"], [0.1111111111111111, \"#46039f\"], [0.2222222222222222, \"#7201a8\"], [0.3333333333333333, \"#9c179e\"], [0.4444444444444444, \"#bd3786\"], [0.5555555555555556, \"#d8576b\"], [0.6666666666666666, \"#ed7953\"], [0.7777777777777778, \"#fb9f3a\"], [0.8888888888888888, \"#fdca26\"], [1.0, \"#f0f921\"]], \"type\": \"histogram2d\"}], \"histogram2dcontour\": [{\"colorbar\": {\"outlinewidth\": 0, \"ticks\": \"\"}, \"colorscale\": [[0.0, \"#0d0887\"], [0.1111111111111111, \"#46039f\"], [0.2222222222222222, \"#7201a8\"], [0.3333333333333333, \"#9c179e\"], [0.4444444444444444, \"#bd3786\"], [0.5555555555555556, \"#d8576b\"], [0.6666666666666666, \"#ed7953\"], [0.7777777777777778, \"#fb9f3a\"], [0.8888888888888888, \"#fdca26\"], [1.0, \"#f0f921\"]], \"type\": \"histogram2dcontour\"}], \"mesh3d\": [{\"colorbar\": {\"outlinewidth\": 0, \"ticks\": \"\"}, \"type\": \"mesh3d\"}], \"parcoords\": [{\"line\": {\"colorbar\": {\"outlinewidth\": 0, \"ticks\": \"\"}}, \"type\": \"parcoords\"}], \"pie\": [{\"automargin\": true, \"type\": \"pie\"}], \"scatter\": [{\"marker\": {\"colorbar\": {\"outlinewidth\": 0, \"ticks\": \"\"}}, \"type\": \"scatter\"}], \"scatter3d\": [{\"line\": {\"colorbar\": {\"outlinewidth\": 0, \"ticks\": \"\"}}, \"marker\": {\"colorbar\": {\"outlinewidth\": 0, \"ticks\": \"\"}}, \"type\": \"scatter3d\"}], \"scattercarpet\": [{\"marker\": {\"colorbar\": {\"outlinewidth\": 0, \"ticks\": \"\"}}, \"type\": \"scattercarpet\"}], \"scattergeo\": [{\"marker\": {\"colorbar\": {\"outlinewidth\": 0, \"ticks\": \"\"}}, \"type\": \"scattergeo\"}], \"scattergl\": [{\"marker\": {\"colorbar\": {\"outlinewidth\": 0, \"ticks\": \"\"}}, \"type\": \"scattergl\"}], \"scattermapbox\": [{\"marker\": {\"colorbar\": {\"outlinewidth\": 0, \"ticks\": \"\"}}, \"type\": \"scattermapbox\"}], \"scatterpolar\": [{\"marker\": {\"colorbar\": {\"outlinewidth\": 0, \"ticks\": \"\"}}, \"type\": \"scatterpolar\"}], \"scatterpolargl\": [{\"marker\": {\"colorbar\": {\"outlinewidth\": 0, \"ticks\": \"\"}}, \"type\": \"scatterpolargl\"}], \"scatterternary\": [{\"marker\": {\"colorbar\": {\"outlinewidth\": 0, \"ticks\": \"\"}}, \"type\": \"scatterternary\"}], \"surface\": [{\"colorbar\": {\"outlinewidth\": 0, \"ticks\": \"\"}, \"colorscale\": [[0.0, \"#0d0887\"], [0.1111111111111111, \"#46039f\"], [0.2222222222222222, \"#7201a8\"], [0.3333333333333333, \"#9c179e\"], [0.4444444444444444, \"#bd3786\"], [0.5555555555555556, \"#d8576b\"], [0.6666666666666666, \"#ed7953\"], [0.7777777777777778, \"#fb9f3a\"], [0.8888888888888888, \"#fdca26\"], [1.0, \"#f0f921\"]], \"type\": \"surface\"}], \"table\": [{\"cells\": {\"fill\": {\"color\": \"#EBF0F8\"}, \"line\": {\"color\": \"white\"}}, \"header\": {\"fill\": {\"color\": \"#C8D4E3\"}, \"line\": {\"color\": \"white\"}}, \"type\": \"table\"}]}, \"layout\": {\"annotationdefaults\": {\"arrowcolor\": \"#2a3f5f\", \"arrowhead\": 0, \"arrowwidth\": 1}, \"coloraxis\": {\"colorbar\": {\"outlinewidth\": 0, \"ticks\": \"\"}}, \"colorscale\": {\"diverging\": [[0, \"#8e0152\"], [0.1, \"#c51b7d\"], [0.2, \"#de77ae\"], [0.3, \"#f1b6da\"], [0.4, \"#fde0ef\"], [0.5, \"#f7f7f7\"], [0.6, \"#e6f5d0\"], [0.7, \"#b8e186\"], [0.8, \"#7fbc41\"], [0.9, \"#4d9221\"], [1, \"#276419\"]], \"sequential\": [[0.0, \"#0d0887\"], [0.1111111111111111, \"#46039f\"], [0.2222222222222222, \"#7201a8\"], [0.3333333333333333, \"#9c179e\"], [0.4444444444444444, \"#bd3786\"], [0.5555555555555556, \"#d8576b\"], [0.6666666666666666, \"#ed7953\"], [0.7777777777777778, \"#fb9f3a\"], [0.8888888888888888, \"#fdca26\"], [1.0, \"#f0f921\"]], \"sequentialminus\": [[0.0, \"#0d0887\"], [0.1111111111111111, \"#46039f\"], [0.2222222222222222, \"#7201a8\"], [0.3333333333333333, \"#9c179e\"], [0.4444444444444444, \"#bd3786\"], [0.5555555555555556, \"#d8576b\"], [0.6666666666666666, \"#ed7953\"], [0.7777777777777778, \"#fb9f3a\"], [0.8888888888888888, \"#fdca26\"], [1.0, \"#f0f921\"]]}, \"colorway\": [\"#636efa\", \"#EF553B\", \"#00cc96\", \"#ab63fa\", \"#FFA15A\", \"#19d3f3\", \"#FF6692\", \"#B6E880\", \"#FF97FF\", \"#FECB52\"], \"font\": {\"color\": \"#2a3f5f\"}, \"geo\": {\"bgcolor\": \"white\", \"lakecolor\": \"white\", \"landcolor\": \"#E5ECF6\", \"showlakes\": true, \"showland\": true, \"subunitcolor\": \"white\"}, \"hoverlabel\": {\"align\": \"left\"}, \"hovermode\": \"closest\", \"mapbox\": {\"style\": \"light\"}, \"paper_bgcolor\": \"white\", \"plot_bgcolor\": \"#E5ECF6\", \"polar\": {\"angularaxis\": {\"gridcolor\": \"white\", \"linecolor\": \"white\", \"ticks\": \"\"}, \"bgcolor\": \"#E5ECF6\", \"radialaxis\": {\"gridcolor\": \"white\", \"linecolor\": \"white\", \"ticks\": \"\"}}, \"scene\": {\"xaxis\": {\"backgroundcolor\": \"#E5ECF6\", \"gridcolor\": \"white\", \"gridwidth\": 2, \"linecolor\": \"white\", \"showbackground\": true, \"ticks\": \"\", \"zerolinecolor\": \"white\"}, \"yaxis\": {\"backgroundcolor\": \"#E5ECF6\", \"gridcolor\": \"white\", \"gridwidth\": 2, \"linecolor\": \"white\", \"showbackground\": true, \"ticks\": \"\", \"zerolinecolor\": \"white\"}, \"zaxis\": {\"backgroundcolor\": \"#E5ECF6\", \"gridcolor\": \"white\", \"gridwidth\": 2, \"linecolor\": \"white\", \"showbackground\": true, \"ticks\": \"\", \"zerolinecolor\": \"white\"}}, \"shapedefaults\": {\"line\": {\"color\": \"#2a3f5f\"}}, \"ternary\": {\"aaxis\": {\"gridcolor\": \"white\", \"linecolor\": \"white\", \"ticks\": \"\"}, \"baxis\": {\"gridcolor\": \"white\", \"linecolor\": \"white\", \"ticks\": \"\"}, \"bgcolor\": \"#E5ECF6\", \"caxis\": {\"gridcolor\": \"white\", \"linecolor\": \"white\", \"ticks\": \"\"}}, \"title\": {\"x\": 0.05}, \"xaxis\": {\"automargin\": true, \"gridcolor\": \"white\", \"linecolor\": \"white\", \"ticks\": \"\", \"title\": {\"standoff\": 15}, \"zerolinecolor\": \"white\", \"zerolinewidth\": 2}, \"yaxis\": {\"automargin\": true, \"gridcolor\": \"white\", \"linecolor\": \"white\", \"ticks\": \"\", \"title\": {\"standoff\": 15}, \"zerolinecolor\": \"white\", \"zerolinewidth\": 2}}}, \"title\": {\"text\": \"Feature Importances of Model Features\"}, \"xaxis\": {\"anchor\": \"y\", \"categoryorder\": \"total descending\", \"domain\": [0.0, 1.0], \"title\": {\"text\": \"Feature Importance\"}}, \"yaxis\": {\"anchor\": \"x\", \"categoryorder\": \"total ascending\", \"domain\": [0.0, 1.0], \"title\": {\"text\": \"Feature\"}}},\n",
              "                        {\"responsive\": true}\n",
              "                    ).then(function(){\n",
              "                            \n",
              "var gd = document.getElementById('3477a4c4-a4da-4b65-8664-d07d9dc69619');\n",
              "var x = new MutationObserver(function (mutations, observer) {{\n",
              "        var display = window.getComputedStyle(gd).display;\n",
              "        if (!display || display === 'none') {{\n",
              "            console.log([gd, 'removed!']);\n",
              "            Plotly.purge(gd);\n",
              "            observer.disconnect();\n",
              "        }}\n",
              "}});\n",
              "\n",
              "// Listen for the removal of the full notebook cells\n",
              "var notebookContainer = gd.closest('#notebook-container');\n",
              "if (notebookContainer) {{\n",
              "    x.observe(notebookContainer, {childList: true});\n",
              "}}\n",
              "\n",
              "// Listen for the clearing of the current output cell\n",
              "var outputEl = gd.closest('.output');\n",
              "if (outputEl) {{\n",
              "    x.observe(outputEl, {childList: true});\n",
              "}}\n",
              "\n",
              "                        })\n",
              "                };\n",
              "                \n",
              "            </script>\n",
              "        </div>\n",
              "</body>\n",
              "</html>"
            ]
          },
          "metadata": {
            "tags": []
          }
        }
      ]
    },
    {
      "cell_type": "code",
      "metadata": {
        "colab": {
          "base_uri": "https://localhost:8080/"
        },
        "id": "1jmC73E4N1Qr",
        "outputId": "298acab8-061b-4232-ed6b-a802f9131bf8"
      },
      "source": [
        "plot_feature_importances(RF_fit_no, train = X_train_no)"
      ],
      "execution_count": null,
      "outputs": [
        {
          "output_type": "display_data",
          "data": {
            "text/html": [
              "<html>\n",
              "<head><meta charset=\"utf-8\" /></head>\n",
              "<body>\n",
              "    <div>\n",
              "            <script src=\"https://cdnjs.cloudflare.com/ajax/libs/mathjax/2.7.5/MathJax.js?config=TeX-AMS-MML_SVG\"></script><script type=\"text/javascript\">if (window.MathJax) {MathJax.Hub.Config({SVG: {font: \"STIX-Web\"}});}</script>\n",
              "                <script type=\"text/javascript\">window.PlotlyConfig = {MathJaxConfig: 'local'};</script>\n",
              "        <script src=\"https://cdn.plot.ly/plotly-latest.min.js\"></script>    \n",
              "            <div id=\"6e1e7c7a-6215-44b1-b988-079671f7c472\" class=\"plotly-graph-div\" style=\"height:525px; width:100%;\"></div>\n",
              "            <script type=\"text/javascript\">\n",
              "                \n",
              "                    window.PLOTLYENV=window.PLOTLYENV || {};\n",
              "                    \n",
              "                if (document.getElementById(\"6e1e7c7a-6215-44b1-b988-079671f7c472\")) {\n",
              "                    Plotly.newPlot(\n",
              "                        '6e1e7c7a-6215-44b1-b988-079671f7c472',\n",
              "                        [{\"alignmentgroup\": \"True\", \"hoverlabel\": {\"namelength\": 0}, \"hovertemplate\": \"x=%{x}<br>y=%{y}\", \"legendgroup\": \"\", \"marker\": {\"color\": \"#636efa\"}, \"name\": \"\", \"offsetgroup\": \"\", \"orientation\": \"h\", \"showlegend\": false, \"textposition\": \"auto\", \"type\": \"bar\", \"x\": [0.04788563984249787, 0.005075286937816553, 0.0057645783775240565, 0.00019939180919803978, 0.0016283133569059175, 0.0015417270086554825, 0.008652761942850034, 0.009359048615151593, 0.010859964188066529, 0.011413727991390562, 0.006011370107705334, 0.004623844544933343, 0.0028564065390196233, 0.005462041266448879, 0.011635636932247078, 0.001932102958588034, 0.005983628413631417, 0.005229112388353302, 0.0056386074104661415, 0.0004051032465157156, 0.00991230938100099, 0.008179140846281557, 0.007413840521094531, 0.004498594213435763, 0.003292891623350997, 0.006577539782615793, 0.006184357488888707, 0.012078055043893634, 0.013546228086144082, 0.0036073085619471755, 0.005520510194906644, 0.0042212599980029734, 0.0052324770103856005, 0.01444306394679259, 0.009246852550212206, 0.009556842963106814, 0.03722961872726423, 0.016017236624351276, 0.019199290949289852, 0.06431991853800545, 0.19732265334548355, 0.20035066266434007, 0.012098626610848233, 0.04233257531161142, 0.016823526954372184, 0.03550493714021652, 0.05701213403755987, 0.0031536460330307057, 0.003925825615408726, 0.007073152378999964, 0.011401704515906216, 0.0005649244632862152], \"xaxis\": \"x\", \"y\": [\"Age\", \"Gender_female\", \"Gender_male\", \"Gender_other\", \"self_employed_No\", \"self_employed_Yes\", \"family_history_No\", \"family_history_Yes\", \"treatment_No\", \"treatment_Yes\", \"work_interfere_Never\", \"work_interfere_No Response\", \"work_interfere_Often\", \"work_interfere_Rarely\", \"work_interfere_Sometimes\", \"no_employees_1-5\", \"no_employees_6-25\", \"no_employees_26-100\", \"no_employees_100-500\", \"no_employees_500-1000\", \"no_employees_More than 1000\", \"remote_work_No\", \"remote_work_Yes\", \"tech_company_No\", \"tech_company_Yes\", \"benefits_No\", \"benefits_Yes\", \"care_options_No\", \"care_options_Yes\", \"wellness_program_No\", \"wellness_program_Yes\", \"seek_help_No\", \"seek_help_Yes\", \"anonymity_No\", \"anonymity_Yes\", \"leave_Very difficult\", \"leave_Somewhat difficult\", \"leave_Somewhat easy\", \"leave_Very easy\", \"mental_health_consequence_Maybe\", \"mental_health_consequence_No\", \"mental_health_consequence_Yes\", \"phys_health_consequence_Maybe\", \"phys_health_consequence_No\", \"phys_health_consequence_Yes\", \"mental_vs_physical_No\", \"mental_vs_physical_Yes\", \"obs_consequence_No\", \"obs_consequence_Yes\", \"country_bucket_Europe\", \"country_bucket_North America\", \"country_bucket_Other\"], \"yaxis\": \"y\"}],\n",
              "                        {\"barmode\": \"relative\", \"legend\": {\"tracegroupgap\": 0}, \"template\": {\"data\": {\"bar\": [{\"error_x\": {\"color\": \"#2a3f5f\"}, \"error_y\": {\"color\": \"#2a3f5f\"}, \"marker\": {\"line\": {\"color\": \"#E5ECF6\", \"width\": 0.5}}, \"type\": \"bar\"}], \"barpolar\": [{\"marker\": {\"line\": {\"color\": \"#E5ECF6\", \"width\": 0.5}}, \"type\": \"barpolar\"}], \"carpet\": [{\"aaxis\": {\"endlinecolor\": \"#2a3f5f\", \"gridcolor\": \"white\", \"linecolor\": \"white\", \"minorgridcolor\": \"white\", \"startlinecolor\": \"#2a3f5f\"}, \"baxis\": {\"endlinecolor\": \"#2a3f5f\", \"gridcolor\": \"white\", \"linecolor\": \"white\", \"minorgridcolor\": \"white\", \"startlinecolor\": \"#2a3f5f\"}, \"type\": \"carpet\"}], \"choropleth\": [{\"colorbar\": {\"outlinewidth\": 0, \"ticks\": \"\"}, \"type\": \"choropleth\"}], \"contour\": [{\"colorbar\": {\"outlinewidth\": 0, \"ticks\": \"\"}, \"colorscale\": [[0.0, \"#0d0887\"], [0.1111111111111111, \"#46039f\"], [0.2222222222222222, \"#7201a8\"], [0.3333333333333333, \"#9c179e\"], [0.4444444444444444, \"#bd3786\"], [0.5555555555555556, \"#d8576b\"], [0.6666666666666666, \"#ed7953\"], [0.7777777777777778, \"#fb9f3a\"], [0.8888888888888888, \"#fdca26\"], [1.0, \"#f0f921\"]], \"type\": \"contour\"}], \"contourcarpet\": [{\"colorbar\": {\"outlinewidth\": 0, \"ticks\": \"\"}, \"type\": \"contourcarpet\"}], \"heatmap\": [{\"colorbar\": {\"outlinewidth\": 0, \"ticks\": \"\"}, \"colorscale\": [[0.0, \"#0d0887\"], [0.1111111111111111, \"#46039f\"], [0.2222222222222222, \"#7201a8\"], [0.3333333333333333, \"#9c179e\"], [0.4444444444444444, \"#bd3786\"], [0.5555555555555556, \"#d8576b\"], [0.6666666666666666, \"#ed7953\"], [0.7777777777777778, \"#fb9f3a\"], [0.8888888888888888, \"#fdca26\"], [1.0, \"#f0f921\"]], \"type\": \"heatmap\"}], \"heatmapgl\": [{\"colorbar\": {\"outlinewidth\": 0, \"ticks\": \"\"}, \"colorscale\": [[0.0, \"#0d0887\"], [0.1111111111111111, \"#46039f\"], [0.2222222222222222, \"#7201a8\"], [0.3333333333333333, \"#9c179e\"], [0.4444444444444444, \"#bd3786\"], [0.5555555555555556, \"#d8576b\"], [0.6666666666666666, \"#ed7953\"], [0.7777777777777778, \"#fb9f3a\"], [0.8888888888888888, \"#fdca26\"], [1.0, \"#f0f921\"]], \"type\": \"heatmapgl\"}], \"histogram\": [{\"marker\": {\"colorbar\": {\"outlinewidth\": 0, \"ticks\": \"\"}}, \"type\": \"histogram\"}], \"histogram2d\": [{\"colorbar\": {\"outlinewidth\": 0, \"ticks\": \"\"}, \"colorscale\": [[0.0, \"#0d0887\"], [0.1111111111111111, \"#46039f\"], [0.2222222222222222, \"#7201a8\"], [0.3333333333333333, \"#9c179e\"], [0.4444444444444444, \"#bd3786\"], [0.5555555555555556, \"#d8576b\"], [0.6666666666666666, \"#ed7953\"], [0.7777777777777778, \"#fb9f3a\"], [0.8888888888888888, \"#fdca26\"], [1.0, \"#f0f921\"]], \"type\": \"histogram2d\"}], \"histogram2dcontour\": [{\"colorbar\": {\"outlinewidth\": 0, \"ticks\": \"\"}, \"colorscale\": [[0.0, \"#0d0887\"], [0.1111111111111111, \"#46039f\"], [0.2222222222222222, \"#7201a8\"], [0.3333333333333333, \"#9c179e\"], [0.4444444444444444, \"#bd3786\"], [0.5555555555555556, \"#d8576b\"], [0.6666666666666666, \"#ed7953\"], [0.7777777777777778, \"#fb9f3a\"], [0.8888888888888888, \"#fdca26\"], [1.0, \"#f0f921\"]], \"type\": \"histogram2dcontour\"}], \"mesh3d\": [{\"colorbar\": {\"outlinewidth\": 0, \"ticks\": \"\"}, \"type\": \"mesh3d\"}], \"parcoords\": [{\"line\": {\"colorbar\": {\"outlinewidth\": 0, \"ticks\": \"\"}}, \"type\": \"parcoords\"}], \"pie\": [{\"automargin\": true, \"type\": \"pie\"}], \"scatter\": [{\"marker\": {\"colorbar\": {\"outlinewidth\": 0, \"ticks\": \"\"}}, \"type\": \"scatter\"}], \"scatter3d\": [{\"line\": {\"colorbar\": {\"outlinewidth\": 0, \"ticks\": \"\"}}, \"marker\": {\"colorbar\": {\"outlinewidth\": 0, \"ticks\": \"\"}}, \"type\": \"scatter3d\"}], \"scattercarpet\": [{\"marker\": {\"colorbar\": {\"outlinewidth\": 0, \"ticks\": \"\"}}, \"type\": \"scattercarpet\"}], \"scattergeo\": [{\"marker\": {\"colorbar\": {\"outlinewidth\": 0, \"ticks\": \"\"}}, \"type\": \"scattergeo\"}], \"scattergl\": [{\"marker\": {\"colorbar\": {\"outlinewidth\": 0, \"ticks\": \"\"}}, \"type\": \"scattergl\"}], \"scattermapbox\": [{\"marker\": {\"colorbar\": {\"outlinewidth\": 0, \"ticks\": \"\"}}, \"type\": \"scattermapbox\"}], \"scatterpolar\": [{\"marker\": {\"colorbar\": {\"outlinewidth\": 0, \"ticks\": \"\"}}, \"type\": \"scatterpolar\"}], \"scatterpolargl\": [{\"marker\": {\"colorbar\": {\"outlinewidth\": 0, \"ticks\": \"\"}}, \"type\": \"scatterpolargl\"}], \"scatterternary\": [{\"marker\": {\"colorbar\": {\"outlinewidth\": 0, \"ticks\": \"\"}}, \"type\": \"scatterternary\"}], \"surface\": [{\"colorbar\": {\"outlinewidth\": 0, \"ticks\": \"\"}, \"colorscale\": [[0.0, \"#0d0887\"], [0.1111111111111111, \"#46039f\"], [0.2222222222222222, \"#7201a8\"], [0.3333333333333333, \"#9c179e\"], [0.4444444444444444, \"#bd3786\"], [0.5555555555555556, \"#d8576b\"], [0.6666666666666666, \"#ed7953\"], [0.7777777777777778, \"#fb9f3a\"], [0.8888888888888888, \"#fdca26\"], [1.0, \"#f0f921\"]], \"type\": \"surface\"}], \"table\": [{\"cells\": {\"fill\": {\"color\": \"#EBF0F8\"}, \"line\": {\"color\": \"white\"}}, \"header\": {\"fill\": {\"color\": \"#C8D4E3\"}, \"line\": {\"color\": \"white\"}}, \"type\": \"table\"}]}, \"layout\": {\"annotationdefaults\": {\"arrowcolor\": \"#2a3f5f\", \"arrowhead\": 0, \"arrowwidth\": 1}, \"coloraxis\": {\"colorbar\": {\"outlinewidth\": 0, \"ticks\": \"\"}}, \"colorscale\": {\"diverging\": [[0, \"#8e0152\"], [0.1, \"#c51b7d\"], [0.2, \"#de77ae\"], [0.3, \"#f1b6da\"], [0.4, \"#fde0ef\"], [0.5, \"#f7f7f7\"], [0.6, \"#e6f5d0\"], [0.7, \"#b8e186\"], [0.8, \"#7fbc41\"], [0.9, \"#4d9221\"], [1, \"#276419\"]], \"sequential\": [[0.0, \"#0d0887\"], [0.1111111111111111, \"#46039f\"], [0.2222222222222222, \"#7201a8\"], [0.3333333333333333, \"#9c179e\"], [0.4444444444444444, \"#bd3786\"], [0.5555555555555556, \"#d8576b\"], [0.6666666666666666, \"#ed7953\"], [0.7777777777777778, \"#fb9f3a\"], [0.8888888888888888, \"#fdca26\"], [1.0, \"#f0f921\"]], \"sequentialminus\": [[0.0, \"#0d0887\"], [0.1111111111111111, \"#46039f\"], [0.2222222222222222, \"#7201a8\"], [0.3333333333333333, \"#9c179e\"], [0.4444444444444444, \"#bd3786\"], [0.5555555555555556, \"#d8576b\"], [0.6666666666666666, \"#ed7953\"], [0.7777777777777778, \"#fb9f3a\"], [0.8888888888888888, \"#fdca26\"], [1.0, \"#f0f921\"]]}, \"colorway\": [\"#636efa\", \"#EF553B\", \"#00cc96\", \"#ab63fa\", \"#FFA15A\", \"#19d3f3\", \"#FF6692\", \"#B6E880\", \"#FF97FF\", \"#FECB52\"], \"font\": {\"color\": \"#2a3f5f\"}, \"geo\": {\"bgcolor\": \"white\", \"lakecolor\": \"white\", \"landcolor\": \"#E5ECF6\", \"showlakes\": true, \"showland\": true, \"subunitcolor\": \"white\"}, \"hoverlabel\": {\"align\": \"left\"}, \"hovermode\": \"closest\", \"mapbox\": {\"style\": \"light\"}, \"paper_bgcolor\": \"white\", \"plot_bgcolor\": \"#E5ECF6\", \"polar\": {\"angularaxis\": {\"gridcolor\": \"white\", \"linecolor\": \"white\", \"ticks\": \"\"}, \"bgcolor\": \"#E5ECF6\", \"radialaxis\": {\"gridcolor\": \"white\", \"linecolor\": \"white\", \"ticks\": \"\"}}, \"scene\": {\"xaxis\": {\"backgroundcolor\": \"#E5ECF6\", \"gridcolor\": \"white\", \"gridwidth\": 2, \"linecolor\": \"white\", \"showbackground\": true, \"ticks\": \"\", \"zerolinecolor\": \"white\"}, \"yaxis\": {\"backgroundcolor\": \"#E5ECF6\", \"gridcolor\": \"white\", \"gridwidth\": 2, \"linecolor\": \"white\", \"showbackground\": true, \"ticks\": \"\", \"zerolinecolor\": \"white\"}, \"zaxis\": {\"backgroundcolor\": \"#E5ECF6\", \"gridcolor\": \"white\", \"gridwidth\": 2, \"linecolor\": \"white\", \"showbackground\": true, \"ticks\": \"\", \"zerolinecolor\": \"white\"}}, \"shapedefaults\": {\"line\": {\"color\": \"#2a3f5f\"}}, \"ternary\": {\"aaxis\": {\"gridcolor\": \"white\", \"linecolor\": \"white\", \"ticks\": \"\"}, \"baxis\": {\"gridcolor\": \"white\", \"linecolor\": \"white\", \"ticks\": \"\"}, \"bgcolor\": \"#E5ECF6\", \"caxis\": {\"gridcolor\": \"white\", \"linecolor\": \"white\", \"ticks\": \"\"}}, \"title\": {\"x\": 0.05}, \"xaxis\": {\"automargin\": true, \"gridcolor\": \"white\", \"linecolor\": \"white\", \"ticks\": \"\", \"title\": {\"standoff\": 15}, \"zerolinecolor\": \"white\", \"zerolinewidth\": 2}, \"yaxis\": {\"automargin\": true, \"gridcolor\": \"white\", \"linecolor\": \"white\", \"ticks\": \"\", \"title\": {\"standoff\": 15}, \"zerolinecolor\": \"white\", \"zerolinewidth\": 2}}}, \"title\": {\"text\": \"Feature Importances of Model Features\"}, \"xaxis\": {\"anchor\": \"y\", \"categoryorder\": \"total descending\", \"domain\": [0.0, 1.0], \"title\": {\"text\": \"Feature Importance\"}}, \"yaxis\": {\"anchor\": \"x\", \"categoryorder\": \"total ascending\", \"domain\": [0.0, 1.0], \"title\": {\"text\": \"Feature\"}}},\n",
              "                        {\"responsive\": true}\n",
              "                    ).then(function(){\n",
              "                            \n",
              "var gd = document.getElementById('6e1e7c7a-6215-44b1-b988-079671f7c472');\n",
              "var x = new MutationObserver(function (mutations, observer) {{\n",
              "        var display = window.getComputedStyle(gd).display;\n",
              "        if (!display || display === 'none') {{\n",
              "            console.log([gd, 'removed!']);\n",
              "            Plotly.purge(gd);\n",
              "            observer.disconnect();\n",
              "        }}\n",
              "}});\n",
              "\n",
              "// Listen for the removal of the full notebook cells\n",
              "var notebookContainer = gd.closest('#notebook-container');\n",
              "if (notebookContainer) {{\n",
              "    x.observe(notebookContainer, {childList: true});\n",
              "}}\n",
              "\n",
              "// Listen for the clearing of the current output cell\n",
              "var outputEl = gd.closest('.output');\n",
              "if (outputEl) {{\n",
              "    x.observe(outputEl, {childList: true});\n",
              "}}\n",
              "\n",
              "                        })\n",
              "                };\n",
              "                \n",
              "            </script>\n",
              "        </div>\n",
              "</body>\n",
              "</html>"
            ]
          },
          "metadata": {
            "tags": []
          }
        }
      ]
    },
    {
      "cell_type": "markdown",
      "metadata": {
        "id": "oyiyHmU7HrtL"
      },
      "source": [
        "### ***c) Confusion Matrix Analysis***"
      ]
    },
    {
      "cell_type": "markdown",
      "metadata": {
        "id": "PbUFmi0HSbJ9"
      },
      "source": [
        "#### *i) Confusion Matrix for 'Yes' Class*"
      ]
    },
    {
      "cell_type": "code",
      "metadata": {
        "colab": {
          "base_uri": "https://localhost:8080/"
        },
        "id": "77yeHpVNHrIc",
        "outputId": "c703e9fc-09a6-4ae3-dd77-083a0a67d4de"
      },
      "source": [
        "yes_matrix = confusion_matrix(y_test_yes, yes_predict)\r\n",
        "yes_labels = [\"Yes\", \"Some/No\"]\r\n",
        "\r\n",
        "sns.set()\r\n",
        "fig, ax = plt.subplots(figsize=(8,6))\r\n",
        "ax = sns.heatmap(yes_matrix, annot=True, fmt='d', square=True, ax=ax, annot_kws={\"fontsize\":20}, \r\n",
        "    linecolor=\"black\", linewidth=0.1, xticklabels=yes_labels, yticklabels=yes_labels, cmap=\"PuBuGn\", cbar_kws={'label':'Count'})\r\n",
        "\r\n",
        "plt.setp(ax.get_xticklabels(), fontsize=16, va='center', ha='center')\r\n",
        "plt.setp(ax.get_yticklabels(), fontsize=16, va='center', ha='center')\r\n",
        "\r\n",
        "plt.ylabel('Predicted', fontsize=18)\r\n",
        "plt.xlabel('Actual', fontsize=18)\r\n",
        "\r\n",
        "ax.set_title(\"Confusion Matrix for 'Yes' Class\", fontsize=24)\r\n",
        "fig.tight_layout()\r\n",
        "plt.show()"
      ],
      "execution_count": null,
      "outputs": [
        {
          "output_type": "display_data",
          "data": {
            "image/png": "[encoded data removed]",
            "text/plain": [
              "<Figure size 576x432 with 2 Axes>"
            ]
          },
          "metadata": {
            "tags": []
          }
        }
      ]
    },
    {
      "cell_type": "markdown",
      "metadata": {
        "id": "hf2CtNc-SgWk"
      },
      "source": [
        "#### *ii) Confusion Matrix for 'Some of them' Class*"
      ]
    },
    {
      "cell_type": "code",
      "metadata": {
        "colab": {
          "base_uri": "https://localhost:8080/"
        },
        "id": "-oUQDjipSjKg",
        "outputId": "5b79536b-c669-4de4-88b9-f768796d9b37"
      },
      "source": [
        "some_matrix = confusion_matrix(y_test_some, some_predict)\r\n",
        "some_labels = [\"Some\", \"Yes/No\"]\r\n",
        "\r\n",
        "sns.set()\r\n",
        "fig, ax = plt.subplots(figsize=(8,6))\r\n",
        "ax = sns.heatmap(some_matrix, annot=True, fmt='d', square=True, ax=ax, annot_kws={\"fontsize\":20}, \r\n",
        "    linecolor=\"black\", linewidth=0.1, xticklabels=some_labels, yticklabels=some_labels, cmap=\"PuBuGn\", cbar_kws={'label':'Count'})\r\n",
        "\r\n",
        "plt.setp(ax.get_xticklabels(), fontsize=16, va='center', ha='center')\r\n",
        "plt.setp(ax.get_yticklabels(), fontsize=16, va='center', ha='center')\r\n",
        "\r\n",
        "plt.ylabel('Predicted', fontsize=18)\r\n",
        "plt.xlabel('Actual', fontsize=18)\r\n",
        "\r\n",
        "ax.set_title(\"Confusion Matrix for 'Some of them' Class\", fontsize=24)\r\n",
        "fig.tight_layout()\r\n",
        "plt.show()"
      ],
      "execution_count": null,
      "outputs": [
        {
          "output_type": "display_data",
          "data": {
            "image/png": "[encoded data removed]",
            "text/plain": [
              "<Figure size 576x432 with 2 Axes>"
            ]
          },
          "metadata": {
            "tags": []
          }
        }
      ]
    },
    {
      "cell_type": "markdown",
      "metadata": {
        "id": "gDOrLeVUTHjp"
      },
      "source": [
        "#### *iii) Confusion Matrix for 'No' Class*"
      ]
    },
    {
      "cell_type": "code",
      "metadata": {
        "colab": {
          "base_uri": "https://localhost:8080/"
        },
        "id": "TVyn981ITD8_",
        "outputId": "7ed48281-f0b2-4ed8-e40c-1baa7195b13b"
      },
      "source": [
        "no_matrix = confusion_matrix(y_test_no, no_predict)\r\n",
        "no_labels = [\"No\", \"Yes/Some\"]\r\n",
        "\r\n",
        "sns.set()\r\n",
        "fig, ax = plt.subplots(figsize=(8,6))\r\n",
        "ax = sns.heatmap(no_matrix, annot=True, fmt='d', square=True, ax=ax, annot_kws={\"fontsize\":20}, \r\n",
        "    linecolor=\"black\", linewidth=0.1, xticklabels=no_labels, yticklabels=no_labels, cmap=\"PuBuGn\", cbar_kws={'label':'Count'})\r\n",
        "\r\n",
        "plt.setp(ax.get_xticklabels(), fontsize=16, va='center', ha='center')\r\n",
        "plt.setp(ax.get_yticklabels(), fontsize=16, va='center', ha='center')\r\n",
        "\r\n",
        "plt.ylabel('Predicted', fontsize=18)\r\n",
        "plt.xlabel('Actual', fontsize=18)\r\n",
        "\r\n",
        "ax.set_title(\"Confusion Matrix for 'No' Class\", fontsize=24)\r\n",
        "fig.tight_layout()\r\n",
        "plt.show()"
      ],
      "execution_count": null,
      "outputs": [
        {
          "output_type": "display_data",
          "data": {
            "image/png": "[encoded data removed]",
            "text/plain": [
              "<Figure size 576x432 with 2 Axes>"
            ]
          },
          "metadata": {
            "tags": []
          }
        }
      ]
    },
    {
      "cell_type": "markdown",
      "metadata": {
        "id": "QOTiTec5UAsi"
      },
      "source": [
        "### *d) Summary Statistics*"
      ]
    },
    {
      "cell_type": "code",
      "metadata": {
        "id": "i7v7HM80UTZe"
      },
      "source": [
        "def getSummaryStatistics(confusion_matrix):\r\n",
        "  TP = float(confusion_matrix[0][0])\r\n",
        "  TN = float(confusion_matrix[1][1])\r\n",
        "  FP = float(confusion_matrix[0][1])\r\n",
        "  FN = float(confusion_matrix[1][0])\r\n",
        "\r\n",
        "  acc = round(((TP+TN) / (TP+TN+FP+FN)), 2)\r\n",
        "  pre = round(((TP) / (TP+FP)), 2)\r\n",
        "  rec = round(((TP) / (TP+FN)), 2)\r\n",
        "  if TN+FP == 0:\r\n",
        "    spe=\"---\"\r\n",
        "  else: \r\n",
        "    spe = round(1 - ((FP) / (TN+FP)), 2)\r\n",
        "  f1 = round((((2)*(rec)*(pre)) / (rec+pre)), 2)\r\n",
        "\r\n",
        "  return [acc, pre, rec, spe, f1]\r\n",
        "\r\n",
        "yes_summary = getSummaryStatistics(yes_matrix)\r\n",
        "some_summary = getSummaryStatistics(some_matrix)\r\n",
        "no_summary = getSummaryStatistics(no_matrix)"
      ],
      "execution_count": null,
      "outputs": []
    },
    {
      "cell_type": "code",
      "metadata": {
        "colab": {
          "base_uri": "https://localhost:8080/"
        },
        "id": "wiK66HxdWv3M",
        "outputId": "9fe39d85-2a4d-4857-e7a9-8f31dbefe59b"
      },
      "source": [
        "cellColor='lightskyblue'\r\n",
        "headerColor='dodgerblue'  \r\n",
        "theTable = plt.table(\r\n",
        "  cellText=[\r\n",
        "      yes_summary,\r\n",
        "      some_summary,\r\n",
        "      no_summary\r\n",
        "  ],\r\n",
        "  cellColours=[\r\n",
        "      [cellColor, cellColor, cellColor, cellColor, cellColor], \r\n",
        "      [cellColor, cellColor, cellColor, cellColor, cellColor], \r\n",
        "      [cellColor, cellColor, cellColor, cellColor, cellColor]\r\n",
        "  ],\r\n",
        "  cellLoc='center',\r\n",
        "  rowLabels=['Yes', 'Some', 'No'],\r\n",
        "  rowColours=[headerColor, headerColor, headerColor], \r\n",
        "  rowLoc='center',\r\n",
        "  colLabels=['ACCURACY', 'PRECISION', 'RECALL', 'SPECIFICITY', 'F1-Score'],\r\n",
        "  colColours=[headerColor, headerColor, headerColor, headerColor, headerColor],\r\n",
        "  colLoc='center',\r\n",
        "  loc='center'\r\n",
        ")\r\n",
        "theTable.auto_set_font_size(False)\r\n",
        "theTable.set_fontsize(16)\r\n",
        "theTable.scale(2, 2)\r\n",
        "ax=plt.gca()\r\n",
        "ax.get_xaxis().set_visible(False)\r\n",
        "ax.get_yaxis().set_visible(False)\r\n",
        "plt.box(on=None)\r\n",
        "plt.show()"
      ],
      "execution_count": null,
      "outputs": [
        {
          "output_type": "display_data",
          "data": {
            "image/png": "[encoded data removed]",
            "text/plain": [
              "<Figure size 432x288 with 1 Axes>"
            ]
          },
          "metadata": {
            "tags": []
          }
        }
      ]
    },
    {
      "cell_type": "markdown",
      "metadata": {
        "id": "O9WsnSz7D-0T"
      },
      "source": [
        "-------------------------------------------------------------"
      ]
    },
    {
      "cell_type": "markdown",
      "metadata": {
        "id": "qUB46gOqEBRY"
      },
      "source": [
        "<a name=\"six\"></a>\r\n",
        "## **VI. Discussion & Conclusion**"
      ]
    },
    {
      "cell_type": "markdown",
      "metadata": {
        "id": "RjjZcbySYgCb"
      },
      "source": [
        "###***a) Discussion***"
      ]
    },
    {
      "cell_type": "markdown",
      "metadata": {
        "id": "ee7f-_duYjUj"
      },
      "source": [
        "####*i) Interpreting the Results*\r\n",
        "\r\n",
        "Based on mean decrease in Gini Index Criterion, we cannot reject the null hypothesis. Of the 5 categories we predicted to be the most important in terms of feature importance to our model, only **leave** was present. The actual 5 most important features were **mental_health_consequence**, **mental_vs_physical**, **leave**, **age**, and **anonymity**. **benefits** was actually even found to be the least important feature in predicting the response variable. **no_employees**, **obs_consequencce**, and **remote_work** were not found to be anywhere near the top five most important features of our model. As a result, we can sufficiently reject the null hypothesis.\r\n",
        "\r\n",
        "However, the top five features still make intuitive sense. First, **mental_vs_physical** measures how much an employee thinks that their employer takes mental health as seriously as physical. Intuitively it is clear to see why this would be the one of the top predictors of feeling comfortable with talking to your supervisor about mental health issues. For instance, if one felt that their supervisor takes mental health as serious as physical health, there is less of a stigma associated in the workplace, and one is likely to reach out to them if they had a potential mental health concern. Furthermore, **mental_health_consequence** measures the perception that an employee has regarding a negative consequence resulting from discussing a mental health issue with their employer. This also makes intuitive sense, as it inherently tracks the substantial stigma associated with having a mental illness in the world today; it is not surprising that this would be a top predictor of reaching out to a supervisor as well. Ultimately, this reasoning was why we chose **obs_consequence** as a feature of interest, but **mental_health_consequence** likely performed better because it is measuring what an employee thinks will happen to themselves if they reach out, not what they observed to happen to their coworkers (i.e., what **obs_consequence** reflects).\r\n",
        "\r\n",
        "The next strongest predictor was **anonymity**, which tracked how employees perceived anonymity to be protected if they or their coworker takes advantage of mental health or substance abuse treatment. Similar to the prevoius two explanations, if their identity is protected, an employee will more likely to be comfortable reaching out to others, including a supervisor, with mental health concerns; it makes sense. **age** was an unexpected member of the top 5, but there are two possible explanations for this: 1) There was a large unimodal distribution of age highly in favor of employees in their 20s and 30s, and 2) stigma may be more debilitating to older members of the workforce who are accustomed to mental health not being discussed at all. Finally, we have the **leave** feature, which is the only one we predicted to make the top 5 most important features list.\r\n",
        "\r\n",
        "In terms of model performance, the best model performed admirably compared to base rate percentages. The model obtained a 'Yes' accuracy of **78.00%**, a 'Some of them' accuracy of **68.00%**, and a 'No' accuracy of **79.00%**. In contrast, the base rates of the three classes of the response variable were **41.00%**, **27.80%**, and **31.20%**, respectively. As such, the model we utilized served as a solid predictor of whether an employee was willing to reach out to their direct supervisor(s) regarding a mental health issue.\r\n",
        " \r\n",
        "\r\n",
        "\r\n",
        "\r\n"
      ]
    },
    {
      "cell_type": "markdown",
      "metadata": {
        "id": "UlzNDpzKYsyZ"
      },
      "source": [
        "#### *ii) Errors & Limitations*\r\n",
        "\r\n",
        "Primarily, the model suffered from a lack of generalizability due to many possible sources. First, there were very low sample sizes from countries in the \"Other\" bucket, or in other words, countries that were not the United States of America, the United Kingdom, or Canada. Similarly, healthcare structures of the employees' residence were not able to be identified; this limitation is further exacerbated by the healthcare of the United States being highly variable across the population. Furthermore, the dataset was heavily imbalanced with respect to gender; this was likely due to the dataset being recorded primarily from technological industry companies, which are male-dominated. However, this is another inherent limitation, as other industries were not intended to be surveyed, and employee responses were only included as a byproduct of unintended survey distribution. Finally, the lack of generalizability primarily stems from the small size of the dataset (1,259 survey responses across several different countries); this is far from representative of the entire tech workforce population globally. Thus, the strongest predictors are unlikely to be constant if conducting analysis with a more representative dataset.\r\n",
        "\r\n",
        "Additionally, the inherent categorical bias of the survey itself limited the robustness of the model. Since continous variables have greater statistical power, less variance without regard to sample size, and higher sensitivity than categorical variables, the fact that most features in the database were categorical in nature limits the model accuracy found in the analysis. Binning the country feature made the model more interpretable but it was not at all inclusive (e.g., only 'North American', 'Europe', and 'Other' instances). Finally, the model suffered from great class imbalance in the dataset, as the model tended to perofrm better for the majority with respect to respondent country as well as the 'Yes' class for the response variable. This was likely due to the feature engineering and hypertuning of the model only being performed through analysis of model performance on the 'Yes' class of the response variable."
      ]
    },
    {
      "cell_type": "markdown",
      "metadata": {
        "id": "pE3YIZUbY0aX"
      },
      "source": [
        "####*iii) Future Avenues of Research*"
      ]
    },
    {
      "cell_type": "markdown",
      "metadata": {
        "id": "d77yiaPw4piM"
      },
      "source": [
        "One future avenue of research includes exploring options to improve the class imbalance of the response variable. One way to achieve this is to downsample 'Yes' instances (41% base rate) to match more closely to 'Some' or 'No' instances (27% and 31%, respectively). Additionally, one can utilize the **class_weight** feature in the Random Forest Classifier model to account for the imbalance. Yet another way to achieve this is to relevel the response variable to make 'some' instances grouped under either 'yes' or 'no', or try both variations to observe differences between the strategies.\r\n",
        "\r\n",
        "Another avenue of future research includes exploring specific health policies in the workplace and their effect on the likelihood of whether an employee discusses a mental health concern with their direct supervisor(s). Some variables of interest here may include maternity/paternity leave, subsidized child care, and even counseling. Similarly, specific types of mental health and healthcare coverage should be analyzed, in addition to a whole multitude of specific features if the dataset was expanded. Moreover, healthcare systems should specifically be explored to see their effect on the response variable; these include privatized insurance, universal healthcare, and the availability of a public option.\r\n",
        "\r\n",
        "Next, a time series analysis can be conducted, as the Open Sourcing Mental Illness organization has conducted this survey multiple times since 2014. In this time series analysis, one can observe how predictors of the response variable change over time with respect to feature importance. More specifically, an analysis with respect to COVID-19 can be conducted, and the transition to forced remote work due to the pandemic can be analyzed with respect to coping with a mental illness. Finally, feature engineering and hypertuning should be performed with respect to 'Some' and 'No' classes in addition to the 'Yes' class, and different models utilizing multi-class classification should be probed to test the same hypothesis.\r\n"
      ]
    },
    {
      "cell_type": "markdown",
      "metadata": {
        "id": "2NJL5Gi_Y42V"
      },
      "source": [
        "###***b) Conclusion***"
      ]
    },
    {
      "cell_type": "markdown",
      "metadata": {
        "id": "vsZsyXKi7T8L"
      },
      "source": [
        "A 2014 dataset consisting of employee responses to a survey conducted by the Open Sourcing Mental Illness organization was cleaned and pre-processed; the survey intended to measure attitudes towards mental health and frequency of mental health disorders in the tech workplace. After learning about the features in the dataset and conducting an extensive literature review, a null hypothesis was created: Using Random Forest and feature importance from scikit-learn (i.e., mean decrease in Gini Index), 5 target predictors, in no particular order, will not be the most important when predicting whether employees are willing to discuss mental health issues with supervisors. The 5 target predictors of interest were determined to be **obs_consequence**, **benefits**, **no_employees**, **leave**, and **remote_work**. After conducting exploratory data analysis, in which feature distributions with respect to the response variable (**supervisor**) were analyzed and highly correlated features were removed, feature engineering was performed. Feature engineering not only allowed for the elucidation of the tradeoff between categorical and continuous features in the dataset, but also led the Random Forest Classifier model to be hypertuned. The best model was then tested on each class of the response variable ('Yes', 'Some of them', and 'No'). In the end, only one of the five features predicted to be most important with respect to Mean Decrease in Gini Index was in the actual top five most important features: **leave**. Thus, although the model resulted in substantially higher class prediction accuracies during testing relative to the base rates, the null hypothesis was not able to be rejected."
      ]
    },
    {
      "cell_type": "markdown",
      "metadata": {
        "id": "aNiTnh4jELOz"
      },
      "source": [
        "-------------------------------------------------------------"
      ]
    },
    {
      "cell_type": "markdown",
      "metadata": {
        "id": "t6LgZafgEOdy"
      },
      "source": [
        "<a name=\"seven\"></a>\r\n",
        "## **VII. References**\r\n",
        "\r\n"
      ]
    },
    {
      "cell_type": "markdown",
      "metadata": {
        "id": "NIRqgl_MMos6"
      },
      "source": [
        "<a name=\"ref1\"></a>\r\n",
        "1.   NIMH » Mental Illness. Accessed January 6, 2021. https://www.nimh.nih.gov/health/statistics/mental-illness.shtml\r\n",
        "<a name=\"ref2\"></a>\r\n",
        "2. Depression. Accessed January 6, 2021. https://www.who.int/en/news-room/fact-sheets/detail/depression\r\n",
        "<a name=\"ref3\"></a>\r\n",
        "3. Mental Health By the Numbers | NAMI: National Alliance on Mental Illness. Accessed January 6, 2021. https://www.nami.org/mhstats\r\n",
        "<a name=\"ref4\"></a>\r\n",
        "4. Fuhrer R, Keyes KM. Population Mental Health in the 21st Century: Time to Act. Am J Public Health. 2019;109(Suppl 3):S152-S153. doi:10.2105/AJPH.2019.305200\r\n",
        "<a name=\"ref5\"></a>\r\n",
        "5. Pescosolido BA. The Public Stigma of Mental Illness: What Do We Think; What Do We Know; What Can We Prove? J Health Soc Behav. 2013;54(1):1-21. doi:10.1177/0022146512471197\r\n",
        "<a name=\"ref6\"></a>\r\n",
        "6. Oexle N, Müller M, Kawohl W, et al. Self-stigma as a barrier to recovery: a longitudinal study. Eur Arch Psychiatry Clin Neurosci. 2018;268(2):209-212. doi:10.1007/s00406-017-0773-2\r\n",
        "<a name=\"ref7\"></a>\r\n",
        "7. Mental health: Why is it hard to talk about problems? - CBBC Newsround.https://www.bbc.co.uk/newsround/46425575. Accessed January 6, 2021.\r\n",
        "<a name=\"ref8\"></a>\r\n",
        "8. Disability in the Workplace: A Unique and Variable Identity - Alecia M. Santuzzi, Pamela R. Waltz, 2016. Accessed January 6, 2021. https://journals.sagepub.com/doi/full/10.1177/0149206315626269\r\n",
        "<a name=\"ref9\"></a>\r\n",
        "9. Mental Health in the Workplace. Published April 26, 2019. Accessed January 6, 2021. https://www.cdc.gov/workplacehealthpromotion/tools-resources/workplace-health/mental-health/index.html\r\n",
        "<a name=\"ref10\"></a>\r\n",
        "10. COVID-19’s Impact on Mental Health and Workplace Well-being. NIHCM. Accessed January 6, 2021. https://nihcm.org/publications/covid-19s-impact-on-mental-health-and-workplace-well-being\r\n",
        "<a name=\"ref11\"></a>\r\n",
        "11. Mental illness - Symptoms and causes. Mayo Clinic. Accessed January 6, 2021. https://www.mayoclinic.org/diseases-conditions/mental-illness/symptoms-causes/syc-20374968\r\n",
        "<a name=\"ref12\"></a>\r\n",
        "12. Parcesepe AM, Cabassa LJ. Public Stigma of Mental Illness in the United States: A Systematic Literature Review. Adm Policy Ment Health. 2013;40(5). doi:10.1007/s10488-012-0430-z\r\n",
        "<a name=\"ref13\"></a>\r\n",
        "13. Agovino T, Agovino T. Mental Illness and the Workplace. SHRM. Published August 3, 2019. Accessed January 6, 2021. https://www.shrm.org/hr-today/news/all-things-work/pages/mental-illness-and-the-workplace.aspx\r\n",
        "<a name=\"ref14\"></a>\r\n",
        "14. Four Ways Culture Impacts Mental Health. Mental Health First Aid. Published July 11, 2019. Accessed January 6, 2021. https://www.mentalhealthfirstaid.org/2019/07/four-ways-culture-impacts-mental-health/\r\n",
        "<a name=\"ref15\"></a>\r\n",
        "15. Rathore S. Tech Industry Sees Major Growth in New Companies During 2019. Small Business Trends. Published March 5, 2020. Accessed January 6, 2021. https://smallbiztrends.com/2020/03/2019-industry-growth-statistics.html\r\n",
        "<a name=\"ref16\"></a>\r\n",
        "16. Sado M, Shirahase J, Yoshimura K, et al. Predictors of repeated sick leave in the workplace because of mental disorders. Neuropsychiatr Dis Treat. 2014;10:193-200. doi:10.2147/NDT.S55490\r\n",
        "<a name=\"ref17\"></a>\r\n",
        "17. Publishing HH. Mental health problems in the workplace. Harvard Health. Accessed January 6, 2021. https://www.health.harvard.edu/newsletter_article/mental-health-problems-in-the-workplace\r\n",
        "<a name=\"ref18\"></a>\r\n",
        "18. Workplace Mental Health - Working Remotely During COVID-19. Accessed January 6, 2021. http://www.workplacementalhealth.org/Employer-Resources/Working-Remotely-During-COVID-19\r\n",
        "<a name=\"ref19\"></a>\r\n",
        "19. OSMI Home :: Open Sourcing Mental Illness - Changing how we talk about mental health in the tech community - Stronger Than Fear. Accessed January 7, 2021. https://osmihelp.org/\r\n",
        "<a name=\"ref20\"></a>\r\n",
        "20. Mental Health in Tech Survey. Accessed January 6, 2021. https://kaggle.com/osmi/mental-health-in-tech-survey\r\n",
        "<a name=\"ref21\"></a>\r\n",
        "21. Categorical Encoding | One Hot Encoding vs Label Encoding. Accessed January 7, 2021. https://www.analyticsvidhya.com/blog/2020/03/one-hot-encoding-vs-label-encoding-using-scikit-learn/\r\n",
        "<a name=\"ref22\"></a>\r\n",
        "22. Chi Square Test. Accessed January 7, 2021. https://www.statisticssolutions.com/chi-square-test/\r\n",
        "<a name=\"ref23\"></a>\r\n",
        "23. Random forests - classification description. Accessed January 7, 2021. https://www.stat.berkeley.edu/~breiman/RandomForests/cc_home.htm\r\n",
        "<a name=\"ref24\"></a>\r\n",
        "24. Random Forest Classifier. Accessed January 7, 2021. file:///C:/Users/Kunaal/Zotero/storage/GRIIG3PQ/sklearn.ensemble.RandomForestClassifier.html\r\n",
        "\r\n",
        "\r\n",
        "\r\n"
      ]
    },
    {
      "cell_type": "markdown",
      "metadata": {
        "id": "LL16HL03EVSp"
      },
      "source": [
        "-------------------------------------------------------------"
      ]
    },
    {
      "cell_type": "markdown",
      "metadata": {
        "id": "oYCVROTnEWqe"
      },
      "source": [
        "-------------------------------------------------------------"
      ]
    }
  ]
}